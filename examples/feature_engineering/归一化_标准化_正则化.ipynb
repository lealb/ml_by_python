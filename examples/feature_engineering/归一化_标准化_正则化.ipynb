{
 "cells": [
  {
   "cell_type": "markdown",
   "metadata": {},
   "source": [
    "### 数据标准化\n",
    "The standard score of a sample `x` is calculated as:\n",
    "\n",
    "    z = (x - u) / s\n",
    "here `u` is the mean of the training samples or zero if `with_mean=False`,\n",
    "and `s` is the standard deviation of the training samples or one if\n",
    "`with_std=False`."
   ]
  },
  {
   "cell_type": "code",
   "execution_count": 1,
   "metadata": {},
   "outputs": [],
   "source": [
    "import numpy as np\n",
    "import pandas as pd"
   ]
  },
  {
   "cell_type": "code",
   "execution_count": 2,
   "metadata": {},
   "outputs": [
    {
     "data": {
      "text/plain": [
       "array([[ 1., -1.,  2.],\n",
       "       [ 2.,  0.,  0.],\n",
       "       [ 0.,  1., -1.]])"
      ]
     },
     "execution_count": 2,
     "metadata": {},
     "output_type": "execute_result"
    }
   ],
   "source": [
    "x = np.array([[1., -1., 2.], [2., 0., 0.], [0., 1., -1.]])\n",
    "x"
   ]
  },
  {
   "cell_type": "code",
   "execution_count": 32,
   "metadata": {},
   "outputs": [],
   "source": [
    "# Z-Score，或者去除均值和方差缩放\n",
    "mean_x = np.mean(x, axis=0)\n",
    "std_x = np.std(x, axis=0)"
   ]
  },
  {
   "cell_type": "code",
   "execution_count": 37,
   "metadata": {},
   "outputs": [
    {
     "data": {
      "text/plain": [
       "array([0.66666667, 0.66666667, 1.55555556])"
      ]
     },
     "execution_count": 37,
     "metadata": {},
     "output_type": "execute_result"
    }
   ],
   "source": [
    "np.var(x,axis=0)"
   ]
  },
  {
   "cell_type": "code",
   "execution_count": 33,
   "metadata": {},
   "outputs": [
    {
     "data": {
      "text/plain": [
       "array([1.        , 0.        , 0.33333333])"
      ]
     },
     "execution_count": 33,
     "metadata": {},
     "output_type": "execute_result"
    }
   ],
   "source": [
    "mean_x"
   ]
  },
  {
   "cell_type": "code",
   "execution_count": 35,
   "metadata": {},
   "outputs": [],
   "source": [
    "def get_standard_data(a):\n",
    "    return (a-mean_x)/std_x"
   ]
  },
  {
   "cell_type": "code",
   "execution_count": 36,
   "metadata": {},
   "outputs": [
    {
     "data": {
      "text/plain": [
       "array([[ 0.        , -2.44948974,  1.22474487],\n",
       "       [ 2.44948974,  0.        ,  0.        ],\n",
       "       [-0.26726124,  0.53452248, -1.06904497]])"
      ]
     },
     "execution_count": 36,
     "metadata": {},
     "output_type": "execute_result"
    }
   ],
   "source": [
    "np.apply_along_axis(get_standard_data,0,x)"
   ]
  },
  {
   "cell_type": "code",
   "execution_count": 11,
   "metadata": {},
   "outputs": [],
   "source": [
    "from sklearn import preprocessing"
   ]
  },
  {
   "cell_type": "code",
   "execution_count": 12,
   "metadata": {},
   "outputs": [
    {
     "data": {
      "text/plain": [
       "array([1., 1., 1.])"
      ]
     },
     "execution_count": 12,
     "metadata": {},
     "output_type": "execute_result"
    }
   ],
   "source": [
    "x_scaled = preprocessing.scale(x)\n",
    "x_scaled.mean(axis=0)\n",
    "x_scaled.std(axis=0)"
   ]
  },
  {
   "cell_type": "code",
   "execution_count": 14,
   "metadata": {},
   "outputs": [
    {
     "data": {
      "text/plain": [
       "array([1.        , 0.        , 0.33333333])"
      ]
     },
     "execution_count": 14,
     "metadata": {},
     "output_type": "execute_result"
    }
   ],
   "source": [
    "scaler = preprocessing.StandardScaler().fit(x)\n",
    "scaler.mean_"
   ]
  },
  {
   "cell_type": "code",
   "execution_count": 24,
   "metadata": {},
   "outputs": [
    {
     "data": {
      "text/plain": [
       "array([0.66666667, 0.66666667, 1.55555556])"
      ]
     },
     "execution_count": 24,
     "metadata": {},
     "output_type": "execute_result"
    }
   ],
   "source": [
    "scaler.var_"
   ]
  },
  {
   "cell_type": "code",
   "execution_count": 15,
   "metadata": {},
   "outputs": [
    {
     "data": {
      "text/plain": [
       "array([[ 0.        , -1.22474487,  1.33630621],\n",
       "       [ 1.22474487,  0.        , -0.26726124],\n",
       "       [-1.22474487,  1.22474487, -1.06904497]])"
      ]
     },
     "execution_count": 15,
     "metadata": {},
     "output_type": "execute_result"
    }
   ],
   "source": [
    "# 标准化数据\n",
    "scaler.transform(x)"
   ]
  },
  {
   "cell_type": "code",
   "execution_count": 45,
   "metadata": {},
   "outputs": [
    {
     "data": {
      "text/plain": [
       "array([[0.5       , 0.        , 1.        ],\n",
       "       [1.        , 0.5       , 0.33333333],\n",
       "       [0.        , 1.        , 0.        ]])"
      ]
     },
     "execution_count": 45,
     "metadata": {},
     "output_type": "execute_result"
    }
   ],
   "source": [
    "#第二种是将属性缩放到一个指定范围,也是就是(x-min)/(max-min)\n",
    "#依赖于preprocessing中的MinMaxScaler类\n",
    "x_train = np.array([[1., -1., 2.], [2., 0., 0.], [0., 1., -1.]])\n",
    "\n",
    "min_max_scaler = preprocessing.MinMaxScaler()\n",
    "x_train_minmax = min_max_scaler.fit_transform(x_train)\n",
    "x_train_minmax"
   ]
  },
  {
   "cell_type": "code",
   "execution_count": null,
   "metadata": {},
   "outputs": [],
   "source": [
    "# 当然，在构造类对象的时候也可以直接指定最大最小值的范围：feature_range = (min, max)，此时应用的公式变为：\n",
    "x_std = (X - X.min(axis=0)) / (X.max(axis=0) - X.min(axis=0))\n",
    "x_scaled = X_std / (max - min) + min"
   ]
  },
  {
   "cell_type": "markdown",
   "metadata": {},
   "source": [
    "### 正则化数据"
   ]
  },
  {
   "cell_type": "code",
   "execution_count": 44,
   "metadata": {},
   "outputs": [
    {
     "data": {
      "text/plain": [
       "array([[ 0.40824829, -0.40824829,  0.81649658],\n",
       "       [ 1.        ,  0.        ,  0.        ],\n",
       "       [ 0.        ,  0.70710678, -0.70710678]])"
      ]
     },
     "execution_count": 44,
     "metadata": {},
     "output_type": "execute_result"
    }
   ],
   "source": [
    "\n",
    "#第三种是正则化Normalization\n",
    "\n",
    "x = np.array([[1., -1., 2.], [2., 0., 0.], [0., 1., -1.]])\n",
    "x_normalized = preprocessing.normalize(x, norm='l2')\n",
    "x_normalized"
   ]
  },
  {
   "cell_type": "code",
   "execution_count": 43,
   "metadata": {},
   "outputs": [
    {
     "data": {
      "text/plain": [
       "array([[ 0.40824829, -0.40824829,  0.81649658],\n",
       "       [ 1.        ,  0.        ,  0.        ],\n",
       "       [ 0.        ,  0.70710678, -0.70710678]])"
      ]
     },
     "execution_count": 43,
     "metadata": {},
     "output_type": "execute_result"
    }
   ],
   "source": [
    "# 可以使用processing.Normalizer()类实现对训练集和测试集的拟合和转换\n",
    "normalizer = preprocessing.Normalizer().fit(x)\n",
    "normalizer.transform(x)"
   ]
  },
  {
   "cell_type": "code",
   "execution_count": 46,
   "metadata": {},
   "outputs": [
    {
     "name": "stdout",
     "output_type": "stream",
     "text": [
      "socre = 1.0\n"
     ]
    }
   ],
   "source": [
    "import numpy as np\n",
    "import collections\n",
    "\n",
    "\n",
    "class KNN(object):\n",
    "    def __init__(self, n_neighbors=3, p=2):\n",
    "        \"\"\"\n",
    "        parameter: n_neighbors 临近点个数\n",
    "        parameter: p 距离度量\n",
    "        \"\"\"\n",
    "        self.n = n_neighbors\n",
    "        self.p = p\n",
    "\n",
    "    def fit(self, X_train, y_train):\n",
    "        self.X_train = X_train\n",
    "        self.y_train = y_train\n",
    "\n",
    "    def predict(self, X):\n",
    "        # 取出n个点\n",
    "        knn_list = []\n",
    "        for i in range(self.n):\n",
    "            dist = np.linalg.norm(X - self.X_train[i], ord=self.p)\n",
    "            knn_list.append((dist, self.y_train[i]))\n",
    "\n",
    "        for i in range(self.n, len(self.X_train)):\n",
    "            max_index = knn_list.index(max(knn_list, key=lambda x: x[0]))\n",
    "            dist = np.linalg.norm(X - self.X_train[i], ord=self.p)\n",
    "            if knn_list[max_index][0] > dist:\n",
    "                knn_list[max_index] = (dist, self.y_train[i])\n",
    "\n",
    "        # 统计\n",
    "        knn = [k[-1] for k in knn_list]\n",
    "        return collections.Counter(knn).most_common()[0][0]\n",
    "\n",
    "    # 统计准确度\n",
    "    def score(self, X_test, y_test):\n",
    "        right_count = 0\n",
    "        for X, y in zip(X_test, y_test):\n",
    "            label = self.predict(X)\n",
    "            if label == y:\n",
    "                right_count += 1\n",
    "        return right_count / len(X_test)"
   ]
  },
  {
   "cell_type": "code",
   "execution_count": null,
   "metadata": {},
   "outputs": [],
   "source": [
    "\n",
    "def model_test(model):\n",
    "    \"\"\"\n",
    "    模型测试\n",
    "    \"\"\"\n",
    "    knn = model()\n",
    "    knn.fit(X_train, y_train)\n",
    "    return knn.score(X_test, y_test)"
   ]
  },
  {
   "cell_type": "code",
   "execution_count": 49,
   "metadata": {},
   "outputs": [
    {
     "data": {
      "text/plain": [
       "(array([[5.7, 3. , 4.2, 1.2],\n",
       "        [5.4, 3.4, 1.7, 0.2],\n",
       "        [6.2, 2.2, 4.5, 1.5],\n",
       "        [4.6, 3.6, 1. , 0.2],\n",
       "        [5.8, 2.7, 5.1, 1.9],\n",
       "        [6.8, 2.8, 4.8, 1.4],\n",
       "        [5.5, 2.5, 4. , 1.3],\n",
       "        [6.9, 3.2, 5.7, 2.3],\n",
       "        [5.8, 2.7, 3.9, 1.2],\n",
       "        [7.1, 3. , 5.9, 2.1],\n",
       "        [6.4, 3.2, 4.5, 1.5],\n",
       "        [5. , 2.3, 3.3, 1. ],\n",
       "        [7.7, 2.6, 6.9, 2.3],\n",
       "        [7.9, 3.8, 6.4, 2. ],\n",
       "        [5. , 3.3, 1.4, 0.2],\n",
       "        [5.4, 3.9, 1.3, 0.4],\n",
       "        [6.3, 2.8, 5.1, 1.5],\n",
       "        [6.4, 2.7, 5.3, 1.9],\n",
       "        [5.7, 3.8, 1.7, 0.3],\n",
       "        [5.6, 2.7, 4.2, 1.3],\n",
       "        [6.3, 2.5, 4.9, 1.5],\n",
       "        [6. , 2.9, 4.5, 1.5],\n",
       "        [4.7, 3.2, 1.3, 0.2],\n",
       "        [4.9, 2.5, 4.5, 1.7],\n",
       "        [5.3, 3.7, 1.5, 0.2],\n",
       "        [5.9, 3. , 5.1, 1.8],\n",
       "        [7.2, 3. , 5.8, 1.6],\n",
       "        [6.2, 2.8, 4.8, 1.8],\n",
       "        [5.5, 3.5, 1.3, 0.2],\n",
       "        [6. , 2.2, 4. , 1. ],\n",
       "        [6.1, 2.6, 5.6, 1.4],\n",
       "        [5.1, 2.5, 3. , 1.1],\n",
       "        [5. , 3.4, 1.5, 0.2],\n",
       "        [5.6, 3. , 4.5, 1.5],\n",
       "        [6.5, 3. , 5.2, 2. ],\n",
       "        [5.5, 4.2, 1.4, 0.2],\n",
       "        [6.9, 3.1, 5.4, 2.1],\n",
       "        [6. , 3.4, 4.5, 1.6],\n",
       "        [5.1, 3.5, 1.4, 0.2],\n",
       "        [5. , 3.4, 1.6, 0.4],\n",
       "        [5.7, 4.4, 1.5, 0.4],\n",
       "        [6.9, 3.1, 4.9, 1.5],\n",
       "        [7.7, 2.8, 6.7, 2. ],\n",
       "        [6.4, 2.9, 4.3, 1.3],\n",
       "        [5.1, 3.8, 1.9, 0.4],\n",
       "        [7.3, 2.9, 6.3, 1.8],\n",
       "        [6.4, 2.8, 5.6, 2.1],\n",
       "        [4.4, 3. , 1.3, 0.2],\n",
       "        [4.9, 3. , 1.4, 0.2],\n",
       "        [6.3, 2.7, 4.9, 1.8],\n",
       "        [4.9, 3.6, 1.4, 0.1],\n",
       "        [4.6, 3.1, 1.5, 0.2],\n",
       "        [5.5, 2.3, 4. , 1.3],\n",
       "        [5.5, 2.4, 3.8, 1.1],\n",
       "        [7. , 3.2, 4.7, 1.4],\n",
       "        [6.5, 3.2, 5.1, 2. ],\n",
       "        [6.3, 3.4, 5.6, 2.4],\n",
       "        [7.7, 3.8, 6.7, 2.2],\n",
       "        [4.3, 3. , 1.1, 0.1],\n",
       "        [4.4, 2.9, 1.4, 0.2],\n",
       "        [6.4, 3.1, 5.5, 1.8],\n",
       "        [5. , 3.2, 1.2, 0.2],\n",
       "        [6.1, 3. , 4.9, 1.8],\n",
       "        [5.2, 3.4, 1.4, 0.2],\n",
       "        [6.4, 2.8, 5.6, 2.2],\n",
       "        [5.4, 3. , 4.5, 1.5],\n",
       "        [5.6, 2.5, 3.9, 1.1],\n",
       "        [5.8, 2.7, 4.1, 1. ],\n",
       "        [5.5, 2.6, 4.4, 1.2],\n",
       "        [6.3, 2.5, 5. , 1.9],\n",
       "        [6.8, 3.2, 5.9, 2.3],\n",
       "        [6.6, 2.9, 4.6, 1.3],\n",
       "        [5.7, 2.9, 4.2, 1.3],\n",
       "        [4.8, 3.1, 1.6, 0.2],\n",
       "        [5.7, 2.8, 4.1, 1.3],\n",
       "        [4.7, 3.2, 1.6, 0.2],\n",
       "        [6.7, 3. , 5. , 1.7],\n",
       "        [6. , 2.2, 5. , 1.5],\n",
       "        [5. , 3.5, 1.3, 0.3],\n",
       "        [6.7, 2.5, 5.8, 1.8],\n",
       "        [5.8, 2.7, 5.1, 1.9],\n",
       "        [4.8, 3.4, 1.6, 0.2],\n",
       "        [5.9, 3. , 4.2, 1.5],\n",
       "        [5.6, 2.9, 3.6, 1.3],\n",
       "        [4.9, 3.1, 1.5, 0.2],\n",
       "        [5.1, 3.3, 1.7, 0.5],\n",
       "        [4.8, 3.4, 1.9, 0.2],\n",
       "        [5.8, 2.6, 4. , 1.2],\n",
       "        [5. , 3.5, 1.6, 0.6],\n",
       "        [4.5, 2.3, 1.3, 0.3],\n",
       "        [5.5, 2.4, 3.7, 1. ],\n",
       "        [6.2, 2.9, 4.3, 1.3],\n",
       "        [6.3, 2.9, 5.6, 1.8],\n",
       "        [6.5, 2.8, 4.6, 1.5],\n",
       "        [5.4, 3.7, 1.5, 0.2],\n",
       "        [5.7, 2.5, 5. , 2. ],\n",
       "        [6.7, 3.3, 5.7, 2.1],\n",
       "        [7.2, 3.6, 6.1, 2.5],\n",
       "        [6.5, 3. , 5.5, 1.8],\n",
       "        [5.8, 2.8, 5.1, 2.4],\n",
       "        [7.4, 2.8, 6.1, 1.9],\n",
       "        [6.2, 3.4, 5.4, 2.3],\n",
       "        [6. , 2.7, 5.1, 1.6],\n",
       "        [7.7, 3. , 6.1, 2.3],\n",
       "        [7.2, 3.2, 6. , 1.8]]), array([[6.3, 2.3, 4.4, 1.3],\n",
       "        [4.8, 3. , 1.4, 0.1],\n",
       "        [7.6, 3. , 6.6, 2.1],\n",
       "        [4.9, 3.1, 1.5, 0.1],\n",
       "        [5.2, 3.5, 1.5, 0.2],\n",
       "        [5.6, 2.8, 4.9, 2. ],\n",
       "        [5.2, 2.7, 3.9, 1.4],\n",
       "        [6.1, 3. , 4.6, 1.4],\n",
       "        [5.7, 2.8, 4.5, 1.3],\n",
       "        [6.7, 3.1, 4.4, 1.4],\n",
       "        [6.1, 2.8, 4. , 1.3],\n",
       "        [6.3, 3.3, 6. , 2.5],\n",
       "        [6.3, 3.3, 4.7, 1.6],\n",
       "        [6.9, 3.1, 5.1, 2.3],\n",
       "        [5.8, 4. , 1.2, 0.2],\n",
       "        [5.9, 3.2, 4.8, 1.8],\n",
       "        [5.1, 3.7, 1.5, 0.4],\n",
       "        [4.6, 3.2, 1.4, 0.2],\n",
       "        [5.7, 2.6, 3.5, 1. ],\n",
       "        [5.1, 3.8, 1.5, 0.3],\n",
       "        [4.9, 2.4, 3.3, 1. ],\n",
       "        [5. , 2. , 3.5, 1. ],\n",
       "        [5.1, 3.5, 1.4, 0.3],\n",
       "        [5.1, 3.4, 1.5, 0.2],\n",
       "        [4.8, 3. , 1.4, 0.3],\n",
       "        [5. , 3.6, 1.4, 0.2],\n",
       "        [5.1, 3.8, 1.6, 0.2],\n",
       "        [6.4, 3.2, 5.3, 2.3],\n",
       "        [6.8, 3. , 5.5, 2.1],\n",
       "        [5.4, 3.4, 1.5, 0.4],\n",
       "        [6.7, 3.1, 5.6, 2.4],\n",
       "        [6.7, 3. , 5.2, 2.3],\n",
       "        [5.2, 4.1, 1.5, 0.1],\n",
       "        [6.1, 2.9, 4.7, 1.4],\n",
       "        [6.7, 3.1, 4.7, 1.5],\n",
       "        [4.6, 3.4, 1.4, 0.3],\n",
       "        [6.1, 2.8, 4.7, 1.2],\n",
       "        [6. , 3. , 4.8, 1.8],\n",
       "        [5.6, 3. , 4.1, 1.3],\n",
       "        [6.6, 3. , 4.4, 1.4],\n",
       "        [6.7, 3.3, 5.7, 2.5],\n",
       "        [5. , 3. , 1.6, 0.2],\n",
       "        [5.4, 3.9, 1.7, 0.4],\n",
       "        [4.4, 3.2, 1.3, 0.2],\n",
       "        [6.5, 3. , 5.8, 2.2]]), array([1, 0, 1, 0, 2, 1, 1, 2, 1, 2, 1, 1, 2, 2, 0, 0, 2, 2, 0, 1, 1, 1,\n",
       "        0, 2, 0, 2, 2, 2, 0, 1, 2, 1, 0, 1, 2, 0, 2, 1, 0, 0, 0, 1, 2, 1,\n",
       "        0, 2, 2, 0, 0, 2, 0, 0, 1, 1, 1, 2, 2, 2, 0, 0, 2, 0, 2, 0, 2, 1,\n",
       "        1, 1, 1, 2, 2, 1, 1, 0, 1, 0, 1, 2, 0, 2, 2, 0, 1, 1, 0, 0, 0, 1,\n",
       "        0, 0, 1, 1, 2, 1, 0, 2, 2, 2, 2, 2, 2, 2, 1, 2, 2]), array([1, 0, 2, 0, 0, 2, 1, 1, 1, 1, 1, 2, 1, 2, 0, 1, 0, 0, 1, 0, 1, 1,\n",
       "        0, 0, 0, 0, 0, 2, 2, 0, 2, 2, 0, 1, 1, 0, 1, 2, 1, 1, 2, 0, 0, 0,\n",
       "        2]))"
      ]
     },
     "execution_count": 49,
     "metadata": {},
     "output_type": "execute_result"
    }
   ],
   "source": [
    "def get_test_data():\n",
    "    from sklearn import datasets\n",
    "    from sklearn.model_selection import train_test_split\n",
    "    iris = datasets.load_iris()\n",
    "    X, y = iris.data, iris.target\n",
    "    #     X = iris.data[:100, [0, 2]]\n",
    "    #     y = iris.target[:100]\n",
    "    #     y = np.where(y == 1, 1, -1)\n",
    "    X_train, X_test, y_train, y_test = train_test_split(X, y, test_size=0.3)\n",
    "    return X_train, X_test, y_train, y_test\n",
    "\n",
    "\n",
    "get_test_data()"
   ]
  },
  {
   "cell_type": "code",
   "execution_count": 48,
   "metadata": {},
   "outputs": [
    {
     "data": {
      "text/plain": [
       "array([0, 0, 0, 0, 0, 0, 0, 0, 0, 0, 0, 0, 0, 0, 0, 0, 0, 0, 0, 0, 0, 0,\n",
       "       0, 0, 0, 0, 0, 0, 0, 0, 0, 0, 0, 0, 0, 0, 0, 0, 0, 0, 0, 0, 0, 0,\n",
       "       0, 0, 0, 0, 0, 0, 1, 1, 1, 1, 1, 1, 1, 1, 1, 1, 1, 1, 1, 1, 1, 1,\n",
       "       1, 1, 1, 1, 1, 1, 1, 1, 1, 1, 1, 1, 1, 1, 1, 1, 1, 1, 1, 1, 1, 1,\n",
       "       1, 1, 1, 1, 1, 1, 1, 1, 1, 1, 1, 1])"
      ]
     },
     "execution_count": 48,
     "metadata": {},
     "output_type": "execute_result"
    }
   ],
   "source": [
    "from sklearn import datasets\n",
    "iris = datasets.load_iris()\n",
    "iris.target[:100]"
   ]
  },
  {
   "cell_type": "code",
   "execution_count": null,
   "metadata": {},
   "outputs": [],
   "source": []
  }
 ],
 "metadata": {
  "kernelspec": {
   "display_name": "Python 3",
   "language": "python",
   "name": "python3"
  },
  "language_info": {
   "codemirror_mode": {
    "name": "ipython",
    "version": 3
   },
   "file_extension": ".py",
   "mimetype": "text/x-python",
   "name": "python",
   "nbconvert_exporter": "python",
   "pygments_lexer": "ipython3",
   "version": "3.7.3"
  }
 },
 "nbformat": 4,
 "nbformat_minor": 2
}
