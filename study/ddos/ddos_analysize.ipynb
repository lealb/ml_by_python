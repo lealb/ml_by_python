{
 "cells": [
  {
   "cell_type": "code",
   "execution_count": null,
   "metadata": {},
   "outputs": [],
   "source": [
    "### DDOS分析"
   ]
  },
  {
   "cell_type": "code",
   "execution_count": 4,
   "metadata": {},
   "outputs": [],
   "source": [
    "# 分块读取大文件\n",
    "def read_file_bt_chunk(file_path, chunk_size=100000):\n",
    "    \"\"\"\n",
    "    read_csv()函数的iterator参数等于True时，表示返回一个TextParser以便逐块读取文件；\n",
    "    chunk_size表示文件块的大小，用于迭代；\n",
    "    TextParser类的get_chunk方法用于读取任意大小的文件块；\n",
    "    StopIteration的异常表示在循环对象穷尽所有元素时报错；\n",
    "    concat()函数用于将数据做轴向连接\n",
    "    \"\"\"\n",
    "    import pandas as pd\n",
    "    with open(file_path, 'r') as file:\n",
    "        reader = pd.read_csv(file, sep=',', iterator=True, low_memory=False)\n",
    "        loop = True\n",
    "        chunks = []\n",
    "        while loop:\n",
    "            try:\n",
    "                chunk = reader.get_chunk(chunk_size)\n",
    "                chunks.append(chunk)\n",
    "            except StopIteration as ex:\n",
    "                loop = False\n",
    "                print(\"Iteration is stopped.%s\" % ex)\n",
    "    return pd.concat(chunks, ignore_index=True)"
   ]
  },
  {
   "cell_type": "code",
   "execution_count": 2,
   "metadata": {},
   "outputs": [
    {
     "name": "stdout",
     "output_type": "stream",
     "text": [
      "total 15G\r\n",
      "-rwxr-xr-x 1 hadoop hadoop 1.6G Sep  1 09:40 ddos-datasets.zip\r\n",
      "-rw-r--r-- 1 hadoop hadoop 6.4G Mar 24 05:47 final_dataset.csv\r\n",
      "-rw-r--r-- 1 hadoop hadoop 3.9G Mar 25 05:00 unbalaced_20_80_dataset.csv\r\n",
      "-rw-rw-r-- 1 hadoop hadoop  26M Sep  6 15:48 unbalaced_part.csv\r\n",
      "-rw-rw-r-- 1 hadoop hadoop 493M Sep 16 12:23 unbalaced_test_1000000.csv\r\n",
      "-rw-rw-r-- 1 hadoop hadoop 2.6G Sep 16 12:07 unbalaced_test_500000.csv\r\n"
     ]
    }
   ],
   "source": [
    "!ls -lh /work/DDos"
   ]
  },
  {
   "cell_type": "code",
   "execution_count": 5,
   "metadata": {},
   "outputs": [
    {
     "name": "stdout",
     "output_type": "stream",
     "text": [
      "Iteration is stopped.\n",
      "CPU times: user 25.9 s, sys: 17.4 s, total: 43.3 s\n",
      "Wall time: 2min 31s\n"
     ]
    },
    {
     "data": {
      "text/html": [
       "<div>\n",
       "<style scoped>\n",
       "    .dataframe tbody tr th:only-of-type {\n",
       "        vertical-align: middle;\n",
       "    }\n",
       "\n",
       "    .dataframe tbody tr th {\n",
       "        vertical-align: top;\n",
       "    }\n",
       "\n",
       "    .dataframe thead th {\n",
       "        text-align: right;\n",
       "    }\n",
       "</style>\n",
       "<table border=\"1\" class=\"dataframe\">\n",
       "  <thead>\n",
       "    <tr style=\"text-align: right;\">\n",
       "      <th></th>\n",
       "      <th>Unnamed: 0</th>\n",
       "      <th>Flow ID</th>\n",
       "      <th>Src IP</th>\n",
       "      <th>Src Port</th>\n",
       "      <th>Dst IP</th>\n",
       "      <th>Dst Port</th>\n",
       "      <th>Protocol</th>\n",
       "      <th>Timestamp</th>\n",
       "      <th>Flow Duration</th>\n",
       "      <th>Tot Fwd Pkts</th>\n",
       "      <th>...</th>\n",
       "      <th>Fwd Seg Size Min</th>\n",
       "      <th>Active Mean</th>\n",
       "      <th>Active Std</th>\n",
       "      <th>Active Max</th>\n",
       "      <th>Active Min</th>\n",
       "      <th>Idle Mean</th>\n",
       "      <th>Idle Std</th>\n",
       "      <th>Idle Max</th>\n",
       "      <th>Idle Min</th>\n",
       "      <th>Label</th>\n",
       "    </tr>\n",
       "  </thead>\n",
       "  <tbody>\n",
       "    <tr>\n",
       "      <td>0</td>\n",
       "      <td>1739476</td>\n",
       "      <td>172.31.69.25-18.219.193.20-80-37882-6</td>\n",
       "      <td>18.219.193.20</td>\n",
       "      <td>37882</td>\n",
       "      <td>172.31.69.25</td>\n",
       "      <td>80</td>\n",
       "      <td>6</td>\n",
       "      <td>16/02/2018 11:27:29 PM</td>\n",
       "      <td>8660</td>\n",
       "      <td>1</td>\n",
       "      <td>...</td>\n",
       "      <td>0</td>\n",
       "      <td>0.0</td>\n",
       "      <td>0.0</td>\n",
       "      <td>0.0</td>\n",
       "      <td>0.0</td>\n",
       "      <td>0.0</td>\n",
       "      <td>0.0</td>\n",
       "      <td>0.0</td>\n",
       "      <td>0.0</td>\n",
       "      <td>ddos</td>\n",
       "    </tr>\n",
       "    <tr>\n",
       "      <td>1</td>\n",
       "      <td>1822666</td>\n",
       "      <td>172.31.69.28-18.219.9.1-80-63287-6</td>\n",
       "      <td>172.31.69.28</td>\n",
       "      <td>80</td>\n",
       "      <td>18.219.9.1</td>\n",
       "      <td>63287</td>\n",
       "      <td>6</td>\n",
       "      <td>22/02/2018 12:13:52 AM</td>\n",
       "      <td>5829</td>\n",
       "      <td>4</td>\n",
       "      <td>...</td>\n",
       "      <td>0</td>\n",
       "      <td>0.0</td>\n",
       "      <td>0.0</td>\n",
       "      <td>0.0</td>\n",
       "      <td>0.0</td>\n",
       "      <td>0.0</td>\n",
       "      <td>0.0</td>\n",
       "      <td>0.0</td>\n",
       "      <td>0.0</td>\n",
       "      <td>ddos</td>\n",
       "    </tr>\n",
       "    <tr>\n",
       "      <td>2</td>\n",
       "      <td>905739</td>\n",
       "      <td>172.31.69.28-52.14.136.135-80-63095-6</td>\n",
       "      <td>52.14.136.135</td>\n",
       "      <td>63095</td>\n",
       "      <td>172.31.69.28</td>\n",
       "      <td>80</td>\n",
       "      <td>6</td>\n",
       "      <td>22/02/2018 12:14:02 AM</td>\n",
       "      <td>3396</td>\n",
       "      <td>1</td>\n",
       "      <td>...</td>\n",
       "      <td>0</td>\n",
       "      <td>0.0</td>\n",
       "      <td>0.0</td>\n",
       "      <td>0.0</td>\n",
       "      <td>0.0</td>\n",
       "      <td>0.0</td>\n",
       "      <td>0.0</td>\n",
       "      <td>0.0</td>\n",
       "      <td>0.0</td>\n",
       "      <td>ddos</td>\n",
       "    </tr>\n",
       "    <tr>\n",
       "      <td>3</td>\n",
       "      <td>1143064</td>\n",
       "      <td>172.31.69.28-18.216.200.189-80-52341-6</td>\n",
       "      <td>18.216.200.189</td>\n",
       "      <td>52341</td>\n",
       "      <td>172.31.69.28</td>\n",
       "      <td>80</td>\n",
       "      <td>6</td>\n",
       "      <td>22/02/2018 12:28:04 AM</td>\n",
       "      <td>2390</td>\n",
       "      <td>1</td>\n",
       "      <td>...</td>\n",
       "      <td>0</td>\n",
       "      <td>0.0</td>\n",
       "      <td>0.0</td>\n",
       "      <td>0.0</td>\n",
       "      <td>0.0</td>\n",
       "      <td>0.0</td>\n",
       "      <td>0.0</td>\n",
       "      <td>0.0</td>\n",
       "      <td>0.0</td>\n",
       "      <td>ddos</td>\n",
       "    </tr>\n",
       "    <tr>\n",
       "      <td>4</td>\n",
       "      <td>1934016</td>\n",
       "      <td>172.31.69.28-18.218.55.126-80-57459-6</td>\n",
       "      <td>172.31.69.28</td>\n",
       "      <td>80</td>\n",
       "      <td>18.218.55.126</td>\n",
       "      <td>57459</td>\n",
       "      <td>6</td>\n",
       "      <td>22/02/2018 12:19:45 AM</td>\n",
       "      <td>17362</td>\n",
       "      <td>4</td>\n",
       "      <td>...</td>\n",
       "      <td>0</td>\n",
       "      <td>0.0</td>\n",
       "      <td>0.0</td>\n",
       "      <td>0.0</td>\n",
       "      <td>0.0</td>\n",
       "      <td>0.0</td>\n",
       "      <td>0.0</td>\n",
       "      <td>0.0</td>\n",
       "      <td>0.0</td>\n",
       "      <td>ddos</td>\n",
       "    </tr>\n",
       "  </tbody>\n",
       "</table>\n",
       "<p>5 rows × 85 columns</p>\n",
       "</div>"
      ],
      "text/plain": [
       "   Unnamed: 0                                 Flow ID          Src IP  \\\n",
       "0     1739476   172.31.69.25-18.219.193.20-80-37882-6   18.219.193.20   \n",
       "1     1822666      172.31.69.28-18.219.9.1-80-63287-6    172.31.69.28   \n",
       "2      905739   172.31.69.28-52.14.136.135-80-63095-6   52.14.136.135   \n",
       "3     1143064  172.31.69.28-18.216.200.189-80-52341-6  18.216.200.189   \n",
       "4     1934016   172.31.69.28-18.218.55.126-80-57459-6    172.31.69.28   \n",
       "\n",
       "   Src Port         Dst IP  Dst Port  Protocol               Timestamp  \\\n",
       "0     37882   172.31.69.25        80         6  16/02/2018 11:27:29 PM   \n",
       "1        80     18.219.9.1     63287         6  22/02/2018 12:13:52 AM   \n",
       "2     63095   172.31.69.28        80         6  22/02/2018 12:14:02 AM   \n",
       "3     52341   172.31.69.28        80         6  22/02/2018 12:28:04 AM   \n",
       "4        80  18.218.55.126     57459         6  22/02/2018 12:19:45 AM   \n",
       "\n",
       "   Flow Duration  Tot Fwd Pkts  ...  Fwd Seg Size Min  Active Mean  \\\n",
       "0           8660             1  ...                 0          0.0   \n",
       "1           5829             4  ...                 0          0.0   \n",
       "2           3396             1  ...                 0          0.0   \n",
       "3           2390             1  ...                 0          0.0   \n",
       "4          17362             4  ...                 0          0.0   \n",
       "\n",
       "   Active Std  Active Max  Active Min  Idle Mean  Idle Std  Idle Max  \\\n",
       "0         0.0         0.0         0.0        0.0       0.0       0.0   \n",
       "1         0.0         0.0         0.0        0.0       0.0       0.0   \n",
       "2         0.0         0.0         0.0        0.0       0.0       0.0   \n",
       "3         0.0         0.0         0.0        0.0       0.0       0.0   \n",
       "4         0.0         0.0         0.0        0.0       0.0       0.0   \n",
       "\n",
       "   Idle Min  Label  \n",
       "0       0.0   ddos  \n",
       "1       0.0   ddos  \n",
       "2       0.0   ddos  \n",
       "3       0.0   ddos  \n",
       "4       0.0   ddos  \n",
       "\n",
       "[5 rows x 85 columns]"
      ]
     },
     "execution_count": 5,
     "metadata": {},
     "output_type": "execute_result"
    }
   ],
   "source": [
    "%%time\n",
    "test_data=read_file_by_chunk(\"/work/DDos/unbalaced_test_1000000.csv\")\n",
    "test_data.head()"
   ]
  },
  {
   "cell_type": "code",
   "execution_count": null,
   "metadata": {},
   "outputs": [],
   "source": [
    "%%time\n",
    "test_data1=read_file_bt_chunk(\"/work/DDos/unbalaced_test_5000000.csv\")\n",
    "test_data1.head()"
   ]
  },
  {
   "cell_type": "code",
   "execution_count": 1,
   "metadata": {},
   "outputs": [],
   "source": [
    "# 导入处理的相关包\n",
    "import pandas as pd\n",
    "import numpy as np"
   ]
  },
  {
   "cell_type": "code",
   "execution_count": 2,
   "metadata": {},
   "outputs": [
    {
     "data": {
      "text/plain": [
       "(50000, 85)"
      ]
     },
     "execution_count": 2,
     "metadata": {},
     "output_type": "execute_result"
    }
   ],
   "source": [
    "# 导入文本文件，抽样了25万的文件做处理\n",
    "pd.set_option('display.max_columns', None)\n",
    "ddos_data=pd.read_csv('/work/DDos/unbalaced_part.csv')\n",
    "ddos_data.shape"
   ]
  },
  {
   "cell_type": "code",
   "execution_count": 19,
   "metadata": {},
   "outputs": [
    {
     "data": {
      "text/html": [
       "<div>\n",
       "<style scoped>\n",
       "    .dataframe tbody tr th:only-of-type {\n",
       "        vertical-align: middle;\n",
       "    }\n",
       "\n",
       "    .dataframe tbody tr th {\n",
       "        vertical-align: top;\n",
       "    }\n",
       "\n",
       "    .dataframe thead th {\n",
       "        text-align: right;\n",
       "    }\n",
       "</style>\n",
       "<table border=\"1\" class=\"dataframe\">\n",
       "  <thead>\n",
       "    <tr style=\"text-align: right;\">\n",
       "      <th></th>\n",
       "      <th>Row</th>\n",
       "      <th>Flow ID</th>\n",
       "      <th>Src IP</th>\n",
       "      <th>Src Port</th>\n",
       "      <th>Dst IP</th>\n",
       "      <th>Dst Port</th>\n",
       "      <th>Protocol</th>\n",
       "      <th>Timestamp</th>\n",
       "      <th>Flow Duration</th>\n",
       "      <th>Tot Fwd Pkts</th>\n",
       "      <th>Tot Bwd Pkts</th>\n",
       "      <th>TotLen Fwd Pkts</th>\n",
       "      <th>TotLen Bwd Pkts</th>\n",
       "      <th>Fwd Pkt Len Max</th>\n",
       "      <th>Fwd Pkt Len Min</th>\n",
       "      <th>Fwd Pkt Len Mean</th>\n",
       "      <th>Fwd Pkt Len Std</th>\n",
       "      <th>Bwd Pkt Len Max</th>\n",
       "      <th>Bwd Pkt Len Min</th>\n",
       "      <th>Bwd Pkt Len Mean</th>\n",
       "      <th>Bwd Pkt Len Std</th>\n",
       "      <th>Flow Byts/s</th>\n",
       "      <th>Flow Pkts/s</th>\n",
       "      <th>Flow IAT Mean</th>\n",
       "      <th>Flow IAT Std</th>\n",
       "      <th>Flow IAT Max</th>\n",
       "      <th>Flow IAT Min</th>\n",
       "      <th>Fwd IAT Tot</th>\n",
       "      <th>Fwd IAT Mean</th>\n",
       "      <th>Fwd IAT Std</th>\n",
       "      <th>Fwd IAT Max</th>\n",
       "      <th>Fwd IAT Min</th>\n",
       "      <th>Bwd IAT Tot</th>\n",
       "      <th>Bwd IAT Mean</th>\n",
       "      <th>Bwd IAT Std</th>\n",
       "      <th>Bwd IAT Max</th>\n",
       "      <th>Bwd IAT Min</th>\n",
       "      <th>Fwd PSH Flags</th>\n",
       "      <th>Bwd PSH Flags</th>\n",
       "      <th>Fwd URG Flags</th>\n",
       "      <th>Bwd URG Flags</th>\n",
       "      <th>Fwd Header Len</th>\n",
       "      <th>Bwd Header Len</th>\n",
       "      <th>Fwd Pkts/s</th>\n",
       "      <th>Bwd Pkts/s</th>\n",
       "      <th>Pkt Len Min</th>\n",
       "      <th>Pkt Len Max</th>\n",
       "      <th>Pkt Len Mean</th>\n",
       "      <th>Pkt Len Std</th>\n",
       "      <th>Pkt Len Var</th>\n",
       "      <th>FIN Flag Cnt</th>\n",
       "      <th>SYN Flag Cnt</th>\n",
       "      <th>RST Flag Cnt</th>\n",
       "      <th>PSH Flag Cnt</th>\n",
       "      <th>ACK Flag Cnt</th>\n",
       "      <th>URG Flag Cnt</th>\n",
       "      <th>CWE Flag Count</th>\n",
       "      <th>ECE Flag Cnt</th>\n",
       "      <th>Down/Up Ratio</th>\n",
       "      <th>Pkt Size Avg</th>\n",
       "      <th>Fwd Seg Size Avg</th>\n",
       "      <th>Bwd Seg Size Avg</th>\n",
       "      <th>Fwd Byts/b Avg</th>\n",
       "      <th>Fwd Pkts/b Avg</th>\n",
       "      <th>Fwd Blk Rate Avg</th>\n",
       "      <th>Bwd Byts/b Avg</th>\n",
       "      <th>Bwd Pkts/b Avg</th>\n",
       "      <th>Bwd Blk Rate Avg</th>\n",
       "      <th>Subflow Fwd Pkts</th>\n",
       "      <th>Subflow Fwd Byts</th>\n",
       "      <th>Subflow Bwd Pkts</th>\n",
       "      <th>Subflow Bwd Byts</th>\n",
       "      <th>Init Fwd Win Byts</th>\n",
       "      <th>Init Bwd Win Byts</th>\n",
       "      <th>Fwd Act Data Pkts</th>\n",
       "      <th>Fwd Seg Size Min</th>\n",
       "      <th>Active Mean</th>\n",
       "      <th>Active Std</th>\n",
       "      <th>Active Max</th>\n",
       "      <th>Active Min</th>\n",
       "      <th>Idle Mean</th>\n",
       "      <th>Idle Std</th>\n",
       "      <th>Idle Max</th>\n",
       "      <th>Idle Min</th>\n",
       "      <th>Label</th>\n",
       "    </tr>\n",
       "  </thead>\n",
       "  <tbody>\n",
       "    <tr>\n",
       "      <td>0</td>\n",
       "      <td>6867415</td>\n",
       "      <td>172.31.0.2-172.31.67.107-53-54063-17</td>\n",
       "      <td>172.31.67.107</td>\n",
       "      <td>54063</td>\n",
       "      <td>172.31.0.2</td>\n",
       "      <td>53</td>\n",
       "      <td>17</td>\n",
       "      <td>20/02/2018 11:32:42</td>\n",
       "      <td>763</td>\n",
       "      <td>1</td>\n",
       "      <td>1</td>\n",
       "      <td>29.0</td>\n",
       "      <td>45.0</td>\n",
       "      <td>29.0</td>\n",
       "      <td>29.0</td>\n",
       "      <td>29.00</td>\n",
       "      <td>0.000000</td>\n",
       "      <td>45.0</td>\n",
       "      <td>45.0</td>\n",
       "      <td>45.000000</td>\n",
       "      <td>0.000000</td>\n",
       "      <td>96985.58322411533</td>\n",
       "      <td>2621.231979030144</td>\n",
       "      <td>763.000000</td>\n",
       "      <td>0.000000</td>\n",
       "      <td>763.0</td>\n",
       "      <td>763.0</td>\n",
       "      <td>0.0</td>\n",
       "      <td>0.0</td>\n",
       "      <td>0.000000</td>\n",
       "      <td>0.0</td>\n",
       "      <td>0.0</td>\n",
       "      <td>0.0</td>\n",
       "      <td>0.00</td>\n",
       "      <td>0.000000</td>\n",
       "      <td>0.0</td>\n",
       "      <td>0.0</td>\n",
       "      <td>0</td>\n",
       "      <td>0</td>\n",
       "      <td>0</td>\n",
       "      <td>0</td>\n",
       "      <td>8</td>\n",
       "      <td>8</td>\n",
       "      <td>1310.615990</td>\n",
       "      <td>1310.615990</td>\n",
       "      <td>29.0</td>\n",
       "      <td>45.0</td>\n",
       "      <td>34.333333</td>\n",
       "      <td>9.237604</td>\n",
       "      <td>85.333333</td>\n",
       "      <td>0</td>\n",
       "      <td>0</td>\n",
       "      <td>0</td>\n",
       "      <td>0</td>\n",
       "      <td>0</td>\n",
       "      <td>0</td>\n",
       "      <td>0</td>\n",
       "      <td>0</td>\n",
       "      <td>1.0</td>\n",
       "      <td>51.50</td>\n",
       "      <td>29.00</td>\n",
       "      <td>45.000000</td>\n",
       "      <td>0</td>\n",
       "      <td>0</td>\n",
       "      <td>0</td>\n",
       "      <td>0</td>\n",
       "      <td>0</td>\n",
       "      <td>0</td>\n",
       "      <td>1</td>\n",
       "      <td>29</td>\n",
       "      <td>1</td>\n",
       "      <td>45</td>\n",
       "      <td>-1</td>\n",
       "      <td>-1</td>\n",
       "      <td>0</td>\n",
       "      <td>8</td>\n",
       "      <td>0.0</td>\n",
       "      <td>0.0</td>\n",
       "      <td>0.0</td>\n",
       "      <td>0.0</td>\n",
       "      <td>0.0</td>\n",
       "      <td>0.0</td>\n",
       "      <td>0.0</td>\n",
       "      <td>0.0</td>\n",
       "      <td>Benign</td>\n",
       "    </tr>\n",
       "    <tr>\n",
       "      <td>1</td>\n",
       "      <td>866786</td>\n",
       "      <td>172.31.69.28-18.218.115.60-80-55289-6</td>\n",
       "      <td>18.218.115.60</td>\n",
       "      <td>55289</td>\n",
       "      <td>172.31.69.28</td>\n",
       "      <td>80</td>\n",
       "      <td>6</td>\n",
       "      <td>22/02/2018 12:12:02 AM</td>\n",
       "      <td>1080</td>\n",
       "      <td>1</td>\n",
       "      <td>1</td>\n",
       "      <td>0.0</td>\n",
       "      <td>0.0</td>\n",
       "      <td>0.0</td>\n",
       "      <td>0.0</td>\n",
       "      <td>0.00</td>\n",
       "      <td>0.000000</td>\n",
       "      <td>0.0</td>\n",
       "      <td>0.0</td>\n",
       "      <td>0.000000</td>\n",
       "      <td>0.000000</td>\n",
       "      <td>0.0</td>\n",
       "      <td>1851.8518518518522</td>\n",
       "      <td>1080.000000</td>\n",
       "      <td>0.000000</td>\n",
       "      <td>1080.0</td>\n",
       "      <td>1080.0</td>\n",
       "      <td>0.0</td>\n",
       "      <td>0.0</td>\n",
       "      <td>0.000000</td>\n",
       "      <td>0.0</td>\n",
       "      <td>0.0</td>\n",
       "      <td>0.0</td>\n",
       "      <td>0.00</td>\n",
       "      <td>0.000000</td>\n",
       "      <td>0.0</td>\n",
       "      <td>0.0</td>\n",
       "      <td>0</td>\n",
       "      <td>0</td>\n",
       "      <td>0</td>\n",
       "      <td>0</td>\n",
       "      <td>20</td>\n",
       "      <td>20</td>\n",
       "      <td>925.925926</td>\n",
       "      <td>925.925926</td>\n",
       "      <td>0.0</td>\n",
       "      <td>0.0</td>\n",
       "      <td>0.000000</td>\n",
       "      <td>0.000000</td>\n",
       "      <td>0.000000</td>\n",
       "      <td>0</td>\n",
       "      <td>0</td>\n",
       "      <td>0</td>\n",
       "      <td>0</td>\n",
       "      <td>1</td>\n",
       "      <td>0</td>\n",
       "      <td>0</td>\n",
       "      <td>0</td>\n",
       "      <td>1.0</td>\n",
       "      <td>0.00</td>\n",
       "      <td>0.00</td>\n",
       "      <td>0.000000</td>\n",
       "      <td>0</td>\n",
       "      <td>0</td>\n",
       "      <td>0</td>\n",
       "      <td>0</td>\n",
       "      <td>0</td>\n",
       "      <td>0</td>\n",
       "      <td>1</td>\n",
       "      <td>0</td>\n",
       "      <td>1</td>\n",
       "      <td>0</td>\n",
       "      <td>-1</td>\n",
       "      <td>32738</td>\n",
       "      <td>0</td>\n",
       "      <td>0</td>\n",
       "      <td>0.0</td>\n",
       "      <td>0.0</td>\n",
       "      <td>0.0</td>\n",
       "      <td>0.0</td>\n",
       "      <td>0.0</td>\n",
       "      <td>0.0</td>\n",
       "      <td>0.0</td>\n",
       "      <td>0.0</td>\n",
       "      <td>ddos</td>\n",
       "    </tr>\n",
       "    <tr>\n",
       "      <td>2</td>\n",
       "      <td>26669</td>\n",
       "      <td>192.168.10.3-192.168.10.9-53-56344-17</td>\n",
       "      <td>192.168.10.9</td>\n",
       "      <td>56344</td>\n",
       "      <td>192.168.10.3</td>\n",
       "      <td>53</td>\n",
       "      <td>17</td>\n",
       "      <td>03/07/2017 06:13:17 PM</td>\n",
       "      <td>23630</td>\n",
       "      <td>1</td>\n",
       "      <td>3</td>\n",
       "      <td>35.0</td>\n",
       "      <td>253.0</td>\n",
       "      <td>35.0</td>\n",
       "      <td>35.0</td>\n",
       "      <td>35.00</td>\n",
       "      <td>0.000000</td>\n",
       "      <td>109.0</td>\n",
       "      <td>35.0</td>\n",
       "      <td>84.333333</td>\n",
       "      <td>42.723920</td>\n",
       "      <td>12187.896741430384</td>\n",
       "      <td>169.27634363097755</td>\n",
       "      <td>7876.666667</td>\n",
       "      <td>13636.724692</td>\n",
       "      <td>23623.0</td>\n",
       "      <td>3.0</td>\n",
       "      <td>0.0</td>\n",
       "      <td>0.0</td>\n",
       "      <td>0.000000</td>\n",
       "      <td>0.0</td>\n",
       "      <td>0.0</td>\n",
       "      <td>23630.0</td>\n",
       "      <td>11815.00</td>\n",
       "      <td>16704.690599</td>\n",
       "      <td>23627.0</td>\n",
       "      <td>3.0</td>\n",
       "      <td>0</td>\n",
       "      <td>0</td>\n",
       "      <td>0</td>\n",
       "      <td>0</td>\n",
       "      <td>8</td>\n",
       "      <td>24</td>\n",
       "      <td>42.319086</td>\n",
       "      <td>126.957258</td>\n",
       "      <td>35.0</td>\n",
       "      <td>109.0</td>\n",
       "      <td>64.600000</td>\n",
       "      <td>40.531469</td>\n",
       "      <td>1642.800000</td>\n",
       "      <td>0</td>\n",
       "      <td>0</td>\n",
       "      <td>0</td>\n",
       "      <td>0</td>\n",
       "      <td>0</td>\n",
       "      <td>0</td>\n",
       "      <td>0</td>\n",
       "      <td>0</td>\n",
       "      <td>3.0</td>\n",
       "      <td>80.75</td>\n",
       "      <td>35.00</td>\n",
       "      <td>84.333333</td>\n",
       "      <td>0</td>\n",
       "      <td>0</td>\n",
       "      <td>0</td>\n",
       "      <td>0</td>\n",
       "      <td>0</td>\n",
       "      <td>0</td>\n",
       "      <td>1</td>\n",
       "      <td>35</td>\n",
       "      <td>3</td>\n",
       "      <td>253</td>\n",
       "      <td>-1</td>\n",
       "      <td>-1</td>\n",
       "      <td>1</td>\n",
       "      <td>0</td>\n",
       "      <td>0.0</td>\n",
       "      <td>0.0</td>\n",
       "      <td>0.0</td>\n",
       "      <td>0.0</td>\n",
       "      <td>0.0</td>\n",
       "      <td>0.0</td>\n",
       "      <td>0.0</td>\n",
       "      <td>0.0</td>\n",
       "      <td>Benign</td>\n",
       "    </tr>\n",
       "    <tr>\n",
       "      <td>3</td>\n",
       "      <td>2038975</td>\n",
       "      <td>172.31.69.28-52.14.136.135-80-51451-6</td>\n",
       "      <td>172.31.69.28</td>\n",
       "      <td>80</td>\n",
       "      <td>52.14.136.135</td>\n",
       "      <td>51451</td>\n",
       "      <td>6</td>\n",
       "      <td>22/02/2018 12:26:23 AM</td>\n",
       "      <td>163188</td>\n",
       "      <td>4</td>\n",
       "      <td>3</td>\n",
       "      <td>935.0</td>\n",
       "      <td>311.0</td>\n",
       "      <td>935.0</td>\n",
       "      <td>0.0</td>\n",
       "      <td>233.75</td>\n",
       "      <td>467.500000</td>\n",
       "      <td>311.0</td>\n",
       "      <td>0.0</td>\n",
       "      <td>103.666667</td>\n",
       "      <td>179.555934</td>\n",
       "      <td>7635.36534549109</td>\n",
       "      <td>42.89531092972523</td>\n",
       "      <td>27198.000000</td>\n",
       "      <td>66241.816738</td>\n",
       "      <td>162413.0</td>\n",
       "      <td>4.0</td>\n",
       "      <td>163182.0</td>\n",
       "      <td>54394.0</td>\n",
       "      <td>93789.086673</td>\n",
       "      <td>162692.0</td>\n",
       "      <td>21.0</td>\n",
       "      <td>162694.0</td>\n",
       "      <td>81347.00</td>\n",
       "      <td>114644.636647</td>\n",
       "      <td>162413.0</td>\n",
       "      <td>281.0</td>\n",
       "      <td>0</td>\n",
       "      <td>0</td>\n",
       "      <td>0</td>\n",
       "      <td>0</td>\n",
       "      <td>92</td>\n",
       "      <td>72</td>\n",
       "      <td>24.511606</td>\n",
       "      <td>18.383705</td>\n",
       "      <td>0.0</td>\n",
       "      <td>935.0</td>\n",
       "      <td>155.750000</td>\n",
       "      <td>333.141218</td>\n",
       "      <td>110983.071429</td>\n",
       "      <td>0</td>\n",
       "      <td>1</td>\n",
       "      <td>0</td>\n",
       "      <td>0</td>\n",
       "      <td>0</td>\n",
       "      <td>0</td>\n",
       "      <td>1</td>\n",
       "      <td>1</td>\n",
       "      <td>0.0</td>\n",
       "      <td>178.00</td>\n",
       "      <td>233.75</td>\n",
       "      <td>103.666667</td>\n",
       "      <td>0</td>\n",
       "      <td>0</td>\n",
       "      <td>0</td>\n",
       "      <td>0</td>\n",
       "      <td>0</td>\n",
       "      <td>0</td>\n",
       "      <td>4</td>\n",
       "      <td>935</td>\n",
       "      <td>3</td>\n",
       "      <td>311</td>\n",
       "      <td>-1</td>\n",
       "      <td>32768</td>\n",
       "      <td>1</td>\n",
       "      <td>0</td>\n",
       "      <td>0.0</td>\n",
       "      <td>0.0</td>\n",
       "      <td>0.0</td>\n",
       "      <td>0.0</td>\n",
       "      <td>0.0</td>\n",
       "      <td>0.0</td>\n",
       "      <td>0.0</td>\n",
       "      <td>0.0</td>\n",
       "      <td>ddos</td>\n",
       "    </tr>\n",
       "    <tr>\n",
       "      <td>4</td>\n",
       "      <td>155024</td>\n",
       "      <td>172.31.69.28-18.218.55.126-80-62189-6</td>\n",
       "      <td>18.218.55.126</td>\n",
       "      <td>62189</td>\n",
       "      <td>172.31.69.28</td>\n",
       "      <td>80</td>\n",
       "      <td>6</td>\n",
       "      <td>21/02/2018 11:44:24 PM</td>\n",
       "      <td>11391</td>\n",
       "      <td>2</td>\n",
       "      <td>5</td>\n",
       "      <td>248.0</td>\n",
       "      <td>935.0</td>\n",
       "      <td>248.0</td>\n",
       "      <td>0.0</td>\n",
       "      <td>124.00</td>\n",
       "      <td>175.362482</td>\n",
       "      <td>935.0</td>\n",
       "      <td>0.0</td>\n",
       "      <td>187.000000</td>\n",
       "      <td>418.144712</td>\n",
       "      <td>103853.919761215</td>\n",
       "      <td>614.5202352734615</td>\n",
       "      <td>1898.500000</td>\n",
       "      <td>4261.247083</td>\n",
       "      <td>10587.0</td>\n",
       "      <td>2.0</td>\n",
       "      <td>10587.0</td>\n",
       "      <td>10587.0</td>\n",
       "      <td>0.000000</td>\n",
       "      <td>10587.0</td>\n",
       "      <td>10587.0</td>\n",
       "      <td>11391.0</td>\n",
       "      <td>2847.75</td>\n",
       "      <td>5345.340299</td>\n",
       "      <td>10858.0</td>\n",
       "      <td>2.0</td>\n",
       "      <td>0</td>\n",
       "      <td>0</td>\n",
       "      <td>0</td>\n",
       "      <td>0</td>\n",
       "      <td>40</td>\n",
       "      <td>124</td>\n",
       "      <td>175.577210</td>\n",
       "      <td>438.943025</td>\n",
       "      <td>0.0</td>\n",
       "      <td>935.0</td>\n",
       "      <td>147.875000</td>\n",
       "      <td>329.673621</td>\n",
       "      <td>108684.696429</td>\n",
       "      <td>0</td>\n",
       "      <td>1</td>\n",
       "      <td>0</td>\n",
       "      <td>0</td>\n",
       "      <td>0</td>\n",
       "      <td>0</td>\n",
       "      <td>1</td>\n",
       "      <td>1</td>\n",
       "      <td>2.0</td>\n",
       "      <td>169.00</td>\n",
       "      <td>124.00</td>\n",
       "      <td>187.000000</td>\n",
       "      <td>0</td>\n",
       "      <td>0</td>\n",
       "      <td>0</td>\n",
       "      <td>0</td>\n",
       "      <td>0</td>\n",
       "      <td>0</td>\n",
       "      <td>2</td>\n",
       "      <td>248</td>\n",
       "      <td>5</td>\n",
       "      <td>935</td>\n",
       "      <td>-1</td>\n",
       "      <td>219</td>\n",
       "      <td>1</td>\n",
       "      <td>0</td>\n",
       "      <td>0.0</td>\n",
       "      <td>0.0</td>\n",
       "      <td>0.0</td>\n",
       "      <td>0.0</td>\n",
       "      <td>0.0</td>\n",
       "      <td>0.0</td>\n",
       "      <td>0.0</td>\n",
       "      <td>0.0</td>\n",
       "      <td>ddos</td>\n",
       "    </tr>\n",
       "  </tbody>\n",
       "</table>\n",
       "</div>"
      ],
      "text/plain": [
       "       Row                                Flow ID         Src IP  Src Port  \\\n",
       "0  6867415   172.31.0.2-172.31.67.107-53-54063-17  172.31.67.107     54063   \n",
       "1   866786  172.31.69.28-18.218.115.60-80-55289-6  18.218.115.60     55289   \n",
       "2    26669  192.168.10.3-192.168.10.9-53-56344-17   192.168.10.9     56344   \n",
       "3  2038975  172.31.69.28-52.14.136.135-80-51451-6   172.31.69.28        80   \n",
       "4   155024  172.31.69.28-18.218.55.126-80-62189-6  18.218.55.126     62189   \n",
       "\n",
       "          Dst IP  Dst Port  Protocol               Timestamp  Flow Duration  \\\n",
       "0     172.31.0.2        53        17     20/02/2018 11:32:42            763   \n",
       "1   172.31.69.28        80         6  22/02/2018 12:12:02 AM           1080   \n",
       "2   192.168.10.3        53        17  03/07/2017 06:13:17 PM          23630   \n",
       "3  52.14.136.135     51451         6  22/02/2018 12:26:23 AM         163188   \n",
       "4   172.31.69.28        80         6  21/02/2018 11:44:24 PM          11391   \n",
       "\n",
       "   Tot Fwd Pkts  Tot Bwd Pkts  TotLen Fwd Pkts  TotLen Bwd Pkts  \\\n",
       "0             1             1             29.0             45.0   \n",
       "1             1             1              0.0              0.0   \n",
       "2             1             3             35.0            253.0   \n",
       "3             4             3            935.0            311.0   \n",
       "4             2             5            248.0            935.0   \n",
       "\n",
       "   Fwd Pkt Len Max  Fwd Pkt Len Min  Fwd Pkt Len Mean  Fwd Pkt Len Std  \\\n",
       "0             29.0             29.0             29.00         0.000000   \n",
       "1              0.0              0.0              0.00         0.000000   \n",
       "2             35.0             35.0             35.00         0.000000   \n",
       "3            935.0              0.0            233.75       467.500000   \n",
       "4            248.0              0.0            124.00       175.362482   \n",
       "\n",
       "   Bwd Pkt Len Max  Bwd Pkt Len Min  Bwd Pkt Len Mean  Bwd Pkt Len Std  \\\n",
       "0             45.0             45.0         45.000000         0.000000   \n",
       "1              0.0              0.0          0.000000         0.000000   \n",
       "2            109.0             35.0         84.333333        42.723920   \n",
       "3            311.0              0.0        103.666667       179.555934   \n",
       "4            935.0              0.0        187.000000       418.144712   \n",
       "\n",
       "          Flow Byts/s         Flow Pkts/s  Flow IAT Mean  Flow IAT Std  \\\n",
       "0   96985.58322411533   2621.231979030144     763.000000      0.000000   \n",
       "1                 0.0  1851.8518518518522    1080.000000      0.000000   \n",
       "2  12187.896741430384  169.27634363097755    7876.666667  13636.724692   \n",
       "3    7635.36534549109   42.89531092972523   27198.000000  66241.816738   \n",
       "4    103853.919761215   614.5202352734615    1898.500000   4261.247083   \n",
       "\n",
       "   Flow IAT Max  Flow IAT Min  Fwd IAT Tot  Fwd IAT Mean   Fwd IAT Std  \\\n",
       "0         763.0         763.0          0.0           0.0      0.000000   \n",
       "1        1080.0        1080.0          0.0           0.0      0.000000   \n",
       "2       23623.0           3.0          0.0           0.0      0.000000   \n",
       "3      162413.0           4.0     163182.0       54394.0  93789.086673   \n",
       "4       10587.0           2.0      10587.0       10587.0      0.000000   \n",
       "\n",
       "   Fwd IAT Max  Fwd IAT Min  Bwd IAT Tot  Bwd IAT Mean    Bwd IAT Std  \\\n",
       "0          0.0          0.0          0.0          0.00       0.000000   \n",
       "1          0.0          0.0          0.0          0.00       0.000000   \n",
       "2          0.0          0.0      23630.0      11815.00   16704.690599   \n",
       "3     162692.0         21.0     162694.0      81347.00  114644.636647   \n",
       "4      10587.0      10587.0      11391.0       2847.75    5345.340299   \n",
       "\n",
       "   Bwd IAT Max  Bwd IAT Min  Fwd PSH Flags  Bwd PSH Flags  Fwd URG Flags  \\\n",
       "0          0.0          0.0              0              0              0   \n",
       "1          0.0          0.0              0              0              0   \n",
       "2      23627.0          3.0              0              0              0   \n",
       "3     162413.0        281.0              0              0              0   \n",
       "4      10858.0          2.0              0              0              0   \n",
       "\n",
       "   Bwd URG Flags  Fwd Header Len  Bwd Header Len   Fwd Pkts/s   Bwd Pkts/s  \\\n",
       "0              0               8               8  1310.615990  1310.615990   \n",
       "1              0              20              20   925.925926   925.925926   \n",
       "2              0               8              24    42.319086   126.957258   \n",
       "3              0              92              72    24.511606    18.383705   \n",
       "4              0              40             124   175.577210   438.943025   \n",
       "\n",
       "   Pkt Len Min  Pkt Len Max  Pkt Len Mean  Pkt Len Std    Pkt Len Var  \\\n",
       "0         29.0         45.0     34.333333     9.237604      85.333333   \n",
       "1          0.0          0.0      0.000000     0.000000       0.000000   \n",
       "2         35.0        109.0     64.600000    40.531469    1642.800000   \n",
       "3          0.0        935.0    155.750000   333.141218  110983.071429   \n",
       "4          0.0        935.0    147.875000   329.673621  108684.696429   \n",
       "\n",
       "   FIN Flag Cnt  SYN Flag Cnt  RST Flag Cnt  PSH Flag Cnt  ACK Flag Cnt  \\\n",
       "0             0             0             0             0             0   \n",
       "1             0             0             0             0             1   \n",
       "2             0             0             0             0             0   \n",
       "3             0             1             0             0             0   \n",
       "4             0             1             0             0             0   \n",
       "\n",
       "   URG Flag Cnt  CWE Flag Count  ECE Flag Cnt  Down/Up Ratio  Pkt Size Avg  \\\n",
       "0             0               0             0            1.0         51.50   \n",
       "1             0               0             0            1.0          0.00   \n",
       "2             0               0             0            3.0         80.75   \n",
       "3             0               1             1            0.0        178.00   \n",
       "4             0               1             1            2.0        169.00   \n",
       "\n",
       "   Fwd Seg Size Avg  Bwd Seg Size Avg  Fwd Byts/b Avg  Fwd Pkts/b Avg  \\\n",
       "0             29.00         45.000000               0               0   \n",
       "1              0.00          0.000000               0               0   \n",
       "2             35.00         84.333333               0               0   \n",
       "3            233.75        103.666667               0               0   \n",
       "4            124.00        187.000000               0               0   \n",
       "\n",
       "   Fwd Blk Rate Avg  Bwd Byts/b Avg  Bwd Pkts/b Avg  Bwd Blk Rate Avg  \\\n",
       "0                 0               0               0                 0   \n",
       "1                 0               0               0                 0   \n",
       "2                 0               0               0                 0   \n",
       "3                 0               0               0                 0   \n",
       "4                 0               0               0                 0   \n",
       "\n",
       "   Subflow Fwd Pkts  Subflow Fwd Byts  Subflow Bwd Pkts  Subflow Bwd Byts  \\\n",
       "0                 1                29                 1                45   \n",
       "1                 1                 0                 1                 0   \n",
       "2                 1                35                 3               253   \n",
       "3                 4               935                 3               311   \n",
       "4                 2               248                 5               935   \n",
       "\n",
       "   Init Fwd Win Byts  Init Bwd Win Byts  Fwd Act Data Pkts  Fwd Seg Size Min  \\\n",
       "0                 -1                 -1                  0                 8   \n",
       "1                 -1              32738                  0                 0   \n",
       "2                 -1                 -1                  1                 0   \n",
       "3                 -1              32768                  1                 0   \n",
       "4                 -1                219                  1                 0   \n",
       "\n",
       "   Active Mean  Active Std  Active Max  Active Min  Idle Mean  Idle Std  \\\n",
       "0          0.0         0.0         0.0         0.0        0.0       0.0   \n",
       "1          0.0         0.0         0.0         0.0        0.0       0.0   \n",
       "2          0.0         0.0         0.0         0.0        0.0       0.0   \n",
       "3          0.0         0.0         0.0         0.0        0.0       0.0   \n",
       "4          0.0         0.0         0.0         0.0        0.0       0.0   \n",
       "\n",
       "   Idle Max  Idle Min   Label  \n",
       "0       0.0       0.0  Benign  \n",
       "1       0.0       0.0    ddos  \n",
       "2       0.0       0.0  Benign  \n",
       "3       0.0       0.0    ddos  \n",
       "4       0.0       0.0    ddos  "
      ]
     },
     "execution_count": 19,
     "metadata": {},
     "output_type": "execute_result"
    }
   ],
   "source": [
    "# 数据的规模 50000列 85 行\n",
    "ddos_data.head()"
   ]
  },
  {
   "cell_type": "code",
   "execution_count": 3,
   "metadata": {},
   "outputs": [
    {
     "data": {
      "text/plain": [
       "Benign    40000\n",
       "ddos      10000\n",
       "Name: Label, dtype: int64"
      ]
     },
     "execution_count": 3,
     "metadata": {},
     "output_type": "execute_result"
    }
   ],
   "source": [
    "# 标签情况\n",
    "ddos_data[\"Label\"].value_counts()"
   ]
  },
  {
   "cell_type": "code",
   "execution_count": 4,
   "metadata": {},
   "outputs": [],
   "source": [
    "# 暂时剔除无意义的特征\n",
    "del ddos_data['Row']\n",
    "# 删除非数值\n",
    "other_data = ddos_data.drop([\n",
    "    'Flow ID', 'Src IP', 'Src Port', 'Dst IP', 'Dst Port', 'Protocol',\n",
    "    'Timestamp'\n",
    "],\n",
    "                            axis=1)"
   ]
  },
  {
   "cell_type": "code",
   "execution_count": 24,
   "metadata": {},
   "outputs": [
    {
     "data": {
      "text/html": [
       "<div>\n",
       "<style scoped>\n",
       "    .dataframe tbody tr th:only-of-type {\n",
       "        vertical-align: middle;\n",
       "    }\n",
       "\n",
       "    .dataframe tbody tr th {\n",
       "        vertical-align: top;\n",
       "    }\n",
       "\n",
       "    .dataframe thead th {\n",
       "        text-align: right;\n",
       "    }\n",
       "</style>\n",
       "<table border=\"1\" class=\"dataframe\">\n",
       "  <thead>\n",
       "    <tr style=\"text-align: right;\">\n",
       "      <th></th>\n",
       "      <th>Flow Duration</th>\n",
       "      <th>Tot Fwd Pkts</th>\n",
       "      <th>Tot Bwd Pkts</th>\n",
       "      <th>TotLen Fwd Pkts</th>\n",
       "      <th>TotLen Bwd Pkts</th>\n",
       "      <th>Fwd Pkt Len Max</th>\n",
       "      <th>Fwd Pkt Len Min</th>\n",
       "      <th>Fwd Pkt Len Mean</th>\n",
       "      <th>Fwd Pkt Len Std</th>\n",
       "      <th>Bwd Pkt Len Max</th>\n",
       "      <th>Bwd Pkt Len Min</th>\n",
       "      <th>Bwd Pkt Len Mean</th>\n",
       "      <th>Bwd Pkt Len Std</th>\n",
       "      <th>Flow Byts/s</th>\n",
       "      <th>Flow Pkts/s</th>\n",
       "      <th>Flow IAT Mean</th>\n",
       "      <th>Flow IAT Std</th>\n",
       "      <th>Flow IAT Max</th>\n",
       "      <th>Flow IAT Min</th>\n",
       "      <th>Fwd IAT Tot</th>\n",
       "      <th>Fwd IAT Mean</th>\n",
       "      <th>Fwd IAT Std</th>\n",
       "      <th>Fwd IAT Max</th>\n",
       "      <th>Fwd IAT Min</th>\n",
       "      <th>Bwd IAT Tot</th>\n",
       "      <th>Bwd IAT Mean</th>\n",
       "      <th>Bwd IAT Std</th>\n",
       "      <th>Bwd IAT Max</th>\n",
       "      <th>Bwd IAT Min</th>\n",
       "      <th>Fwd PSH Flags</th>\n",
       "      <th>Bwd PSH Flags</th>\n",
       "      <th>Fwd URG Flags</th>\n",
       "      <th>Bwd URG Flags</th>\n",
       "      <th>Fwd Header Len</th>\n",
       "      <th>Bwd Header Len</th>\n",
       "      <th>Fwd Pkts/s</th>\n",
       "      <th>Bwd Pkts/s</th>\n",
       "      <th>Pkt Len Min</th>\n",
       "      <th>Pkt Len Max</th>\n",
       "      <th>Pkt Len Mean</th>\n",
       "      <th>Pkt Len Std</th>\n",
       "      <th>Pkt Len Var</th>\n",
       "      <th>FIN Flag Cnt</th>\n",
       "      <th>SYN Flag Cnt</th>\n",
       "      <th>RST Flag Cnt</th>\n",
       "      <th>PSH Flag Cnt</th>\n",
       "      <th>ACK Flag Cnt</th>\n",
       "      <th>URG Flag Cnt</th>\n",
       "      <th>CWE Flag Count</th>\n",
       "      <th>ECE Flag Cnt</th>\n",
       "      <th>Down/Up Ratio</th>\n",
       "      <th>Pkt Size Avg</th>\n",
       "      <th>Fwd Seg Size Avg</th>\n",
       "      <th>Bwd Seg Size Avg</th>\n",
       "      <th>Fwd Byts/b Avg</th>\n",
       "      <th>Fwd Pkts/b Avg</th>\n",
       "      <th>Fwd Blk Rate Avg</th>\n",
       "      <th>Bwd Byts/b Avg</th>\n",
       "      <th>Bwd Pkts/b Avg</th>\n",
       "      <th>Bwd Blk Rate Avg</th>\n",
       "      <th>Subflow Fwd Pkts</th>\n",
       "      <th>Subflow Fwd Byts</th>\n",
       "      <th>Subflow Bwd Pkts</th>\n",
       "      <th>Subflow Bwd Byts</th>\n",
       "      <th>Init Fwd Win Byts</th>\n",
       "      <th>Init Bwd Win Byts</th>\n",
       "      <th>Fwd Act Data Pkts</th>\n",
       "      <th>Fwd Seg Size Min</th>\n",
       "      <th>Active Mean</th>\n",
       "      <th>Active Std</th>\n",
       "      <th>Active Max</th>\n",
       "      <th>Active Min</th>\n",
       "      <th>Idle Mean</th>\n",
       "      <th>Idle Std</th>\n",
       "      <th>Idle Max</th>\n",
       "      <th>Idle Min</th>\n",
       "      <th>Label</th>\n",
       "    </tr>\n",
       "  </thead>\n",
       "  <tbody>\n",
       "    <tr>\n",
       "      <td>0</td>\n",
       "      <td>763</td>\n",
       "      <td>1</td>\n",
       "      <td>1</td>\n",
       "      <td>29.0</td>\n",
       "      <td>45.0</td>\n",
       "      <td>29.0</td>\n",
       "      <td>29.0</td>\n",
       "      <td>29.0</td>\n",
       "      <td>0.0</td>\n",
       "      <td>45.0</td>\n",
       "      <td>45.0</td>\n",
       "      <td>45.0</td>\n",
       "      <td>0.0</td>\n",
       "      <td>96985.58322411533</td>\n",
       "      <td>2621.231979030144</td>\n",
       "      <td>763.0</td>\n",
       "      <td>0.0</td>\n",
       "      <td>763.0</td>\n",
       "      <td>763.0</td>\n",
       "      <td>0.0</td>\n",
       "      <td>0.0</td>\n",
       "      <td>0.0</td>\n",
       "      <td>0.0</td>\n",
       "      <td>0.0</td>\n",
       "      <td>0.0</td>\n",
       "      <td>0.0</td>\n",
       "      <td>0.0</td>\n",
       "      <td>0.0</td>\n",
       "      <td>0.0</td>\n",
       "      <td>0</td>\n",
       "      <td>0</td>\n",
       "      <td>0</td>\n",
       "      <td>0</td>\n",
       "      <td>8</td>\n",
       "      <td>8</td>\n",
       "      <td>1310.61599</td>\n",
       "      <td>1310.61599</td>\n",
       "      <td>29.0</td>\n",
       "      <td>45.0</td>\n",
       "      <td>34.333333</td>\n",
       "      <td>9.237604</td>\n",
       "      <td>85.333333</td>\n",
       "      <td>0</td>\n",
       "      <td>0</td>\n",
       "      <td>0</td>\n",
       "      <td>0</td>\n",
       "      <td>0</td>\n",
       "      <td>0</td>\n",
       "      <td>0</td>\n",
       "      <td>0</td>\n",
       "      <td>1.0</td>\n",
       "      <td>51.5</td>\n",
       "      <td>29.0</td>\n",
       "      <td>45.0</td>\n",
       "      <td>0</td>\n",
       "      <td>0</td>\n",
       "      <td>0</td>\n",
       "      <td>0</td>\n",
       "      <td>0</td>\n",
       "      <td>0</td>\n",
       "      <td>1</td>\n",
       "      <td>29</td>\n",
       "      <td>1</td>\n",
       "      <td>45</td>\n",
       "      <td>-1</td>\n",
       "      <td>-1</td>\n",
       "      <td>0</td>\n",
       "      <td>8</td>\n",
       "      <td>0.0</td>\n",
       "      <td>0.0</td>\n",
       "      <td>0.0</td>\n",
       "      <td>0.0</td>\n",
       "      <td>0.0</td>\n",
       "      <td>0.0</td>\n",
       "      <td>0.0</td>\n",
       "      <td>0.0</td>\n",
       "      <td>Benign</td>\n",
       "    </tr>\n",
       "  </tbody>\n",
       "</table>\n",
       "</div>"
      ],
      "text/plain": [
       "   Flow Duration  Tot Fwd Pkts  Tot Bwd Pkts  TotLen Fwd Pkts  \\\n",
       "0            763             1             1             29.0   \n",
       "\n",
       "   TotLen Bwd Pkts  Fwd Pkt Len Max  Fwd Pkt Len Min  Fwd Pkt Len Mean  \\\n",
       "0             45.0             29.0             29.0              29.0   \n",
       "\n",
       "   Fwd Pkt Len Std  Bwd Pkt Len Max  Bwd Pkt Len Min  Bwd Pkt Len Mean  \\\n",
       "0              0.0             45.0             45.0              45.0   \n",
       "\n",
       "   Bwd Pkt Len Std        Flow Byts/s        Flow Pkts/s  Flow IAT Mean  \\\n",
       "0              0.0  96985.58322411533  2621.231979030144          763.0   \n",
       "\n",
       "   Flow IAT Std  Flow IAT Max  Flow IAT Min  Fwd IAT Tot  Fwd IAT Mean  \\\n",
       "0           0.0         763.0         763.0          0.0           0.0   \n",
       "\n",
       "   Fwd IAT Std  Fwd IAT Max  Fwd IAT Min  Bwd IAT Tot  Bwd IAT Mean  \\\n",
       "0          0.0          0.0          0.0          0.0           0.0   \n",
       "\n",
       "   Bwd IAT Std  Bwd IAT Max  Bwd IAT Min  Fwd PSH Flags  Bwd PSH Flags  \\\n",
       "0          0.0          0.0          0.0              0              0   \n",
       "\n",
       "   Fwd URG Flags  Bwd URG Flags  Fwd Header Len  Bwd Header Len  Fwd Pkts/s  \\\n",
       "0              0              0               8               8  1310.61599   \n",
       "\n",
       "   Bwd Pkts/s  Pkt Len Min  Pkt Len Max  Pkt Len Mean  Pkt Len Std  \\\n",
       "0  1310.61599         29.0         45.0     34.333333     9.237604   \n",
       "\n",
       "   Pkt Len Var  FIN Flag Cnt  SYN Flag Cnt  RST Flag Cnt  PSH Flag Cnt  \\\n",
       "0    85.333333             0             0             0             0   \n",
       "\n",
       "   ACK Flag Cnt  URG Flag Cnt  CWE Flag Count  ECE Flag Cnt  Down/Up Ratio  \\\n",
       "0             0             0               0             0            1.0   \n",
       "\n",
       "   Pkt Size Avg  Fwd Seg Size Avg  Bwd Seg Size Avg  Fwd Byts/b Avg  \\\n",
       "0          51.5              29.0              45.0               0   \n",
       "\n",
       "   Fwd Pkts/b Avg  Fwd Blk Rate Avg  Bwd Byts/b Avg  Bwd Pkts/b Avg  \\\n",
       "0               0                 0               0               0   \n",
       "\n",
       "   Bwd Blk Rate Avg  Subflow Fwd Pkts  Subflow Fwd Byts  Subflow Bwd Pkts  \\\n",
       "0                 0                 1                29                 1   \n",
       "\n",
       "   Subflow Bwd Byts  Init Fwd Win Byts  Init Bwd Win Byts  Fwd Act Data Pkts  \\\n",
       "0                45                 -1                 -1                  0   \n",
       "\n",
       "   Fwd Seg Size Min  Active Mean  Active Std  Active Max  Active Min  \\\n",
       "0                 8          0.0         0.0         0.0         0.0   \n",
       "\n",
       "   Idle Mean  Idle Std  Idle Max  Idle Min   Label  \n",
       "0        0.0       0.0       0.0       0.0  Benign  "
      ]
     },
     "execution_count": 24,
     "metadata": {},
     "output_type": "execute_result"
    }
   ],
   "source": [
    "other_data[:1]"
   ]
  },
  {
   "cell_type": "code",
   "execution_count": 5,
   "metadata": {},
   "outputs": [
    {
     "data": {
      "text/plain": [
       "(50000, 77)"
      ]
     },
     "execution_count": 5,
     "metadata": {},
     "output_type": "execute_result"
    }
   ],
   "source": [
    "# 数据清洗，查找NAN值\n",
    "other_data=other_data.dropna(how='all')\n",
    "other_data.shape"
   ]
  },
  {
   "cell_type": "code",
   "execution_count": 45,
   "metadata": {},
   "outputs": [],
   "source": [
    "data=other_data.fillna(0)"
   ]
  },
  {
   "cell_type": "code",
   "execution_count": 7,
   "metadata": {},
   "outputs": [
    {
     "data": {
      "text/plain": [
       "array([[763, 1, 1, ..., 0.0, 0.0, 'Benign'],\n",
       "       [1080, 1, 1, ..., 0.0, 0.0, 'ddos'],\n",
       "       [23630, 1, 3, ..., 0.0, 0.0, 'Benign'],\n",
       "       ...,\n",
       "       [43, 2, 0, ..., 0.0, 0.0, 'Benign'],\n",
       "       [1353601, 8, 7, ..., 0.0, 0.0, 'Benign'],\n",
       "       [87365598, 2, 0, ..., 87365598.0, 87365598.0, 'Benign']],\n",
       "      dtype=object)"
      ]
     },
     "execution_count": 7,
     "metadata": {},
     "output_type": "execute_result"
    }
   ],
   "source": [
    "# 转换为方便处理的矩阵形式\n",
    "new_data=other_data.to_numpy()\n",
    "new_data"
   ]
  },
  {
   "cell_type": "code",
   "execution_count": null,
   "metadata": {},
   "outputs": [],
   "source": [
    "data_X[['Flow Byts/s']] = data_X[['Flow Byts/s']].astype(float)\n",
    "data_X[['Flow Pkts/s']] = data_X[['Flow Pkts/s']].astype(float)"
   ]
  },
  {
   "cell_type": "code",
   "execution_count": 8,
   "metadata": {},
   "outputs": [
    {
     "data": {
      "text/plain": [
       "array([[ 7.63000000e+02,  1.00000000e+00,  1.00000000e+00,\n",
       "         2.90000000e+01,  4.50000000e+01,  2.90000000e+01,\n",
       "         2.90000000e+01,  2.90000000e+01,  0.00000000e+00,\n",
       "         4.50000000e+01,  4.50000000e+01,  4.50000000e+01,\n",
       "         0.00000000e+00,  9.69855832e+04,  2.62123198e+03,\n",
       "         7.63000000e+02,  0.00000000e+00,  7.63000000e+02,\n",
       "         7.63000000e+02,  0.00000000e+00,  0.00000000e+00,\n",
       "         0.00000000e+00,  0.00000000e+00,  0.00000000e+00,\n",
       "         0.00000000e+00,  0.00000000e+00,  0.00000000e+00,\n",
       "         0.00000000e+00,  0.00000000e+00,  0.00000000e+00,\n",
       "         0.00000000e+00,  0.00000000e+00,  0.00000000e+00,\n",
       "         8.00000000e+00,  8.00000000e+00,  1.31061599e+03,\n",
       "         1.31061599e+03,  2.90000000e+01,  4.50000000e+01,\n",
       "         3.43333333e+01,  9.23760431e+00,  8.53333333e+01,\n",
       "         0.00000000e+00,  0.00000000e+00,  0.00000000e+00,\n",
       "         0.00000000e+00,  0.00000000e+00,  0.00000000e+00,\n",
       "         0.00000000e+00,  0.00000000e+00,  1.00000000e+00,\n",
       "         5.15000000e+01,  2.90000000e+01,  4.50000000e+01,\n",
       "         0.00000000e+00,  0.00000000e+00,  0.00000000e+00,\n",
       "         0.00000000e+00,  0.00000000e+00,  0.00000000e+00,\n",
       "         1.00000000e+00,  2.90000000e+01,  1.00000000e+00,\n",
       "         4.50000000e+01, -1.00000000e+00, -1.00000000e+00,\n",
       "         0.00000000e+00,  8.00000000e+00,  0.00000000e+00,\n",
       "         0.00000000e+00,  0.00000000e+00,  0.00000000e+00,\n",
       "         0.00000000e+00,  0.00000000e+00,  0.00000000e+00,\n",
       "         0.00000000e+00]])"
      ]
     },
     "execution_count": 8,
     "metadata": {},
     "output_type": "execute_result"
    }
   ],
   "source": [
    "# 分别取出特征列和标签列\n",
    "X,y=new_data[:,:-1],new_data[:,-1]\n",
    "X=X.astype('float64')\n",
    "X[:1]"
   ]
  },
  {
   "cell_type": "code",
   "execution_count": 9,
   "metadata": {},
   "outputs": [
    {
     "data": {
      "text/plain": [
       "array([0, 1, 0, 1, 1, 0, 0, 0, 0, 0])"
      ]
     },
     "execution_count": 9,
     "metadata": {},
     "output_type": "execute_result"
    }
   ],
   "source": [
    "# 处理inf和nan\n",
    "X=np.nan_to_num(X)\n",
    "# 标签数值化，方便处理\n",
    "from sklearn.preprocessing import LabelEncoder\n",
    "LE = LabelEncoder()\n",
    "\n",
    "y=LE.fit_transform(y)\n",
    "y[:10]"
   ]
  },
  {
   "cell_type": "code",
   "execution_count": 11,
   "metadata": {},
   "outputs": [
    {
     "name": "stderr",
     "output_type": "stream",
     "text": [
      "/work/anaconda3/lib/python3.7/site-packages/numpy/core/fromnumeric.py:86: RuntimeWarning: overflow encountered in reduce\n",
      "  return ufunc.reduce(obj, axis, dtype, out, **passkwargs)\n"
     ]
    },
    {
     "data": {
      "text/plain": [
       "MinMaxScaler(copy=True, feature_range=(0, 1))"
      ]
     },
     "execution_count": 11,
     "metadata": {},
     "output_type": "execute_result"
    }
   ],
   "source": [
    "# 特征归一化处理\n",
    "from sklearn.preprocessing import MinMaxScaler\n",
    "\n",
    "min_max_scaler=MinMaxScaler()\n",
    "min_max_scaler.fit(X)"
   ]
  },
  {
   "cell_type": "code",
   "execution_count": null,
   "metadata": {},
   "outputs": [],
   "source": [
    "# 检查最大值\n",
    "np.where(data_X.values >= np.finfo(np.float64).max)"
   ]
  },
  {
   "cell_type": "code",
   "execution_count": 123,
   "metadata": {},
   "outputs": [
    {
     "data": {
      "text/plain": [
       "Flow Duration        int64\n",
       "Tot Fwd Pkts         int64\n",
       "Tot Bwd Pkts         int64\n",
       "TotLen Fwd Pkts    float64\n",
       "TotLen Bwd Pkts    float64\n",
       "                    ...   \n",
       "Active Min         float64\n",
       "Idle Mean          float64\n",
       "Idle Std           float64\n",
       "Idle Max           float64\n",
       "Idle Min           float64\n",
       "Length: 76, dtype: object"
      ]
     },
     "execution_count": 123,
     "metadata": {},
     "output_type": "execute_result"
    }
   ],
   "source": [
    "data_X.dtypes"
   ]
  },
  {
   "cell_type": "code",
   "execution_count": 76,
   "metadata": {},
   "outputs": [],
   "source": [
    "def max_min_sc(raw_data,field):\n",
    "    “”“\n",
    "     自定义函数实现最大最小值归一化处理\n",
    "    ”“”\n",
    "    max_value=raw_data[field].values.max()\n",
    "    min_value=raw_data[field].values.min()\n",
    "    return (raw_data[field].values-min_value)/(max_value-min_value)"
   ]
  },
  {
   "cell_type": "code",
   "execution_count": 78,
   "metadata": {},
   "outputs": [
    {
     "data": {
      "text/plain": [
       "array([6.35835861e-06, 9.00003578e-06, 1.96917449e-04, ...,\n",
       "       3.58334758e-07, 1.12800532e-02, 7.28049544e-01])"
      ]
     },
     "execution_count": 78,
     "metadata": {},
     "output_type": "execute_result"
    }
   ],
   "source": [
    "# 测试\n",
    "max_min_sc(data_X,'Flow Duration')"
   ]
  },
  {
   "cell_type": "code",
   "execution_count": 124,
   "metadata": {},
   "outputs": [],
   "source": [
    "data_X['Flow Duration']=max_min_sc(data_X,'Flow Duration')"
   ]
  },
  {
   "cell_type": "code",
   "execution_count": 31,
   "metadata": {},
   "outputs": [],
   "source": [
    "# PCA 降维处理\n",
    "# 保留95%以上的特征值，为方便计算\n",
    "# 经过测试，处理仅有一个特征，暂且不降维处理\n",
    "from sklearn.decomposition import PCA\n",
    "pca = PCA(n_components=0.95,\n",
    "          copy=True,\n",
    "          whiten=False,\n",
    "          svd_solver='auto',\n",
    "          tol=0.0,\n",
    "          iterated_power='auto',\n",
    "          random_state=2019)"
   ]
  },
  {
   "cell_type": "code",
   "execution_count": 44,
   "metadata": {},
   "outputs": [],
   "source": [
    "def max_min_sc(X):\n",
    "    # 特征归一化处理\n",
    "    from sklearn.preprocessing import MinMaxScaler\n",
    "    min_max_scaler = MinMaxScaler()\n",
    "    return min_max_scaler.fit_transform(X)"
   ]
  },
  {
   "cell_type": "code",
   "execution_count": 3,
   "metadata": {},
   "outputs": [],
   "source": [
    "def label_encoder(y):\n",
    "    # 标签数值化，方便处理\n",
    "    from sklearn.preprocessing import LabelEncoder\n",
    "    le = LabelEncoder()\n",
    "    return le.fit_transform(y)"
   ]
  },
  {
   "cell_type": "code",
   "execution_count": 36,
   "metadata": {},
   "outputs": [],
   "source": [
    "def deal_nan_inf(X):\n",
    "    \"\"\"\n",
    "    处理inf和nan\n",
    "    \"\"\"\n",
    "    return np.nan_to_num(X)"
   ]
  },
  {
   "cell_type": "code",
   "execution_count": 37,
   "metadata": {},
   "outputs": [],
   "source": [
    "# 导入处理的相关包\n",
    "import pandas as pd\n",
    "import numpy as np\n",
    "\n",
    "pd.set_option('display.max_columns', None)\n",
    "\n",
    "\n",
    "def get_data_set(file_path):\n",
    "\n",
    "    ddos_data = pd.read_csv(file_path)\n",
    "    # 暂时剔除无意义的特征\n",
    "    del ddos_data['Row']\n",
    "    # 删除非数值列\n",
    "    other_data = ddos_data.drop([\n",
    "        'Flow ID', 'Src IP', 'Src Port', 'Dst IP', 'Dst Port', 'Protocol',\n",
    "        'Timestamp'\n",
    "    ],\n",
    "                                axis=1)\n",
    "    # 删除空值\n",
    "    other_data = other_data.dropna(how='all')\n",
    "    # 转换为numpy  aarray\n",
    "    new_data = other_data.to_numpy()\n",
    "    # 拆分特征列和目标列\n",
    "    X, y = new_data[:, :-1], new_data[:, -1]\n",
    "    # 数值型转换类型\n",
    "    X = X.astype(float)\n",
    "    return X, y"
   ]
  },
  {
   "cell_type": "code",
   "execution_count": 5,
   "metadata": {},
   "outputs": [],
   "source": [
    "def split_X_y(X, y):\n",
    "    # 拆分数据集\n",
    "    from sklearn.model_selection import train_test_split\n",
    "    X_train, X_test, y_train, y_test = train_test_split(X,\n",
    "                                                        y,\n",
    "                                                        test_size=0.2,\n",
    "                                                        random_state=2019)\n",
    "    return X_train, X_test, y_train, y_test"
   ]
  },
  {
   "cell_type": "code",
   "execution_count": 6,
   "metadata": {},
   "outputs": [],
   "source": [
    "def knn_model(X_train, y_train):\n",
    "    from sklearn.neighbors import KNeighborsClassifier\n",
    "    # 需要全部转换为数值型\n",
    "    knn = KNeighborsClassifier(n_neighbors=6,\n",
    "                               weights='uniform',\n",
    "                               algorithm='auto',\n",
    "                               leaf_size=30,\n",
    "                               p=2,\n",
    "                               metric='minkowski',\n",
    "                               metric_params=None,\n",
    "                               n_jobs=10)\n",
    "    knn.fit(X_train, y_train)\n",
    "    return knn"
   ]
  },
  {
   "cell_type": "code",
   "execution_count": 7,
   "metadata": {
    "scrolled": true
   },
   "outputs": [],
   "source": [
    "def get_accuracy_score(y_test, y_pred):\n",
    "    #准确率\n",
    "    from sklearn.metrics import accuracy_score\n",
    "    y_pred = knn.predict(X_test)\n",
    "    return accuracy_score(y_test, y_pred)"
   ]
  },
  {
   "cell_type": "code",
   "execution_count": 8,
   "metadata": {},
   "outputs": [],
   "source": [
    "def get_average_precision_score(y_test, y_pred):\n",
    "    # 平均准确率\n",
    "    from sklearn.metrics import average_precision_score\n",
    "    return average_precision_score(y_test, y_pred)"
   ]
  },
  {
   "cell_type": "code",
   "execution_count": 9,
   "metadata": {},
   "outputs": [],
   "source": [
    "def get_confusion_matrix(y_test, y_pred):\n",
    "    # 测试集混淆矩阵\n",
    "    from sklearn.metrics import confusion_matrix\n",
    "    return confusion_matrix(y_true=y_test, y_pred=y_pred)"
   ]
  },
  {
   "cell_type": "markdown",
   "metadata": {},
   "source": [
    "#### 精确率\n",
    "Precision=TP/(TP+FP)"
   ]
  },
  {
   "cell_type": "code",
   "execution_count": 31,
   "metadata": {},
   "outputs": [
    {
     "data": {
      "text/plain": [
       "0.9942643391521196"
      ]
     },
     "execution_count": 31,
     "metadata": {},
     "output_type": "execute_result"
    }
   ],
   "source": [
    "con_mat[0,0]/(con_mat[0,0]+con_mat[0,1])"
   ]
  },
  {
   "cell_type": "markdown",
   "metadata": {},
   "source": [
    "#### 召回率\n",
    "Recall=TP/(TP+FN)"
   ]
  },
  {
   "cell_type": "code",
   "execution_count": 36,
   "metadata": {},
   "outputs": [
    {
     "data": {
      "text/plain": [
       "0.8041549011698266"
      ]
     },
     "execution_count": 36,
     "metadata": {},
     "output_type": "execute_result"
    }
   ],
   "source": [
    "con_mat[0,0]/(con_mat[0,0]+con_mat[1,1])"
   ]
  },
  {
   "cell_type": "code",
   "execution_count": 10,
   "metadata": {},
   "outputs": [],
   "source": [
    "def get_f1_score(y_test, y_pred):\n",
    "\n",
    "    # F1-score\n",
    "    from sklearn.metrics import classification_report\n",
    "    return classification_report(y_test, y_pred)"
   ]
  },
  {
   "cell_type": "code",
   "execution_count": 44,
   "metadata": {},
   "outputs": [],
   "source": [
    "# 0 分类的测试集\n",
    "def get_y_test(X_test, y_test, label):\n",
    "    X_test_label = X_test[y_test == label]\n",
    "    return y_test[y_test == label], knn.predict(X_test_label)"
   ]
  },
  {
   "cell_type": "code",
   "execution_count": 11,
   "metadata": {},
   "outputs": [],
   "source": [
    "# 获得精确率与召回率\n",
    "def get_acc_recall(y_test, y_pred):\n",
    "    \"\"\"\n",
    "    获得精确率与召回率\n",
    "    \"\"\"\n",
    "    con_mat = get_confusion_matrix(y_test, y_pred)\n",
    "    return con_mat[0, 0] / (con_mat[0, 0] + con_mat[0, 1]), con_mat[0, 0] / (\n",
    "        con_mat[0, 0] + con_mat[1, 1])"
   ]
  },
  {
   "cell_type": "code",
   "execution_count": 46,
   "metadata": {},
   "outputs": [
    {
     "name": "stderr",
     "output_type": "stream",
     "text": [
      "/work/anaconda3/lib/python3.7/site-packages/numpy/core/fromnumeric.py:86: RuntimeWarning: overflow encountered in reduce\n",
      "  return ufunc.reduce(obj, axis, dtype, out, **passkwargs)\n",
      "/work/anaconda3/lib/python3.7/site-packages/numpy/core/fromnumeric.py:86: RuntimeWarning: overflow encountered in reduce\n",
      "  return ufunc.reduce(obj, axis, dtype, out, **passkwargs)\n",
      "/work/anaconda3/lib/python3.7/site-packages/numpy/core/fromnumeric.py:86: RuntimeWarning: overflow encountered in reduce\n",
      "  return ufunc.reduce(obj, axis, dtype, out, **passkwargs)\n",
      "/work/anaconda3/lib/python3.7/site-packages/numpy/core/fromnumeric.py:86: RuntimeWarning: overflow encountered in reduce\n",
      "  return ufunc.reduce(obj, axis, dtype, out, **passkwargs)\n",
      "/work/anaconda3/lib/python3.7/site-packages/numpy/core/fromnumeric.py:86: RuntimeWarning: overflow encountered in reduce\n",
      "  return ufunc.reduce(obj, axis, dtype, out, **passkwargs)\n",
      "/work/anaconda3/lib/python3.7/site-packages/numpy/core/fromnumeric.py:86: RuntimeWarning: overflow encountered in reduce\n",
      "  return ufunc.reduce(obj, axis, dtype, out, **passkwargs)\n",
      "/work/anaconda3/lib/python3.7/site-packages/numpy/core/fromnumeric.py:86: RuntimeWarning: overflow encountered in reduce\n",
      "  return ufunc.reduce(obj, axis, dtype, out, **passkwargs)\n",
      "/work/anaconda3/lib/python3.7/site-packages/numpy/core/fromnumeric.py:86: RuntimeWarning: overflow encountered in reduce\n",
      "  return ufunc.reduce(obj, axis, dtype, out, **passkwargs)\n",
      "/work/anaconda3/lib/python3.7/site-packages/numpy/core/fromnumeric.py:86: RuntimeWarning: overflow encountered in reduce\n",
      "  return ufunc.reduce(obj, axis, dtype, out, **passkwargs)\n",
      "/work/anaconda3/lib/python3.7/site-packages/numpy/core/fromnumeric.py:86: RuntimeWarning: overflow encountered in reduce\n",
      "  return ufunc.reduce(obj, axis, dtype, out, **passkwargs)\n",
      "/work/anaconda3/lib/python3.7/site-packages/numpy/core/fromnumeric.py:86: RuntimeWarning: overflow encountered in reduce\n",
      "  return ufunc.reduce(obj, axis, dtype, out, **passkwargs)\n",
      "/work/anaconda3/lib/python3.7/site-packages/numpy/core/fromnumeric.py:86: RuntimeWarning: overflow encountered in reduce\n",
      "  return ufunc.reduce(obj, axis, dtype, out, **passkwargs)\n"
     ]
    },
    {
     "data": {
      "text/plain": [
       "(0.9942643391521196, 1.0)"
      ]
     },
     "execution_count": 46,
     "metadata": {},
     "output_type": "execute_result"
    }
   ],
   "source": [
    "y_test_0,y_pred_0=get_y_test(X_test,y_test,0)\n",
    "get_acc_recall(y_test_0,y_pred_0)"
   ]
  },
  {
   "cell_type": "code",
   "execution_count": 50,
   "metadata": {},
   "outputs": [
    {
     "data": {
      "text/plain": [
       "(nan, 0.0)"
      ]
     },
     "execution_count": 50,
     "metadata": {},
     "output_type": "execute_result"
    }
   ],
   "source": [
    "y_test_1, y_pred_1 = get_y_test(X_test, y_test, 1)\n",
    "get_acc_recall(y_test_1, y_pred_1)"
   ]
  },
  {
   "cell_type": "code",
   "execution_count": 54,
   "metadata": {},
   "outputs": [
    {
     "data": {
      "text/plain": [
       "array([[   0,    0],\n",
       "       [  38, 1942]])"
      ]
     },
     "execution_count": 54,
     "metadata": {},
     "output_type": "execute_result"
    }
   ],
   "source": [
    "confusion_matrix(y_true=y_test_1, y_pred=y_pred_1)"
   ]
  },
  {
   "cell_type": "code",
   "execution_count": 12,
   "metadata": {},
   "outputs": [],
   "source": [
    "# AOC曲线\n",
    "import matplotlib.pyplot as plt\n",
    "from sklearn.metrics import roc_curve, auc\n",
    "%matplotlib inline\n",
    "\n",
    "\n",
    "def get_aoc(y_test, y_pred):\n",
    "    \"\"\"\n",
    "    y_test：实际的标签, y_pred：预测的概率值\n",
    "    \"\"\"\n",
    "    fpr, tpr, thresholds = roc_curve(y_test, y_pred)\n",
    "    roc_auc = auc(fpr, tpr)\n",
    "    #画图，只需要plt.plot(fpr,tpr),变量roc_auc只是记录auc的值，通过auc()函数能计算出来\n",
    "    plt.plot(fpr, tpr, lw=1, label='ROC(area = %0.2f)' % (roc_auc))\n",
    "    plt.xlabel(\"FPR (False Positive Rate)\")\n",
    "    plt.ylabel(\"TPR (True Positive Rate)\")\n",
    "    plt.title(\"Receiver Operating Characteristic, ROC(AUC = %0.2f)\" %\n",
    "              (roc_auc))"
   ]
  },
  {
   "cell_type": "code",
   "execution_count": 25,
   "metadata": {},
   "outputs": [
    {
     "data": {
      "image/png": "[encoded data removed]",
      "text/plain": [
       "<Figure size 432x288 with 1 Axes>"
      ]
     },
     "metadata": {
      "needs_background": "light"
     },
     "output_type": "display_data"
    }
   ],
   "source": [
    "get_aoc(y_test,y_pred)"
   ]
  },
  {
   "cell_type": "code",
   "execution_count": 13,
   "metadata": {},
   "outputs": [],
   "source": [
    "def get_roc_score(y_test, y_pred):\n",
    "    \"\"\"\n",
    "    计算roc score\n",
    "    \"\"\"\n",
    "    from sklearn.metrics import roc_auc_score\n",
    "    return roc_auc_score(y_test, y_pred)"
   ]
  },
  {
   "cell_type": "code",
   "execution_count": 14,
   "metadata": {},
   "outputs": [],
   "source": [
    "def get_evaluation_index(y_test, y_pred):\n",
    "    print(\"1.accuracy_score: %s\",get_accuracy_score(y_test, y_pred))\n",
    "    print(\"2.average_precision_score: %s\",get_average_precision_score(y_test, y_pred))\n",
    "    print(\"3.confusion_matrix:\\n%s\",get_confusion_matrix(y_test,y_pred))\n",
    "    print(\"4.acuracyc&recall: %s\",get_acc_recall(y_test, y_pred))\n",
    "    print(\"5.F1_score:\\n%s\",get_f1_score(y_test,y_pred))\n",
    "    print(\"6.roc_auc_score: %s\",get_roc_score(y_test,y_pred))\n",
    "    print(\"7.AUC:\")\n",
    "    get_aoc(y_test,y_pred)"
   ]
  },
  {
   "cell_type": "code",
   "execution_count": 73,
   "metadata": {},
   "outputs": [
    {
     "data": {
      "text/plain": [
       "dtype('float64')"
      ]
     },
     "execution_count": 73,
     "metadata": {},
     "output_type": "execute_result"
    }
   ],
   "source": [
    "X.dtype"
   ]
  },
  {
   "cell_type": "code",
   "execution_count": 75,
   "metadata": {},
   "outputs": [
    {
     "name": "stderr",
     "output_type": "stream",
     "text": [
      "/work/anaconda3/lib/python3.7/site-packages/numpy/core/fromnumeric.py:86: RuntimeWarning: overflow encountered in reduce\n",
      "  return ufunc.reduce(obj, axis, dtype, out, **passkwargs)\n",
      "/work/anaconda3/lib/python3.7/site-packages/numpy/core/fromnumeric.py:86: RuntimeWarning: overflow encountered in reduce\n",
      "  return ufunc.reduce(obj, axis, dtype, out, **passkwargs)\n",
      "/work/anaconda3/lib/python3.7/site-packages/numpy/core/fromnumeric.py:86: RuntimeWarning: overflow encountered in reduce\n",
      "  return ufunc.reduce(obj, axis, dtype, out, **passkwargs)\n",
      "/work/anaconda3/lib/python3.7/site-packages/numpy/core/fromnumeric.py:86: RuntimeWarning: overflow encountered in reduce\n",
      "  return ufunc.reduce(obj, axis, dtype, out, **passkwargs)\n",
      "/work/anaconda3/lib/python3.7/site-packages/numpy/core/fromnumeric.py:86: RuntimeWarning: overflow encountered in reduce\n",
      "  return ufunc.reduce(obj, axis, dtype, out, **passkwargs)\n",
      "/work/anaconda3/lib/python3.7/site-packages/numpy/core/fromnumeric.py:86: RuntimeWarning: overflow encountered in reduce\n",
      "  return ufunc.reduce(obj, axis, dtype, out, **passkwargs)\n",
      "/work/anaconda3/lib/python3.7/site-packages/numpy/core/fromnumeric.py:86: RuntimeWarning: overflow encountered in reduce\n",
      "  return ufunc.reduce(obj, axis, dtype, out, **passkwargs)\n",
      "/work/anaconda3/lib/python3.7/site-packages/numpy/core/fromnumeric.py:86: RuntimeWarning: overflow encountered in reduce\n",
      "  return ufunc.reduce(obj, axis, dtype, out, **passkwargs)\n",
      "/work/anaconda3/lib/python3.7/site-packages/numpy/core/fromnumeric.py:86: RuntimeWarning: overflow encountered in reduce\n",
      "  return ufunc.reduce(obj, axis, dtype, out, **passkwargs)\n",
      "/work/anaconda3/lib/python3.7/site-packages/numpy/core/fromnumeric.py:86: RuntimeWarning: overflow encountered in reduce\n",
      "  return ufunc.reduce(obj, axis, dtype, out, **passkwargs)\n",
      "/work/anaconda3/lib/python3.7/site-packages/numpy/core/fromnumeric.py:86: RuntimeWarning: overflow encountered in reduce\n",
      "  return ufunc.reduce(obj, axis, dtype, out, **passkwargs)\n",
      "/work/anaconda3/lib/python3.7/site-packages/numpy/core/fromnumeric.py:86: RuntimeWarning: overflow encountered in reduce\n",
      "  return ufunc.reduce(obj, axis, dtype, out, **passkwargs)\n",
      "/work/anaconda3/lib/python3.7/site-packages/numpy/core/fromnumeric.py:86: RuntimeWarning: overflow encountered in reduce\n",
      "  return ufunc.reduce(obj, axis, dtype, out, **passkwargs)\n",
      "/work/anaconda3/lib/python3.7/site-packages/numpy/core/fromnumeric.py:86: RuntimeWarning: overflow encountered in reduce\n",
      "  return ufunc.reduce(obj, axis, dtype, out, **passkwargs)\n"
     ]
    },
    {
     "data": {
      "text/plain": [
       "array([0, 1, 1, ..., 0, 1, 1])"
      ]
     },
     "execution_count": 75,
     "metadata": {},
     "output_type": "execute_result"
    }
   ],
   "source": [
    "# 关于KNN\n",
    "knn = knn_model(X_train, y_train)\n",
    "knn_y_pred = knn.predict(X_test)\n",
    "knn_y_pred"
   ]
  },
  {
   "cell_type": "code",
   "execution_count": 104,
   "metadata": {},
   "outputs": [
    {
     "name": "stderr",
     "output_type": "stream",
     "text": [
      "/work/anaconda3/lib/python3.7/site-packages/numpy/core/fromnumeric.py:86: RuntimeWarning: overflow encountered in reduce\n",
      "  return ufunc.reduce(obj, axis, dtype, out, **passkwargs)\n",
      "/work/anaconda3/lib/python3.7/site-packages/numpy/core/fromnumeric.py:86: RuntimeWarning: overflow encountered in reduce\n",
      "  return ufunc.reduce(obj, axis, dtype, out, **passkwargs)\n",
      "/work/anaconda3/lib/python3.7/site-packages/numpy/core/fromnumeric.py:86: RuntimeWarning: overflow encountered in reduce\n",
      "  return ufunc.reduce(obj, axis, dtype, out, **passkwargs)\n",
      "/work/anaconda3/lib/python3.7/site-packages/numpy/core/fromnumeric.py:86: RuntimeWarning: overflow encountered in reduce\n",
      "  return ufunc.reduce(obj, axis, dtype, out, **passkwargs)\n",
      "/work/anaconda3/lib/python3.7/site-packages/numpy/core/fromnumeric.py:86: RuntimeWarning: overflow encountered in reduce\n",
      "  return ufunc.reduce(obj, axis, dtype, out, **passkwargs)\n",
      "/work/anaconda3/lib/python3.7/site-packages/numpy/core/fromnumeric.py:86: RuntimeWarning: overflow encountered in reduce\n",
      "  return ufunc.reduce(obj, axis, dtype, out, **passkwargs)\n",
      "/work/anaconda3/lib/python3.7/site-packages/numpy/core/fromnumeric.py:86: RuntimeWarning: overflow encountered in reduce\n",
      "  return ufunc.reduce(obj, axis, dtype, out, **passkwargs)\n",
      "/work/anaconda3/lib/python3.7/site-packages/numpy/core/fromnumeric.py:86: RuntimeWarning: overflow encountered in reduce\n",
      "  return ufunc.reduce(obj, axis, dtype, out, **passkwargs)\n",
      "/work/anaconda3/lib/python3.7/site-packages/numpy/core/fromnumeric.py:86: RuntimeWarning: overflow encountered in reduce\n",
      "  return ufunc.reduce(obj, axis, dtype, out, **passkwargs)\n",
      "/work/anaconda3/lib/python3.7/site-packages/numpy/core/fromnumeric.py:86: RuntimeWarning: overflow encountered in reduce\n",
      "  return ufunc.reduce(obj, axis, dtype, out, **passkwargs)\n",
      "/work/anaconda3/lib/python3.7/site-packages/numpy/core/fromnumeric.py:86: RuntimeWarning: overflow encountered in reduce\n",
      "  return ufunc.reduce(obj, axis, dtype, out, **passkwargs)\n"
     ]
    },
    {
     "name": "stdout",
     "output_type": "stream",
     "text": [
      "1.accuracy_score: %s 0.9916\n",
      "2.average_precision_score: %s 0.9619133264231856\n",
      "3.confusion_matrix:\n",
      "%s [[7974   46]\n",
      " [  38 1942]]\n",
      "4.acuracyc&recall: %s (0.9942643391521196, 0.8041549011698266)\n",
      "5.F1_score:\n",
      "%s               precision    recall  f1-score   support\n",
      "\n",
      "           0       1.00      0.99      0.99      8020\n",
      "           1       0.98      0.98      0.98      1980\n",
      "\n",
      "    accuracy                           0.99     10000\n",
      "   macro avg       0.99      0.99      0.99     10000\n",
      "weighted avg       0.99      0.99      0.99     10000\n",
      "\n",
      "6.roc_auc_score: %s 0.9875362099801002\n",
      "7.AUC:\n"
     ]
    },
    {
     "data": {
      "image/png": "[encoded data removed]",
      "text/plain": [
       "<Figure size 432x288 with 1 Axes>"
      ]
     },
     "metadata": {
      "needs_background": "light"
     },
     "output_type": "display_data"
    }
   ],
   "source": [
    "get_evaluation_index(y_test,knn_y_pred)"
   ]
  },
  {
   "cell_type": "code",
   "execution_count": 89,
   "metadata": {},
   "outputs": [
    {
     "data": {
      "text/plain": [
       "(array([], dtype=float64), array([], dtype=float64))"
      ]
     },
     "execution_count": 89,
     "metadata": {},
     "output_type": "execute_result"
    }
   ],
   "source": [
    "# Input contains NaN, infinity or a value too large for dtype('float32')\n",
    "X[np.isnan(X)],X[np.isinf(X)]"
   ]
  },
  {
   "cell_type": "code",
   "execution_count": 15,
   "metadata": {},
   "outputs": [],
   "source": [
    "def convern_tofloat32(X):\n",
    "    \"\"\"\n",
    "    由于算法对数据集类型的不同，转换函数\n",
    "    \"\"\"\n",
    "    dt_X=X.astype('float32')\n",
    "    dt_X=np.nan_to_num(dt_X)\n",
    "    return dt_X"
   ]
  },
  {
   "cell_type": "code",
   "execution_count": 16,
   "metadata": {},
   "outputs": [],
   "source": [
    "def is_nan_inf(X):\n",
    "    \"\"\"\n",
    "    判断是否有空值或者inf值\n",
    "    \"\"\"\n",
    "    return np.isinf(X).any() or np.isnan(X).any()"
   ]
  },
  {
   "cell_type": "code",
   "execution_count": 21,
   "metadata": {},
   "outputs": [
    {
     "data": {
      "text/plain": [
       "True"
      ]
     },
     "execution_count": 21,
     "metadata": {},
     "output_type": "execute_result"
    }
   ],
   "source": [
    "[] == []"
   ]
  },
  {
   "cell_type": "code",
   "execution_count": 96,
   "metadata": {},
   "outputs": [],
   "source": [
    "dt_X_train,dt_X_test,dt_y_train,dt_y_test=split_X_y(dt_X,y)"
   ]
  },
  {
   "cell_type": "code",
   "execution_count": 67,
   "metadata": {},
   "outputs": [],
   "source": [
    "def dt_model(X_train,y_train):\n",
    "    from sklearn.tree import DecisionTreeClassifier\n",
    "    dec_tree = DecisionTreeClassifier(criterion='gini',\n",
    "                                  splitter='best',\n",
    "                                  max_depth=5,\n",
    "                                  min_samples_split=2,\n",
    "                                  min_samples_leaf=1,\n",
    "                                  min_weight_fraction_leaf=0.0,\n",
    "                                  max_features=None,\n",
    "                                  random_state=None,\n",
    "                                  max_leaf_nodes=None,\n",
    "                                  min_impurity_decrease=0.0,\n",
    "                                  min_impurity_split=None,\n",
    "                                  class_weight=None,\n",
    "                                  presort=False)\n",
    "    dec_tree.fit(X_train,y_train)\n",
    "    return dec_tree"
   ]
  },
  {
   "cell_type": "code",
   "execution_count": 97,
   "metadata": {},
   "outputs": [
    {
     "name": "stdout",
     "output_type": "stream",
     "text": [
      "CPU times: user 1.27 s, sys: 0 ns, total: 1.27 s\n",
      "Wall time: 1.31 s\n"
     ]
    },
    {
     "data": {
      "text/plain": [
       "array([0, 1, 1, ..., 0, 1, 1])"
      ]
     },
     "execution_count": 97,
     "metadata": {},
     "output_type": "execute_result"
    }
   ],
   "source": [
    "%%time\n",
    "# DT\n",
    "dt = dt_model(dt_X_train, dt_y_train)\n",
    "dt_y_pred = dt.predict(dt_X_test)\n",
    "dt_y_pred"
   ]
  },
  {
   "cell_type": "code",
   "execution_count": null,
   "metadata": {},
   "outputs": [],
   "source": [
    "# 保存DT tree?"
   ]
  },
  {
   "cell_type": "code",
   "execution_count": 103,
   "metadata": {},
   "outputs": [
    {
     "name": "stderr",
     "output_type": "stream",
     "text": [
      "/work/anaconda3/lib/python3.7/site-packages/numpy/core/fromnumeric.py:86: RuntimeWarning: overflow encountered in reduce\n",
      "  return ufunc.reduce(obj, axis, dtype, out, **passkwargs)\n",
      "/work/anaconda3/lib/python3.7/site-packages/numpy/core/fromnumeric.py:86: RuntimeWarning: overflow encountered in reduce\n",
      "  return ufunc.reduce(obj, axis, dtype, out, **passkwargs)\n",
      "/work/anaconda3/lib/python3.7/site-packages/numpy/core/fromnumeric.py:86: RuntimeWarning: overflow encountered in reduce\n",
      "  return ufunc.reduce(obj, axis, dtype, out, **passkwargs)\n",
      "/work/anaconda3/lib/python3.7/site-packages/numpy/core/fromnumeric.py:86: RuntimeWarning: overflow encountered in reduce\n",
      "  return ufunc.reduce(obj, axis, dtype, out, **passkwargs)\n",
      "/work/anaconda3/lib/python3.7/site-packages/numpy/core/fromnumeric.py:86: RuntimeWarning: overflow encountered in reduce\n",
      "  return ufunc.reduce(obj, axis, dtype, out, **passkwargs)\n",
      "/work/anaconda3/lib/python3.7/site-packages/numpy/core/fromnumeric.py:86: RuntimeWarning: overflow encountered in reduce\n",
      "  return ufunc.reduce(obj, axis, dtype, out, **passkwargs)\n",
      "/work/anaconda3/lib/python3.7/site-packages/numpy/core/fromnumeric.py:86: RuntimeWarning: overflow encountered in reduce\n",
      "  return ufunc.reduce(obj, axis, dtype, out, **passkwargs)\n",
      "/work/anaconda3/lib/python3.7/site-packages/numpy/core/fromnumeric.py:86: RuntimeWarning: overflow encountered in reduce\n",
      "  return ufunc.reduce(obj, axis, dtype, out, **passkwargs)\n",
      "/work/anaconda3/lib/python3.7/site-packages/numpy/core/fromnumeric.py:86: RuntimeWarning: overflow encountered in reduce\n",
      "  return ufunc.reduce(obj, axis, dtype, out, **passkwargs)\n",
      "/work/anaconda3/lib/python3.7/site-packages/numpy/core/fromnumeric.py:86: RuntimeWarning: overflow encountered in reduce\n",
      "  return ufunc.reduce(obj, axis, dtype, out, **passkwargs)\n",
      "/work/anaconda3/lib/python3.7/site-packages/numpy/core/fromnumeric.py:86: RuntimeWarning: overflow encountered in reduce\n",
      "  return ufunc.reduce(obj, axis, dtype, out, **passkwargs)\n",
      "/work/anaconda3/lib/python3.7/site-packages/numpy/core/fromnumeric.py:86: RuntimeWarning: overflow encountered in reduce\n",
      "  return ufunc.reduce(obj, axis, dtype, out, **passkwargs)\n"
     ]
    },
    {
     "name": "stdout",
     "output_type": "stream",
     "text": [
      "1.accuracy_score: %s 0.9916\n",
      "2.average_precision_score: %s 0.9704016875461319\n",
      "3.confusion_matrix:\n",
      "%s [[7979   41]\n",
      " [  23 1957]]\n",
      "4.acuracyc&recall: %s (0.9948877805486285, 0.8030394524959742)\n",
      "5.F1_score:\n",
      "%s               precision    recall  f1-score   support\n",
      "\n",
      "           0       1.00      0.99      1.00      8020\n",
      "           1       0.98      0.99      0.98      1980\n",
      "\n",
      "    accuracy                           0.99     10000\n",
      "   macro avg       0.99      0.99      0.99     10000\n",
      "weighted avg       0.99      0.99      0.99     10000\n",
      "\n",
      "6.roc_auc_score: %s 0.9916358094662334\n",
      "7.AUC:\n"
     ]
    },
    {
     "data": {
      "image/png": "[encoded data removed]",
      "text/plain": [
       "<Figure size 432x288 with 1 Axes>"
      ]
     },
     "metadata": {
      "needs_background": "light"
     },
     "output_type": "display_data"
    }
   ],
   "source": [
    "get_evaluation_index(dt_y_test,dt_y_pred)"
   ]
  },
  {
   "cell_type": "code",
   "execution_count": 109,
   "metadata": {},
   "outputs": [],
   "source": [
    "# RF 随机森林\n",
    "def rf_model(X_train, y_train):\n",
    "    from sklearn.ensemble import RandomForestClassifier\n",
    "    rf = RandomForestClassifier(\n",
    "        n_estimators=200,\n",
    "        criterion='gini',\n",
    "        max_depth=5,  # 最大深度\n",
    "        min_samples_split=2,\n",
    "        min_samples_leaf=1,\n",
    "        min_weight_fraction_leaf=0.0,\n",
    "        max_features='auto',\n",
    "        max_leaf_nodes=None,\n",
    "        min_impurity_decrease=0.0,\n",
    "        min_impurity_split=None,\n",
    "        bootstrap=True,\n",
    "        oob_score=False,\n",
    "        n_jobs=30,\n",
    "        random_state=None,\n",
    "        verbose=0,\n",
    "        warm_start=False,\n",
    "        class_weight=None)\n",
    "    rf.fit(X_train, y_train)\n",
    "    return rf"
   ]
  },
  {
   "cell_type": "code",
   "execution_count": 111,
   "metadata": {},
   "outputs": [
    {
     "data": {
      "text/plain": [
       "array([0, 1, 1, ..., 0, 1, 1])"
      ]
     },
     "execution_count": 111,
     "metadata": {},
     "output_type": "execute_result"
    }
   ],
   "source": [
    "# Input contains NaN, infinity or a value too large for dtype('float32')\n",
    "rf = rf_model(dt_X_train, dt_y_train)\n",
    "rf_y_pred = rf.predict(dt_X_test)\n",
    "rf_y_pred"
   ]
  },
  {
   "cell_type": "code",
   "execution_count": 112,
   "metadata": {},
   "outputs": [
    {
     "name": "stderr",
     "output_type": "stream",
     "text": [
      "/work/anaconda3/lib/python3.7/site-packages/numpy/core/fromnumeric.py:86: RuntimeWarning: overflow encountered in reduce\n",
      "  return ufunc.reduce(obj, axis, dtype, out, **passkwargs)\n",
      "/work/anaconda3/lib/python3.7/site-packages/numpy/core/fromnumeric.py:86: RuntimeWarning: overflow encountered in reduce\n",
      "  return ufunc.reduce(obj, axis, dtype, out, **passkwargs)\n",
      "/work/anaconda3/lib/python3.7/site-packages/numpy/core/fromnumeric.py:86: RuntimeWarning: overflow encountered in reduce\n",
      "  return ufunc.reduce(obj, axis, dtype, out, **passkwargs)\n",
      "/work/anaconda3/lib/python3.7/site-packages/numpy/core/fromnumeric.py:86: RuntimeWarning: overflow encountered in reduce\n",
      "  return ufunc.reduce(obj, axis, dtype, out, **passkwargs)\n",
      "/work/anaconda3/lib/python3.7/site-packages/numpy/core/fromnumeric.py:86: RuntimeWarning: overflow encountered in reduce\n",
      "  return ufunc.reduce(obj, axis, dtype, out, **passkwargs)\n",
      "/work/anaconda3/lib/python3.7/site-packages/numpy/core/fromnumeric.py:86: RuntimeWarning: overflow encountered in reduce\n",
      "  return ufunc.reduce(obj, axis, dtype, out, **passkwargs)\n",
      "/work/anaconda3/lib/python3.7/site-packages/numpy/core/fromnumeric.py:86: RuntimeWarning: overflow encountered in reduce\n",
      "  return ufunc.reduce(obj, axis, dtype, out, **passkwargs)\n",
      "/work/anaconda3/lib/python3.7/site-packages/numpy/core/fromnumeric.py:86: RuntimeWarning: overflow encountered in reduce\n",
      "  return ufunc.reduce(obj, axis, dtype, out, **passkwargs)\n",
      "/work/anaconda3/lib/python3.7/site-packages/numpy/core/fromnumeric.py:86: RuntimeWarning: overflow encountered in reduce\n",
      "  return ufunc.reduce(obj, axis, dtype, out, **passkwargs)\n",
      "/work/anaconda3/lib/python3.7/site-packages/numpy/core/fromnumeric.py:86: RuntimeWarning: overflow encountered in reduce\n",
      "  return ufunc.reduce(obj, axis, dtype, out, **passkwargs)\n",
      "/work/anaconda3/lib/python3.7/site-packages/numpy/core/fromnumeric.py:86: RuntimeWarning: overflow encountered in reduce\n",
      "  return ufunc.reduce(obj, axis, dtype, out, **passkwargs)\n",
      "/work/anaconda3/lib/python3.7/site-packages/numpy/core/fromnumeric.py:86: RuntimeWarning: overflow encountered in reduce\n",
      "  return ufunc.reduce(obj, axis, dtype, out, **passkwargs)\n"
     ]
    },
    {
     "name": "stdout",
     "output_type": "stream",
     "text": [
      "1.accuracy_score: %s 0.9916\n",
      "2.average_precision_score: %s 0.9443250060284543\n",
      "3.confusion_matrix:\n",
      "%s [[8001   19]\n",
      " [ 114 1866]]\n",
      "4.acuracyc&recall: %s (0.9976309226932668, 0.8108847674065065)\n",
      "5.F1_score:\n",
      "%s               precision    recall  f1-score   support\n",
      "\n",
      "           0       0.99      1.00      0.99      8020\n",
      "           1       0.99      0.94      0.97      1980\n",
      "\n",
      "    accuracy                           0.99     10000\n",
      "   macro avg       0.99      0.97      0.98     10000\n",
      "weighted avg       0.99      0.99      0.99     10000\n",
      "\n",
      "6.roc_auc_score: %s 0.9700275825587545\n",
      "7.AUC:\n"
     ]
    },
    {
     "data": {
      "image/png": "[encoded data removed]",
      "text/plain": [
       "<Figure size 432x288 with 1 Axes>"
      ]
     },
     "metadata": {
      "needs_background": "light"
     },
     "output_type": "display_data"
    }
   ],
   "source": [
    "get_evaluation_index(dt_y_test,rf_y_pred)"
   ]
  },
  {
   "cell_type": "code",
   "execution_count": 113,
   "metadata": {},
   "outputs": [],
   "source": [
    "def xgb_model(X_train, y_train):\n",
    "    #XGBoot\n",
    "    from sklearn.ensemble import GradientBoostingClassifier\n",
    "    xgb = GradientBoostingClassifier(learning_rate=0.2,\n",
    "                                     n_estimators=100,\n",
    "                                     subsample=1.0,\n",
    "                                     criterion='friedman_mse',\n",
    "                                     min_samples_split=2,\n",
    "                                     min_samples_leaf=1,\n",
    "                                     min_weight_fraction_leaf=0.0,\n",
    "                                     max_depth=5,\n",
    "                                     min_impurity_decrease=0.0,\n",
    "                                     min_impurity_split=None,\n",
    "                                     init=None,\n",
    "                                     random_state=None,\n",
    "                                     max_features=None,\n",
    "                                     verbose=0,\n",
    "                                     max_leaf_nodes=None,\n",
    "                                     warm_start=False,\n",
    "                                     presort='auto',\n",
    "                                     validation_fraction=0.1,\n",
    "                                     n_iter_no_change=None,\n",
    "                                     tol=0.0001)\n",
    "    xgb.fit(X_train, y_train)\n",
    "    return xgb"
   ]
  },
  {
   "cell_type": "code",
   "execution_count": 115,
   "metadata": {},
   "outputs": [
    {
     "data": {
      "text/plain": [
       "array([0, 1, 1, ..., 0, 1, 1])"
      ]
     },
     "execution_count": 115,
     "metadata": {},
     "output_type": "execute_result"
    }
   ],
   "source": [
    "%%time\n",
    "xgb =xgb_model(dt_X_train, dt_y_train)\n",
    "xgb_y_pred = xgb.predict(dt_X_test)\n",
    "xgb_y_pred"
   ]
  },
  {
   "cell_type": "code",
   "execution_count": 116,
   "metadata": {},
   "outputs": [
    {
     "name": "stderr",
     "output_type": "stream",
     "text": [
      "/work/anaconda3/lib/python3.7/site-packages/numpy/core/fromnumeric.py:86: RuntimeWarning: overflow encountered in reduce\n",
      "  return ufunc.reduce(obj, axis, dtype, out, **passkwargs)\n",
      "/work/anaconda3/lib/python3.7/site-packages/numpy/core/fromnumeric.py:86: RuntimeWarning: overflow encountered in reduce\n",
      "  return ufunc.reduce(obj, axis, dtype, out, **passkwargs)\n",
      "/work/anaconda3/lib/python3.7/site-packages/numpy/core/fromnumeric.py:86: RuntimeWarning: overflow encountered in reduce\n",
      "  return ufunc.reduce(obj, axis, dtype, out, **passkwargs)\n",
      "/work/anaconda3/lib/python3.7/site-packages/numpy/core/fromnumeric.py:86: RuntimeWarning: overflow encountered in reduce\n",
      "  return ufunc.reduce(obj, axis, dtype, out, **passkwargs)\n",
      "/work/anaconda3/lib/python3.7/site-packages/numpy/core/fromnumeric.py:86: RuntimeWarning: overflow encountered in reduce\n",
      "  return ufunc.reduce(obj, axis, dtype, out, **passkwargs)\n",
      "/work/anaconda3/lib/python3.7/site-packages/numpy/core/fromnumeric.py:86: RuntimeWarning: overflow encountered in reduce\n",
      "  return ufunc.reduce(obj, axis, dtype, out, **passkwargs)\n",
      "/work/anaconda3/lib/python3.7/site-packages/numpy/core/fromnumeric.py:86: RuntimeWarning: overflow encountered in reduce\n",
      "  return ufunc.reduce(obj, axis, dtype, out, **passkwargs)\n",
      "/work/anaconda3/lib/python3.7/site-packages/numpy/core/fromnumeric.py:86: RuntimeWarning: overflow encountered in reduce\n",
      "  return ufunc.reduce(obj, axis, dtype, out, **passkwargs)\n",
      "/work/anaconda3/lib/python3.7/site-packages/numpy/core/fromnumeric.py:86: RuntimeWarning: overflow encountered in reduce\n",
      "  return ufunc.reduce(obj, axis, dtype, out, **passkwargs)\n",
      "/work/anaconda3/lib/python3.7/site-packages/numpy/core/fromnumeric.py:86: RuntimeWarning: overflow encountered in reduce\n",
      "  return ufunc.reduce(obj, axis, dtype, out, **passkwargs)\n",
      "/work/anaconda3/lib/python3.7/site-packages/numpy/core/fromnumeric.py:86: RuntimeWarning: overflow encountered in reduce\n",
      "  return ufunc.reduce(obj, axis, dtype, out, **passkwargs)\n",
      "/work/anaconda3/lib/python3.7/site-packages/numpy/core/fromnumeric.py:86: RuntimeWarning: overflow encountered in reduce\n",
      "  return ufunc.reduce(obj, axis, dtype, out, **passkwargs)\n"
     ]
    },
    {
     "name": "stdout",
     "output_type": "stream",
     "text": [
      "1.accuracy_score: %s 0.9916\n",
      "2.average_precision_score: %s 0.9952467459404168\n",
      "3.confusion_matrix:\n",
      "%s [[8017    3]\n",
      " [   8 1972]]\n",
      "4.acuracyc&recall: %s (0.9996259351620947, 0.8025828411252378)\n",
      "5.F1_score:\n",
      "%s               precision    recall  f1-score   support\n",
      "\n",
      "           0       1.00      1.00      1.00      8020\n",
      "           1       1.00      1.00      1.00      1980\n",
      "\n",
      "    accuracy                           1.00     10000\n",
      "   macro avg       1.00      1.00      1.00     10000\n",
      "weighted avg       1.00      1.00      1.00     10000\n",
      "\n",
      "6.roc_auc_score: %s 0.9977927655608454\n",
      "7.AUC:\n"
     ]
    },
    {
     "data": {
      "image/png": "[encoded data removed]",
      "text/plain": [
       "<Figure size 432x288 with 1 Axes>"
      ]
     },
     "metadata": {
      "needs_background": "light"
     },
     "output_type": "display_data"
    }
   ],
   "source": [
    "get_evaluation_index(dt_y_test,xgb_y_pred)"
   ]
  },
  {
   "cell_type": "code",
   "execution_count": 3,
   "metadata": {},
   "outputs": [
    {
     "ename": "NameError",
     "evalue": "name 'get_data_set' is not defined",
     "output_type": "error",
     "traceback": [
      "\u001b[0;31m---------------------------------------------------------------------------\u001b[0m",
      "\u001b[0;31mNameError\u001b[0m                                 Traceback (most recent call last)",
      "\u001b[0;32m<ipython-input-3-f54b72d9afc5>\u001b[0m in \u001b[0;36m<module>\u001b[0;34m\u001b[0m\n\u001b[1;32m      1\u001b[0m \u001b[0;31m# 获得数据集\u001b[0m\u001b[0;34m\u001b[0m\u001b[0;34m\u001b[0m\u001b[0;34m\u001b[0m\u001b[0m\n\u001b[1;32m      2\u001b[0m \u001b[0mfile_path\u001b[0m \u001b[0;34m=\u001b[0m \u001b[0;34m'/work/DDos/unbalaced_part.csv'\u001b[0m\u001b[0;34m\u001b[0m\u001b[0;34m\u001b[0m\u001b[0m\n\u001b[0;32m----> 3\u001b[0;31m \u001b[0mX\u001b[0m\u001b[0;34m,\u001b[0m\u001b[0my\u001b[0m\u001b[0;34m=\u001b[0m\u001b[0mget_data_set\u001b[0m\u001b[0;34m(\u001b[0m\u001b[0mfile_path\u001b[0m\u001b[0;34m)\u001b[0m\u001b[0;34m\u001b[0m\u001b[0;34m\u001b[0m\u001b[0m\n\u001b[0m",
      "\u001b[0;31mNameError\u001b[0m: name 'get_data_set' is not defined"
     ]
    }
   ],
   "source": [
    "# 获得数据集\n",
    "file_path = '/work/DDos/unbalaced_part.csv'\n",
    "X,y=get_data_set(file_path)"
   ]
  },
  {
   "cell_type": "code",
   "execution_count": 39,
   "metadata": {},
   "outputs": [
    {
     "data": {
      "text/plain": [
       "(array([[7.6300000e+02, 1.0000000e+00, 1.0000000e+00, ..., 0.0000000e+00,\n",
       "         0.0000000e+00, 0.0000000e+00],\n",
       "        [1.0800000e+03, 1.0000000e+00, 1.0000000e+00, ..., 0.0000000e+00,\n",
       "         0.0000000e+00, 0.0000000e+00],\n",
       "        [2.3630000e+04, 1.0000000e+00, 3.0000000e+00, ..., 0.0000000e+00,\n",
       "         0.0000000e+00, 0.0000000e+00],\n",
       "        ...,\n",
       "        [4.3000000e+01, 2.0000000e+00, 0.0000000e+00, ..., 0.0000000e+00,\n",
       "         0.0000000e+00, 0.0000000e+00],\n",
       "        [1.3536010e+06, 8.0000000e+00, 7.0000000e+00, ..., 0.0000000e+00,\n",
       "         0.0000000e+00, 0.0000000e+00],\n",
       "        [8.7365598e+07, 2.0000000e+00, 0.0000000e+00, ..., 0.0000000e+00,\n",
       "         8.7365598e+07, 8.7365598e+07]]),\n",
       " array(['Benign', 'ddos', 'Benign', ..., 'Benign', 'Benign', 'Benign'],\n",
       "       dtype=object))"
      ]
     },
     "execution_count": 39,
     "metadata": {},
     "output_type": "execute_result"
    }
   ],
   "source": [
    "X,y"
   ]
  },
  {
   "cell_type": "code",
   "execution_count": 41,
   "metadata": {},
   "outputs": [
    {
     "data": {
      "text/plain": [
       "array([[7.6300000e+02, 1.0000000e+00, 1.0000000e+00, ..., 0.0000000e+00,\n",
       "        0.0000000e+00, 0.0000000e+00],\n",
       "       [1.0800000e+03, 1.0000000e+00, 1.0000000e+00, ..., 0.0000000e+00,\n",
       "        0.0000000e+00, 0.0000000e+00],\n",
       "       [2.3630000e+04, 1.0000000e+00, 3.0000000e+00, ..., 0.0000000e+00,\n",
       "        0.0000000e+00, 0.0000000e+00],\n",
       "       ...,\n",
       "       [4.3000000e+01, 2.0000000e+00, 0.0000000e+00, ..., 0.0000000e+00,\n",
       "        0.0000000e+00, 0.0000000e+00],\n",
       "       [1.3536010e+06, 8.0000000e+00, 7.0000000e+00, ..., 0.0000000e+00,\n",
       "        0.0000000e+00, 0.0000000e+00],\n",
       "       [8.7365598e+07, 2.0000000e+00, 0.0000000e+00, ..., 0.0000000e+00,\n",
       "        8.7365598e+07, 8.7365598e+07]])"
      ]
     },
     "execution_count": 41,
     "metadata": {},
     "output_type": "execute_result"
    }
   ],
   "source": [
    "X=deal_nan_inf(X)\n",
    "X"
   ]
  },
  {
   "cell_type": "code",
   "execution_count": 46,
   "metadata": {},
   "outputs": [
    {
     "data": {
      "text/plain": [
       "False"
      ]
     },
     "execution_count": 46,
     "metadata": {},
     "output_type": "execute_result"
    }
   ],
   "source": [
    "is_nan_inf(X)"
   ]
  },
  {
   "cell_type": "code",
   "execution_count": 45,
   "metadata": {},
   "outputs": [
    {
     "name": "stderr",
     "output_type": "stream",
     "text": [
      "/work/anaconda3/lib/python3.7/site-packages/numpy/core/fromnumeric.py:86: RuntimeWarning: overflow encountered in reduce\n",
      "  return ufunc.reduce(obj, axis, dtype, out, **passkwargs)\n",
      "/work/anaconda3/lib/python3.7/site-packages/numpy/core/fromnumeric.py:86: RuntimeWarning: overflow encountered in reduce\n",
      "  return ufunc.reduce(obj, axis, dtype, out, **passkwargs)\n"
     ]
    },
    {
     "data": {
      "text/plain": [
       "array([[6.35835861e-06, 8.84689562e-06, 1.06224772e-04, ...,\n",
       "        0.00000000e+00, 0.00000000e+00, 0.00000000e+00],\n",
       "       [9.00003578e-06, 8.84689562e-06, 1.06224772e-04, ...,\n",
       "        0.00000000e+00, 0.00000000e+00, 0.00000000e+00],\n",
       "       [1.96917449e-04, 8.84689562e-06, 3.18674315e-04, ...,\n",
       "        0.00000000e+00, 0.00000000e+00, 0.00000000e+00],\n",
       "       ...,\n",
       "       [3.58334758e-07, 1.76937912e-05, 0.00000000e+00, ...,\n",
       "        0.00000000e+00, 0.00000000e+00, 0.00000000e+00],\n",
       "       [1.12800532e-02, 7.07751650e-05, 7.43573401e-04, ...,\n",
       "        0.00000000e+00, 0.00000000e+00, 0.00000000e+00],\n",
       "       [7.28049544e-01, 1.76937912e-05, 0.00000000e+00, ...,\n",
       "        0.00000000e+00, 7.28442316e-01, 7.28442316e-01]])"
      ]
     },
     "execution_count": 45,
     "metadata": {},
     "output_type": "execute_result"
    }
   ],
   "source": [
    "X=max_min_sc(X)\n",
    "X"
   ]
  },
  {
   "cell_type": "code",
   "execution_count": 2,
   "metadata": {},
   "outputs": [],
   "source": [
    "def hmm_model(X_train, y_train):\n",
    "    # HMM\n",
    "    # 需要安装包 hmmlearn\n",
    "    from hmmlearn import hmm\n",
    "    h = hmm.GaussianHMM(n_components=5,\n",
    "                        covariance_type='diag',\n",
    "                        min_covar=0.001,\n",
    "                        startprob_prior=1.0,\n",
    "                        transmat_prior=1.0,\n",
    "                        means_prior=0,\n",
    "                        means_weight=0,\n",
    "                        covars_prior=0.01,\n",
    "                        covars_weight=1,\n",
    "                        algorithm='viterbi',\n",
    "                        random_state=None,\n",
    "                        n_iter=10,\n",
    "                        tol=0.01,\n",
    "                        verbose=False,\n",
    "                        params='stmc',\n",
    "                        init_params='stmc')\n",
    "    h.fit(X_train, y_train)\n",
    "    return h"
   ]
  },
  {
   "cell_type": "code",
   "execution_count": 48,
   "metadata": {},
   "outputs": [
    {
     "data": {
      "text/plain": [
       "dtype('float32')"
      ]
     },
     "execution_count": 48,
     "metadata": {},
     "output_type": "execute_result"
    }
   ],
   "source": [
    "X=convern_tofloat32(X)\n",
    "X.dtype"
   ]
  },
  {
   "cell_type": "code",
   "execution_count": 49,
   "metadata": {},
   "outputs": [
    {
     "data": {
      "text/plain": [
       "False"
      ]
     },
     "execution_count": 49,
     "metadata": {},
     "output_type": "execute_result"
    }
   ],
   "source": [
    "is_nan_inf(X)"
   ]
  },
  {
   "cell_type": "code",
   "execution_count": 50,
   "metadata": {},
   "outputs": [
    {
     "data": {
      "text/plain": [
       "array([[6.3583584e-06, 8.8468960e-06, 1.0622477e-04, ..., 0.0000000e+00,\n",
       "        0.0000000e+00, 0.0000000e+00],\n",
       "       [9.0000358e-06, 8.8468960e-06, 1.0622477e-04, ..., 0.0000000e+00,\n",
       "        0.0000000e+00, 0.0000000e+00],\n",
       "       [1.9691745e-04, 8.8468960e-06, 3.1867431e-04, ..., 0.0000000e+00,\n",
       "        0.0000000e+00, 0.0000000e+00],\n",
       "       ...,\n",
       "       [3.5833474e-07, 1.7693792e-05, 0.0000000e+00, ..., 0.0000000e+00,\n",
       "        0.0000000e+00, 0.0000000e+00],\n",
       "       [1.1280053e-02, 7.0775168e-05, 7.4357342e-04, ..., 0.0000000e+00,\n",
       "        0.0000000e+00, 0.0000000e+00],\n",
       "       [7.2804952e-01, 1.7693792e-05, 0.0000000e+00, ..., 0.0000000e+00,\n",
       "        7.2844231e-01, 7.2844231e-01]], dtype=float32)"
      ]
     },
     "execution_count": 50,
     "metadata": {},
     "output_type": "execute_result"
    }
   ],
   "source": [
    "X"
   ]
  },
  {
   "cell_type": "code",
   "execution_count": 53,
   "metadata": {},
   "outputs": [],
   "source": [
    "X_train, X_test, y_train, y_test = split_X_y(X, y)"
   ]
  },
  {
   "cell_type": "code",
   "execution_count": 1,
   "metadata": {},
   "outputs": [
    {
     "ename": "NameError",
     "evalue": "name 'hmm_model' is not defined",
     "output_type": "error",
     "traceback": [
      "\u001b[0;31m---------------------------------------------------------------------------\u001b[0m",
      "\u001b[0;31mNameError\u001b[0m                                 Traceback (most recent call last)",
      "\u001b[0;32m<timed exec>\u001b[0m in \u001b[0;36m<module>\u001b[0;34m\u001b[0m\n",
      "\u001b[0;31mNameError\u001b[0m: name 'hmm_model' is not defined"
     ]
    }
   ],
   "source": [
    "%%time\n",
    "# Input contains NaN, infinity or a value too large for dtype('float64')\n",
    "hmm_m=hmm_model(X_train,y_train)"
   ]
  },
  {
   "cell_type": "code",
   "execution_count": 46,
   "metadata": {},
   "outputs": [
    {
     "data": {
      "text/plain": [
       "array([[7.630000e+02, 1.000000e+00, 1.000000e+00, ..., 0.000000e+00,\n",
       "        0.000000e+00, 0.000000e+00],\n",
       "       [1.080000e+03, 1.000000e+00, 1.000000e+00, ..., 0.000000e+00,\n",
       "        0.000000e+00, 0.000000e+00],\n",
       "       [2.363000e+04, 1.000000e+00, 3.000000e+00, ..., 0.000000e+00,\n",
       "        0.000000e+00, 0.000000e+00],\n",
       "       ...,\n",
       "       [4.300000e+01, 2.000000e+00, 0.000000e+00, ..., 0.000000e+00,\n",
       "        0.000000e+00, 0.000000e+00],\n",
       "       [1.353601e+06, 8.000000e+00, 7.000000e+00, ..., 0.000000e+00,\n",
       "        0.000000e+00, 0.000000e+00],\n",
       "       [8.736560e+07, 2.000000e+00, 0.000000e+00, ..., 0.000000e+00,\n",
       "        8.736560e+07, 8.736560e+07]], dtype=float32)"
      ]
     },
     "execution_count": 46,
     "metadata": {},
     "output_type": "execute_result"
    }
   ],
   "source": [
    "X"
   ]
  },
  {
   "cell_type": "code",
   "execution_count": null,
   "metadata": {},
   "outputs": [],
   "source": []
  }
 ],
 "metadata": {
  "kernelspec": {
   "display_name": "Python 3",
   "language": "python",
   "name": "python3"
  },
  "language_info": {
   "codemirror_mode": {
    "name": "ipython",
    "version": 3
   },
   "file_extension": ".py",
   "mimetype": "text/x-python",
   "name": "python",
   "nbconvert_exporter": "python",
   "pygments_lexer": "ipython3",
   "version": "3.7.4"
  }
 },
 "nbformat": 4,
 "nbformat_minor": 2
}
