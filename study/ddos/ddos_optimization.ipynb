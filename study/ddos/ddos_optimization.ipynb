{
 "cells": [
  {
   "cell_type": "markdown",
   "metadata": {},
   "source": [
    "#### 1. 数据加载\n",
    "#### 2. 特征工程-降维\n",
    "##### 2.1 PCA\n",
    "##### 2.2 SVD\n",
    "#### 3. XGBoost 增量学习"
   ]
  },
  {
   "cell_type": "markdown",
   "metadata": {},
   "source": [
    "#### 1.数据加载"
   ]
  },
  {
   "cell_type": "code",
   "execution_count": 2,
   "metadata": {},
   "outputs": [
    {
     "name": "stdout",
     "output_type": "stream",
     "text": [
      "ddos_balanced.7z\tunbalaced_20_80_dataset.csv\r\n",
      "ddos_imbalanced.7z\tunbalaced_test.csv\r\n",
      "train_triplets.txt.zip\tyelp_academic_dataset_business.json.zip\r\n"
     ]
    }
   ],
   "source": [
    "# 加载100000万数据\n",
    "!ls /work/datasets/"
   ]
  },
  {
   "cell_type": "code",
   "execution_count": 2,
   "metadata": {},
   "outputs": [],
   "source": [
    "import numpy as np\n",
    "import pandas as pd\n",
    "\n",
    "\n",
    "def get_data_set(file_path):\n",
    "\n",
    "    ddos_data = pd.read_csv(file_path, low_memory=False)\n",
    "    # 暂时剔除无意义的特征\n",
    "    del ddos_data['Row']\n",
    "    # 删除非数值列\n",
    "    other_data = ddos_data.drop([\n",
    "        'Flow ID', 'Src IP', 'Src Port', 'Dst IP', 'Dst Port', 'Protocol',\n",
    "        'Timestamp'\n",
    "    ],\n",
    "                                axis=1)\n",
    "    # 删除空值\n",
    "    other_data = other_data.dropna(how='all')\n",
    "    # 转换为numpy  aarray\n",
    "    new_data = other_data.to_numpy()\n",
    "    # 拆分特征列和目标列\n",
    "    X, y = new_data[:, :-1], new_data[:, -1]\n",
    "    # 数值型转换类型\n",
    "    X = X.astype(float)\n",
    "    # 处理nan or inf\n",
    "    X = np.nan_to_num(X)\n",
    "    return X, y"
   ]
  },
  {
   "cell_type": "code",
   "execution_count": 3,
   "metadata": {},
   "outputs": [],
   "source": [
    "file = \"/work/datasets/unbalaced_test.csv\"\n",
    "X,y = get_data_set(file)"
   ]
  },
  {
   "cell_type": "code",
   "execution_count": 5,
   "metadata": {},
   "outputs": [
    {
     "data": {
      "text/plain": [
       "(100009, 76)"
      ]
     },
     "execution_count": 5,
     "metadata": {},
     "output_type": "execute_result"
    }
   ],
   "source": [
    "X.shape"
   ]
  },
  {
   "cell_type": "code",
   "execution_count": 7,
   "metadata": {},
   "outputs": [
    {
     "data": {
      "text/plain": [
       "(array([ 8.66000000e+03,  1.00000000e+00,  1.00000000e+00,  0.00000000e+00,\n",
       "         0.00000000e+00,  0.00000000e+00,  0.00000000e+00,  0.00000000e+00,\n",
       "         0.00000000e+00,  0.00000000e+00,  0.00000000e+00,  0.00000000e+00,\n",
       "         0.00000000e+00,  0.00000000e+00,  2.30946882e+02,  8.66000000e+03,\n",
       "         0.00000000e+00,  8.66000000e+03,  8.66000000e+03,  0.00000000e+00,\n",
       "         0.00000000e+00,  0.00000000e+00,  0.00000000e+00,  0.00000000e+00,\n",
       "         0.00000000e+00,  0.00000000e+00,  0.00000000e+00,  0.00000000e+00,\n",
       "         0.00000000e+00,  0.00000000e+00,  0.00000000e+00,  0.00000000e+00,\n",
       "         0.00000000e+00,  3.20000000e+01,  3.20000000e+01,  1.15473441e+02,\n",
       "         1.15473441e+02,  0.00000000e+00,  0.00000000e+00,  0.00000000e+00,\n",
       "         0.00000000e+00,  0.00000000e+00,  0.00000000e+00,  0.00000000e+00,\n",
       "         0.00000000e+00,  0.00000000e+00,  1.00000000e+00,  0.00000000e+00,\n",
       "         0.00000000e+00,  0.00000000e+00,  1.00000000e+00,  0.00000000e+00,\n",
       "         0.00000000e+00,  0.00000000e+00,  0.00000000e+00,  0.00000000e+00,\n",
       "         0.00000000e+00,  0.00000000e+00,  0.00000000e+00,  0.00000000e+00,\n",
       "         1.00000000e+00,  0.00000000e+00,  1.00000000e+00,  0.00000000e+00,\n",
       "        -1.00000000e+00,  2.25000000e+02,  0.00000000e+00,  0.00000000e+00,\n",
       "         0.00000000e+00,  0.00000000e+00,  0.00000000e+00,  0.00000000e+00,\n",
       "         0.00000000e+00,  0.00000000e+00,  0.00000000e+00,  0.00000000e+00]),\n",
       " 'ddos')"
      ]
     },
     "execution_count": 7,
     "metadata": {},
     "output_type": "execute_result"
    }
   ],
   "source": [
    "X[0],y[0]"
   ]
  },
  {
   "cell_type": "code",
   "execution_count": 8,
   "metadata": {},
   "outputs": [],
   "source": [
    "# 基本数据特征处理\n",
    "def max_min_sc(X):\n",
    "    # 特征归一化处理\n",
    "    from sklearn.preprocessing import MinMaxScaler\n",
    "    min_max_scaler = MinMaxScaler()\n",
    "    return min_max_scaler.fit_transform(X)\n",
    "\n",
    "\n",
    "def label_encoder(y):\n",
    "    # 标签数值化，方便处理\n",
    "    from sklearn.preprocessing import LabelEncoder\n",
    "    le = LabelEncoder()\n",
    "    return le.fit_transform(y)"
   ]
  },
  {
   "cell_type": "code",
   "execution_count": 9,
   "metadata": {},
   "outputs": [
    {
     "name": "stderr",
     "output_type": "stream",
     "text": [
      "/work/anaconda3/lib/python3.7/site-packages/numpy/core/fromnumeric.py:90: RuntimeWarning: overflow encountered in reduce\n",
      "  return ufunc.reduce(obj, axis, dtype, out, **passkwargs)\n",
      "/work/anaconda3/lib/python3.7/site-packages/numpy/core/fromnumeric.py:90: RuntimeWarning: overflow encountered in reduce\n",
      "  return ufunc.reduce(obj, axis, dtype, out, **passkwargs)\n"
     ]
    }
   ],
   "source": [
    "y = label_encoder(y)\n",
    "X = max_min_sc(X)"
   ]
  },
  {
   "cell_type": "code",
   "execution_count": 10,
   "metadata": {},
   "outputs": [],
   "source": [
    "def split_X_y(X, y):\n",
    "    # 拆分数据集\n",
    "    from sklearn.model_selection import train_test_split\n",
    "    X_train, X_test, y_train, y_test = train_test_split(X,\n",
    "                                                        y,\n",
    "                                                        test_size=0.2,\n",
    "                                                        random_state=2019)\n",
    "    return X_train, X_test, y_train, y_test"
   ]
  },
  {
   "cell_type": "code",
   "execution_count": 11,
   "metadata": {},
   "outputs": [],
   "source": [
    "def classify_re(y_test, y_pred):\n",
    "    #准确率\n",
    "    from sklearn.metrics import classification_report\n",
    "    return classification_report(y_test, y_pred)"
   ]
  },
  {
   "cell_type": "code",
   "execution_count": 12,
   "metadata": {},
   "outputs": [],
   "source": [
    "def knn_model(X_train, y_train):\n",
    "    from sklearn.neighbors import KNeighborsClassifier\n",
    "    # 需要全部转换为数值型\n",
    "    knn = KNeighborsClassifier(n_neighbors=6,\n",
    "                               weights='uniform',\n",
    "                               algorithm='auto',\n",
    "                               leaf_size=30,\n",
    "                               p=2,\n",
    "                               metric='minkowski',\n",
    "                               metric_params=None,\n",
    "                               n_jobs=10)\n",
    "    knn.fit(X_train, y_train)\n",
    "    return knn"
   ]
  },
  {
   "cell_type": "code",
   "execution_count": 16,
   "metadata": {},
   "outputs": [],
   "source": [
    "X_train, X_test, y_train, y_test =split_X_y(X,y)"
   ]
  },
  {
   "cell_type": "code",
   "execution_count": 19,
   "metadata": {},
   "outputs": [],
   "source": [
    "knn = knn_model(X_train, y_train)\n",
    "y_pred = knn.predict(X_test)"
   ]
  },
  {
   "cell_type": "code",
   "execution_count": 20,
   "metadata": {},
   "outputs": [
    {
     "name": "stdout",
     "output_type": "stream",
     "text": [
      "              precision    recall  f1-score   support\n",
      "\n",
      "           0       0.99      0.99      0.99      4058\n",
      "           1       1.00      1.00      1.00     15944\n",
      "\n",
      "    accuracy                           1.00     20002\n",
      "   macro avg       1.00      1.00      1.00     20002\n",
      "weighted avg       1.00      1.00      1.00     20002\n",
      "\n"
     ]
    }
   ],
   "source": [
    "print(classify_re(y_test,y_pred))"
   ]
  },
  {
   "cell_type": "markdown",
   "metadata": {},
   "source": [
    "#### 2.1 PCA 降维"
   ]
  },
  {
   "cell_type": "code",
   "execution_count": 21,
   "metadata": {},
   "outputs": [
    {
     "data": {
      "text/plain": [
       "60.800000000000004"
      ]
     },
     "execution_count": 21,
     "metadata": {},
     "output_type": "execute_result"
    }
   ],
   "source": [
    "# 保留80% 指标\n",
    "76*0.8"
   ]
  },
  {
   "cell_type": "code",
   "execution_count": 61,
   "metadata": {},
   "outputs": [],
   "source": [
    "def pca_data(X, n_components=60, random_state=2019):\n",
    "    from sklearn.decomposition import PCA\n",
    "    pca = PCA(n_components=60,\n",
    "              copy=True,\n",
    "              whiten=False,\n",
    "              svd_solver='auto',\n",
    "              tol=0.0,\n",
    "              iterated_power='auto',\n",
    "              random_state=2019)\n",
    "    return pca.fit_transform(X)"
   ]
  },
  {
   "cell_type": "code",
   "execution_count": 25,
   "metadata": {},
   "outputs": [],
   "source": [
    "# 重新获取未归一化处理的特征\n",
    "X0,_=get_data_set(file)"
   ]
  },
  {
   "cell_type": "code",
   "execution_count": 26,
   "metadata": {},
   "outputs": [],
   "source": [
    "X0_train, X0_test, _, _ = split_X_y(X0, y)"
   ]
  },
  {
   "cell_type": "code",
   "execution_count": 27,
   "metadata": {},
   "outputs": [
    {
     "name": "stderr",
     "output_type": "stream",
     "text": [
      "/work/anaconda3/lib/python3.7/site-packages/numpy/core/fromnumeric.py:90: RuntimeWarning: overflow encountered in reduce\n",
      "  return ufunc.reduce(obj, axis, dtype, out, **passkwargs)\n",
      "/work/anaconda3/lib/python3.7/site-packages/numpy/core/fromnumeric.py:90: RuntimeWarning: overflow encountered in reduce\n",
      "  return ufunc.reduce(obj, axis, dtype, out, **passkwargs)\n",
      "/work/anaconda3/lib/python3.7/site-packages/numpy/core/fromnumeric.py:90: RuntimeWarning: overflow encountered in reduce\n",
      "  return ufunc.reduce(obj, axis, dtype, out, **passkwargs)\n",
      "/work/anaconda3/lib/python3.7/site-packages/numpy/core/fromnumeric.py:90: RuntimeWarning: overflow encountered in reduce\n",
      "  return ufunc.reduce(obj, axis, dtype, out, **passkwargs)\n",
      "/work/anaconda3/lib/python3.7/site-packages/numpy/core/fromnumeric.py:90: RuntimeWarning: overflow encountered in reduce\n",
      "  return ufunc.reduce(obj, axis, dtype, out, **passkwargs)\n",
      "/work/anaconda3/lib/python3.7/site-packages/numpy/core/fromnumeric.py:90: RuntimeWarning: overflow encountered in reduce\n",
      "  return ufunc.reduce(obj, axis, dtype, out, **passkwargs)\n",
      "/work/anaconda3/lib/python3.7/site-packages/numpy/core/fromnumeric.py:90: RuntimeWarning: overflow encountered in reduce\n",
      "  return ufunc.reduce(obj, axis, dtype, out, **passkwargs)\n",
      "/work/anaconda3/lib/python3.7/site-packages/numpy/core/fromnumeric.py:90: RuntimeWarning: overflow encountered in reduce\n",
      "  return ufunc.reduce(obj, axis, dtype, out, **passkwargs)\n",
      "/work/anaconda3/lib/python3.7/site-packages/numpy/core/fromnumeric.py:90: RuntimeWarning: overflow encountered in reduce\n",
      "  return ufunc.reduce(obj, axis, dtype, out, **passkwargs)\n",
      "/work/anaconda3/lib/python3.7/site-packages/numpy/core/fromnumeric.py:90: RuntimeWarning: overflow encountered in reduce\n",
      "  return ufunc.reduce(obj, axis, dtype, out, **passkwargs)\n",
      "/work/anaconda3/lib/python3.7/site-packages/numpy/core/fromnumeric.py:90: RuntimeWarning: overflow encountered in reduce\n",
      "  return ufunc.reduce(obj, axis, dtype, out, **passkwargs)\n"
     ]
    },
    {
     "name": "stdout",
     "output_type": "stream",
     "text": [
      "CPU times: user 10.8 s, sys: 669 ms, total: 11.5 s\n",
      "Wall time: 13.4 s\n"
     ]
    }
   ],
   "source": [
    "%%time\n",
    "knn = knn_model(X0_train, y_train)\n",
    "y0_pred = knn.predict(X0_test)"
   ]
  },
  {
   "cell_type": "code",
   "execution_count": 28,
   "metadata": {},
   "outputs": [
    {
     "name": "stdout",
     "output_type": "stream",
     "text": [
      "              precision    recall  f1-score   support\n",
      "\n",
      "           0       0.98      0.98      0.98      4058\n",
      "           1       0.99      0.99      0.99     15944\n",
      "\n",
      "    accuracy                           0.99     20002\n",
      "   macro avg       0.99      0.99      0.99     20002\n",
      "weighted avg       0.99      0.99      0.99     20002\n",
      "\n"
     ]
    }
   ],
   "source": [
    "# 不进行归一化的数据，准确率下降 0.01，估计降维不会提升多少，主要看计算量耗时\n",
    "print(classify_re(y_test,y0_pred))"
   ]
  },
  {
   "cell_type": "code",
   "execution_count": 62,
   "metadata": {},
   "outputs": [
    {
     "data": {
      "text/plain": [
       "PCA(copy=True, iterated_power='auto', n_components=30, random_state=None,\n",
       "    svd_solver='auto', tol=0.0, whiten=False)"
      ]
     },
     "execution_count": 62,
     "metadata": {},
     "output_type": "execute_result"
    }
   ],
   "source": [
    "# test\n",
    "# array must not contain infs or NaNs???\n",
    "## a.dtype.char in typecodes['AllFloat']??\n",
    "## 与数据有关系？数据需要归一化？\n",
    "from sklearn import datasets\n",
    "digits=datasets.load_digits()\n",
    "X_d,y_d=digits.data,digits.target\n",
    "\n",
    "pca=PCA(n_components=30)\n",
    "pca.fit(X_d)"
   ]
  },
  {
   "cell_type": "code",
   "execution_count": 69,
   "metadata": {},
   "outputs": [],
   "source": [
    "# 果然数据需要归一化\n",
    "X_pca=pca_data(X)"
   ]
  },
  {
   "cell_type": "code",
   "execution_count": 70,
   "metadata": {},
   "outputs": [
    {
     "data": {
      "text/plain": [
       "array([[-5.27506218e-01, -7.79279153e-02, -1.09509327e-01, ...,\n",
       "         6.80710432e-07, -4.91338504e-08, -4.87370552e-07],\n",
       "       [ 1.52875113e+00, -6.56519938e-01,  2.10020624e-02, ...,\n",
       "        -3.73061528e-06,  8.92862507e-07,  3.10003661e-06],\n",
       "       [-4.54508031e-01, -1.08045814e-01, -2.45265923e-01, ...,\n",
       "         1.30107861e-05, -4.98267298e-07,  5.10095804e-06],\n",
       "       ...,\n",
       "       [ 5.95054504e-02,  2.07065990e-01, -2.88975189e-01, ...,\n",
       "        -5.66954798e-06, -4.72344208e-06, -6.16553857e-07],\n",
       "       [ 5.98949577e-02,  2.07083736e-01, -2.88400427e-01, ...,\n",
       "        -5.02737248e-06, -4.36756279e-06, -7.98876324e-07],\n",
       "       [-5.07723425e-01,  4.79805137e-02, -9.69539043e-02, ...,\n",
       "         3.06830303e-05, -1.97575642e-05, -1.85265738e-06]])"
      ]
     },
     "execution_count": 70,
     "metadata": {},
     "output_type": "execute_result"
    }
   ],
   "source": [
    "# 查看降维后的数据情况\n",
    "X_pca"
   ]
  },
  {
   "cell_type": "code",
   "execution_count": 72,
   "metadata": {},
   "outputs": [
    {
     "name": "stdout",
     "output_type": "stream",
     "text": [
      "CPU times: user 7.93 s, sys: 2.04 s, total: 9.97 s\n",
      "Wall time: 11.9 s\n"
     ]
    }
   ],
   "source": [
    "%%time\n",
    "# 训练降维后的数据\n",
    "X_pca_train, X_pca_test, _, _ =split_X_y(X_pca,y)\n",
    "knn = knn_model(X_pca_train, y_train)\n",
    "y_pca_pred = knn.predict(X_pca_test)"
   ]
  },
  {
   "cell_type": "code",
   "execution_count": 73,
   "metadata": {},
   "outputs": [
    {
     "name": "stdout",
     "output_type": "stream",
     "text": [
      "              precision    recall  f1-score   support\n",
      "\n",
      "           0       0.99      0.99      0.99      4055\n",
      "           1       1.00      1.00      1.00     15947\n",
      "\n",
      "    accuracy                           1.00     20002\n",
      "   macro avg       1.00      1.00      1.00     20002\n",
      "weighted avg       1.00      1.00      1.00     20002\n",
      "\n"
     ]
    }
   ],
   "source": [
    "print(classify_re(y_pca_pred,y_test))  # 准确率提升不大，但是计算时间提高了50%"
   ]
  },
  {
   "cell_type": "markdown",
   "metadata": {},
   "source": [
    "##### 2.2 SVD 奇异值分解同理\n",
    ">主要观察计算时间时效 \n",
    ">准确率提高需要增加更多数据\n"
   ]
  },
  {
   "cell_type": "markdown",
   "metadata": {},
   "source": [
    "#### 在线(增量)学习\n",
    "1. 针对于计算资源有限的情况下，能够快速添加新数据进行训练\n",
    "2. Xgboost提供两种增量训练的方式:\n",
    "> 1) 在当前迭代树的基础上增加新树，原树不变  \n",
    "> 2) 当前迭代树结构不变，重新计算叶节点权重，同时也可增加新树"
   ]
  },
  {
   "cell_type": "code",
   "execution_count": 93,
   "metadata": {},
   "outputs": [],
   "source": [
    "### demo test\n",
    "# https://github.com/dmlc/xgboost/blob/master/tests/python/test_training_continuation.py\n",
    "import xgboost as xgb\n",
    "# use digits dataset\n",
    "Xd_train, Xd_test, yd_train, yd_test = split_X_y(X0, y_d)"
   ]
  },
  {
   "cell_type": "code",
   "execution_count": 97,
   "metadata": {},
   "outputs": [],
   "source": [
    "# base xgboost interface\n",
    "d_train=xgb.DMatrix(Xd_train,yd_train)\n",
    "xgb_model=xgb.train({},d_train)"
   ]
  },
  {
   "cell_type": "code",
   "execution_count": 134,
   "metadata": {},
   "outputs": [],
   "source": [
    "def xgb_model(X_train, y_train):\n",
    "    xgb_model_sk = xgb.XGBClassifier(max_depth=5,\n",
    "                                     learning_rate=0.1,\n",
    "                                     n_estimators=160,\n",
    "                                     verbosity=1,\n",
    "                                     silent=True,\n",
    "                                     objective='binary:logistic',\n",
    "                                     booster='gbtree',\n",
    "                                     n_jobs=1,\n",
    "                                     nthread=None,\n",
    "                                     gamma=0,\n",
    "                                     min_child_weight=1,\n",
    "                                     max_delta_step=0,\n",
    "                                     subsample=1,\n",
    "                                     colsample_bytree=1,\n",
    "                                     colsample_bylevel=1,\n",
    "                                     colsample_bynode=1,\n",
    "                                     reg_alpha=0,\n",
    "                                     reg_lambda=1,\n",
    "                                     scale_pos_weight=1,\n",
    "                                     base_score=0.5,\n",
    "                                     random_state=0,\n",
    "                                     seed=None,\n",
    "                                     missing=None)\n",
    "    xgb_model_sk.fit(X_train, y_train)\n",
    "    return xgb_model_sk"
   ]
  },
  {
   "cell_type": "code",
   "execution_count": 135,
   "metadata": {},
   "outputs": [],
   "source": [
    "ddos_data_model=xgb_model(X_pca_train,y_train)"
   ]
  },
  {
   "cell_type": "code",
   "execution_count": 104,
   "metadata": {},
   "outputs": [],
   "source": [
    "yd_pred_sk=xgb_model_sk.predict(Xd_test)"
   ]
  },
  {
   "cell_type": "code",
   "execution_count": 105,
   "metadata": {},
   "outputs": [
    {
     "name": "stdout",
     "output_type": "stream",
     "text": [
      "              precision    recall  f1-score   support\n",
      "\n",
      "           0       0.97      1.00      0.99        34\n",
      "           1       0.97      1.00      0.99        37\n",
      "           2       1.00      1.00      1.00        33\n",
      "           3       1.00      0.93      0.96        42\n",
      "           4       1.00      1.00      1.00        32\n",
      "           5       1.00      0.90      0.95        39\n",
      "           6       0.98      0.98      0.98        41\n",
      "           7       1.00      0.97      0.98        33\n",
      "           8       0.95      1.00      0.97        36\n",
      "           9       0.86      0.97      0.91        33\n",
      "\n",
      "    accuracy                           0.97       360\n",
      "   macro avg       0.97      0.97      0.97       360\n",
      "weighted avg       0.97      0.97      0.97       360\n",
      "\n"
     ]
    }
   ],
   "source": [
    "print(classify_re(yd_test, yd_pred_sk))"
   ]
  },
  {
   "cell_type": "code",
   "execution_count": 118,
   "metadata": {},
   "outputs": [],
   "source": [
    "### 针对我们源数据, xgboost 计算耗时，准确度高， 相比其他算法\n",
    "ddos_data_model = xgb_model(X_pca_train, y_train)"
   ]
  },
  {
   "cell_type": "code",
   "execution_count": 138,
   "metadata": {},
   "outputs": [
    {
     "name": "stdout",
     "output_type": "stream",
     "text": [
      "              precision    recall  f1-score   support\n",
      "\n",
      "           0       1.00      1.00      1.00      4058\n",
      "           1       1.00      1.00      1.00     15944\n",
      "\n",
      "    accuracy                           1.00     20002\n",
      "   macro avg       1.00      1.00      1.00     20002\n",
      "weighted avg       1.00      1.00      1.00     20002\n",
      "\n"
     ]
    }
   ],
   "source": [
    "y_pca_pred = ddos_data_model.predict(X_pca_test)\n",
    "print(classify_re(y_test,y_pca_pred))"
   ]
  },
  {
   "cell_type": "code",
   "execution_count": 139,
   "metadata": {},
   "outputs": [
    {
     "data": {
      "text/plain": [
       "<matplotlib.axes._subplots.AxesSubplot at 0x7f4fbdc4a750>"
      ]
     },
     "execution_count": 139,
     "metadata": {},
     "output_type": "execute_result"
    },
    {
     "data": {
      "image/png": "[encoded data removed]",
      "text/plain": [
       "<Figure size 432x288 with 1 Axes>"
      ]
     },
     "metadata": {
      "needs_background": "light"
     },
     "output_type": "display_data"
    }
   ],
   "source": [
    "# 特征重要性\n",
    "from matplotlib import pyplot as plt\n",
    "%matplotlib inline\n",
    "xgb.plot_importance(ddos_data_model,max_num_features=20)"
   ]
  },
  {
   "cell_type": "code",
   "execution_count": null,
   "metadata": {},
   "outputs": [],
   "source": [
    "## 各种树的对比\n",
    "https://zhuanlan.zhihu.com/p/33700459"
   ]
  }
 ],
 "metadata": {
  "kernelspec": {
   "display_name": "Python 3",
   "language": "python",
   "name": "python3"
  },
  "language_info": {
   "codemirror_mode": {
    "name": "ipython",
    "version": 3
   },
   "file_extension": ".py",
   "mimetype": "text/x-python",
   "name": "python",
   "nbconvert_exporter": "python",
   "pygments_lexer": "ipython3",
   "version": "3.7.4"
  }
 },
 "nbformat": 4,
 "nbformat_minor": 2
}
