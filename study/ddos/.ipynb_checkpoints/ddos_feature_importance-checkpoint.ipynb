{
 "cells": [
  {
   "cell_type": "markdown",
   "metadata": {},
   "source": [
    "#### 数据特征重要性选择\n",
    "0. 数据加载处理\n",
    "1. 降维\n",
    "2. xgboost选择重要性\n",
    "3. 去除重要性，比较\n",
    "4. 新增派生特征\n",
    "5. 算法改进，比较"
   ]
  },
  {
   "cell_type": "markdown",
   "metadata": {},
   "source": [
    "##### 0. 数据加载处理"
   ]
  },
  {
   "cell_type": "code",
   "execution_count": 1,
   "metadata": {},
   "outputs": [
    {
     "name": "stdout",
     "output_type": "stream",
     "text": [
      "ddos_balanced.7z    train_triplets.txt.zip\r\n",
      "ddos_imbalanced.7z  unbalaced_20_80_dataset.csv\r\n",
      "final_dataset.csv   unbalaced_test.csv\r\n",
      "fin.csv\t\t    yelp_academic_dataset_business.json.zip\r\n"
     ]
    }
   ],
   "source": [
    "!ls /work/datasets/"
   ]
  },
  {
   "cell_type": "code",
   "execution_count": 110,
   "metadata": {},
   "outputs": [],
   "source": [
    "import numpy as np\n",
    "import pandas as pd\n",
    "\n",
    "\n",
    "def get_orgrin_data(file_path):\n",
    "    return pd.read_csv(file_path, low_memory=False)\n",
    "\n",
    "\n",
    "def get_data_set(file_path):\n",
    "\n",
    "    ddos_data = pd.read_csv(file_path, low_memory=False)\n",
    "    # 暂时剔除无意义的特征\n",
    "    del ddos_data['Row']\n",
    "    # 删除非数值列\n",
    "    other_data = ddos_data.drop([\n",
    "        'Flow ID', 'Src IP', 'Src Port', 'Dst IP', 'Dst Port', 'Protocol',\n",
    "        'Timestamp'\n",
    "    ],\n",
    "                                axis=1)\n",
    "    # 删除空值\n",
    "    other_data = other_data.dropna(how='all')\n",
    "    # 转换为numpy  aarray\n",
    "    new_data = other_data.to_numpy()\n",
    "    # 拆分特征列和目标列\n",
    "    X, y = new_data[:, :-1], new_data[:, -1]\n",
    "    # 数值型转换类型\n",
    "    X = X.astype(float)\n",
    "    # 处理nan or inf\n",
    "    X = np.nan_to_num(X)\n",
    "    return X, y"
   ]
  },
  {
   "cell_type": "code",
   "execution_count": 3,
   "metadata": {},
   "outputs": [],
   "source": [
    "file = \"/work/datasets/fin.csv\"\n",
    "X,y = get_data_set(file)"
   ]
  },
  {
   "cell_type": "code",
   "execution_count": 4,
   "metadata": {},
   "outputs": [
    {
     "data": {
      "text/plain": [
       "(array([ 3.97486200e+06,  2.90000000e+01,  4.40000000e+01,  8.60000000e+01,\n",
       "         5.98110000e+04,  8.60000000e+01,  0.00000000e+00,  2.96551724e+00,\n",
       "         1.59697991e+01,  1.46000000e+03,  0.00000000e+00,  1.35934091e+03,\n",
       "         3.72027190e+02,  1.50689508e+04,  1.83654175e+01,  5.52064167e+04,\n",
       "         1.95478317e+05,  1.56682100e+06,  1.67000000e+02,  3.73534700e+06,\n",
       "         1.33405250e+05,  3.41775689e+05,  1.80501500e+06,  1.67000000e+02,\n",
       "         3.97486200e+06,  9.24386512e+04,  2.48174821e+05,  1.56682100e+06,\n",
       "         3.99700000e+03,  0.00000000e+00,  0.00000000e+00,  0.00000000e+00,\n",
       "         0.00000000e+00,  7.68000000e+02,  8.96000000e+02,  7.29585077e+00,\n",
       "         1.10695667e+01,  0.00000000e+00,  1.46000000e+03,  8.09418919e+02,\n",
       "         7.28862428e+02,  5.31240439e+05,  0.00000000e+00,  1.00000000e+00,\n",
       "         0.00000000e+00,  0.00000000e+00,  0.00000000e+00,  0.00000000e+00,\n",
       "         0.00000000e+00,  0.00000000e+00,  1.00000000e+00,  8.20506849e+02,\n",
       "         2.96551724e+00,  1.35934091e+03,  0.00000000e+00,  0.00000000e+00,\n",
       "         0.00000000e+00,  0.00000000e+00,  0.00000000e+00,  0.00000000e+00,\n",
       "         2.90000000e+01,  8.60000000e+01,  4.40000000e+01,  5.98110000e+04,\n",
       "        -1.00000000e+00,  5.84000000e+03,  1.00000000e+00,  0.00000000e+00,\n",
       "         0.00000000e+00,  0.00000000e+00,  0.00000000e+00,  0.00000000e+00,\n",
       "         0.00000000e+00,  0.00000000e+00,  0.00000000e+00,  0.00000000e+00]),\n",
       " 'ddos')"
      ]
     },
     "execution_count": 4,
     "metadata": {},
     "output_type": "execute_result"
    }
   ],
   "source": [
    "X[0],y[0]"
   ]
  },
  {
   "cell_type": "code",
   "execution_count": 5,
   "metadata": {},
   "outputs": [],
   "source": [
    "# 基本数据特征处理\n",
    "def max_min_sc(X):\n",
    "    # 特征归一化处理\n",
    "    from sklearn.preprocessing import MinMaxScaler\n",
    "    min_max_scaler = MinMaxScaler()\n",
    "    return min_max_scaler.fit_transform(X)\n",
    "\n",
    "\n",
    "def label_encoder(y):\n",
    "    # 标签数值化，方便处理\n",
    "    from sklearn.preprocessing import LabelEncoder\n",
    "    le = LabelEncoder()\n",
    "    return le.fit_transform(y)"
   ]
  },
  {
   "cell_type": "code",
   "execution_count": 6,
   "metadata": {},
   "outputs": [
    {
     "name": "stderr",
     "output_type": "stream",
     "text": [
      "/work/anaconda3/lib/python3.7/site-packages/numpy/core/fromnumeric.py:90: RuntimeWarning: overflow encountered in reduce\n",
      "  return ufunc.reduce(obj, axis, dtype, out, **passkwargs)\n",
      "/work/anaconda3/lib/python3.7/site-packages/numpy/core/fromnumeric.py:90: RuntimeWarning: overflow encountered in reduce\n",
      "  return ufunc.reduce(obj, axis, dtype, out, **passkwargs)\n"
     ]
    },
    {
     "data": {
      "text/plain": [
       "(array([3.31240929e-002, 3.44745602e-003, 2.73955544e-003, 3.24112459e-003,\n",
       "        2.71063923e-003, 2.65350201e-002, 0.00000000e+000, 2.01667272e-003,\n",
       "        1.34977744e-002, 3.25239474e-001, 0.00000000e+000, 6.43178996e-001,\n",
       "        1.84628878e-001, 8.38238214e-305, 1.02068297e-307, 4.60137547e-004,\n",
       "        2.63561188e-003, 1.30592278e-002, 1.39192099e-006, 3.11288629e-002,\n",
       "        1.23900737e-003, 4.74153524e-003, 1.67140414e-002, 1.55102014e-006,\n",
       "        3.31241995e-002, 9.92798499e-004, 3.32219493e-003, 1.45121220e-002,\n",
       "        4.29280993e-005, 0.00000000e+000, 0.00000000e+000, 0.00000000e+000,\n",
       "        0.00000000e+000, 4.39098019e-003, 2.78922661e-003, 2.43195026e-006,\n",
       "        5.53478335e-006, 0.00000000e+000, 3.25239474e-001, 5.38984139e-001,\n",
       "        4.87198333e-001, 2.37362216e-001, 0.00000000e+000, 1.00000000e+000,\n",
       "        0.00000000e+000, 0.00000000e+000, 0.00000000e+000, 0.00000000e+000,\n",
       "        0.00000000e+000, 0.00000000e+000, 1.11111111e-001, 5.45675003e-001,\n",
       "        2.01667272e-003, 6.43178996e-001, 0.00000000e+000, 0.00000000e+000,\n",
       "        0.00000000e+000, 0.00000000e+000, 0.00000000e+000, 0.00000000e+000,\n",
       "        3.44745602e-003, 3.24112459e-003, 2.73955544e-003, 2.71063923e-003,\n",
       "        0.00000000e+000, 8.91265869e-002, 5.34759358e-003, 0.00000000e+000,\n",
       "        0.00000000e+000, 0.00000000e+000, 0.00000000e+000, 0.00000000e+000,\n",
       "        0.00000000e+000, 0.00000000e+000, 0.00000000e+000, 0.00000000e+000]),\n",
       " 1)"
      ]
     },
     "execution_count": 6,
     "metadata": {},
     "output_type": "execute_result"
    }
   ],
   "source": [
    "y = label_encoder(y)\n",
    "X = max_min_sc(X)\n",
    "X[0],y[0]"
   ]
  },
  {
   "cell_type": "code",
   "execution_count": 7,
   "metadata": {},
   "outputs": [],
   "source": [
    "def split_X_y(X, y):\n",
    "    # 拆分数据集\n",
    "    from sklearn.model_selection import train_test_split\n",
    "    X_train, X_test, y_train, y_test = train_test_split(X,\n",
    "                                                        y,\n",
    "                                                        test_size=0.2,\n",
    "                                                        random_state=2019)\n",
    "    return X_train, X_test, y_train, y_test\n",
    "\n",
    "\n",
    "def classify_re(y_test, y_pred):\n",
    "    #准确率\n",
    "    from sklearn.metrics import classification_report\n",
    "    return classification_report(y_test, y_pred)"
   ]
  },
  {
   "cell_type": "markdown",
   "metadata": {},
   "source": [
    "##### 1.降维处理"
   ]
  },
  {
   "cell_type": "code",
   "execution_count": 8,
   "metadata": {},
   "outputs": [
    {
     "data": {
      "text/plain": [
       "(19999, 76)"
      ]
     },
     "execution_count": 8,
     "metadata": {},
     "output_type": "execute_result"
    }
   ],
   "source": [
    "X.shape"
   ]
  },
  {
   "cell_type": "code",
   "execution_count": 9,
   "metadata": {},
   "outputs": [
    {
     "data": {
      "text/plain": [
       "45.6"
      ]
     },
     "execution_count": 9,
     "metadata": {},
     "output_type": "execute_result"
    }
   ],
   "source": [
    "76*0.6"
   ]
  },
  {
   "cell_type": "code",
   "execution_count": 10,
   "metadata": {},
   "outputs": [],
   "source": [
    "def pca_data(X, n_components=45, random_state=2019):\n",
    "    from sklearn.decomposition import PCA\n",
    "    pca = PCA(n_components=n_components,\n",
    "              copy=True,\n",
    "              whiten=False,\n",
    "              svd_solver='auto',\n",
    "              tol=0.0,\n",
    "              iterated_power='auto',\n",
    "              random_state=random_state)\n",
    "    return pca.fit_transform(\n",
    "        X), pca.explained_variance_ratio_, pca.singular_values_"
   ]
  },
  {
   "cell_type": "markdown",
   "metadata": {},
   "source": [
    "- https://www.zhihu.com/question/38417101\n",
    "- pca.explained_variance_ratio_(方差贡献占比)\n",
    "- pca.explained_variance_(方差贡献绝对值)\n",
    "- PCA是将n维特征映射到k维上（k<n），这k维特征是全新的正交特征，称为主元，是重新构造出来的k维特征，\n",
    "- 而不是简单的从n维特征中去除其余n-k维特征。\n",
    "- 降维后的结果是原来数据的所有特征。结果的每一个变量都是原先所有变量的加权组合"
   ]
  },
  {
   "cell_type": "code",
   "execution_count": 11,
   "metadata": {},
   "outputs": [
    {
     "name": "stdout",
     "output_type": "stream",
     "text": [
      "[2.68735127e-01 2.44756573e-01 1.19266788e-01 9.65690864e-02\n",
      " 5.39822740e-02 4.17387508e-02 3.67864401e-02 2.07676240e-02\n",
      " 1.72236664e-02 1.39918227e-02 1.32116949e-02 1.11161321e-02\n",
      " 8.85501104e-03 8.55305747e-03 6.97260852e-03 5.04682553e-03\n",
      " 4.38246159e-03 3.99689348e-03 3.33249539e-03 2.93551983e-03\n",
      " 2.62955718e-03 2.20125081e-03 1.82313688e-03 1.62522439e-03\n",
      " 1.31908411e-03 1.05203715e-03 8.53099894e-04 7.73985002e-04\n",
      " 6.61434628e-04 5.68206171e-04 5.40145696e-04 4.89881023e-04\n",
      " 4.53437090e-04 4.49056984e-04 3.95619548e-04 3.74279904e-04\n",
      " 3.22097093e-04 2.67810663e-04 2.47631927e-04 1.79533144e-04\n",
      " 1.32559527e-04 8.99970375e-05 7.90088484e-05 6.33008993e-05\n",
      " 5.06575095e-05]\n",
      "[89.78763753 85.68829632 59.81554818 53.82367996 40.24203307 35.38539511\n",
      " 33.21989132 24.96018111 22.73092605 20.48761824 19.9082733  18.26127833\n",
      " 16.29854664 16.01824829 14.46278623 12.30448586 11.46603822 10.95003766\n",
      "  9.99859793  9.38419092  8.88169051  8.12622962  7.39543909  6.98250077\n",
      "  6.29057828  5.61784644  5.05887874  4.81859692  4.45448796  4.12864269\n",
      "  4.02540689  3.83353678  3.68818627  3.67032949  3.4450315   3.35083143\n",
      "  3.1084775   2.83444646  2.72557191  2.32074084  1.99415907  1.64311679\n",
      "  1.53954431  1.37803188  1.2327535 ]\n",
      "CPU times: user 3.05 s, sys: 5.98 s, total: 9.03 s\n",
      "Wall time: 22.3 s\n"
     ]
    }
   ],
   "source": [
    "%%time\n",
    "X_pca, evr, sv = pca_data(X)\n",
    "print(evr)\n",
    "print(sv)"
   ]
  },
  {
   "cell_type": "markdown",
   "metadata": {},
   "source": [
    "##### 3.xgboost选择重要性"
   ]
  },
  {
   "cell_type": "code",
   "execution_count": 12,
   "metadata": {},
   "outputs": [],
   "source": [
    "X_train, X_test, y_train, y_test = split_X_y(X_pca, y)"
   ]
  },
  {
   "cell_type": "code",
   "execution_count": 13,
   "metadata": {},
   "outputs": [],
   "source": [
    "def xgb_model(X_train, y_train):\n",
    "    import xgboost as xgb\n",
    "    xgb_model_sk = xgb.XGBClassifier(max_depth=5,\n",
    "                                     learning_rate=0.1,\n",
    "                                     n_estimators=160,\n",
    "                                     verbosity=1,\n",
    "                                     silent=True,\n",
    "                                     objective='binary:logistic',\n",
    "                                     booster='gbtree',\n",
    "                                     n_jobs=1,\n",
    "                                     nthread=None,\n",
    "                                     gamma=0,\n",
    "                                     min_child_weight=1,\n",
    "                                     max_delta_step=0,\n",
    "                                     subsample=1,\n",
    "                                     colsample_bytree=1,\n",
    "                                     colsample_bylevel=1,\n",
    "                                     colsample_bynode=1,\n",
    "                                     reg_alpha=0,\n",
    "                                     reg_lambda=1,\n",
    "                                     scale_pos_weight=1,\n",
    "                                     base_score=0.5,\n",
    "                                     random_state=0,\n",
    "                                     seed=None,\n",
    "                                     missing=None)\n",
    "    xgb_model_sk.fit(X_train, y_train)\n",
    "    return xgb_model_sk"
   ]
  },
  {
   "cell_type": "code",
   "execution_count": 14,
   "metadata": {},
   "outputs": [
    {
     "name": "stdout",
     "output_type": "stream",
     "text": [
      "CPU times: user 15.8 s, sys: 0 ns, total: 15.8 s\n",
      "Wall time: 17.5 s\n"
     ]
    }
   ],
   "source": [
    "%%time\n",
    "xgb_model_ddos = xgb_model(X_train, y_train)\n",
    "y_pred=xgb_model_ddos.predict(X_test)"
   ]
  },
  {
   "cell_type": "code",
   "execution_count": 15,
   "metadata": {},
   "outputs": [
    {
     "name": "stdout",
     "output_type": "stream",
     "text": [
      "              precision    recall  f1-score   support\n",
      "\n",
      "           0       1.00      1.00      1.00      1992\n",
      "           1       1.00      1.00      1.00      2008\n",
      "\n",
      "    accuracy                           1.00      4000\n",
      "   macro avg       1.00      1.00      1.00      4000\n",
      "weighted avg       1.00      1.00      1.00      4000\n",
      "\n"
     ]
    }
   ],
   "source": [
    "print(classify_re(y_test,y_pred))"
   ]
  },
  {
   "cell_type": "code",
   "execution_count": 16,
   "metadata": {},
   "outputs": [],
   "source": [
    "from matplotlib import pyplot as plt\n",
    "import seaborn as sns\n",
    "%matplotlib inline\n",
    "sns.set_style(\"whitegrid\")"
   ]
  },
  {
   "cell_type": "code",
   "execution_count": 17,
   "metadata": {},
   "outputs": [
    {
     "data": {
      "text/plain": [
       "<matplotlib.axes._subplots.AxesSubplot at 0x7f2ee88df8d0>"
      ]
     },
     "execution_count": 17,
     "metadata": {},
     "output_type": "execute_result"
    },
    {
     "data": {
      "image/png": "[encoded data removed]",
      "text/plain": [
       "<Figure size 432x288 with 1 Axes>"
      ]
     },
     "metadata": {
      "needs_background": "light"
     },
     "output_type": "display_data"
    }
   ],
   "source": [
    "import xgboost as xgb\n",
    "xgb.plot_importance(xgb_model_ddos, max_num_features=20)"
   ]
  },
  {
   "cell_type": "code",
   "execution_count": 18,
   "metadata": {},
   "outputs": [
    {
     "data": {
      "text/plain": [
       "array([ 0.35759153,  0.05136076,  0.20415769,  0.04779349,  0.06005367,\n",
       "        0.03970013,  0.03291846,  0.04145772, -0.00388655,  0.04392984])"
      ]
     },
     "execution_count": 18,
     "metadata": {},
     "output_type": "execute_result"
    }
   ],
   "source": [
    "# 3\n",
    "X_pca[:10,3]"
   ]
  },
  {
   "cell_type": "code",
   "execution_count": 19,
   "metadata": {},
   "outputs": [
    {
     "data": {
      "text/plain": [
       "array([0.00078076, 0.0010877 , 0.00109845, 0.00110977, 0.00136431,\n",
       "       0.00154486, 0.00159432, 0.00160147, 0.00185064, 0.00208671],\n",
       "      dtype=float32)"
      ]
     },
     "execution_count": 19,
     "metadata": {},
     "output_type": "execute_result"
    }
   ],
   "source": [
    "# Fit model using each importance as a threshold\n",
    "thresholds = np.sort(xgb_model_ddos.feature_importances_)\n",
    "thresholds[:10]"
   ]
  },
  {
   "cell_type": "code",
   "execution_count": 20,
   "metadata": {},
   "outputs": [
    {
     "name": "stdout",
     "output_type": "stream",
     "text": [
      "[ True  True  True  True  True  True  True  True  True  True  True  True\n",
      "  True  True  True  True  True  True  True  True  True  True  True  True\n",
      "  True  True  True  True  True  True  True  True  True  True  True  True\n",
      "  True  True  True  True  True  True  True  True  True]\n",
      "Thresh=0.00078, n=45, Accuracy: 99.5250%\n",
      "[ True  True  True  True  True  True  True  True  True False  True  True\n",
      "  True  True  True  True  True  True  True  True  True  True  True  True\n",
      "  True  True  True  True  True  True  True  True  True  True  True  True\n",
      "  True  True  True  True  True  True  True  True  True]\n",
      "Thresh=0.00109, n=44, Accuracy: 99.5750%\n",
      "[ True  True  True  True  True  True  True  True  True False  True  True\n",
      "  True  True  True  True  True  True  True  True  True  True  True  True\n",
      "  True  True  True  True  True  True  True  True  True  True  True  True\n",
      "  True  True False  True  True  True  True  True  True]\n",
      "Thresh=0.00110, n=43, Accuracy: 99.6000%\n",
      "[ True  True  True  True  True  True  True  True  True False  True  True\n",
      "  True  True  True  True  True  True  True  True  True  True  True False\n",
      "  True  True  True  True  True  True  True  True  True  True  True  True\n",
      "  True  True False  True  True  True  True  True  True]\n",
      "Thresh=0.00111, n=42, Accuracy: 99.6000%\n",
      "[ True  True  True  True  True  True  True  True  True False  True  True\n",
      "  True  True  True  True  True  True  True  True  True  True  True False\n",
      "  True  True  True  True  True False  True  True  True  True  True  True\n",
      "  True  True False  True  True  True  True  True  True]\n",
      "Thresh=0.00136, n=41, Accuracy: 99.6000%\n",
      "[ True  True  True  True  True  True  True  True  True False  True  True\n",
      "  True  True  True  True  True  True  True  True  True  True  True False\n",
      "  True  True  True  True False False  True  True  True  True  True  True\n",
      "  True  True False  True  True  True  True  True  True]\n",
      "Thresh=0.00154, n=40, Accuracy: 99.5250%\n",
      "[ True  True  True  True  True  True  True  True  True False  True  True\n",
      "  True  True  True  True  True  True  True  True  True  True  True False\n",
      "  True  True  True  True False False  True  True  True  True  True  True\n",
      "  True  True False  True  True False  True  True  True]\n",
      "Thresh=0.00159, n=39, Accuracy: 99.5250%\n",
      "[ True  True  True  True  True  True  True  True  True False  True  True\n",
      "  True  True  True  True  True  True  True  True  True  True  True False\n",
      "  True  True  True  True False False  True  True  True  True  True  True\n",
      "  True  True False  True  True False  True False  True]\n",
      "Thresh=0.00160, n=38, Accuracy: 99.6000%\n",
      "[ True  True  True  True  True  True  True  True  True False  True  True\n",
      "  True  True  True  True  True  True  True False  True  True  True False\n",
      "  True  True  True  True False False  True  True  True  True  True  True\n",
      "  True  True False  True  True False  True False  True]\n",
      "Thresh=0.00185, n=37, Accuracy: 99.6000%\n",
      "[ True  True  True  True  True  True  True  True  True False  True  True\n",
      "  True  True  True  True  True  True  True False  True  True  True False\n",
      "  True  True  True  True False False  True  True  True  True  True  True\n",
      " False  True False  True  True False  True False  True]\n",
      "Thresh=0.00209, n=36, Accuracy: 99.5500%\n",
      "[ True  True  True  True  True  True  True  True  True False False  True\n",
      "  True  True  True  True  True  True  True False  True  True  True False\n",
      "  True  True  True  True False False  True  True  True  True  True  True\n",
      " False  True False  True  True False  True False  True]\n",
      "Thresh=0.00210, n=35, Accuracy: 99.6500%\n",
      "[ True  True  True  True  True  True  True  True  True False False  True\n",
      "  True  True  True  True  True  True  True False False  True  True False\n",
      "  True  True  True  True False False  True  True  True  True  True  True\n",
      " False  True False  True  True False  True False  True]\n",
      "Thresh=0.00212, n=34, Accuracy: 99.5500%\n",
      "[ True  True  True  True  True  True  True  True  True False False  True\n",
      "  True  True  True  True  True False  True False False  True  True False\n",
      "  True  True  True  True False False  True  True  True  True  True  True\n",
      " False  True False  True  True False  True False  True]\n",
      "Thresh=0.00213, n=33, Accuracy: 99.5250%\n",
      "[ True  True  True  True  True  True  True  True  True False False  True\n",
      "  True  True  True  True False False  True False False  True  True False\n",
      "  True  True  True  True False False  True  True  True  True  True  True\n",
      " False  True False  True  True False  True False  True]\n",
      "Thresh=0.00217, n=32, Accuracy: 99.5500%\n",
      "[ True  True  True  True  True  True  True  True  True False False  True\n",
      "  True  True  True  True False False  True False False  True  True False\n",
      "  True  True  True  True False False False  True  True  True  True  True\n",
      " False  True False  True  True False  True False  True]\n",
      "Thresh=0.00225, n=31, Accuracy: 99.5500%\n",
      "[ True  True  True  True  True  True  True  True  True False False  True\n",
      "  True  True  True  True False False  True False False  True  True False\n",
      "  True  True  True  True False False False  True  True  True  True False\n",
      " False  True False  True  True False  True False  True]\n",
      "Thresh=0.00232, n=30, Accuracy: 99.5250%\n",
      "[ True  True  True  True  True False  True  True  True False False  True\n",
      "  True  True  True  True False False  True False False  True  True False\n",
      "  True  True  True  True False False False  True  True  True  True False\n",
      " False  True False  True  True False  True False  True]\n",
      "Thresh=0.00235, n=29, Accuracy: 99.5500%\n",
      "[ True  True  True  True  True False  True  True  True False False  True\n",
      "  True  True  True  True False False  True False False  True  True False\n",
      "  True  True  True  True False False False  True  True  True  True False\n",
      " False  True False  True False False  True False  True]\n",
      "Thresh=0.00253, n=28, Accuracy: 99.5500%\n",
      "[ True  True  True  True  True False  True  True False False False  True\n",
      "  True  True  True  True False False  True False False  True  True False\n",
      "  True  True  True  True False False False  True  True  True  True False\n",
      " False  True False  True False False  True False  True]\n",
      "Thresh=0.00262, n=27, Accuracy: 99.6000%\n",
      "[ True  True  True  True  True False  True False False False False  True\n",
      "  True  True  True  True False False  True False False  True  True False\n",
      "  True  True  True  True False False False  True  True  True  True False\n",
      " False  True False  True False False  True False  True]\n",
      "Thresh=0.00271, n=26, Accuracy: 99.5500%\n",
      "[ True  True  True  True  True False  True False False False False  True\n",
      "  True  True  True  True False False  True False False  True  True False\n",
      "  True False  True  True False False False  True  True  True  True False\n",
      " False  True False  True False False  True False  True]\n",
      "Thresh=0.00280, n=25, Accuracy: 99.5500%\n",
      "[ True  True  True  True  True False  True False False False False  True\n",
      "  True  True  True  True False False  True False False  True False False\n",
      "  True False  True  True False False False  True  True  True  True False\n",
      " False  True False  True False False  True False  True]\n",
      "Thresh=0.00285, n=24, Accuracy: 99.5500%\n",
      "[ True  True  True  True  True False  True False False False False  True\n",
      "  True  True  True  True False False  True False False  True False False\n",
      "  True False  True  True False False False  True  True  True  True False\n",
      " False  True False False False False  True False  True]\n",
      "Thresh=0.00288, n=23, Accuracy: 99.5000%\n",
      "[ True  True  True  True  True False  True False False False False  True\n",
      "  True  True  True False False False  True False False  True False False\n",
      "  True False  True  True False False False  True  True  True  True False\n",
      " False  True False False False False  True False  True]\n",
      "Thresh=0.00293, n=22, Accuracy: 99.5250%\n",
      "[ True  True  True  True  True False  True False False False False  True\n",
      " False  True  True False False False  True False False  True False False\n",
      "  True False  True  True False False False  True  True  True  True False\n",
      " False  True False False False False  True False  True]\n",
      "Thresh=0.00309, n=21, Accuracy: 99.5250%\n",
      "[ True  True  True  True  True False  True False False False False  True\n",
      " False  True  True False False False  True False False False False False\n",
      "  True False  True  True False False False  True  True  True  True False\n",
      " False  True False False False False  True False  True]\n",
      "Thresh=0.00332, n=20, Accuracy: 99.4250%\n",
      "[ True  True  True  True  True False  True False False False False  True\n",
      " False  True  True False False False  True False False False False False\n",
      "  True False  True  True False False False  True False  True  True False\n",
      " False  True False False False False  True False  True]\n"
     ]
    },
    {
     "name": "stdout",
     "output_type": "stream",
     "text": [
      "Thresh=0.00360, n=19, Accuracy: 99.4250%\n",
      "[ True  True  True  True  True False  True False False False False  True\n",
      " False  True  True False False False  True False False False False False\n",
      "  True False False  True False False False  True False  True  True False\n",
      " False  True False False False False  True False  True]\n",
      "Thresh=0.00365, n=18, Accuracy: 99.4500%\n",
      "[ True  True  True  True  True False  True False False False False  True\n",
      " False  True  True False False False  True False False False False False\n",
      "  True False False  True False False False  True False False  True False\n",
      " False  True False False False False  True False  True]\n",
      "Thresh=0.00372, n=17, Accuracy: 99.4500%\n",
      "[ True  True  True  True  True False  True False False False False  True\n",
      " False  True  True False False False  True False False False False False\n",
      "  True False False  True False False False  True False False  True False\n",
      " False False False False False False  True False  True]\n",
      "Thresh=0.00374, n=16, Accuracy: 99.4500%\n",
      "[ True  True  True  True  True False  True False False False False  True\n",
      " False  True  True False False False  True False False False False False\n",
      " False False False  True False False False  True False False  True False\n",
      " False False False False False False  True False  True]\n",
      "Thresh=0.00439, n=15, Accuracy: 99.4250%\n",
      "[ True  True  True  True  True False  True False False False False  True\n",
      " False  True  True False False False  True False False False False False\n",
      " False False False  True False False False  True False False  True False\n",
      " False False False False False False  True False False]\n",
      "Thresh=0.00482, n=14, Accuracy: 99.4000%\n",
      "[ True  True  True  True  True False  True False False False False  True\n",
      " False  True  True False False False  True False False False False False\n",
      " False False False  True False False False  True False False  True False\n",
      " False False False False False False False False False]\n",
      "Thresh=0.00549, n=13, Accuracy: 99.4000%\n",
      "[ True  True  True  True  True False  True False False False False  True\n",
      " False  True  True False False False  True False False False False False\n",
      " False False False  True False False False  True False False False False\n",
      " False False False False False False False False False]\n",
      "Thresh=0.00582, n=12, Accuracy: 99.4250%\n",
      "[False  True  True  True  True False  True False False False False  True\n",
      " False  True  True False False False  True False False False False False\n",
      " False False False  True False False False  True False False False False\n",
      " False False False False False False False False False]\n",
      "Thresh=0.00582, n=11, Accuracy: 99.4000%\n",
      "[False  True  True  True  True False  True False False False False  True\n",
      " False  True False False False False  True False False False False False\n",
      " False False False  True False False False  True False False False False\n",
      " False False False False False False False False False]\n",
      "Thresh=0.00629, n=10, Accuracy: 99.4500%\n",
      "[False  True  True  True  True False  True False False False False  True\n",
      " False  True False False False False False False False False False False\n",
      " False False False  True False False False  True False False False False\n",
      " False False False False False False False False False]\n",
      "Thresh=0.00672, n=9, Accuracy: 99.3750%\n",
      "[False  True  True  True  True False False False False False False  True\n",
      " False  True False False False False False False False False False False\n",
      " False False False  True False False False  True False False False False\n",
      " False False False False False False False False False]\n",
      "Thresh=0.00750, n=8, Accuracy: 99.3500%\n",
      "[False  True False  True  True False False False False False False  True\n",
      " False  True False False False False False False False False False False\n",
      " False False False  True False False False  True False False False False\n",
      " False False False False False False False False False]\n",
      "Thresh=0.00998, n=7, Accuracy: 99.3250%\n",
      "[False  True False  True  True False False False False False False  True\n",
      " False  True False False False False False False False False False False\n",
      " False False False False False False False  True False False False False\n",
      " False False False False False False False False False]\n",
      "Thresh=0.01208, n=6, Accuracy: 99.3000%\n",
      "[False  True False  True  True False False False False False False  True\n",
      " False  True False False False False False False False False False False\n",
      " False False False False False False False False False False False False\n",
      " False False False False False False False False False]\n",
      "Thresh=0.01387, n=5, Accuracy: 99.2500%\n",
      "[False  True False  True  True False False False False False False  True\n",
      " False False False False False False False False False False False False\n",
      " False False False False False False False False False False False False\n",
      " False False False False False False False False False]\n",
      "Thresh=0.01393, n=4, Accuracy: 99.1500%\n",
      "[False  True False  True  True False False False False False False False\n",
      " False False False False False False False False False False False False\n",
      " False False False False False False False False False False False False\n",
      " False False False False False False False False False]\n",
      "Thresh=0.04493, n=3, Accuracy: 98.8750%\n",
      "[False  True False False  True False False False False False False False\n",
      " False False False False False False False False False False False False\n",
      " False False False False False False False False False False False False\n",
      " False False False False False False False False False]\n",
      "Thresh=0.32759, n=2, Accuracy: 98.4000%\n",
      "[False  True False False False False False False False False False False\n",
      " False False False False False False False False False False False False\n",
      " False False False False False False False False False False False False\n",
      " False False False False False False False False False]\n",
      "Thresh=0.46077, n=1, Accuracy: 96.9500%\n"
     ]
    }
   ],
   "source": [
    "from sklearn.feature_selection import SelectFromModel\n",
    "from sklearn.metrics import accuracy_score\n",
    "for thresh in thresholds:\n",
    "    # select features using threshold\n",
    "    selection = SelectFromModel(xgb_model_ddos, threshold=thresh, prefit=True)\n",
    "    print(selection.get_support())\n",
    "    # X_train(selection.get_support)\n",
    "    select_X_train = selection.transform(X_train)\n",
    "    # train model\n",
    "    selection_model = xgb.XGBClassifier()\n",
    "    selection_model.fit(select_X_train, y_train)\n",
    "    # eval model\n",
    "    select_X_test = selection.transform(X_test)\n",
    "    y_pred = selection_model.predict(select_X_test)\n",
    "    predictions = [round(value) for value in y_pred]\n",
    "    accuracy = accuracy_score(y_test, predictions)\n",
    "    print(\"Thresh=%.5f, n=%d, Accuracy: %.4f%%\" %\n",
    "          (thresh, select_X_train.shape[1], accuracy * 100.0))"
   ]
  },
  {
   "cell_type": "markdown",
   "metadata": {},
   "source": [
    "##### 4. 去除重要性，比较"
   ]
  },
  {
   "cell_type": "code",
   "execution_count": 28,
   "metadata": {},
   "outputs": [
    {
     "data": {
      "text/plain": [
       "array([ 9.89452247e-01, -4.82675621e-01, -2.43201367e-01,  3.57591526e-01,\n",
       "        1.41644223e-02,  6.12840290e-01, -2.62354935e-01,  6.55388902e-02,\n",
       "       -1.13376729e-01, -1.20533229e-01, -1.00830164e-02, -6.47827060e-03,\n",
       "       -3.80340298e-02,  9.78879698e-02, -1.44851204e-01,  8.85276139e-02,\n",
       "        1.63364577e-01, -5.28317184e-02, -1.78599752e-02,  3.80277456e-02,\n",
       "        4.56697174e-03, -5.09687593e-02,  1.64078586e-02,  3.29385820e-02,\n",
       "        5.66689349e-03, -2.88941511e-02, -3.48653182e-04,  2.53975841e-03,\n",
       "       -1.01383720e-02, -1.32587846e-02, -8.59865545e-03, -5.41281916e-03,\n",
       "        2.73154409e-03, -1.02581045e-02,  1.68630905e-03, -4.24608011e-02,\n",
       "        2.60740484e-02,  1.54279838e-02, -3.06321533e-02,  6.83095793e-04,\n",
       "        7.50503597e-03,  1.69389341e-02, -1.22588099e-02,  2.86561956e-02,\n",
       "        1.46361304e-02])"
      ]
     },
     "execution_count": 28,
     "metadata": {},
     "output_type": "execute_result"
    }
   ],
   "source": [
    "X_pca[0]"
   ]
  },
  {
   "cell_type": "code",
   "execution_count": 39,
   "metadata": {},
   "outputs": [
    {
     "data": {
      "text/plain": [
       "array([0.00629107, 0.00671652, 0.00750427, 0.00997738, 0.01207798,\n",
       "       0.01386656, 0.01393139, 0.04492709, 0.32759264, 0.4607689 ],\n",
       "      dtype=float32)"
      ]
     },
     "execution_count": 39,
     "metadata": {},
     "output_type": "execute_result"
    }
   ],
   "source": [
    "fi=xgb_model_ddos.feature_importances_\n",
    "top_10=thresholds[-10:]\n",
    "top_10"
   ]
  },
  {
   "cell_type": "code",
   "execution_count": 57,
   "metadata": {},
   "outputs": [
    {
     "data": {
      "text/plain": [
       "array([0.00582108, 0.4607689 , 0.00750427, 0.04492709, 0.32759264,\n",
       "       0.00231725, 0.00671652, 0.00261799, 0.00252689, 0.00078076,\n",
       "       0.00208671, 0.01393139, 0.00293026, 0.01386656, 0.00582361,\n",
       "       0.00287899, 0.002126  , 0.00211998, 0.00629107, 0.00160147,\n",
       "       0.00210397, 0.00309391, 0.00280467, 0.00109845, 0.00374288,\n",
       "       0.00270629, 0.00360446, 0.00997738, 0.00136431, 0.00110977,\n",
       "       0.00216646, 0.01207798, 0.00332099, 0.00364698, 0.00548773,\n",
       "       0.00225112, 0.00185064, 0.00372363, 0.0010877 , 0.00284685,\n",
       "       0.00234686, 0.00154486, 0.00482495, 0.00159432, 0.00439334],\n",
       "      dtype=float32)"
      ]
     },
     "execution_count": 57,
     "metadata": {},
     "output_type": "execute_result"
    }
   ],
   "source": [
    "fi"
   ]
  },
  {
   "cell_type": "code",
   "execution_count": 75,
   "metadata": {},
   "outputs": [
    {
     "name": "stdout",
     "output_type": "stream",
     "text": [
      "[1, 4, 3, 11, 13, 31, 27, 2, 6, 18, 14, 0, 34, 42, 44, 24, 37, 33, 26, 32, 21, 12, 15, 39, 22, 25, 7, 8, 40, 5, 35, 30, 16, 17, 20, 10, 36, 19, 43, 41, 28, 29, 23, 38, 9]\n"
     ]
    }
   ],
   "source": [
    "sort_index=sorted(range(len(fi)), key=lambda k: fi[k],reverse=True)\n",
    "print(sort_index)"
   ]
  },
  {
   "cell_type": "code",
   "execution_count": 102,
   "metadata": {},
   "outputs": [],
   "source": [
    "def drop_top_n(X, indexs=sort_index, n=5):\n",
    "    # change dataset\n",
    "    X = X[:, indexs[n:]]\n",
    "    # split train and test\n",
    "    X_train, X_test, y_train, y_test = split_X_y(X, y)\n",
    "    model = xgb.XGBClassifier()\n",
    "    model.fit(X_train, y_train)\n",
    "    y_pred = model.predict(X_test)\n",
    "    print(\"Drop top %d, Accuracy: %.4f%%\" %\n",
    "          (n, accuracy_score(y_test, y_pred) * 100.0))"
   ]
  },
  {
   "cell_type": "code",
   "execution_count": 105,
   "metadata": {
    "scrolled": true
   },
   "outputs": [
    {
     "name": "stdout",
     "output_type": "stream",
     "text": [
      "Drop top 6, Accuracy: 99.4750%\n",
      "Drop top 7, Accuracy: 99.4250%\n",
      "Drop top 8, Accuracy: 99.5000%\n",
      "Drop top 9, Accuracy: 99.4750%\n",
      "Drop top 10, Accuracy: 99.5000%\n",
      "Drop top 11, Accuracy: 99.4750%\n",
      "Drop top 12, Accuracy: 99.1500%\n",
      "Drop top 13, Accuracy: 99.2750%\n",
      "Drop top 14, Accuracy: 99.2250%\n",
      "Drop top 15, Accuracy: 99.2000%\n",
      "Drop top 16, Accuracy: 99.1000%\n",
      "Drop top 17, Accuracy: 99.1250%\n",
      "Drop top 18, Accuracy: 99.2500%\n",
      "Drop top 19, Accuracy: 99.1750%\n",
      "Drop top 20, Accuracy: 99.3000%\n",
      "Drop top 21, Accuracy: 99.3250%\n",
      "Drop top 22, Accuracy: 99.0750%\n",
      "Drop top 23, Accuracy: 99.0750%\n",
      "Drop top 24, Accuracy: 99.2500%\n",
      "Drop top 25, Accuracy: 99.0750%\n",
      "Drop top 26, Accuracy: 99.0750%\n",
      "Drop top 27, Accuracy: 99.0250%\n",
      "Drop top 28, Accuracy: 98.7000%\n",
      "Drop top 29, Accuracy: 98.6500%\n",
      "Drop top 30, Accuracy: 98.6000%\n",
      "Drop top 31, Accuracy: 98.4500%\n",
      "Drop top 32, Accuracy: 98.3750%\n",
      "Drop top 33, Accuracy: 98.0000%\n",
      "Drop top 34, Accuracy: 97.9500%\n",
      "Drop top 35, Accuracy: 97.6750%\n",
      "Drop top 36, Accuracy: 96.7500%\n",
      "Drop top 37, Accuracy: 96.3750%\n",
      "Drop top 38, Accuracy: 96.1000%\n",
      "Drop top 39, Accuracy: 95.7000%\n",
      "Drop top 40, Accuracy: 95.2750%\n"
     ]
    }
   ],
   "source": [
    "for i in range(5, 40):\n",
    "    drop_top_n(X_pca, n=i + 1)"
   ]
  },
  {
   "cell_type": "markdown",
   "metadata": {},
   "source": [
    "可以看出，经过pca降维组合后的数据，当根据指标的重要性筛选出特征直到drop 30 以上 ，指标才会有些许变化，\n",
    "接下来选取后10-15个 重要性比较低的特征做预测处理"
   ]
  },
  {
   "cell_type": "markdown",
   "metadata": {},
   "source": [
    "##### 5. 新增派生特征"
   ]
  },
  {
   "cell_type": "code",
   "execution_count": 106,
   "metadata": {},
   "outputs": [
    {
     "data": {
      "text/plain": [
       "(19999, 10)"
      ]
     },
     "execution_count": 106,
     "metadata": {},
     "output_type": "execute_result"
    }
   ],
   "source": [
    "X_drop10=X_pca[:, sort_index[35:]]\n",
    "X_drop10.shape"
   ]
  },
  {
   "cell_type": "code",
   "execution_count": 108,
   "metadata": {},
   "outputs": [
    {
     "name": "stdout",
     "output_type": "stream",
     "text": [
      "              precision    recall  f1-score   support\n",
      "\n",
      "           0       0.98      0.97      0.98      1992\n",
      "           1       0.97      0.98      0.98      2008\n",
      "\n",
      "    accuracy                           0.98      4000\n",
      "   macro avg       0.98      0.98      0.98      4000\n",
      "weighted avg       0.98      0.98      0.98      4000\n",
      "\n"
     ]
    }
   ],
   "source": [
    "# 此时的分类矩阵为\n",
    "X_drop10_train, X_drop10_test, _, _ = split_X_y(X_drop10, y)\n",
    "# default\n",
    "xgb_drop10_model = xgb.XGBClassifier(learning_rate=0.1,\n",
    "                                     n_estimators=100,\n",
    "                                     verbosity=1,\n",
    "                                     silent=None,\n",
    "                                     objective='binary:logistic',\n",
    "                                     booster='gbtree',\n",
    "                                     n_jobs=1,\n",
    "                                     nthread=None,\n",
    "                                     gamma=0,\n",
    "                                     min_child_weight=1,\n",
    "                                     max_delta_step=0,\n",
    "                                     subsample=1,\n",
    "                                     colsample_bytree=1,\n",
    "                                     colsample_bylevel=1,\n",
    "                                     colsample_bynode=1,\n",
    "                                     reg_alpha=0,\n",
    "                                     reg_lambda=1,\n",
    "                                     scale_pos_weight=1,\n",
    "                                     base_score=0.5,\n",
    "                                     random_state=0,\n",
    "                                     seed=None,\n",
    "                                     missing=None)\n",
    "xgb_drop10_model.fit(X_drop10_train, y_train)\n",
    "y_drop10_pred = xgb_drop10_model.predict(X_drop10_test)\n",
    "print(classify_re(y_test, y_drop10_pred))"
   ]
  },
  {
   "cell_type": "code",
   "execution_count": 109,
   "metadata": {},
   "outputs": [
    {
     "name": "stdout",
     "output_type": "stream",
     "text": [
      "              precision    recall  f1-score   support\n",
      "\n",
      "           0       0.99      0.99      0.99      1992\n",
      "           1       0.99      0.99      0.99      2008\n",
      "\n",
      "    accuracy                           0.99      4000\n",
      "   macro avg       0.99      0.99      0.99      4000\n",
      "weighted avg       0.99      0.99      0.99      4000\n",
      "\n"
     ]
    }
   ],
   "source": [
    "# 简单调参增加n_estimators后就能提高 1-2个百分点\n",
    "print(classify_re(y_test,xgb_model(X_drop10_train, y_train).predict(X_drop10_test)))"
   ]
  },
  {
   "cell_type": "markdown",
   "metadata": {},
   "source": [
    "从原来的X的特征中加入port和Protocol 加入"
   ]
  },
  {
   "cell_type": "code",
   "execution_count": 112,
   "metadata": {},
   "outputs": [
    {
     "data": {
      "text/html": [
       "<div>\n",
       "<style scoped>\n",
       "    .dataframe tbody tr th:only-of-type {\n",
       "        vertical-align: middle;\n",
       "    }\n",
       "\n",
       "    .dataframe tbody tr th {\n",
       "        vertical-align: top;\n",
       "    }\n",
       "\n",
       "    .dataframe thead th {\n",
       "        text-align: right;\n",
       "    }\n",
       "</style>\n",
       "<table border=\"1\" class=\"dataframe\">\n",
       "  <thead>\n",
       "    <tr style=\"text-align: right;\">\n",
       "      <th></th>\n",
       "      <th>Row</th>\n",
       "      <th>Flow ID</th>\n",
       "      <th>Src IP</th>\n",
       "      <th>Src Port</th>\n",
       "      <th>Dst IP</th>\n",
       "      <th>Dst Port</th>\n",
       "      <th>Protocol</th>\n",
       "      <th>Timestamp</th>\n",
       "      <th>Flow Duration</th>\n",
       "      <th>Tot Fwd Pkts</th>\n",
       "      <th>...</th>\n",
       "      <th>Fwd Seg Size Min</th>\n",
       "      <th>Active Mean</th>\n",
       "      <th>Active Std</th>\n",
       "      <th>Active Max</th>\n",
       "      <th>Active Min</th>\n",
       "      <th>Idle Mean</th>\n",
       "      <th>Idle Std</th>\n",
       "      <th>Idle Max</th>\n",
       "      <th>Idle Min</th>\n",
       "      <th>Label</th>\n",
       "    </tr>\n",
       "  </thead>\n",
       "  <tbody>\n",
       "    <tr>\n",
       "      <th>0</th>\n",
       "      <td>624</td>\n",
       "      <td>192.168.4.118-203.73.24.75-4504-80-6</td>\n",
       "      <td>192.168.4.118</td>\n",
       "      <td>4504</td>\n",
       "      <td>203.73.24.75</td>\n",
       "      <td>80</td>\n",
       "      <td>6</td>\n",
       "      <td>12/06/2010 08:34:32 AM</td>\n",
       "      <td>3974862</td>\n",
       "      <td>29</td>\n",
       "      <td>...</td>\n",
       "      <td>0</td>\n",
       "      <td>0.0</td>\n",
       "      <td>0.0</td>\n",
       "      <td>0.0</td>\n",
       "      <td>0.0</td>\n",
       "      <td>0.0</td>\n",
       "      <td>0.0</td>\n",
       "      <td>0.0</td>\n",
       "      <td>0.0</td>\n",
       "      <td>ddos</td>\n",
       "    </tr>\n",
       "    <tr>\n",
       "      <th>1</th>\n",
       "      <td>625</td>\n",
       "      <td>192.168.4.118-203.73.24.75-4504-80-6</td>\n",
       "      <td>192.168.4.118</td>\n",
       "      <td>4504</td>\n",
       "      <td>203.73.24.75</td>\n",
       "      <td>80</td>\n",
       "      <td>6</td>\n",
       "      <td>12/06/2010 08:34:36 AM</td>\n",
       "      <td>63</td>\n",
       "      <td>1</td>\n",
       "      <td>...</td>\n",
       "      <td>0</td>\n",
       "      <td>0.0</td>\n",
       "      <td>0.0</td>\n",
       "      <td>0.0</td>\n",
       "      <td>0.0</td>\n",
       "      <td>0.0</td>\n",
       "      <td>0.0</td>\n",
       "      <td>0.0</td>\n",
       "      <td>0.0</td>\n",
       "      <td>ddos</td>\n",
       "    </tr>\n",
       "    <tr>\n",
       "      <th>2</th>\n",
       "      <td>626</td>\n",
       "      <td>192.168.4.118-203.73.24.75-4505-80-6</td>\n",
       "      <td>192.168.4.118</td>\n",
       "      <td>4505</td>\n",
       "      <td>203.73.24.75</td>\n",
       "      <td>80</td>\n",
       "      <td>6</td>\n",
       "      <td>12/06/2010 08:34:36 AM</td>\n",
       "      <td>476078</td>\n",
       "      <td>2</td>\n",
       "      <td>...</td>\n",
       "      <td>0</td>\n",
       "      <td>0.0</td>\n",
       "      <td>0.0</td>\n",
       "      <td>0.0</td>\n",
       "      <td>0.0</td>\n",
       "      <td>0.0</td>\n",
       "      <td>0.0</td>\n",
       "      <td>0.0</td>\n",
       "      <td>0.0</td>\n",
       "      <td>ddos</td>\n",
       "    </tr>\n",
       "    <tr>\n",
       "      <th>3</th>\n",
       "      <td>627</td>\n",
       "      <td>192.168.4.118-203.73.24.75-4505-80-6</td>\n",
       "      <td>192.168.4.118</td>\n",
       "      <td>4505</td>\n",
       "      <td>203.73.24.75</td>\n",
       "      <td>80</td>\n",
       "      <td>6</td>\n",
       "      <td>12/06/2010 08:34:37 AM</td>\n",
       "      <td>151</td>\n",
       "      <td>2</td>\n",
       "      <td>...</td>\n",
       "      <td>0</td>\n",
       "      <td>0.0</td>\n",
       "      <td>0.0</td>\n",
       "      <td>0.0</td>\n",
       "      <td>0.0</td>\n",
       "      <td>0.0</td>\n",
       "      <td>0.0</td>\n",
       "      <td>0.0</td>\n",
       "      <td>0.0</td>\n",
       "      <td>ddos</td>\n",
       "    </tr>\n",
       "    <tr>\n",
       "      <th>4</th>\n",
       "      <td>628</td>\n",
       "      <td>192.168.4.118-203.73.24.75-4506-80-6</td>\n",
       "      <td>192.168.4.118</td>\n",
       "      <td>4506</td>\n",
       "      <td>203.73.24.75</td>\n",
       "      <td>80</td>\n",
       "      <td>6</td>\n",
       "      <td>12/06/2010 08:34:37 AM</td>\n",
       "      <td>472507</td>\n",
       "      <td>2</td>\n",
       "      <td>...</td>\n",
       "      <td>0</td>\n",
       "      <td>0.0</td>\n",
       "      <td>0.0</td>\n",
       "      <td>0.0</td>\n",
       "      <td>0.0</td>\n",
       "      <td>0.0</td>\n",
       "      <td>0.0</td>\n",
       "      <td>0.0</td>\n",
       "      <td>0.0</td>\n",
       "      <td>ddos</td>\n",
       "    </tr>\n",
       "  </tbody>\n",
       "</table>\n",
       "<p>5 rows × 85 columns</p>\n",
       "</div>"
      ],
      "text/plain": [
       "   Row                               Flow ID         Src IP  Src Port  \\\n",
       "0  624  192.168.4.118-203.73.24.75-4504-80-6  192.168.4.118      4504   \n",
       "1  625  192.168.4.118-203.73.24.75-4504-80-6  192.168.4.118      4504   \n",
       "2  626  192.168.4.118-203.73.24.75-4505-80-6  192.168.4.118      4505   \n",
       "3  627  192.168.4.118-203.73.24.75-4505-80-6  192.168.4.118      4505   \n",
       "4  628  192.168.4.118-203.73.24.75-4506-80-6  192.168.4.118      4506   \n",
       "\n",
       "         Dst IP  Dst Port  Protocol               Timestamp  Flow Duration  \\\n",
       "0  203.73.24.75        80         6  12/06/2010 08:34:32 AM        3974862   \n",
       "1  203.73.24.75        80         6  12/06/2010 08:34:36 AM             63   \n",
       "2  203.73.24.75        80         6  12/06/2010 08:34:36 AM         476078   \n",
       "3  203.73.24.75        80         6  12/06/2010 08:34:37 AM            151   \n",
       "4  203.73.24.75        80         6  12/06/2010 08:34:37 AM         472507   \n",
       "\n",
       "   Tot Fwd Pkts  ...  Fwd Seg Size Min  Active Mean  Active Std  Active Max  \\\n",
       "0            29  ...                 0          0.0         0.0         0.0   \n",
       "1             1  ...                 0          0.0         0.0         0.0   \n",
       "2             2  ...                 0          0.0         0.0         0.0   \n",
       "3             2  ...                 0          0.0         0.0         0.0   \n",
       "4             2  ...                 0          0.0         0.0         0.0   \n",
       "\n",
       "   Active Min  Idle Mean  Idle Std  Idle Max  Idle Min  Label  \n",
       "0         0.0        0.0       0.0       0.0       0.0   ddos  \n",
       "1         0.0        0.0       0.0       0.0       0.0   ddos  \n",
       "2         0.0        0.0       0.0       0.0       0.0   ddos  \n",
       "3         0.0        0.0       0.0       0.0       0.0   ddos  \n",
       "4         0.0        0.0       0.0       0.0       0.0   ddos  \n",
       "\n",
       "[5 rows x 85 columns]"
      ]
     },
     "execution_count": 112,
     "metadata": {},
     "output_type": "execute_result"
    }
   ],
   "source": [
    "ddos_data=get_orgrin_data(file)\n",
    "ddos_data.head()"
   ]
  },
  {
   "cell_type": "code",
   "execution_count": 115,
   "metadata": {},
   "outputs": [
    {
     "data": {
      "text/html": [
       "<div>\n",
       "<style scoped>\n",
       "    .dataframe tbody tr th:only-of-type {\n",
       "        vertical-align: middle;\n",
       "    }\n",
       "\n",
       "    .dataframe tbody tr th {\n",
       "        vertical-align: top;\n",
       "    }\n",
       "\n",
       "    .dataframe thead th {\n",
       "        text-align: right;\n",
       "    }\n",
       "</style>\n",
       "<table border=\"1\" class=\"dataframe\">\n",
       "  <thead>\n",
       "    <tr style=\"text-align: right;\">\n",
       "      <th></th>\n",
       "      <th>Dst Port</th>\n",
       "      <th>Protocol</th>\n",
       "    </tr>\n",
       "  </thead>\n",
       "  <tbody>\n",
       "    <tr>\n",
       "      <th>0</th>\n",
       "      <td>80</td>\n",
       "      <td>6</td>\n",
       "    </tr>\n",
       "    <tr>\n",
       "      <th>1</th>\n",
       "      <td>80</td>\n",
       "      <td>6</td>\n",
       "    </tr>\n",
       "    <tr>\n",
       "      <th>2</th>\n",
       "      <td>80</td>\n",
       "      <td>6</td>\n",
       "    </tr>\n",
       "    <tr>\n",
       "      <th>3</th>\n",
       "      <td>80</td>\n",
       "      <td>6</td>\n",
       "    </tr>\n",
       "    <tr>\n",
       "      <th>4</th>\n",
       "      <td>80</td>\n",
       "      <td>6</td>\n",
       "    </tr>\n",
       "    <tr>\n",
       "      <th>...</th>\n",
       "      <td>...</td>\n",
       "      <td>...</td>\n",
       "    </tr>\n",
       "    <tr>\n",
       "      <th>19994</th>\n",
       "      <td>53598</td>\n",
       "      <td>6</td>\n",
       "    </tr>\n",
       "    <tr>\n",
       "      <th>19995</th>\n",
       "      <td>443</td>\n",
       "      <td>6</td>\n",
       "    </tr>\n",
       "    <tr>\n",
       "      <th>19996</th>\n",
       "      <td>53</td>\n",
       "      <td>17</td>\n",
       "    </tr>\n",
       "    <tr>\n",
       "      <th>19997</th>\n",
       "      <td>53</td>\n",
       "      <td>17</td>\n",
       "    </tr>\n",
       "    <tr>\n",
       "      <th>19998</th>\n",
       "      <td>80</td>\n",
       "      <td>6</td>\n",
       "    </tr>\n",
       "  </tbody>\n",
       "</table>\n",
       "<p>19999 rows × 2 columns</p>\n",
       "</div>"
      ],
      "text/plain": [
       "       Dst Port  Protocol\n",
       "0            80         6\n",
       "1            80         6\n",
       "2            80         6\n",
       "3            80         6\n",
       "4            80         6\n",
       "...         ...       ...\n",
       "19994     53598         6\n",
       "19995       443         6\n",
       "19996        53        17\n",
       "19997        53        17\n",
       "19998        80         6\n",
       "\n",
       "[19999 rows x 2 columns]"
      ]
     },
     "execution_count": 115,
     "metadata": {},
     "output_type": "execute_result"
    }
   ],
   "source": [
    "add_data=ddos_data[[\"Dst Port\", \"Protocol\"]]\n",
    "add_data"
   ]
  },
  {
   "cell_type": "code",
   "execution_count": 128,
   "metadata": {},
   "outputs": [
    {
     "data": {
      "text/plain": [
       "array([[80,  6],\n",
       "       [80,  6],\n",
       "       [80,  6],\n",
       "       ...,\n",
       "       [53, 17],\n",
       "       [53, 17],\n",
       "       [80,  6]])"
      ]
     },
     "execution_count": 128,
     "metadata": {},
     "output_type": "execute_result"
    }
   ],
   "source": [
    "add_data=add_data.to_numpy()\n",
    "add_data"
   ]
  },
  {
   "cell_type": "code",
   "execution_count": 130,
   "metadata": {},
   "outputs": [
    {
     "data": {
      "text/plain": [
       "array([[-0.01008302,  0.02607405,  0.03802775, ...,  0.03293858,\n",
       "        -0.03063215, -0.12053323],\n",
       "       [-0.01265683,  0.00546485, -0.00910855, ..., -0.00150017,\n",
       "        -0.00604926,  0.0807285 ],\n",
       "       [ 0.02981446, -0.01660042, -0.04627342, ...,  0.00695498,\n",
       "         0.00064571,  0.09681004],\n",
       "       ...,\n",
       "       [ 0.02976141,  0.00062601,  0.00450694, ..., -0.0071257 ,\n",
       "         0.00242935, -0.07492116],\n",
       "       [ 0.03051314,  0.00238083,  0.00733136, ..., -0.00738904,\n",
       "         0.00220599, -0.07669363],\n",
       "       [-0.04330109,  0.00970069,  0.01424877, ..., -0.03900038,\n",
       "         0.00025837,  0.07025459]])"
      ]
     },
     "execution_count": 130,
     "metadata": {},
     "output_type": "execute_result"
    }
   ],
   "source": [
    "X_new=X_drop10.copy()\n",
    "X_new"
   ]
  },
  {
   "cell_type": "code",
   "execution_count": 133,
   "metadata": {},
   "outputs": [
    {
     "data": {
      "text/plain": [
       "(19999, 12)"
      ]
     },
     "execution_count": 133,
     "metadata": {},
     "output_type": "execute_result"
    }
   ],
   "source": [
    "X_new_data = np.concatenate((X_new, add_data), axis=1)\n",
    "X_new_data.shape"
   ]
  },
  {
   "cell_type": "code",
   "execution_count": 134,
   "metadata": {},
   "outputs": [
    {
     "name": "stdout",
     "output_type": "stream",
     "text": [
      "              precision    recall  f1-score   support\n",
      "\n",
      "           0       1.00      0.99      0.99      1992\n",
      "           1       0.99      1.00      0.99      2008\n",
      "\n",
      "    accuracy                           0.99      4000\n",
      "   macro avg       0.99      0.99      0.99      4000\n",
      "weighted avg       0.99      0.99      0.99      4000\n",
      "\n"
     ]
    }
   ],
   "source": [
    "# 使用之前的模型+ 新的标签 ，准确率上升 2-3个百分点，已接近1\n",
    "# 此时的分类矩阵为\n",
    "X_new_train, X_new_test, _, _ = split_X_y(X_new_data, y)\n",
    "print(\n",
    "    classify_re(y_test,\n",
    "                xgb_drop10_model.fit(X_new_train,\n",
    "                                     y_train).predict(X_new_test)))"
   ]
  },
  {
   "cell_type": "markdown",
   "metadata": {},
   "source": [
    "##### 6. 算法改进，比较"
   ]
  },
  {
   "cell_type": "markdown",
   "metadata": {},
   "source": [
    "Xgboost不是一种算法，而是封装了GBDT的模型框架。微软实现的的Lightgbm是更优的框架\n",
    "###### 优化点\n",
    "1 系统优化\n",
    "\n",
    "- 并行：XGBoost 用并行的方式实现了序列树的构建过程。考虑到用于构建基础学习器的循环、枚举树的叶节点的外部循环以及计算特征的第二个内部循环的可互换性，这是完全有可能实现的。由于没有完整的内部循环就无法启动外部循环（两个循环要求的计算资源更多），因此这种嵌套的循环限制了并行。为了改善运行时，就要交换循环的顺序，这通过对所有实例进行全局扫描来执行初始化以及用并行线程排序来实现。这样的变换抵消了计算中并行所需的开销，从而提升了算法性能。\n",
    "- 剪枝：从本质上讲 GBM 框架内树分裂的停止标准是贪婪的，这取决于分裂点的负损失。XGBoost 优先使用指定的「max_depth」参数，然后开始后向修剪树。这种「深度优先」的方法显著提升了计算性能。\n",
    "- 硬件优化：XGBoost 算法可以有效利用硬件资源。这是通过缓存感知（cache awareness）实现的，而缓存感知则是通过在每个线程中分配内部缓冲区来存储梯度统计信息实现的。「核外」计算等进一步增强措施则在处理与内存不兼容的大数据帧时优化了可用磁盘空间。\n",
    "\n",
    "2 算法增强：\n",
    "\n",
    "- 正则化：用 LASSO（L1）正则化和 Ridge（L2）正则化惩罚更复杂的模型，以防止过拟合。\n",
    "- 稀疏性感知（Sparsity Awareness）：XGBoost 根据训练损失自动「学习」最佳缺失值，从而承认输入的稀疏特征，还可以更高效地处理数据中不同类型的稀疏模式。\n",
    "- 加权分位数略图（Weighted Quantile Sketch）：XGBoost 用分布式加权分位数略图算法（https://arxiv.org/pdf/1603.02754.pdf）高效地从加权数据集中找到最佳分裂点。\n",
    "- 交叉验证：该算法在每次迭代时都使用内置的交叉验证方法，这样就无需特地为搜索编程，也不需要每次运行时都指定所需迭代增强的确切数目"
   ]
  },
  {
   "cell_type": "code",
   "execution_count": null,
   "metadata": {},
   "outputs": [],
   "source": [
    "手动实现，xgboost是多个算法的结合，实现和改进都比较复杂，作参考\n",
    "可改进其他算法"
   ]
  },
  {
   "cell_type": "code",
   "execution_count": null,
   "metadata": {},
   "outputs": [],
   "source": [
    "https://zhuanlan.zhihu.com/p/32181687"
   ]
  },
  {
   "cell_type": "code",
   "execution_count": null,
   "metadata": {},
   "outputs": [],
   "source": [
    "class LeastSquaresLoss():\n",
    "    \"\"\"Least squares loss\"\"\"\n",
    "\n",
    "    def gradient(self, actual, predicted):\n",
    "        return actual - predicted\n",
    "\n",
    "    def hess(self, actual, predicted):\n",
    "        return np.ones_like(actual)"
   ]
  },
  {
   "cell_type": "code",
   "execution_count": null,
   "metadata": {},
   "outputs": [],
   "source": [
    "class XGBoostRegressionTree(DecisionTree):\n",
    "    \"\"\"\n",
    "    Regression tree for XGBoost\n",
    "    - Reference -\n",
    "    http://xgboost.readthedocs.io/en/latest/model.html\n",
    "    \"\"\"\n",
    "    def _split(self, y):\n",
    "        \"\"\" y contains y_true in left half of the middle column and\n",
    "        y_pred in the right half. Split and return the two matrices \"\"\"\n",
    "\n",
    "        col = int(np.shape(y)[1] / 2)\n",
    "        y, y_pred = y[:, :col], y[:, col:]\n",
    "        return y, y_pred\n",
    "\n",
    "    def _gain(self, y, y_pred):\n",
    "        nominator = np.power((self.loss.gradient(y, y_pred)).sum(), 2)\n",
    "        denominator = self.loss.hess(y, y_pred).sum()\n",
    "        return 0.5 * (nominator / denominator)\n",
    "\n",
    "    def _gain_by_taylor(self, y, y1, y2):\n",
    "        # Split\n",
    "        y, y_pred = self._split(y)\n",
    "        y1, y1_pred = self._split(y1)\n",
    "        y2, y2_pred = self._split(y2)\n",
    "\n",
    "        true_gain = self._gain(y1, y1_pred)\n",
    "        false_gain = self._gain(y2, y2_pred)\n",
    "        gain = self._gain(y, y_pred)\n",
    "        return true_gain + false_gain - gain\n",
    "\n",
    "    def _approximate_update(self, y):\n",
    "        # y split into y, y_pred\n",
    "        y, y_pred = self._split(y)\n",
    "        gradient = np.sum(self.loss.gradient(y, y_pred), axis=0)\n",
    "        hessian = np.sum(self.loss.hess(y, y_pred), axis=0)\n",
    "        update_approximation = gradient / hessian\n",
    "        return update_approximation\n",
    "\n",
    "    def fit(self, X, y):\n",
    "        self._impurity_calculation = self._gain_by_taylor\n",
    "        self._leaf_value_calculation = self._approximate_update\n",
    "        super(XGBoostRegressionTree, self).fit(X, y)"
   ]
  },
  {
   "cell_type": "code",
   "execution_count": null,
   "metadata": {},
   "outputs": [],
   "source": [
    "class XGBoost(object):\n",
    "    \"\"\"The XGBoost classifier.\n",
    " \n",
    "    Reference: http://xgboost.readthedocs.io/en/latest/model.html\n",
    " \n",
    "    n_estimators: int\n",
    "    树的数量\n",
    "    The number of classification trees that are used.\n",
    "learning_rate: float\n",
    "    梯度下降的学习率\n",
    "    The step length that will be taken when following the negative gradient during\n",
    "    training.\n",
    "min_samples_split: int\n",
    "    每棵子树的节点的最小数目（小于后不继续切割）\n",
    "    The minimum number of samples needed to make a split when building a tree.\n",
    "min_impurity: float\n",
    "    每颗子树的最小纯度（小于后不继续切割）\n",
    "    The minimum impurity required to split the tree further.\n",
    "max_depth: int\n",
    "    每颗子树的最大层数（大于后不继续切割）\n",
    "    \"\"\"\n",
    "    def __init__(self,\n",
    "                 n_estimators=200,\n",
    "                 learning_rate=0.01,\n",
    "                 min_samples_split=2,\n",
    "                 min_impurity=1e-7,\n",
    "                 max_depth=2):\n",
    "        self.n_estimators = n_estimators  # Number of trees\n",
    "        self.learning_rate = learning_rate  # Step size for weight update\n",
    "        self.min_samples_split = min_samples_split  # The minimum n of sampels to justify split\n",
    "        self.min_impurity = min_impurity  # Minimum variance reduction to continue\n",
    "        self.max_depth = max_depth  # Maximum depth for tree\n",
    "\n",
    "        self.bar = progressbar.ProgressBar(widgets=bar_widgets)\n",
    "\n",
    "        # Log loss for classification\n",
    "        self.loss = LeastSquaresLoss()\n",
    "\n",
    "        # Initialize regression trees\n",
    "        self.trees = []\n",
    "        for _ in range(n_estimators):\n",
    "            tree = XGBoostRegressionTree(\n",
    "                min_samples_split=self.min_samples_split,\n",
    "                min_impurity=min_impurity,\n",
    "                max_depth=self.max_depth,\n",
    "                loss=self.loss)\n",
    "\n",
    "            self.trees.append(tree)\n",
    "\n",
    "    def fit(self, X, y):\n",
    "        # y = to_categorical(y)\n",
    "        m = X.shape[0]\n",
    "        y = np.reshape(y, (m, -1))\n",
    "        y_pred = np.zeros(np.shape(y))\n",
    "        for i in self.bar(range(self.n_estimators)):\n",
    "            tree = self.trees[i]\n",
    "            y_and_pred = np.concatenate((y, y_pred), axis=1)\n",
    "            tree.fit(X, y_and_pred)\n",
    "            update_pred = tree.predict(X)\n",
    "            update_pred = np.reshape(update_pred, (m, -1))\n",
    "            y_pred += update_pred\n",
    "\n",
    "    def predict(self, X):\n",
    "        y_pred = None\n",
    "        m = X.shape[0]\n",
    "        # Make predictions\n",
    "        for tree in self.trees:\n",
    "            # Estimate gradient and update prediction\n",
    "            update_pred = tree.predict(X)\n",
    "            update_pred = np.reshape(update_pred, (m, -1))\n",
    "            if y_pred is None:\n",
    "                y_pred = np.zeros_like(update_pred)\n",
    "            y_pred += update_pred\n",
    "\n",
    "        return y_pred"
   ]
  }
 ],
 "metadata": {
  "kernelspec": {
   "display_name": "Python 3",
   "language": "python",
   "name": "python3"
  },
  "language_info": {
   "codemirror_mode": {
    "name": "ipython",
    "version": 3
   },
   "file_extension": ".py",
   "mimetype": "text/x-python",
   "name": "python",
   "nbconvert_exporter": "python",
   "pygments_lexer": "ipython3",
   "version": "3.7.5"
  }
 },
 "nbformat": 4,
 "nbformat_minor": 2
}
