{
 "cells": [
  {
   "cell_type": "markdown",
   "metadata": {},
   "source": [
    "### 集成学习"
   ]
  },
  {
   "cell_type": "markdown",
   "metadata": {},
   "source": [
    "#### boosting- Adaboosting"
   ]
  },
  {
   "cell_type": "code",
   "execution_count": 39,
   "metadata": {},
   "outputs": [],
   "source": [
    "import numpy as np\n",
    "import pandas as pd\n",
    "from matplotlib import pyplot as plt\n",
    "import seaborn as sns\n",
    "%matplotlib inline"
   ]
  },
  {
   "cell_type": "code",
   "execution_count": 4,
   "metadata": {},
   "outputs": [],
   "source": [
    "sns.set_style(\"whitegrid\")"
   ]
  },
  {
   "cell_type": "code",
   "execution_count": 5,
   "metadata": {},
   "outputs": [],
   "source": [
    "def get_simple_data():\n",
    "    X = [[1, 2.1], [2, 1.1], [1.3, 1], [1, 1], [2, 1]]\n",
    "    y = [1.0, 1.0, -1, -1, 1]\n",
    "    return X, y"
   ]
  },
  {
   "cell_type": "code",
   "execution_count": 6,
   "metadata": {},
   "outputs": [
    {
     "data": {
      "text/plain": [
       "([[1, 2.1], [2, 1.1], [1.3, 1], [1, 1], [2, 1]], [1.0, 1.0, -1, -1, 1])"
      ]
     },
     "execution_count": 6,
     "metadata": {},
     "output_type": "execute_result"
    }
   ],
   "source": [
    "X,y=get_simple_data()\n",
    "X,y"
   ]
  },
  {
   "cell_type": "code",
   "execution_count": 19,
   "metadata": {},
   "outputs": [],
   "source": [
    "X=np.array(X)"
   ]
  },
  {
   "cell_type": "code",
   "execution_count": 25,
   "metadata": {},
   "outputs": [],
   "source": [
    "y=np.array(y)"
   ]
  },
  {
   "cell_type": "code",
   "execution_count": 36,
   "metadata": {},
   "outputs": [
    {
     "data": {
      "text/plain": [
       "[<matplotlib.lines.Line2D at 0x7fd4d0ce9d50>]"
      ]
     },
     "execution_count": 36,
     "metadata": {},
     "output_type": "execute_result"
    },
    {
     "data": {
      "image/png": "[encoded data removed]",
      "text/plain": [
       "<Figure size 432x288 with 1 Axes>"
      ]
     },
     "metadata": {},
     "output_type": "display_data"
    }
   ],
   "source": [
    "plt.plot(X[y==1,0],X[y==1,1],color='r',marker='o')\n",
    "plt.plot(X[y==-1,0],X[y==-1,1],color='b',marker='+')"
   ]
  },
  {
   "cell_type": "code",
   "execution_count": 38,
   "metadata": {},
   "outputs": [
    {
     "data": {
      "text/plain": [
       "array([[1.3, 1. ],\n",
       "       [1. , 1. ]])"
      ]
     },
     "execution_count": 38,
     "metadata": {},
     "output_type": "execute_result"
    }
   ],
   "source": [
    "X[y==-1]"
   ]
  },
  {
   "cell_type": "code",
   "execution_count": 40,
   "metadata": {},
   "outputs": [],
   "source": [
    "def stump_classify(X_Mar, dimen, thresh_val, thresh_ineq):\n",
    "    res = np.ones((np.shape(X_Mar)[0], 1))\n",
    "    if thresh_ineq == 'lt':\n",
    "        res[X_Mar[:, dimen] <= thresh_val] = -1.0\n",
    "    else:\n",
    "        res[X_Mar[:, dimen] > thresh_val] = -1.0\n",
    "    return res"
   ]
  },
  {
   "cell_type": "code",
   "execution_count": 41,
   "metadata": {},
   "outputs": [],
   "source": [
    "def build_strump(X, y, D):\n",
    "    \"\"\"\n",
    "        X: 特征\n",
    "        y: 标签\n",
    "    \"\"\"\n",
    "    X = np.mat(X)\n",
    "    y = np.mat(y).T\n",
    "    m, n = np.shape(X)\n",
    "    num_steps = 10.0\n",
    "    # 最佳单层决策树\n",
    "    best_stump = {}\n",
    "    best_class_est = np.mat(np.zeros((m, 1)))\n",
    "    min_error = np.inf\n",
    "    for i in range(n):\n",
    "        range_min = X[:, i].min()\n",
    "        range_max = X[:, i].max()\n",
    "        step_size = (range_max - range_min) / num_steps\n",
    "        for j in range(-1, int(num_steps) + 1):\n",
    "            for inequal in ['lt', 'gt']:\n",
    "                thresh_val = (range_min + j * step_size)\n",
    "                pred_vals = stump_classify(X, i, thresh_val, inequal)\n",
    "                error_arr = np.mat(np.ones((m, 1)))\n",
    "                error_arr[pred_vals == y] = 0\n",
    "                weight = D.T * error_arr\n",
    "\n",
    "                # 权重误差小于min,return\n",
    "                if weight < min_error:\n",
    "                    min_error = weight\n",
    "                    best_class_est = pred_vals.copy()\n",
    "                    best_stump['dim'] = i\n",
    "                    best_stump['thresh'] = thresh_val\n",
    "                    best_stump['ineq'] = inequal\n",
    "    return best_stump, min_error, best_class_est"
   ]
  },
  {
   "cell_type": "code",
   "execution_count": 42,
   "metadata": {},
   "outputs": [
    {
     "data": {
      "text/plain": [
       "matrix([[0.2],\n",
       "        [0.2],\n",
       "        [0.2],\n",
       "        [0.2],\n",
       "        [0.2]])"
      ]
     },
     "execution_count": 42,
     "metadata": {},
     "output_type": "execute_result"
    }
   ],
   "source": [
    "D=np.mat(np.ones((5,1))/5)\n",
    "D"
   ]
  },
  {
   "cell_type": "code",
   "execution_count": 43,
   "metadata": {},
   "outputs": [
    {
     "data": {
      "text/plain": [
       "({'dim': 0, 'thresh': 1.3, 'ineq': 'lt'}, matrix([[0.2]]), array([[-1.],\n",
       "        [ 1.],\n",
       "        [-1.],\n",
       "        [-1.],\n",
       "        [ 1.]]))"
      ]
     },
     "execution_count": 43,
     "metadata": {},
     "output_type": "execute_result"
    }
   ],
   "source": [
    "build_strump(X,y,D)"
   ]
  },
  {
   "cell_type": "code",
   "execution_count": null,
   "metadata": {},
   "outputs": [],
   "source": []
  }
 ],
 "metadata": {
  "kernelspec": {
   "display_name": "Python 3",
   "language": "python",
   "name": "python3"
  },
  "language_info": {
   "codemirror_mode": {
    "name": "ipython",
    "version": 3
   },
   "file_extension": ".py",
   "mimetype": "text/x-python",
   "name": "python",
   "nbconvert_exporter": "python",
   "pygments_lexer": "ipython3",
   "version": "3.7.5"
  }
 },
 "nbformat": 4,
 "nbformat_minor": 2
}
