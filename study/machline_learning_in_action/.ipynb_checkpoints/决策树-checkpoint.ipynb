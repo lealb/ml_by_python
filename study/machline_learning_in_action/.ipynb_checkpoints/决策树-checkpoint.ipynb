{
 "cells": [
  {
   "cell_type": "markdown",
   "metadata": {},
   "source": [
    "### 决策树"
   ]
  },
  {
   "cell_type": "markdown",
   "metadata": {},
   "source": [
    "#### 1.信息熵"
   ]
  },
  {
   "cell_type": "code",
   "execution_count": 2,
   "metadata": {},
   "outputs": [],
   "source": [
    "def get_dataset():\n",
    "    \"\"\"\n",
    "    获得数据集\n",
    "    \"\"\"\n",
    "    data = [\n",
    "        [0, 0, 0, 0, 'no'],  #数据集\n",
    "        [0, 0, 0, 1, 'no'],\n",
    "        [0, 1, 0, 1, 'yes'],\n",
    "        [0, 1, 1, 0, 'yes'],\n",
    "        [0, 0, 0, 0, 'no'],\n",
    "        [1, 0, 0, 0, 'no'],\n",
    "        [1, 0, 0, 1, 'no'],\n",
    "        [1, 1, 1, 1, 'yes'],\n",
    "        [1, 0, 1, 2, 'yes'],\n",
    "        [1, 0, 1, 2, 'yes'],\n",
    "        [2, 0, 1, 2, 'yes'],\n",
    "        [2, 0, 1, 1, 'yes'],\n",
    "        [2, 1, 0, 1, 'yes'],\n",
    "        [2, 1, 0, 2, 'yes'],\n",
    "        [2, 0, 0, 0, 'no']\n",
    "    ]\n",
    "    labels = ['年龄', '有工作', '有自己的房子', '信贷情况']  #分类属性\n",
    "    return data, labels"
   ]
  },
  {
   "cell_type": "code",
   "execution_count": 3,
   "metadata": {},
   "outputs": [
    {
     "data": {
      "text/plain": [
       "['年龄', '有工作', '有自己的房子', '信贷情况']"
      ]
     },
     "execution_count": 3,
     "metadata": {},
     "output_type": "execute_result"
    }
   ],
   "source": [
    "dataset, labels = get_dataset()\n",
    "labels"
   ]
  },
  {
   "cell_type": "code",
   "execution_count": 70,
   "metadata": {},
   "outputs": [],
   "source": [
    "import math\n",
    "\n",
    "\n",
    "def get_entropy(dataset):\n",
    "    \"\"\"\n",
    "    根据给定的数据集计算经验熵\n",
    "    \"\"\"\n",
    "    nums_dataset = len(dataset)\n",
    "    labels = {}\n",
    "    for data in dataset:\n",
    "        label = data[-1]\n",
    "        if label not in labels.keys():\n",
    "            labels[label] = 0\n",
    "        labels[label] += 1\n",
    "    # print(labels)\n",
    "    # 计算经验熵\n",
    "    entropy = 0.0\n",
    "    for key in labels:\n",
    "        # 概率\n",
    "        prob = labels[key] / nums_dataset\n",
    "        entropy -= prob * math.log(prob, 2)\n",
    "    return entropy"
   ]
  },
  {
   "cell_type": "code",
   "execution_count": 53,
   "metadata": {},
   "outputs": [
    {
     "name": "stdout",
     "output_type": "stream",
     "text": [
      "{'no': 6, 'yes': 9}\n"
     ]
    },
    {
     "data": {
      "text/plain": [
       "0.9709505944546686"
      ]
     },
     "execution_count": 53,
     "metadata": {},
     "output_type": "execute_result"
    }
   ],
   "source": [
    "get_entropy(dataset)"
   ]
  },
  {
   "cell_type": "code",
   "execution_count": 15,
   "metadata": {},
   "outputs": [],
   "source": [
    "def split_dataset(dataset, axis, value):\n",
    "    ret_dataset = []\n",
    "    for feature in dataset:\n",
    "        if feature[axis] == value:\n",
    "            reduced_feature = feature[:axis]\n",
    "            reduced_feature.extend(feature[axis + 1:])\n",
    "            ret_dataset.append(reduced_feature)\n",
    "    return ret_dataset"
   ]
  },
  {
   "cell_type": "code",
   "execution_count": 8,
   "metadata": {},
   "outputs": [
    {
     "data": {
      "text/plain": [
       "Counter({'no': 6, 'yes': 9})"
      ]
     },
     "execution_count": 8,
     "metadata": {},
     "output_type": "execute_result"
    }
   ],
   "source": [
    "import numpy as np\n",
    "import collections\n",
    "\n",
    "dataset = np.array(dataset)\n",
    "collections.Counter(dataset[:, -1])"
   ]
  },
  {
   "cell_type": "code",
   "execution_count": 13,
   "metadata": {},
   "outputs": [
    {
     "data": {
      "text/plain": [
       "5"
      ]
     },
     "execution_count": 13,
     "metadata": {},
     "output_type": "execute_result"
    }
   ],
   "source": [
    "len(dataset[0])"
   ]
  },
  {
   "cell_type": "code",
   "execution_count": 11,
   "metadata": {},
   "outputs": [
    {
     "data": {
      "text/plain": [
       "Counter({'0': 5, '1': 5, '2': 5})"
      ]
     },
     "execution_count": 11,
     "metadata": {},
     "output_type": "execute_result"
    }
   ],
   "source": [
    "import math\n",
    "ages=collections.Counter(dataset[:,0])\n",
    "age_sum=sum(ages.values)\n",
    "for age in ages.:\n",
    "    \n",
    "    "
   ]
  },
  {
   "cell_type": "code",
   "execution_count": 25,
   "metadata": {},
   "outputs": [],
   "source": [
    "def get_info_gain(dataset):\n",
    "    \"\"\"\n",
    "    计算信息增益\n",
    "    \"\"\"\n",
    "    num_dataset=len(dataset)\n",
    "    num_features = len(dataset[0]) - 1\n",
    "    entropy = get_entropy(dataset)\n",
    "    info_gain = {}\n",
    "    for fe in range(num_features):\n",
    "        features = [feature[fe] for feature in dataset]  # 取出特征列\n",
    "        unique_feature = set(features)\n",
    "        condaition_entropy = 0.0\n",
    "        for value in unique_feature:\n",
    "            sub_dataset = split_dataset(dataset, fe, value)\n",
    "            prob = len(sub_dataset) / float(num_dataset)\n",
    "            condaition_entropy += prob * get_entropy(sub_dataset)\n",
    "        info_gain[fe] = entropy - condaition_entropy\n",
    "        # print(info_gain)\n",
    "    return info_gain"
   ]
  },
  {
   "cell_type": "code",
   "execution_count": 47,
   "metadata": {},
   "outputs": [],
   "source": [
    "def get_best_feature(dataset):\n",
    "    \"\"\"\n",
    "    获得最好的特征，即信息增益最大值，以ID3为例\n",
    "    \"\"\"\n",
    "    info_gain=get_info_gain(dataset)\n",
    "    return sorted(info_gain.items(),key=lambda v:v[1],reverse=True)[0][0]"
   ]
  },
  {
   "cell_type": "code",
   "execution_count": 44,
   "metadata": {},
   "outputs": [
    {
     "name": "stdout",
     "output_type": "stream",
     "text": [
      "{'no': 6, 'yes': 9}\n",
      "{'no': 3, 'yes': 2}\n",
      "{'no': 2, 'yes': 3}\n",
      "{'yes': 4, 'no': 1}\n",
      "{'no': 6, 'yes': 4}\n",
      "{'yes': 5}\n",
      "{'no': 6, 'yes': 3}\n",
      "{'yes': 6}\n",
      "{'no': 4, 'yes': 1}\n",
      "{'no': 2, 'yes': 4}\n",
      "{'yes': 4}\n"
     ]
    },
    {
     "data": {
      "text/plain": [
       "2"
      ]
     },
     "execution_count": 44,
     "metadata": {},
     "output_type": "execute_result"
    }
   ],
   "source": [
    "# %%time\n",
    "credit_dataset, labels = get_dataset()\n",
    "info_gain=get_info_gain(credit_dataset)\n",
    "sorted(info_gain.items(),key=lambda v:v[1],reverse=True)[0][0]"
   ]
  },
  {
   "cell_type": "code",
   "execution_count": 45,
   "metadata": {},
   "outputs": [],
   "source": [
    "def get_major_class(class_list):\n",
    "    \"\"\"\n",
    "        统计类别的数量，并返回数量最多的类别\n",
    "    \"\"\"\n",
    "    class_count={}\n",
    "    for vote in class_list:\n",
    "        if vote not in class_count.keys():\n",
    "            class_count[vote]=0\n",
    "        class_count[vote]+=1\n",
    "    return sorted(class_count.items(),key=lambda x:x[1],reverse=True)[0][0]"
   ]
  },
  {
   "cell_type": "code",
   "execution_count": 73,
   "metadata": {},
   "outputs": [],
   "source": [
    "def get_decision_tree(dataset, labels):\n",
    "    \"\"\"\n",
    "        决策树生成\n",
    "    \"\"\"\n",
    "    class_list = [example[-1] for example in dataset]\n",
    "    if class_list.count(class_list[0]) == len(class_list):\n",
    "        return class_list[0]  # 终止条件1：样本都是同一类型\n",
    "    if len(dataset[0]) == 1:\n",
    "        return get_major_class(class_list)  # 属性用完或分不开情形，使用后验分布\n",
    "\n",
    "    best_feature = get_best_feature(dataset)\n",
    "    print(labels, best_feature)\n",
    "    best_fea_label = labels[best_feature]\n",
    "    d_tree = {best_fea_label: {}}\n",
    "    # 删除已经用于分裂的特征\n",
    "    del (labels[best_feature])\n",
    "    # 取出特征值\n",
    "    feature_values = [fe[best_feature] for fe in dataset]\n",
    "    unique_feature = set(feature_values)\n",
    "    for v in unique_feature:\n",
    "        sub_labels = labels[:]\n",
    "        sub_dataset = split_dataset(dataset, best_feature, v)\n",
    "        d_tree[best_fea_label][v] = get_decision_tree(sub_dataset, sub_labels)\n",
    "    return d_tree"
   ]
  },
  {
   "cell_type": "code",
   "execution_count": 76,
   "metadata": {},
   "outputs": [
    {
     "name": "stdout",
     "output_type": "stream",
     "text": [
      "['年龄', '有工作', '有自己的房子', '信贷情况'] 2\n",
      "['年龄', '有工作', '信贷情况'] 1\n"
     ]
    },
    {
     "data": {
      "text/plain": [
       "{'有自己的房子': {0: {'有工作': {0: 'no', 1: 'yes'}}, 1: 'yes'}}"
      ]
     },
     "execution_count": 76,
     "metadata": {},
     "output_type": "execute_result"
    }
   ],
   "source": [
    "credit_dataset, credit_labels = get_dataset()\n",
    "get_decision_tree(credit_dataset,credit_labels)"
   ]
  },
  {
   "cell_type": "code",
   "execution_count": null,
   "metadata": {},
   "outputs": [],
   "source": []
  }
 ],
 "metadata": {
  "kernelspec": {
   "display_name": "Python 3",
   "language": "python",
   "name": "python3"
  },
  "language_info": {
   "codemirror_mode": {
    "name": "ipython",
    "version": 3
   },
   "file_extension": ".py",
   "mimetype": "text/x-python",
   "name": "python",
   "nbconvert_exporter": "python",
   "pygments_lexer": "ipython3",
   "version": "3.7.3"
  }
 },
 "nbformat": 4,
 "nbformat_minor": 2
}
