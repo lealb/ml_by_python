{
 "cells": [
  {
   "cell_type": "markdown",
   "metadata": {},
   "source": [
    "## k-近邻算法\n",
    "- 工作原理：存在一个样本集合，并且样本集中每个数据都存在标签，输入没有标签的新数据后，将新数据的每个特征与样本集中对应的特征进行比较，然后算法提取样本集中特征最相似数据(最近邻)分类标签，统计k个最相似数据中出现最多的分类作为新数据的分类。\n",
    "- 优点：精度高，对异常值不敏感、无数据输入假定\n",
    "- 缺点：计算复杂度高、空间复杂度高\n",
    "- 适用数据范围：数值型和标称型\n",
    "- https://blog.csdn.net/weixin_39778570/article/details/81455344"
   ]
  },
  {
   "cell_type": "markdown",
   "metadata": {},
   "source": [
    "#### 1.书上实例"
   ]
  },
  {
   "cell_type": "code",
   "execution_count": 3,
   "metadata": {},
   "outputs": [],
   "source": [
    "import numpy as np\n",
    "import pandas as pd\n",
    "import matplotlib.pyplot as plt\n",
    "import seaborn as sns\n",
    "%matplotlib inline\n",
    "sns.set_style(\"whitegrid\")"
   ]
  },
  {
   "cell_type": "code",
   "execution_count": 4,
   "metadata": {},
   "outputs": [],
   "source": [
    "# 创建数据集\n",
    "def create_datasets():\n",
    "    group = np.array([[1.0, 1.1], [1.0, 1.0], [0, 0], [0, 0.1]])\n",
    "    labels = ['A', 'A', 'B', 'B']\n",
    "    return group, labels"
   ]
  },
  {
   "cell_type": "code",
   "execution_count": 5,
   "metadata": {},
   "outputs": [
    {
     "data": {
      "text/plain": [
       "(array([[1. , 1.1],\n",
       "        [1. , 1. ],\n",
       "        [0. , 0. ],\n",
       "        [0. , 0.1]]), ['A', 'A', 'B', 'B'])"
      ]
     },
     "execution_count": 5,
     "metadata": {},
     "output_type": "execute_result"
    }
   ],
   "source": [
    "X, y = create_datasets()\n",
    "X, y"
   ]
  },
  {
   "cell_type": "code",
   "execution_count": 9,
   "metadata": {},
   "outputs": [
    {
     "data": {
      "text/plain": [
       "array([2, 1])"
      ]
     },
     "execution_count": 9,
     "metadata": {},
     "output_type": "execute_result"
    }
   ],
   "source": [
    "test_data = np.array([2, 1])\n",
    "test_data"
   ]
  },
  {
   "cell_type": "code",
   "execution_count": 15,
   "metadata": {},
   "outputs": [
    {
     "data": {
      "text/plain": [
       "array([1.00498756, 1.        , 2.23606798, 2.19317122])"
      ]
     },
     "execution_count": 15,
     "metadata": {},
     "output_type": "execute_result"
    }
   ],
   "source": [
    "# 计算距离\n",
    "distances = (((test_data - X)**2).sum(axis=1))**0.5\n",
    "distances"
   ]
  },
  {
   "cell_type": "code",
   "execution_count": 17,
   "metadata": {},
   "outputs": [
    {
     "data": {
      "text/plain": [
       "array([1, 0, 3, 2])"
      ]
     },
     "execution_count": 17,
     "metadata": {},
     "output_type": "execute_result"
    }
   ],
   "source": [
    "# 排序\n",
    "sort_index=distances.argsort()\n",
    "sort_index"
   ]
  },
  {
   "cell_type": "code",
   "execution_count": 19,
   "metadata": {},
   "outputs": [
    {
     "data": {
      "text/plain": [
       "['A', 'A']"
      ]
     },
     "execution_count": 19,
     "metadata": {},
     "output_type": "execute_result"
    }
   ],
   "source": [
    "k=2\n",
    "topK_k=[y[i] for i in sort_index[:k]]\n",
    "topK_k"
   ]
  },
  {
   "cell_type": "code",
   "execution_count": 20,
   "metadata": {},
   "outputs": [
    {
     "data": {
      "text/plain": [
       "array([1, 0])"
      ]
     },
     "execution_count": 20,
     "metadata": {},
     "output_type": "execute_result"
    }
   ],
   "source": [
    "sort_index[:2]"
   ]
  },
  {
   "cell_type": "code",
   "execution_count": 22,
   "metadata": {},
   "outputs": [
    {
     "data": {
      "text/plain": [
       "Counter({'A': 2})"
      ]
     },
     "execution_count": 22,
     "metadata": {},
     "output_type": "execute_result"
    }
   ],
   "source": [
    "\n",
    "votes=collections.Counter(topK_k)\n",
    "votes"
   ]
  },
  {
   "cell_type": "code",
   "execution_count": 23,
   "metadata": {},
   "outputs": [
    {
     "data": {
      "text/plain": [
       "'A'"
      ]
     },
     "execution_count": 23,
     "metadata": {},
     "output_type": "execute_result"
    }
   ],
   "source": [
    "votes.most_common(1)[0][0]"
   ]
  },
  {
   "cell_type": "code",
   "execution_count": 60,
   "metadata": {},
   "outputs": [],
   "source": [
    "def knn(X_train, y_train, X_test, k):\n",
    "    \"\"\"\n",
    "    利用欧氏距离简单进行分类\n",
    "    \"\"\"\n",
    "    import collections\n",
    "    # 1.求测试集与训练集的距离\n",
    "    distances = (((X_test - X_train)**2).sum(axis=1))**0.5\n",
    "    # print(distances[:5])\n",
    "    # 2.排序\n",
    "    nearset_index = np.argsort(distances)\n",
    "    # 3.取出最近的k值\n",
    "    topK_k = [y_train[i] for i in nearset_index[:k]]\n",
    "    # 4.统计数目\n",
    "    votes = collections.Counter(topK_k).most_common(1)\n",
    "    # 5.返回预测标签\n",
    "    return votes[0][0]"
   ]
  },
  {
   "cell_type": "markdown",
   "metadata": {},
   "source": [
    "#### 1.1 约会数据分析"
   ]
  },
  {
   "cell_type": "code",
   "execution_count": 12,
   "metadata": {},
   "outputs": [
    {
     "name": "stdout",
     "output_type": "stream",
     "text": [
      "dating_test1.txt  email\t\t      horseColicTraining.txt  svm_RBF2.txt\r\n",
      "dating_test.txt   horse-colic.data    housing.csv\t      svm_RBF.txt\r\n",
      "digits\t\t  horseColicTest.txt  play\t\t      svm.txt\r\n"
     ]
    }
   ],
   "source": [
    "!ls datasets/"
   ]
  },
  {
   "cell_type": "code",
   "execution_count": 13,
   "metadata": {},
   "outputs": [],
   "source": [
    "def load_datasets(file_path):\n",
    "    data = pd.read_csv(file_path, sep='\\t', header=None).to_numpy()\n",
    "    return data[:, :-1], data[:, -1]"
   ]
  },
  {
   "cell_type": "code",
   "execution_count": 15,
   "metadata": {},
   "outputs": [
    {
     "data": {
      "text/plain": [
       "(array([[40920, 8.326976, 0.953952],\n",
       "        [14488, 7.153469, 1.673904],\n",
       "        [26052, 1.441871, 0.805124],\n",
       "        [75136, 13.147394, 0.428964],\n",
       "        [38344, 1.669788, 0.134296]], dtype=object),\n",
       " array(['largeDoses', 'smallDoses', 'didntLike', 'didntLike', 'didntLike'],\n",
       "       dtype=object))"
      ]
     },
     "execution_count": 15,
     "metadata": {},
     "output_type": "execute_result"
    }
   ],
   "source": [
    "X,y=load_datasets(\"datasets/dating_test.txt\")\n",
    "X[:5],y[:5]"
   ]
  },
  {
   "cell_type": "code",
   "execution_count": 21,
   "metadata": {},
   "outputs": [
    {
     "data": {
      "text/plain": [
       "Text(0, 0.5, '每周消费的冰淇淋公升数')"
      ]
     },
     "execution_count": 21,
     "metadata": {},
     "output_type": "execute_result"
    },
    {
     "data": {
      "image/png": "[encoded data removed]",
      "text/plain": [
       "<Figure size 432x288 with 1 Axes>"
      ]
     },
     "metadata": {},
     "output_type": "display_data"
    }
   ],
   "source": [
    "## 查看数据状况\n",
    "plt.scatter(X[y == \"largeDoses\", 1],\n",
    "            X[y == \"largeDoses\", 2],\n",
    "            color=\"red\",\n",
    "            marker=\"+\")\n",
    "plt.scatter(X[y == \"smallDoses\", 1],\n",
    "            X[y == \"smallDoses\", 2],\n",
    "            color=\"green\",\n",
    "            marker=\"x\")\n",
    "plt.scatter(X[y == \"didntLike\", 1],\n",
    "            X[y == \"didntLike\", 2],\n",
    "            color=\"blue\",\n",
    "            marker=\"*\")\n",
    "plt.xlabel(\"玩视频游戏所耗时间占比\")\n",
    "plt.ylabel(\"每周消费的冰淇淋公升数\")"
   ]
  },
  {
   "cell_type": "code",
   "execution_count": 45,
   "metadata": {},
   "outputs": [],
   "source": [
    "# 插曲\n",
    "def count_op(str1, str2):\n",
    "    count = 0\n",
    "    if str1 == str2:\n",
    "        return count\n",
    "    if len(str1) != len(str2):\n",
    "        count += abs(len(str1) - len(str2))\n",
    "        if len(str1) > len(str2):\n",
    "            print(\"delete->\",end=\"\")\n",
    "        else:\n",
    "            print(\"insert->\",end=\"\")\n",
    "    length = min(len(str1), len(str2))\n",
    "    for i in range(length):\n",
    "        if str2[i] != str1[i]:\n",
    "            print(\"replace->\",end=\"\")\n",
    "            count += 1\n",
    "    return count"
   ]
  },
  {
   "cell_type": "code",
   "execution_count": 46,
   "metadata": {},
   "outputs": [
    {
     "name": "stdout",
     "output_type": "stream",
     "text": [
      "delete->replace->replace->replace->replace->replace->"
     ]
    },
    {
     "data": {
      "text/plain": [
       "7"
      ]
     },
     "execution_count": 46,
     "metadata": {},
     "output_type": "execute_result"
    }
   ],
   "source": [
    "count_op(str1=\"iga\", str2=\"fig\")"
   ]
  },
  {
   "cell_type": "code",
   "execution_count": 50,
   "metadata": {},
   "outputs": [],
   "source": [
    "# 最大最小值归一化数据\n",
    "def auto_norm(X):\n",
    "    ranges = X.max(0) - X.min(0)\n",
    "    return (X - X.min(0)) / ranges"
   ]
  },
  {
   "cell_type": "code",
   "execution_count": 55,
   "metadata": {},
   "outputs": [
    {
     "data": {
      "text/plain": [
       "array([2, 1, 0, 0, 0, 0, 2, 2, 0, 2])"
      ]
     },
     "execution_count": 55,
     "metadata": {},
     "output_type": "execute_result"
    }
   ],
   "source": [
    "title_mapping = {\"didntLike\": 0, \"smallDoses\": 1, \"largeDoses\": 2}\n",
    "y=pd.Series(y).map(title_mapping).to_numpy()\n",
    "y[:10]"
   ]
  },
  {
   "cell_type": "code",
   "execution_count": 62,
   "metadata": {},
   "outputs": [
    {
     "data": {
      "text/plain": [
       "[0, 1, 1, 2, 1, 2, 1, 2, 0, 1]"
      ]
     },
     "execution_count": 62,
     "metadata": {},
     "output_type": "execute_result"
    }
   ],
   "source": [
    "from sklearn.model_selection import train_test_split\n",
    "X_train, X_test, y_train, y_test = train_test_split(X,\n",
    "                                                    y,\n",
    "                                                    test_size=0.2,\n",
    "                                                    random_state=42)\n",
    "y_pred = [knn(X_train, y_train, X_test[i],3) for i in range(len(X_test))]\n",
    "y_pred[:10]"
   ]
  },
  {
   "cell_type": "code",
   "execution_count": 63,
   "metadata": {},
   "outputs": [
    {
     "data": {
      "text/plain": [
       "0.785"
      ]
     },
     "execution_count": 63,
     "metadata": {},
     "output_type": "execute_result"
    }
   ],
   "source": [
    "from sklearn.metrics import accuracy_score\n",
    "accuracy_score(y_test,y_pred)"
   ]
  },
  {
   "cell_type": "code",
   "execution_count": 64,
   "metadata": {},
   "outputs": [
    {
     "data": {
      "text/plain": [
       "0.945"
      ]
     },
     "execution_count": 64,
     "metadata": {},
     "output_type": "execute_result"
    }
   ],
   "source": [
    "# 规范化的数据\n",
    "X_n=auto_norm(X)\n",
    "X_train_n, X_test_n, y_train, y_test = train_test_split(X_n,\n",
    "                                                    y,\n",
    "                                                    test_size=0.2,\n",
    "                                                    random_state=42)\n",
    "y_pred_n = [knn(X_train_n, y_train, X_test_n[i],3) for i in range(len(X_test_n))]\n",
    "accuracy_score(y_test,y_pred_n)"
   ]
  },
  {
   "cell_type": "code",
   "execution_count": 67,
   "metadata": {},
   "outputs": [
    {
     "data": {
      "text/html": [
       "<div>\n",
       "<style scoped>\n",
       "    .dataframe tbody tr th:only-of-type {\n",
       "        vertical-align: middle;\n",
       "    }\n",
       "\n",
       "    .dataframe tbody tr th {\n",
       "        vertical-align: top;\n",
       "    }\n",
       "\n",
       "    .dataframe thead th {\n",
       "        text-align: right;\n",
       "    }\n",
       "</style>\n",
       "<table border=\"1\" class=\"dataframe\">\n",
       "  <thead>\n",
       "    <tr style=\"text-align: right;\">\n",
       "      <th></th>\n",
       "      <th>0</th>\n",
       "    </tr>\n",
       "  </thead>\n",
       "  <tbody>\n",
       "    <tr>\n",
       "      <td>0</td>\n",
       "      <td>00000000000001111000000000000000</td>\n",
       "    </tr>\n",
       "    <tr>\n",
       "      <td>1</td>\n",
       "      <td>00000000000011111110000000000000</td>\n",
       "    </tr>\n",
       "    <tr>\n",
       "      <td>2</td>\n",
       "      <td>00000000001111111111000000000000</td>\n",
       "    </tr>\n",
       "    <tr>\n",
       "      <td>3</td>\n",
       "      <td>00000001111111111111100000000000</td>\n",
       "    </tr>\n",
       "    <tr>\n",
       "      <td>4</td>\n",
       "      <td>00000001111111011111100000000000</td>\n",
       "    </tr>\n",
       "    <tr>\n",
       "      <td>5</td>\n",
       "      <td>00000011111110000011110000000000</td>\n",
       "    </tr>\n",
       "    <tr>\n",
       "      <td>6</td>\n",
       "      <td>00000011111110000000111000000000</td>\n",
       "    </tr>\n",
       "    <tr>\n",
       "      <td>7</td>\n",
       "      <td>00000011111110000000111100000000</td>\n",
       "    </tr>\n",
       "    <tr>\n",
       "      <td>8</td>\n",
       "      <td>00000011111110000000011100000000</td>\n",
       "    </tr>\n",
       "    <tr>\n",
       "      <td>9</td>\n",
       "      <td>00000011111110000000011100000000</td>\n",
       "    </tr>\n",
       "    <tr>\n",
       "      <td>10</td>\n",
       "      <td>00000011111100000000011110000000</td>\n",
       "    </tr>\n",
       "    <tr>\n",
       "      <td>11</td>\n",
       "      <td>00000011111100000000001110000000</td>\n",
       "    </tr>\n",
       "    <tr>\n",
       "      <td>12</td>\n",
       "      <td>00000011111100000000001110000000</td>\n",
       "    </tr>\n",
       "    <tr>\n",
       "      <td>13</td>\n",
       "      <td>00000001111110000000000111000000</td>\n",
       "    </tr>\n",
       "    <tr>\n",
       "      <td>14</td>\n",
       "      <td>00000001111110000000000111000000</td>\n",
       "    </tr>\n",
       "    <tr>\n",
       "      <td>15</td>\n",
       "      <td>00000001111110000000000111000000</td>\n",
       "    </tr>\n",
       "    <tr>\n",
       "      <td>16</td>\n",
       "      <td>00000001111110000000000111000000</td>\n",
       "    </tr>\n",
       "    <tr>\n",
       "      <td>17</td>\n",
       "      <td>00000011111110000000001111000000</td>\n",
       "    </tr>\n",
       "    <tr>\n",
       "      <td>18</td>\n",
       "      <td>00000011110110000000001111000000</td>\n",
       "    </tr>\n",
       "    <tr>\n",
       "      <td>19</td>\n",
       "      <td>00000011110000000000011110000000</td>\n",
       "    </tr>\n",
       "    <tr>\n",
       "      <td>20</td>\n",
       "      <td>00000001111000000000001111000000</td>\n",
       "    </tr>\n",
       "    <tr>\n",
       "      <td>21</td>\n",
       "      <td>00000001111000000000011111000000</td>\n",
       "    </tr>\n",
       "    <tr>\n",
       "      <td>22</td>\n",
       "      <td>00000001111000000000111110000000</td>\n",
       "    </tr>\n",
       "    <tr>\n",
       "      <td>23</td>\n",
       "      <td>00000001111000000001111100000000</td>\n",
       "    </tr>\n",
       "    <tr>\n",
       "      <td>24</td>\n",
       "      <td>00000000111000000111111000000000</td>\n",
       "    </tr>\n",
       "    <tr>\n",
       "      <td>25</td>\n",
       "      <td>00000000111100011111110000000000</td>\n",
       "    </tr>\n",
       "    <tr>\n",
       "      <td>26</td>\n",
       "      <td>00000000111111111111110000000000</td>\n",
       "    </tr>\n",
       "    <tr>\n",
       "      <td>27</td>\n",
       "      <td>00000000011111111111110000000000</td>\n",
       "    </tr>\n",
       "    <tr>\n",
       "      <td>28</td>\n",
       "      <td>00000000011111111111100000000000</td>\n",
       "    </tr>\n",
       "    <tr>\n",
       "      <td>29</td>\n",
       "      <td>00000000001111111110000000000000</td>\n",
       "    </tr>\n",
       "    <tr>\n",
       "      <td>30</td>\n",
       "      <td>00000000000111110000000000000000</td>\n",
       "    </tr>\n",
       "    <tr>\n",
       "      <td>31</td>\n",
       "      <td>00000000000011000000000000000000</td>\n",
       "    </tr>\n",
       "  </tbody>\n",
       "</table>\n",
       "</div>"
      ],
      "text/plain": [
       "                                   0\n",
       "0   00000000000001111000000000000000\n",
       "1   00000000000011111110000000000000\n",
       "2   00000000001111111111000000000000\n",
       "3   00000001111111111111100000000000\n",
       "4   00000001111111011111100000000000\n",
       "5   00000011111110000011110000000000\n",
       "6   00000011111110000000111000000000\n",
       "7   00000011111110000000111100000000\n",
       "8   00000011111110000000011100000000\n",
       "9   00000011111110000000011100000000\n",
       "10  00000011111100000000011110000000\n",
       "11  00000011111100000000001110000000\n",
       "12  00000011111100000000001110000000\n",
       "13  00000001111110000000000111000000\n",
       "14  00000001111110000000000111000000\n",
       "15  00000001111110000000000111000000\n",
       "16  00000001111110000000000111000000\n",
       "17  00000011111110000000001111000000\n",
       "18  00000011110110000000001111000000\n",
       "19  00000011110000000000011110000000\n",
       "20  00000001111000000000001111000000\n",
       "21  00000001111000000000011111000000\n",
       "22  00000001111000000000111110000000\n",
       "23  00000001111000000001111100000000\n",
       "24  00000000111000000111111000000000\n",
       "25  00000000111100011111110000000000\n",
       "26  00000000111111111111110000000000\n",
       "27  00000000011111111111110000000000\n",
       "28  00000000011111111111100000000000\n",
       "29  00000000001111111110000000000000\n",
       "30  00000000000111110000000000000000\n",
       "31  00000000000011000000000000000000"
      ]
     },
     "execution_count": 67,
     "metadata": {},
     "output_type": "execute_result"
    }
   ],
   "source": [
    "pd.read_csv(\"datasets/digits/digits_train/0_0.txt\",sep=\" \",header=None)"
   ]
  },
  {
   "cell_type": "code",
   "execution_count": 100,
   "metadata": {},
   "outputs": [],
   "source": [
    "def get_data(file_path):\n",
    "    \"\"\"\n",
    "     read data from file\n",
    "    \"\"\"\n",
    "    with open(file_path, \"r\") as file:\n",
    "        res = [list(d.strip(\"\\n\")) for d in list(file.readlines())]\n",
    "        return np.array(res).astype(int).flatten()"
   ]
  },
  {
   "cell_type": "code",
   "execution_count": 93,
   "metadata": {},
   "outputs": [
    {
     "data": {
      "text/plain": [
       "(1024,)"
      ]
     },
     "execution_count": 93,
     "metadata": {},
     "output_type": "execute_result"
    }
   ],
   "source": [
    "d0=get_data(\"datasets/digits/digits_train/0_0.txt\")\n",
    "d0.flatten().shape"
   ]
  },
  {
   "cell_type": "code",
   "execution_count": 107,
   "metadata": {},
   "outputs": [],
   "source": [
    "train_path = \"datasets/digits/digits_train/\"\n",
    "test_path = \"datasets/digits/digits_test/\"\n",
    "files = os.listdir(\"datasets/digits/digits_train/\")\n",
    "\n",
    "\n",
    "def get_data_y(path):\n",
    "    import os\n",
    "    return [\n",
    "        np.append(get_data(os.path.join(path, i)), int(i.split(\"_\")[0]))\n",
    "        for i in os.listdir(path)\n",
    "    ]"
   ]
  },
  {
   "cell_type": "code",
   "execution_count": null,
   "metadata": {},
   "outputs": [],
   "source": [
    "%%time\n",
    "digits_data = get_data_y(train_path)\n",
    "digits_data[0]"
   ]
  },
  {
   "cell_type": "code",
   "execution_count": null,
   "metadata": {},
   "outputs": [],
   "source": []
  },
  {
   "cell_type": "code",
   "execution_count": null,
   "metadata": {},
   "outputs": [],
   "source": []
  },
  {
   "cell_type": "code",
   "execution_count": null,
   "metadata": {},
   "outputs": [],
   "source": []
  },
  {
   "cell_type": "code",
   "execution_count": null,
   "metadata": {},
   "outputs": [],
   "source": []
  },
  {
   "cell_type": "code",
   "execution_count": null,
   "metadata": {},
   "outputs": [],
   "source": []
  },
  {
   "cell_type": "code",
   "execution_count": null,
   "metadata": {},
   "outputs": [],
   "source": []
  },
  {
   "cell_type": "markdown",
   "metadata": {},
   "source": [
    "#### 网上实例"
   ]
  },
  {
   "cell_type": "code",
   "execution_count": 3,
   "metadata": {},
   "outputs": [],
   "source": [
    "## 使用鸢尾花数据集\n",
    "from sklearn import datasets\n",
    "\n",
    "iris = datasets.load_iris()\n",
    "X, y = iris.data, iris.target"
   ]
  },
  {
   "cell_type": "code",
   "execution_count": 70,
   "metadata": {},
   "outputs": [
    {
     "data": {
      "text/plain": [
       "<matplotlib.collections.PathCollection at 0x7f2980d512b0>"
      ]
     },
     "execution_count": 70,
     "metadata": {},
     "output_type": "execute_result"
    },
    {
     "data": {
      "image/png": "[encoded data removed]",
      "text/plain": [
       "<Figure size 432x288 with 1 Axes>"
      ]
     },
     "metadata": {
      "needs_background": "light"
     },
     "output_type": "display_data"
    }
   ],
   "source": [
    "plt.scatter(X[y == 0, 0], X[y == 0, 1], color=\"red\", marker='o')\n",
    "plt.scatter(X[y == 1, 0], X[y == 1, 1], color=\"blue\", marker='x')\n",
    "plt.scatter(X[y == 2, 0], X[y == 2, 1], color=\"green\", marker='+')"
   ]
  },
  {
   "cell_type": "code",
   "execution_count": 1,
   "metadata": {},
   "outputs": [],
   "source": [
    "from sklearn.model_selection import train_test_split\n",
    "from sklearn.neighbors import KNeighborsClassifier"
   ]
  },
  {
   "cell_type": "code",
   "execution_count": 5,
   "metadata": {},
   "outputs": [
    {
     "data": {
      "text/plain": [
       "array([[6.1, 2.8, 4.7, 1.2],\n",
       "       [4.8, 3.1, 1.6, 0.2],\n",
       "       [5.1, 3.8, 1.5, 0.3],\n",
       "       [4.8, 3. , 1.4, 0.1],\n",
       "       [6. , 2.9, 4.5, 1.5],\n",
       "       [6.3, 2.7, 4.9, 1.8],\n",
       "       [5.8, 2.7, 3.9, 1.2],\n",
       "       [4.6, 3.6, 1. , 0.2],\n",
       "       [5.6, 2.9, 3.6, 1.3],\n",
       "       [5.9, 3. , 5.1, 1.8],\n",
       "       [5.2, 4.1, 1.5, 0.1],\n",
       "       [5.1, 3.5, 1.4, 0.3],\n",
       "       [5.5, 2.4, 3.7, 1. ],\n",
       "       [4.4, 2.9, 1.4, 0.2],\n",
       "       [4.7, 3.2, 1.3, 0.2],\n",
       "       [5.5, 2.5, 4. , 1.3],\n",
       "       [5.2, 2.7, 3.9, 1.4],\n",
       "       [5.4, 3. , 4.5, 1.5],\n",
       "       [5.9, 3.2, 4.8, 1.8],\n",
       "       [5.4, 3.4, 1.5, 0.4],\n",
       "       [5. , 2. , 3.5, 1. ],\n",
       "       [7.7, 3.8, 6.7, 2.2],\n",
       "       [5. , 3.5, 1.6, 0.6],\n",
       "       [5.1, 3.3, 1.7, 0.5],\n",
       "       [6.4, 2.7, 5.3, 1.9],\n",
       "       [5.7, 2.8, 4.5, 1.3],\n",
       "       [7.3, 2.9, 6.3, 1.8],\n",
       "       [5.5, 2.4, 3.8, 1.1],\n",
       "       [7.4, 2.8, 6.1, 1.9],\n",
       "       [5.7, 3. , 4.2, 1.2]])"
      ]
     },
     "execution_count": 5,
     "metadata": {},
     "output_type": "execute_result"
    }
   ],
   "source": [
    "X_train, X_test, y_train, y_test = train_test_split(X, y, test_size=0.2)\n",
    "X_test"
   ]
  },
  {
   "cell_type": "code",
   "execution_count": 19,
   "metadata": {},
   "outputs": [],
   "source": [
    "# k近邻算法可以认为是一个没有训练过程的算法\n",
    "# 对于knn来说，训练集就是模型\n",
    "# 参数k，X_train训练集, y_train分类标签集, x新的点\n",
    "\n",
    "\n",
    "class KNNClassifier:\n",
    "    def __init__(self, k):\n",
    "        \"\"\"初始化kNN分类器\"\"\"\n",
    "        assert k >= 1, \"k must be valid\"\n",
    "        self.k = k\n",
    "        # 私有成员变量_\n",
    "        self._X_train = None\n",
    "        self._y_train = None\n",
    "\n",
    "    def fit(self, X_train, y_train):\n",
    "        \"\"\"根据训练数据集X_train和y_train训练kNN分类器\"\"\"\n",
    "        assert X_train.shape[0] == y_train.shape[\n",
    "            0], \"the size of X_train must be equal to the size of y_train.\"\n",
    "        assert self.k <= X_train.shape[\n",
    "            0], \"the size of X_train must be at least k.\"\n",
    "\n",
    "        self._X_train = X_train\n",
    "        self._y_train = y_train\n",
    "        return self\n",
    "\n",
    "    def predict(self, X_predict):\n",
    "        \"\"\"给定待测预测数据集X_predict,返回表示X_predict的结果向量集\"\"\"\n",
    "        assert self._X_train is not None and self._y_train is not None, \"must fit before predict!\"\n",
    "        assert X_predict.shape[1] == self._X_train.shape[\n",
    "            1], \"the feature number of X_predict must be similar to X_train.\"\n",
    "\n",
    "        y_predict = [self._predict(x) for x in X_predict]\n",
    "        return np.array(y_predict)\n",
    "\n",
    "    def _predict(self, x):\n",
    "        \"\"\"给定单个待测数据x,返回x的预测结果集\"\"\"\n",
    "        assert x.shape[0] == self._X_train.shape[\n",
    "            1], \"the feature number of x must be equal to X_train\"\n",
    "\n",
    "        # 欧拉距离\n",
    "        distances = [(np.sum((x_train - x)**2))**0.5\n",
    "                     for x_train in self._X_train]\n",
    "        # 求出距离最小的索引\n",
    "        nearest = np.argsort(distances)\n",
    "\n",
    "        # 前k个距离最小的标签的点集\n",
    "        topK_y = [self._y_train[i] for i in nearest[:self.k]]\n",
    "        # 投票统计\n",
    "        votes = collections.Counter(topK_y)\n",
    "\n",
    "        # 返回票数最多的标签\n",
    "        return votes.most_common(1)[0][0]\n",
    "\n",
    "    def _accuracy_score(self, y_true, y_predict):\n",
    "        \"\"\"计算 y_true 和 y_predict 之间的准确率\"\"\"\n",
    "\n",
    "        assert y_true.shape[0] == y_predict.shape[\n",
    "            0], \"the size of y_true must be equal to the size of y_predict\"\n",
    "\n",
    "        return sum(y_true == y_predict) / len(y_true)\n",
    "\n",
    "    def score(self, X_test, y_test):\n",
    "        \"\"\"根据测算数据集 X_test 和 y_test 确定当前模型的准确度\"\"\"\n",
    "        y_predict = self.predict(X_test)\n",
    "        return self._accuracy_score(y_test, y_predict)\n",
    "\n",
    "    def __repr__(self):\n",
    "        return \"KNN(k=%d)\" % self.k"
   ]
  },
  {
   "cell_type": "markdown",
   "metadata": {},
   "source": [
    "### 下面的KNNClassifier是模仿sklearn中的api实现的一个简单类"
   ]
  },
  {
   "cell_type": "markdown",
   "metadata": {},
   "source": [
    "- init构造器传入的是一个k值，即要统一分析的最近的k个点\n",
    "- fit函数需要在对象创建后使用，传入训练数据集，X_train,y_train\n",
    "- predict方法传入的是一个测试数据集，返回的是一个测试结果集(这里统一返回np.array)\n",
    "（在sklearn该方法在metrics模块中所以设置为私有方法）_accuracy_score是用来计算准确率的，传入的连个参数分别为 真实结果集 和 测试结果集\n",
    "- score方法用来计算该模型的准确率，传入的是 测试数据集 和 测试数据的真是结果集，返回该模型的准确度"
   ]
  },
  {
   "cell_type": "code",
   "execution_count": 26,
   "metadata": {},
   "outputs": [
    {
     "data": {
      "text/plain": [
       "array([1, 0, 0, 0, 1, 2, 1, 0, 1, 2, 0, 0, 1, 0, 0, 1, 1, 1, 2, 0, 1, 2,\n",
       "       0, 0, 2, 1, 2, 1, 2, 1])"
      ]
     },
     "execution_count": 26,
     "metadata": {},
     "output_type": "execute_result"
    }
   ],
   "source": [
    "my_knn_clf = KNNClassifier(k=3)\n",
    "# 传入训练数据\n",
    "my_knn_clf.fit(X_train, y_train)\n",
    "# 进行预测\n",
    "y_predict = my_knn_clf.predict(X_test)\n",
    "y_predict"
   ]
  },
  {
   "cell_type": "code",
   "execution_count": 27,
   "metadata": {},
   "outputs": [
    {
     "data": {
      "text/plain": [
       "array([1, 0, 0, 0, 1, 2, 1, 0, 1, 2, 0, 0, 1, 0, 0, 1, 1, 1, 1, 0, 1, 2,\n",
       "       0, 0, 2, 1, 2, 1, 2, 1])"
      ]
     },
     "execution_count": 27,
     "metadata": {},
     "output_type": "execute_result"
    }
   ],
   "source": [
    "y_test"
   ]
  },
  {
   "cell_type": "code",
   "execution_count": 28,
   "metadata": {},
   "outputs": [
    {
     "data": {
      "text/plain": [
       "0.9666666666666667"
      ]
     },
     "execution_count": 28,
     "metadata": {},
     "output_type": "execute_result"
    }
   ],
   "source": [
    "# （每次预测的结果可能不一样，受到随机分类的随机种子的影响）\n",
    "sum(y_predict == y_test)/len(y_test)"
   ]
  },
  {
   "cell_type": "code",
   "execution_count": 29,
   "metadata": {},
   "outputs": [
    {
     "data": {
      "text/plain": [
       "0.9666666666666667"
      ]
     },
     "execution_count": 29,
     "metadata": {},
     "output_type": "execute_result"
    }
   ],
   "source": [
    "# 数据一样，结果一样\n",
    "knn_clf.score(X_test, y_test)"
   ]
  },
  {
   "cell_type": "code",
   "execution_count": 31,
   "metadata": {},
   "outputs": [
    {
     "data": {
      "text/plain": [
       "0.9666666666666667"
      ]
     },
     "execution_count": 31,
     "metadata": {},
     "output_type": "execute_result"
    }
   ],
   "source": [
    "# n_neighbors参数即k值\n",
    "knn_clf = KNeighborsClassifier(n_neighbors=3)\n",
    "# 模型拟合，传入训练数据\n",
    "knn_clf.fit(X_train, y_train)\n",
    "# 返回结果\n",
    "KNeighborsClassifier(algorithm='auto', leaf_size=30, metric='minkowski',\n",
    "           metric_params=None, n_jobs=1, n_neighbors=3, p=2,\n",
    "           weights='uniform')\n",
    "# 对测试数据进行预测,返回预测结果集\n",
    "y_predict = knn_clf.predict(X_test)\n",
    "\n",
    "# 导入计算正确率的模块\n",
    "from sklearn.metrics import accuracy_score\n",
    "# 传入真实结果和测试结果，返回正确率\n",
    "accuracy_score(y_test, y_predict)"
   ]
  },
  {
   "cell_type": "code",
   "execution_count": 33,
   "metadata": {},
   "outputs": [
    {
     "data": {
      "text/plain": [
       "0.9666666666666667"
      ]
     },
     "execution_count": 33,
     "metadata": {},
     "output_type": "execute_result"
    }
   ],
   "source": [
    "knn_clf = KNeighborsClassifier(n_neighbors=3)\n",
    "knn_clf.fit(X_train, y_train)\n",
    "knn_clf.score(X_test, y_test)"
   ]
  },
  {
   "cell_type": "markdown",
   "metadata": {},
   "source": [
    "### 使用scikit-learn，对手写数字进行预测分类"
   ]
  },
  {
   "cell_type": "code",
   "execution_count": 3,
   "metadata": {},
   "outputs": [],
   "source": [
    "from sklearn import datasets"
   ]
  },
  {
   "cell_type": "code",
   "execution_count": 7,
   "metadata": {},
   "outputs": [
    {
     "data": {
      "text/plain": [
       "array([[ 0.,  0.,  5., ...,  0.,  0.,  0.],\n",
       "       [ 0.,  0.,  0., ..., 10.,  0.,  0.],\n",
       "       [ 0.,  0.,  0., ..., 16.,  9.,  0.],\n",
       "       ...,\n",
       "       [ 0.,  0.,  1., ...,  6.,  0.,  0.],\n",
       "       [ 0.,  0.,  2., ..., 12.,  0.,  0.],\n",
       "       [ 0.,  0., 10., ..., 12.,  1.,  0.]])"
      ]
     },
     "execution_count": 7,
     "metadata": {},
     "output_type": "execute_result"
    }
   ],
   "source": [
    "# 加载手写数字的数据集\n",
    "digits = datasets.load_digits()\n",
    "digits.data"
   ]
  },
  {
   "cell_type": "code",
   "execution_count": 9,
   "metadata": {},
   "outputs": [
    {
     "data": {
      "text/plain": [
       "dict_keys(['data', 'target', 'target_names', 'images', 'DESCR'])"
      ]
     },
     "execution_count": 9,
     "metadata": {},
     "output_type": "execute_result"
    }
   ],
   "source": [
    "digits.keys()"
   ]
  },
  {
   "cell_type": "code",
   "execution_count": 10,
   "metadata": {},
   "outputs": [
    {
     "data": {
      "text/plain": [
       "array([0, 1, 2, ..., 8, 9, 8])"
      ]
     },
     "execution_count": 10,
     "metadata": {},
     "output_type": "execute_result"
    }
   ],
   "source": [
    "X, y = digits.data, digits.target\n",
    "y"
   ]
  },
  {
   "cell_type": "code",
   "execution_count": 11,
   "metadata": {},
   "outputs": [
    {
     "data": {
      "text/plain": [
       "array([0, 1, 2, 3, 4, 5, 6, 7, 8, 9])"
      ]
     },
     "execution_count": 11,
     "metadata": {},
     "output_type": "execute_result"
    }
   ],
   "source": [
    "# 分类标签\n",
    "digits.target_names"
   ]
  },
  {
   "cell_type": "code",
   "execution_count": 15,
   "metadata": {},
   "outputs": [
    {
     "data": {
      "text/plain": [
       "0"
      ]
     },
     "execution_count": 15,
     "metadata": {},
     "output_type": "execute_result"
    }
   ],
   "source": [
    "some_digits=X[666]\n",
    "y[666]"
   ]
  },
  {
   "cell_type": "code",
   "execution_count": 16,
   "metadata": {},
   "outputs": [
    {
     "data": {
      "text/plain": [
       "array([[ 0.,  0.,  5., 15., 14.,  3.,  0.,  0.],\n",
       "       [ 0.,  0., 13., 15.,  9., 15.,  2.,  0.],\n",
       "       [ 0.,  4., 16., 12.,  0., 10.,  6.,  0.],\n",
       "       [ 0.,  8., 16.,  9.,  0.,  8., 10.,  0.],\n",
       "       [ 0.,  7., 15.,  5.,  0., 12., 11.,  0.],\n",
       "       [ 0.,  7., 13.,  0.,  5., 16.,  6.,  0.],\n",
       "       [ 0.,  0., 16., 12., 15., 13.,  1.,  0.],\n",
       "       [ 0.,  0.,  6., 16., 12.,  2.,  0.,  0.]])"
      ]
     },
     "execution_count": 16,
     "metadata": {},
     "output_type": "execute_result"
    }
   ],
   "source": [
    "img_some_digits=some_digits.reshape((8,8))\n",
    "img_some_digits"
   ]
  },
  {
   "cell_type": "code",
   "execution_count": 17,
   "metadata": {},
   "outputs": [
    {
     "data": {
      "text/plain": [
       "<matplotlib.image.AxesImage at 0x7fbf85c36898>"
      ]
     },
     "execution_count": 17,
     "metadata": {},
     "output_type": "execute_result"
    },
    {
     "data": {
      "image/png": "[encoded data removed]",
      "text/plain": [
       "<Figure size 432x288 with 1 Axes>"
      ]
     },
     "metadata": {
      "needs_background": "light"
     },
     "output_type": "display_data"
    }
   ],
   "source": [
    "import matplotlib\n",
    "plt.imshow(img_some_digits, cmap = matplotlib.cm.binary)"
   ]
  },
  {
   "cell_type": "code",
   "execution_count": 19,
   "metadata": {},
   "outputs": [],
   "source": [
    "# 导入分类模块\n",
    "from sklearn.model_selection import train_test_split\n",
    "# 进行训练数据和测试数据的分类，随机种子为666可以复现结果\n",
    "# 导入计算正确率的模块\n",
    "from sklearn.metrics import accuracy_score\n",
    "X_train, X_test, y_train, y_test = train_test_split(X, y, test_size=0.2, random_state=666)"
   ]
  },
  {
   "cell_type": "code",
   "execution_count": 47,
   "metadata": {},
   "outputs": [
    {
     "data": {
      "text/plain": [
       "0.9888888888888889"
      ]
     },
     "execution_count": 47,
     "metadata": {},
     "output_type": "execute_result"
    }
   ],
   "source": [
    "def test_knn(X_train, y_train, X_test, y_test):\n",
    "    # 创建模型\n",
    "    knn_clf = KNeighborsClassifier(n_neighbors=3,\n",
    "                                   weights='uniform',\n",
    "                                   algorithm='auto',\n",
    "                                   leaf_size=30,\n",
    "                                   p=2,\n",
    "                                   metric='minkowski',\n",
    "                                   metric_params=None,\n",
    "                                   n_jobs=-1)\n",
    "    # 模型拟合，传入训练数据\n",
    "    knn_clf.fit(X_train, y_train)\n",
    "    # 对测试数据进行预测,返回预测结果集\n",
    "    return knn_clf.score(X_test, y_test)\n",
    "\n",
    "\n",
    "test_knn(X_train, y_train, X_test, y_test)"
   ]
  },
  {
   "cell_type": "code",
   "execution_count": 23,
   "metadata": {},
   "outputs": [
    {
     "data": {
      "text/plain": [
       "0.9888888888888889"
      ]
     },
     "execution_count": 23,
     "metadata": {},
     "output_type": "execute_result"
    }
   ],
   "source": [
    "# 直接传入测试数据进行模型评估\n",
    "knn_clf.score(X_test, y_test)"
   ]
  },
  {
   "cell_type": "code",
   "execution_count": 29,
   "metadata": {},
   "outputs": [
    {
     "data": {
      "text/plain": [
       "0.9916666666666667"
      ]
     },
     "execution_count": 29,
     "metadata": {},
     "output_type": "execute_result"
    }
   ],
   "source": [
    "# 没有使用随机种子的完整代码，算正确率\n",
    "\n",
    "# 训练集和测试集\n",
    "X_train, X_test, y_train, y_test = train_test_split(X, y, test_size=0.2)\n",
    "knn_clf = KNeighborsClassifier(n_neighbors=3)\n",
    "knn_clf.fit(X_train, y_train)\n",
    "# 正确率\n",
    "knn_clf.score(X_test, y_test)"
   ]
  },
  {
   "cell_type": "code",
   "execution_count": 45,
   "metadata": {},
   "outputs": [
    {
     "name": "stdout",
     "output_type": "stream",
     "text": [
      "CPU times: user 4 µs, sys: 0 ns, total: 4 µs\n",
      "Wall time: 6.68 µs\n",
      "best_k =  4\n",
      "best_p =  2\n",
      "best_method =  uniform\n",
      "best_score =  0.9916666666666667\n"
     ]
    },
    {
     "data": {
      "text/plain": [
       "(4, 2, 'uniform', 0.9916666666666667)"
      ]
     },
     "execution_count": 45,
     "metadata": {},
     "output_type": "execute_result"
    }
   ],
   "source": [
    "## 循环查找最好的参数\n",
    "# weights参数默认值'uniform'不考虑距离，'distance'为考虑距离\n",
    "def get_best_knn(X_train, y_train, X_test, y_test):\n",
    "    \"\"\"\n",
    "    传入测试集，获得最好的knn参数\n",
    "    \"\"\"\n",
    "    %time\n",
    "    best_method = \"\"\n",
    "    best_score = 0.0\n",
    "    best_k = -1\n",
    "    best_p = -1\n",
    "    for method in ['uniform', 'distance']:\n",
    "        for k in range(1, 11):\n",
    "            for p in range(1, 6):\n",
    "                knn_clf = KNeighborsClassifier(n_neighbors=k,\n",
    "                                               weights=method,\n",
    "                                               p=p)\n",
    "                knn_clf.fit(X_train, y_train)\n",
    "                score = knn_clf.score(X_test, y_test)\n",
    "                if score > best_score:\n",
    "                    best_k = k\n",
    "                    best_score = score\n",
    "                    best_method = method\n",
    "                    best_p = p\n",
    "\n",
    "    print(\"best_k = \", best_k)\n",
    "    print(\"best_p = \", best_p)\n",
    "    print(\"best_method = \", best_method)\n",
    "    print(\"best_score = \", best_score)\n",
    "\n",
    "    return best_k, best_p, best_method, best_score\n",
    "\n",
    "\n",
    "get_best_knn(X_train, y_train, X_test, y_test)"
   ]
  },
  {
   "cell_type": "code",
   "execution_count": 50,
   "metadata": {},
   "outputs": [],
   "source": [
    "### 莺尾花测试集衡量算法\n",
    "iris = datasets.load_iris()\n",
    "X, y = iris.data, iris.target\n",
    "X_train, X_test, y_train, y_test = train_test_split(X, y, test_size=0.2)"
   ]
  },
  {
   "cell_type": "code",
   "execution_count": 51,
   "metadata": {},
   "outputs": [
    {
     "data": {
      "text/plain": [
       "0.9666666666666667"
      ]
     },
     "execution_count": 51,
     "metadata": {},
     "output_type": "execute_result"
    }
   ],
   "source": [
    "test_knn(X_train, y_train, X_test, y_test)"
   ]
  },
  {
   "cell_type": "code",
   "execution_count": 52,
   "metadata": {},
   "outputs": [
    {
     "name": "stdout",
     "output_type": "stream",
     "text": [
      "CPU times: user 6 µs, sys: 0 ns, total: 6 µs\n",
      "Wall time: 44.1 µs\n",
      "best_k =  4\n",
      "best_p =  1\n",
      "best_method =  uniform\n",
      "best_score =  1.0\n"
     ]
    },
    {
     "data": {
      "text/plain": [
       "(4, 1, 'uniform', 1.0)"
      ]
     },
     "execution_count": 52,
     "metadata": {},
     "output_type": "execute_result"
    }
   ],
   "source": [
    "get_best_knn(X_train, y_train, X_test, y_test)"
   ]
  },
  {
   "cell_type": "markdown",
   "metadata": {},
   "source": [
    "### 网格搜索"
   ]
  },
  {
   "cell_type": "code",
   "execution_count": 75,
   "metadata": {},
   "outputs": [
    {
     "name": "stderr",
     "output_type": "stream",
     "text": [
      "/opt/anaconda3/lib/python3.7/site-packages/sklearn/model_selection/_split.py:1978: FutureWarning: The default value of cv will change from 3 to 5 in version 0.22. Specify it explicitly to silence this warning.\n",
      "  warnings.warn(CV_WARNING, FutureWarning)\n"
     ]
    },
    {
     "data": {
      "text/plain": [
       "0.9583333333333334"
      ]
     },
     "execution_count": 75,
     "metadata": {},
     "output_type": "execute_result"
    }
   ],
   "source": [
    "from sklearn.model_selection import GridSearchCV\n",
    "grid_search = GridSearchCV(estimator=KNeighborsClassifier(algorithm='auto',\n",
    "                                                          leaf_size=30,\n",
    "                                                          metric='minkowski',\n",
    "                                                          metric_params=None,\n",
    "                                                          n_jobs=1,\n",
    "                                                          n_neighbors=5,\n",
    "                                                          p=2,\n",
    "                                                          weights='uniform'),\n",
    "                           param_grid=[{\n",
    "                               'weights': ['uniform'],\n",
    "                               'n_neighbors': [1, 2, 3, 4, 5, 6, 7, 8, 9, 10]\n",
    "                           }, {\n",
    "                               'weights': ['distance'],\n",
    "                               'n_neighbors': [1, 2, 3, 4, 5, 6, 7, 8, 9, 10],\n",
    "                               'p': [1, 2, 3, 4, 5]\n",
    "                           }],\n",
    "                           scoring=None,\n",
    "                           n_jobs=-1,\n",
    "                           iid=True,\n",
    "                           refit=True,\n",
    "                           cv='warn',\n",
    "                           verbose=0,\n",
    "                           pre_dispatch='2*n_jobs',\n",
    "                           error_score='raise',\n",
    "                           return_train_score='warn')\n",
    "grid_search.fit(X_train, y_train)\n",
    "grid_search.best_score_"
   ]
  },
  {
   "cell_type": "markdown",
   "metadata": {},
   "source": [
    "#### 很奇怪同样的数据集为什么没有搜素得到最优解，仔细查看是否GridSearchCV的函数有问题"
   ]
  },
  {
   "cell_type": "code",
   "execution_count": 69,
   "metadata": {},
   "outputs": [
    {
     "data": {
      "text/plain": [
       "KNeighborsClassifier(algorithm='auto', leaf_size=30, metric='minkowski',\n",
       "                     metric_params=None, n_jobs=1, n_neighbors=3, p=1,\n",
       "                     weights='distance')"
      ]
     },
     "execution_count": 69,
     "metadata": {},
     "output_type": "execute_result"
    }
   ],
   "source": [
    "# 最优参数\n",
    "grid_search.best_estimator_"
   ]
  },
  {
   "cell_type": "code",
   "execution_count": 70,
   "metadata": {},
   "outputs": [
    {
     "data": {
      "text/plain": [
       "{'n_neighbors': 3, 'p': 1, 'weights': 'distance'}"
      ]
     },
     "execution_count": 70,
     "metadata": {},
     "output_type": "execute_result"
    }
   ],
   "source": [
    "# 最优搜索参数\n",
    "grid_search.best_params_"
   ]
  },
  {
   "cell_type": "code",
   "execution_count": 71,
   "metadata": {},
   "outputs": [
    {
     "data": {
      "text/plain": [
       "0.9666666666666667"
      ]
     },
     "execution_count": 71,
     "metadata": {},
     "output_type": "execute_result"
    }
   ],
   "source": [
    "test_knn(X_train, y_train, X_test, y_test)"
   ]
  },
  {
   "cell_type": "code",
   "execution_count": 80,
   "metadata": {},
   "outputs": [
    {
     "data": {
      "text/plain": [
       "0.9666666666666667"
      ]
     },
     "execution_count": 80,
     "metadata": {},
     "output_type": "execute_result"
    }
   ],
   "source": [
    "# 限定半径最近邻法类\n",
    "from sklearn.neighbors import RadiusNeighborsClassifier\n",
    "rnc_clf = RadiusNeighborsClassifier(radius=1.0,\n",
    "                                    weights='uniform',\n",
    "                                    algorithm='auto',\n",
    "                                    leaf_size=30,\n",
    "                                    p=1,\n",
    "                                    metric='minkowski',\n",
    "                                    outlier_label=None,\n",
    "                                    metric_params=None,\n",
    "                                    n_jobs=-1)\n",
    "rnc_clf.fit(X_train, y_train)\n",
    "rnc_clf.score(X_test, y_test)"
   ]
  },
  {
   "cell_type": "code",
   "execution_count": 83,
   "metadata": {},
   "outputs": [
    {
     "data": {
      "text/plain": [
       "0.9653942953020135"
      ]
     },
     "execution_count": 83,
     "metadata": {},
     "output_type": "execute_result"
    }
   ],
   "source": [
    "from sklearn.neighbors import KNeighborsRegressor\n",
    "kn_reg = KNeighborsRegressor(n_neighbors=4,\n",
    "                             weights='uniform',\n",
    "                             algorithm='auto',\n",
    "                             leaf_size=30,\n",
    "                             p=2,\n",
    "                             metric='minkowski',\n",
    "                             metric_params=None,\n",
    "                             n_jobs=None)\n",
    "kn_reg.fit(X_train, y_train)\n",
    "kn_reg.score(X_test, y_test)"
   ]
  },
  {
   "cell_type": "code",
   "execution_count": 88,
   "metadata": {},
   "outputs": [
    {
     "data": {
      "text/plain": [
       "0.9565939284457923"
      ]
     },
     "execution_count": 88,
     "metadata": {},
     "output_type": "execute_result"
    }
   ],
   "source": [
    "from sklearn.neighbors import RadiusNeighborsRegressor\n",
    "rd_reg = RadiusNeighborsRegressor(radius=1.0,\n",
    "                                  weights='uniform',\n",
    "                                  algorithm='auto',\n",
    "                                  leaf_size=30,\n",
    "                                  p=1,\n",
    "                                  metric='minkowski',\n",
    "                                  metric_params=None,\n",
    "                                  n_jobs=None)\n",
    "rd_reg.fit(X_train, y_train)\n",
    "rd_reg.score(X_test, y_test)"
   ]
  },
  {
   "cell_type": "code",
   "execution_count": 92,
   "metadata": {},
   "outputs": [
    {
     "ename": "AttributeError",
     "evalue": "'NearestNeighbors' object has no attribute 'predict'",
     "output_type": "error",
     "traceback": [
      "\u001b[0;31m---------------------------------------------------------------------------\u001b[0m",
      "\u001b[0;31mAttributeError\u001b[0m                            Traceback (most recent call last)",
      "\u001b[0;32m<ipython-input-92-eb08b53889ce>\u001b[0m in \u001b[0;36m<module>\u001b[0;34m\u001b[0m\n\u001b[1;32m     10\u001b[0m                       n_jobs=None)\n\u001b[1;32m     11\u001b[0m \u001b[0mnn\u001b[0m\u001b[0;34m.\u001b[0m\u001b[0mfit\u001b[0m\u001b[0;34m(\u001b[0m\u001b[0mX_train\u001b[0m\u001b[0;34m,\u001b[0m \u001b[0my_train\u001b[0m\u001b[0;34m)\u001b[0m\u001b[0;34m\u001b[0m\u001b[0;34m\u001b[0m\u001b[0m\n\u001b[0;32m---> 12\u001b[0;31m \u001b[0mnn\u001b[0m\u001b[0;34m.\u001b[0m\u001b[0mpredict\u001b[0m\u001b[0;34m(\u001b[0m\u001b[0mX_test\u001b[0m\u001b[0;34m)\u001b[0m\u001b[0;34m\u001b[0m\u001b[0;34m\u001b[0m\u001b[0m\n\u001b[0m",
      "\u001b[0;31mAttributeError\u001b[0m: 'NearestNeighbors' object has no attribute 'predict'"
     ]
    }
   ],
   "source": [
    "### 最近邻算法\n",
    "from sklearn.neighbors import NearestNeighbors\n",
    "nn = NearestNeighbors(n_neighbors=5,\n",
    "                      radius=1.0,\n",
    "                      algorithm='auto',\n",
    "                      leaf_size=30,\n",
    "                      metric='minkowski',\n",
    "                      p=2,\n",
    "                      metric_params=None,\n",
    "                      n_jobs=None)\n",
    "nn.fit(X_train, y_train)\n",
    "nn.predict(X_test)"
   ]
  },
  {
   "cell_type": "markdown",
   "metadata": {},
   "source": [
    "### 归一化数据"
   ]
  },
  {
   "cell_type": "code",
   "execution_count": 4,
   "metadata": {},
   "outputs": [
    {
     "data": {
      "text/html": [
       "<div>\n",
       "<style scoped>\n",
       "    .dataframe tbody tr th:only-of-type {\n",
       "        vertical-align: middle;\n",
       "    }\n",
       "\n",
       "    .dataframe tbody tr th {\n",
       "        vertical-align: top;\n",
       "    }\n",
       "\n",
       "    .dataframe thead th {\n",
       "        text-align: right;\n",
       "    }\n",
       "</style>\n",
       "<table border=\"1\" class=\"dataframe\">\n",
       "  <thead>\n",
       "    <tr style=\"text-align: right;\">\n",
       "      <th></th>\n",
       "      <th>air_mileage</th>\n",
       "      <th>play_games</th>\n",
       "      <th>eating_icecream</th>\n",
       "      <th>target</th>\n",
       "    </tr>\n",
       "  </thead>\n",
       "  <tbody>\n",
       "    <tr>\n",
       "      <th>0</th>\n",
       "      <td>40920</td>\n",
       "      <td>8.326976</td>\n",
       "      <td>0.953952</td>\n",
       "      <td>largeDoses</td>\n",
       "    </tr>\n",
       "    <tr>\n",
       "      <th>1</th>\n",
       "      <td>14488</td>\n",
       "      <td>7.153469</td>\n",
       "      <td>1.673904</td>\n",
       "      <td>smallDoses</td>\n",
       "    </tr>\n",
       "    <tr>\n",
       "      <th>2</th>\n",
       "      <td>26052</td>\n",
       "      <td>1.441871</td>\n",
       "      <td>0.805124</td>\n",
       "      <td>didntLike</td>\n",
       "    </tr>\n",
       "    <tr>\n",
       "      <th>3</th>\n",
       "      <td>75136</td>\n",
       "      <td>13.147394</td>\n",
       "      <td>0.428964</td>\n",
       "      <td>didntLike</td>\n",
       "    </tr>\n",
       "    <tr>\n",
       "      <th>4</th>\n",
       "      <td>38344</td>\n",
       "      <td>1.669788</td>\n",
       "      <td>0.134296</td>\n",
       "      <td>didntLike</td>\n",
       "    </tr>\n",
       "  </tbody>\n",
       "</table>\n",
       "</div>"
      ],
      "text/plain": [
       "   air_mileage  play_games  eating_icecream      target\n",
       "0        40920    8.326976         0.953952  largeDoses\n",
       "1        14488    7.153469         1.673904  smallDoses\n",
       "2        26052    1.441871         0.805124   didntLike\n",
       "3        75136   13.147394         0.428964   didntLike\n",
       "4        38344    1.669788         0.134296   didntLike"
      ]
     },
     "execution_count": 4,
     "metadata": {},
     "output_type": "execute_result"
    }
   ],
   "source": [
    "# 获得原始数据\n",
    "def get_data():\n",
    "    dating_data = pd.read_csv(\"datasets/datingTestSet.txt\",\n",
    "                              sep=\"\\t\",\n",
    "                              header=None,\n",
    "                              names=['A', 'B', 'C', 'D'])\n",
    "    dating_data.columns = [\n",
    "        'air_mileage', 'play_games', 'eating_icecream', 'target'\n",
    "    ]\n",
    "    return dating_data\n",
    "\n",
    "\n",
    "dating_data = get_data()\n",
    "dating_data.head()"
   ]
  },
  {
   "cell_type": "code",
   "execution_count": 99,
   "metadata": {},
   "outputs": [
    {
     "data": {
      "text/plain": [
       "(1000, 4)"
      ]
     },
     "execution_count": 99,
     "metadata": {},
     "output_type": "execute_result"
    }
   ],
   "source": [
    "dating_data.shape"
   ]
  },
  {
   "cell_type": "code",
   "execution_count": 12,
   "metadata": {},
   "outputs": [
    {
     "data": {
      "text/html": [
       "<div>\n",
       "<style scoped>\n",
       "    .dataframe tbody tr th:only-of-type {\n",
       "        vertical-align: middle;\n",
       "    }\n",
       "\n",
       "    .dataframe tbody tr th {\n",
       "        vertical-align: top;\n",
       "    }\n",
       "\n",
       "    .dataframe thead th {\n",
       "        text-align: right;\n",
       "    }\n",
       "</style>\n",
       "<table border=\"1\" class=\"dataframe\">\n",
       "  <thead>\n",
       "    <tr style=\"text-align: right;\">\n",
       "      <th></th>\n",
       "      <th>air_mileage</th>\n",
       "      <th>play_games</th>\n",
       "      <th>eating_icecream</th>\n",
       "      <th>target</th>\n",
       "      <th>l1</th>\n",
       "    </tr>\n",
       "  </thead>\n",
       "  <tbody>\n",
       "    <tr>\n",
       "      <th>0</th>\n",
       "      <td>40920</td>\n",
       "      <td>8.326976</td>\n",
       "      <td>0.953952</td>\n",
       "      <td>largeDoses</td>\n",
       "      <td>1</td>\n",
       "    </tr>\n",
       "    <tr>\n",
       "      <th>1</th>\n",
       "      <td>14488</td>\n",
       "      <td>7.153469</td>\n",
       "      <td>1.673904</td>\n",
       "      <td>smallDoses</td>\n",
       "      <td>2</td>\n",
       "    </tr>\n",
       "    <tr>\n",
       "      <th>2</th>\n",
       "      <td>26052</td>\n",
       "      <td>1.441871</td>\n",
       "      <td>0.805124</td>\n",
       "      <td>didntLike</td>\n",
       "      <td>0</td>\n",
       "    </tr>\n",
       "    <tr>\n",
       "      <th>3</th>\n",
       "      <td>75136</td>\n",
       "      <td>13.147394</td>\n",
       "      <td>0.428964</td>\n",
       "      <td>didntLike</td>\n",
       "      <td>0</td>\n",
       "    </tr>\n",
       "    <tr>\n",
       "      <th>4</th>\n",
       "      <td>38344</td>\n",
       "      <td>1.669788</td>\n",
       "      <td>0.134296</td>\n",
       "      <td>didntLike</td>\n",
       "      <td>0</td>\n",
       "    </tr>\n",
       "  </tbody>\n",
       "</table>\n",
       "</div>"
      ],
      "text/plain": [
       "   air_mileage  play_games  eating_icecream      target  l1\n",
       "0        40920    8.326976         0.953952  largeDoses   1\n",
       "1        14488    7.153469         1.673904  smallDoses   2\n",
       "2        26052    1.441871         0.805124   didntLike   0\n",
       "3        75136   13.147394         0.428964   didntLike   0\n",
       "4        38344    1.669788         0.134296   didntLike   0"
      ]
     },
     "execution_count": 12,
     "metadata": {},
     "output_type": "execute_result"
    }
   ],
   "source": [
    "# 方法1， 似乎不能设置顺序\n",
    "def get_factor_code0(dating_data):\n",
    "    labels = dating_data.target.astype('category')\n",
    "    dating_data['l1'] = labels.values.codes\n",
    "    return dating_data\n",
    "\n",
    "\n",
    "factor_data0 = get_factor_code0(get_data())\n",
    "factor_data0.head()"
   ]
  },
  {
   "cell_type": "code",
   "execution_count": 11,
   "metadata": {},
   "outputs": [
    {
     "data": {
      "text/html": [
       "<div>\n",
       "<style scoped>\n",
       "    .dataframe tbody tr th:only-of-type {\n",
       "        vertical-align: middle;\n",
       "    }\n",
       "\n",
       "    .dataframe tbody tr th {\n",
       "        vertical-align: top;\n",
       "    }\n",
       "\n",
       "    .dataframe thead th {\n",
       "        text-align: right;\n",
       "    }\n",
       "</style>\n",
       "<table border=\"1\" class=\"dataframe\">\n",
       "  <thead>\n",
       "    <tr style=\"text-align: right;\">\n",
       "      <th></th>\n",
       "      <th>air_mileage</th>\n",
       "      <th>play_games</th>\n",
       "      <th>eating_icecream</th>\n",
       "      <th>target</th>\n",
       "      <th>l2</th>\n",
       "    </tr>\n",
       "  </thead>\n",
       "  <tbody>\n",
       "    <tr>\n",
       "      <th>0</th>\n",
       "      <td>40920</td>\n",
       "      <td>8.326976</td>\n",
       "      <td>0.953952</td>\n",
       "      <td>largeDoses</td>\n",
       "      <td>2</td>\n",
       "    </tr>\n",
       "    <tr>\n",
       "      <th>1</th>\n",
       "      <td>14488</td>\n",
       "      <td>7.153469</td>\n",
       "      <td>1.673904</td>\n",
       "      <td>smallDoses</td>\n",
       "      <td>1</td>\n",
       "    </tr>\n",
       "    <tr>\n",
       "      <th>2</th>\n",
       "      <td>26052</td>\n",
       "      <td>1.441871</td>\n",
       "      <td>0.805124</td>\n",
       "      <td>didntLike</td>\n",
       "      <td>0</td>\n",
       "    </tr>\n",
       "    <tr>\n",
       "      <th>3</th>\n",
       "      <td>75136</td>\n",
       "      <td>13.147394</td>\n",
       "      <td>0.428964</td>\n",
       "      <td>didntLike</td>\n",
       "      <td>0</td>\n",
       "    </tr>\n",
       "    <tr>\n",
       "      <th>4</th>\n",
       "      <td>38344</td>\n",
       "      <td>1.669788</td>\n",
       "      <td>0.134296</td>\n",
       "      <td>didntLike</td>\n",
       "      <td>0</td>\n",
       "    </tr>\n",
       "  </tbody>\n",
       "</table>\n",
       "</div>"
      ],
      "text/plain": [
       "   air_mileage  play_games  eating_icecream      target  l2\n",
       "0        40920    8.326976         0.953952  largeDoses   2\n",
       "1        14488    7.153469         1.673904  smallDoses   1\n",
       "2        26052    1.441871         0.805124   didntLike   0\n",
       "3        75136   13.147394         0.428964   didntLike   0\n",
       "4        38344    1.669788         0.134296   didntLike   0"
      ]
     },
     "execution_count": 11,
     "metadata": {},
     "output_type": "execute_result"
    }
   ],
   "source": [
    "# 方法2，可以根据顺序来操作\n",
    "def get_factor_code1(dating_data):\n",
    "    labels = pd.Categorical(\n",
    "        dating_data.target,\n",
    "        categories=['didntLike', 'smallDoses', 'largeDoses'])\n",
    "    dating_data['l2'] = labels.codes\n",
    "    return dating_data\n",
    "\n",
    "\n",
    "factor_data1 = get_factor_code1(get_data())\n",
    "factor_data1.head()"
   ]
  },
  {
   "cell_type": "code",
   "execution_count": 10,
   "metadata": {},
   "outputs": [
    {
     "data": {
      "text/html": [
       "<div>\n",
       "<style scoped>\n",
       "    .dataframe tbody tr th:only-of-type {\n",
       "        vertical-align: middle;\n",
       "    }\n",
       "\n",
       "    .dataframe tbody tr th {\n",
       "        vertical-align: top;\n",
       "    }\n",
       "\n",
       "    .dataframe thead th {\n",
       "        text-align: right;\n",
       "    }\n",
       "</style>\n",
       "<table border=\"1\" class=\"dataframe\">\n",
       "  <thead>\n",
       "    <tr style=\"text-align: right;\">\n",
       "      <th></th>\n",
       "      <th>air_mileage</th>\n",
       "      <th>play_games</th>\n",
       "      <th>eating_icecream</th>\n",
       "      <th>target</th>\n",
       "      <th>l3</th>\n",
       "    </tr>\n",
       "  </thead>\n",
       "  <tbody>\n",
       "    <tr>\n",
       "      <th>0</th>\n",
       "      <td>40920</td>\n",
       "      <td>8.326976</td>\n",
       "      <td>0.953952</td>\n",
       "      <td>largeDoses</td>\n",
       "      <td>2</td>\n",
       "    </tr>\n",
       "    <tr>\n",
       "      <th>1</th>\n",
       "      <td>14488</td>\n",
       "      <td>7.153469</td>\n",
       "      <td>1.673904</td>\n",
       "      <td>smallDoses</td>\n",
       "      <td>1</td>\n",
       "    </tr>\n",
       "    <tr>\n",
       "      <th>2</th>\n",
       "      <td>26052</td>\n",
       "      <td>1.441871</td>\n",
       "      <td>0.805124</td>\n",
       "      <td>didntLike</td>\n",
       "      <td>0</td>\n",
       "    </tr>\n",
       "    <tr>\n",
       "      <th>3</th>\n",
       "      <td>75136</td>\n",
       "      <td>13.147394</td>\n",
       "      <td>0.428964</td>\n",
       "      <td>didntLike</td>\n",
       "      <td>0</td>\n",
       "    </tr>\n",
       "    <tr>\n",
       "      <th>4</th>\n",
       "      <td>38344</td>\n",
       "      <td>1.669788</td>\n",
       "      <td>0.134296</td>\n",
       "      <td>didntLike</td>\n",
       "      <td>0</td>\n",
       "    </tr>\n",
       "  </tbody>\n",
       "</table>\n",
       "</div>"
      ],
      "text/plain": [
       "   air_mileage  play_games  eating_icecream      target  l3\n",
       "0        40920    8.326976         0.953952  largeDoses   2\n",
       "1        14488    7.153469         1.673904  smallDoses   1\n",
       "2        26052    1.441871         0.805124   didntLike   0\n",
       "3        75136   13.147394         0.428964   didntLike   0\n",
       "4        38344    1.669788         0.134296   didntLike   0"
      ]
     },
     "execution_count": 10,
     "metadata": {},
     "output_type": "execute_result"
    }
   ],
   "source": [
    "# 方法3， 使用map+dict\n",
    "def get_factor_code2(dating_data):\n",
    "    target_mapping = {'didntLike': 0, 'smallDoses': 1, 'largeDoses': 2}\n",
    "    dating_data['l3'] = dating_data['target'].map(target_mapping)\n",
    "    return dating_data\n",
    "\n",
    "\n",
    "factor_data2 = get_factor_code2(get_data())\n",
    "factor_data2.head()"
   ]
  },
  {
   "cell_type": "code",
   "execution_count": 14,
   "metadata": {},
   "outputs": [
    {
     "data": {
      "text/html": [
       "<div>\n",
       "<style scoped>\n",
       "    .dataframe tbody tr th:only-of-type {\n",
       "        vertical-align: middle;\n",
       "    }\n",
       "\n",
       "    .dataframe tbody tr th {\n",
       "        vertical-align: top;\n",
       "    }\n",
       "\n",
       "    .dataframe thead th {\n",
       "        text-align: right;\n",
       "    }\n",
       "</style>\n",
       "<table border=\"1\" class=\"dataframe\">\n",
       "  <thead>\n",
       "    <tr style=\"text-align: right;\">\n",
       "      <th></th>\n",
       "      <th>air_mileage</th>\n",
       "      <th>play_games</th>\n",
       "      <th>eating_icecream</th>\n",
       "      <th>target</th>\n",
       "      <th>l4</th>\n",
       "    </tr>\n",
       "  </thead>\n",
       "  <tbody>\n",
       "    <tr>\n",
       "      <th>0</th>\n",
       "      <td>40920</td>\n",
       "      <td>8.326976</td>\n",
       "      <td>0.953952</td>\n",
       "      <td>largeDoses</td>\n",
       "      <td>1</td>\n",
       "    </tr>\n",
       "    <tr>\n",
       "      <th>1</th>\n",
       "      <td>14488</td>\n",
       "      <td>7.153469</td>\n",
       "      <td>1.673904</td>\n",
       "      <td>smallDoses</td>\n",
       "      <td>2</td>\n",
       "    </tr>\n",
       "    <tr>\n",
       "      <th>2</th>\n",
       "      <td>26052</td>\n",
       "      <td>1.441871</td>\n",
       "      <td>0.805124</td>\n",
       "      <td>didntLike</td>\n",
       "      <td>0</td>\n",
       "    </tr>\n",
       "    <tr>\n",
       "      <th>3</th>\n",
       "      <td>75136</td>\n",
       "      <td>13.147394</td>\n",
       "      <td>0.428964</td>\n",
       "      <td>didntLike</td>\n",
       "      <td>0</td>\n",
       "    </tr>\n",
       "    <tr>\n",
       "      <th>4</th>\n",
       "      <td>38344</td>\n",
       "      <td>1.669788</td>\n",
       "      <td>0.134296</td>\n",
       "      <td>didntLike</td>\n",
       "      <td>0</td>\n",
       "    </tr>\n",
       "  </tbody>\n",
       "</table>\n",
       "</div>"
      ],
      "text/plain": [
       "   air_mileage  play_games  eating_icecream      target  l4\n",
       "0        40920    8.326976         0.953952  largeDoses   1\n",
       "1        14488    7.153469         1.673904  smallDoses   2\n",
       "2        26052    1.441871         0.805124   didntLike   0\n",
       "3        75136   13.147394         0.428964   didntLike   0\n",
       "4        38344    1.669788         0.134296   didntLike   0"
      ]
     },
     "execution_count": 14,
     "metadata": {},
     "output_type": "execute_result"
    }
   ],
   "source": [
    "# 方法4 sklearn 方法\n",
    "def get_factor_code3(dating_data):\n",
    "    from sklearn import preprocessing\n",
    "    dating_data['l4'] = preprocessing.LabelEncoder().fit_transform(\n",
    "        dating_data.target)\n",
    "    return dating_data\n",
    "\n",
    "\n",
    "factor_data3 = get_factor_code3(get_data())\n",
    "factor_data3.head()"
   ]
  },
  {
   "cell_type": "code",
   "execution_count": 19,
   "metadata": {},
   "outputs": [],
   "source": [
    "def get_analylze_data(dating_data):\n",
    "    from sklearn.model_selection import train_test_split\n",
    "    X, y = np.array(dating_data.iloc[:, :3]), np.array(dating_data.iloc[:, -1])\n",
    "    X_train, X_test, y_train, y_test = train_test_split(X,\n",
    "                                                        y,\n",
    "                                                        test_size=0.2,\n",
    "                                                        random_state=42)\n",
    "    return X_train, X_test, y_train, y_test"
   ]
  },
  {
   "cell_type": "code",
   "execution_count": 20,
   "metadata": {},
   "outputs": [
    {
     "data": {
      "text/plain": [
       "array([[4.1611000e+04, 2.3045300e-01, 1.1519960e+00],\n",
       "       [2.0375000e+04, 0.0000000e+00, 1.6797290e+00],\n",
       "       [3.0832000e+04, 1.2547439e+01, 1.4024430e+00],\n",
       "       ...,\n",
       "       [9.1940000e+03, 7.3313190e+00, 1.2779880e+00],\n",
       "       [6.7736000e+04, 1.3516711e+01, 1.2201530e+00],\n",
       "       [9.1710000e+03, 4.7119600e+00, 1.9416700e-01]])"
      ]
     },
     "execution_count": 20,
     "metadata": {},
     "output_type": "execute_result"
    }
   ],
   "source": [
    "## 未标准化的数据训练\n",
    "X_train, X_test, y_train, y_test = get_analylze_data(get_factor_code0(get_data()))\n",
    "X_train"
   ]
  },
  {
   "cell_type": "code",
   "execution_count": 22,
   "metadata": {},
   "outputs": [
    {
     "data": {
      "text/plain": [
       "0.8"
      ]
     },
     "execution_count": 22,
     "metadata": {},
     "output_type": "execute_result"
    }
   ],
   "source": [
    "def KNN(X_train, X_test, y_train, y_test):\n",
    "    from sklearn.neighbors import KNeighborsClassifier\n",
    "    knn_clf = KNeighborsClassifier(n_neighbors=5,\n",
    "                                   weights='uniform',\n",
    "                                   algorithm='auto',\n",
    "                                   leaf_size=30,\n",
    "                                   p=2,\n",
    "                                   metric='minkowski',\n",
    "                                   metric_params=None,\n",
    "                                   n_jobs=1)\n",
    "    knn_clf.fit(X_train, y_train)\n",
    "    return knn_clf.score(X_test, y_test)\n",
    "\n",
    "\n",
    "X_train, X_test, y_train, y_test = get_analylze_data(\n",
    "    get_factor_code0(get_data()))\n",
    "KNN(X_train, X_test, y_train, y_test)"
   ]
  },
  {
   "cell_type": "code",
   "execution_count": 53,
   "metadata": {},
   "outputs": [
    {
     "name": "stdout",
     "output_type": "stream",
     "text": [
      "[[ 0.34755921 -1.49646243  0.64121079]\n",
      " [-0.61267489 -1.55079989  1.68855454]\n",
      " [-0.13983782  1.40770353  1.1382502 ]\n",
      " ...\n",
      " [-1.11824926  0.17781838  0.89125567]\n",
      " [ 1.52886058  1.63624375  0.7764758 ]\n",
      " [-1.11928926 -0.43978833 -1.25970543]] [[ 8.15829332e-01  9.08179105e-01  7.12136753e-01]\n",
      " [-1.15605091e+00 -8.26589830e-02  1.18761339e+00]\n",
      " [-1.38087121e+00  1.51151518e-01  5.35693090e-01]\n",
      " [ 5.55151729e-01 -8.21738111e-01 -6.70794486e-01]\n",
      " [-1.09690671e+00 -1.03557216e+00  3.59747564e-01]\n",
      " [-1.72982085e-01 -1.18093436e+00 -2.87054426e-01]\n",
      " [-3.70265066e-01  4.14780389e-01 -3.82367266e-01]\n",
      " [-2.19691533e-01  1.17972094e+00 -7.35304207e-01]\n",
      " [ 8.82750903e-01  1.70143092e-01  1.49528735e+00]\n",
      " [-6.20135739e-01  8.32413227e-01  9.51607634e-01]\n",
      " [-9.96569572e-01 -6.83310602e-01  1.44539229e+00]\n",
      " [ 1.96810121e+00  1.95212079e+00  5.97206051e-01]\n",
      " [ 1.95987166e+00  9.79782192e-01 -5.62801978e-01]\n",
      " [ 1.20677791e+00 -6.97230667e-01 -1.07394601e+00]\n",
      " [-3.00630459e-01 -3.26487536e-01  5.26923102e-01]\n",
      " [ 7.44016383e-02  1.89468487e+00  8.30530597e-01]\n",
      " [-1.35406528e-01 -9.90125895e-02 -4.93713764e-01]\n",
      " [-1.40425646e-01  1.06916774e+00  3.18042987e-01]\n",
      " [ 5.30963877e-03  8.20102162e-01  5.69332215e-01]\n",
      " [-3.72398191e-02 -5.03519016e-01 -7.73051473e-01]\n",
      " [ 1.42317989e-01  1.57238079e+00  1.95604509e-01]\n",
      " [ 9.41397711e-01  4.29141608e-01  1.39954385e+00]\n",
      " [-9.96886093e-01 -3.87346351e-01  1.37161047e+00]\n",
      " [-1.25715674e+00 -1.55079989e+00 -4.74476947e-01]\n",
      " [ 4.35099858e-01 -1.12010549e+00 -3.46260319e-02]\n",
      " [ 1.11828770e+00 -1.21741060e+00 -7.49238148e-01]\n",
      " [-1.22346648e-02  3.03629193e-03  1.04035737e+00]\n",
      " [-1.43002239e+00 -6.70467369e-01 -2.59259975e-01]\n",
      " [ 9.88378462e-01 -6.99013676e-01  1.43488577e+00]\n",
      " [ 2.12346777e+00  1.87555277e+00 -8.90558198e-01]\n",
      " [-6.63499108e-01 -1.55079989e+00 -6.77950987e-01]\n",
      " [-6.98587715e-01  1.43523266e+00 -4.62912629e-01]\n",
      " [-1.10658321e+00 -7.92851565e-01  5.05344447e-01]\n",
      " [-9.32541907e-01 -2.17238474e-01  1.49491622e+00]\n",
      " [ 7.96611990e-01 -1.41548245e-02 -8.46208137e-01]\n",
      " [ 4.82306696e-01  1.16575442e+00 -1.04796152e+00]\n",
      " [-1.06927895e+00  1.19374243e-01 -4.09455197e-01]\n",
      " [-3.65245948e-01  7.37748202e-01  3.63734644e-01]\n",
      " [-1.16419002e+00 -7.89099276e-01  9.97849027e-01]\n",
      " [-9.26347140e-01 -1.17248192e+00 -1.50798599e+00]\n",
      " [ 2.89545443e-01 -1.55079989e+00 -2.42683566e-02]\n",
      " [-5.59996761e-01  6.22045693e-01 -4.39437719e-02]\n",
      " [-3.74289403e-01  1.63888431e+00  1.50399184e+00]\n",
      " [-7.04782482e-01 -3.15567133e-01  8.42946312e-01]\n",
      " [-7.46744115e-01 -4.31905555e-01 -3.30207768e-01]\n",
      " [ 1.23503871e+00 -1.38087522e+00  3.70520975e-02]\n",
      " [-1.60954289e-01  7.66027600e-01  1.11057880e+00]\n",
      " [ 2.24477781e-01 -7.59351642e-01 -1.00158120e+00]\n",
      " [-4.05033760e-03  3.79812465e-01  2.69890415e-01]\n",
      " [ 1.87296406e+00  2.60500101e+00 -9.70430778e-01]\n",
      " [-2.57900132e-01  1.18903611e+00  5.45070368e-01]\n",
      " [-1.13633618e+00 -1.35813513e+00 -1.35992620e+00]\n",
      " [ 1.67816803e+00  1.56865986e+00 -4.22240049e-01]\n",
      " [-3.89934581e-01 -7.80855745e-01  1.47667965e+00]\n",
      " [-2.32533239e-01  3.92284518e-03 -1.27371478e+00]\n",
      " [ 1.23733688e-01  1.24688913e+00  1.06981786e-01]\n",
      " [ 1.75711739e+00  8.24214731e-01 -1.44626964e-01]\n",
      " [ 7.37829529e-01 -6.72853282e-01  5.97907174e-03]\n",
      " [ 1.81160421e+00 -4.87167258e-02 -9.12035638e-01]\n",
      " [-4.44647487e-01 -1.00441382e+00  1.15550440e+00]\n",
      " [-1.01674439e-01  8.15978274e-01  2.64629216e-01]\n",
      " [-5.69447172e-01 -1.30748394e+00 -6.80185657e-01]\n",
      " [-2.74133134e-01  1.42954268e+00  1.71073056e+00]\n",
      " [ 2.90314137e-01 -9.66896116e-01 -1.45437971e+00]\n",
      " [-1.20502122e+00 -9.69650326e-01 -1.20148692e+00]\n",
      " [ 3.73333058e-01  5.17271642e-02  5.62138007e-01]\n",
      " [-5.01485604e-01 -4.99315905e-01 -5.75610646e-01]\n",
      " [-3.54710322e-01  1.11800480e+00  1.35365174e+00]\n",
      " [-1.42260676e+00 -1.00005580e+00  1.06621286e+00]\n",
      " [ 2.31215156e-01 -9.15796224e-01  9.69707269e-01]\n",
      " [-9.01206334e-01  1.49280910e+00  1.64487925e+00]\n",
      " [ 5.60532585e-01  1.54033048e+00  8.95468994e-01]\n",
      " [-6.14762796e-02  4.17226663e-01 -1.14231579e+00]\n",
      " [ 3.44529652e-01  5.18719326e-01  5.60770611e-01]\n",
      " [-3.68139854e-01  7.94158690e-01  9.11030315e-01]\n",
      " [ 4.21805979e-01 -2.03352598e-01  1.67873271e+00]\n",
      " [-1.29129578e+00  2.02246223e-01 -1.48669510e+00]\n",
      " [-1.68016098e-02  1.41818419e+00 -2.82456087e-01]\n",
      " [ 4.82171044e-01 -6.97782404e-01 -6.65680148e-01]\n",
      " [ 9.87737507e-02 -7.56375794e-01  1.48079375e+00]\n",
      " [-9.13369782e-01 -9.50623620e-01 -1.59688259e+00]\n",
      " [-1.09337976e+00  1.15374493e+00 -1.35833161e-01]\n",
      " [-1.01809300e+00  4.62932491e-01 -2.01499909e-01]\n",
      " [-7.71749270e-01 -8.70198385e-01  2.09399527e-01]\n",
      " [-1.25096197e+00  3.82562195e-01  1.57982273e-01]\n",
      " [-1.43477021e+00 -6.03522223e-01 -6.28724741e-01]\n",
      " [ 6.41471512e-01  6.02988807e-01 -2.00166252e-01]\n",
      " [ 1.13456592e+00 -1.08734711e+00 -1.63374472e+00]\n",
      " [ 2.29361247e-01  1.31877210e+00  3.03659492e-02]\n",
      " [ 8.34820589e-01  5.25935540e-01 -2.28194887e-01]\n",
      " [ 1.39311831e+00  8.13648950e-01 -1.08382936e+00]\n",
      " [-1.30856878e+00 -1.31774202e+00  9.44917516e-01]\n",
      " [ 4.75117149e-01  4.17211101e-01 -1.56106634e+00]\n",
      " [-9.94173056e-01 -1.18979659e+00  1.43060893e+00]\n",
      " [-1.47451619e+00 -1.25582736e+00 -1.42210004e+00]\n",
      " [-6.47771409e-02 -1.39417140e+00  5.71271179e-01]\n",
      " [-1.20190123e+00  2.83844490e-01 -6.26851270e-01]\n",
      " [ 1.64959071e+00  1.08914302e+00  1.47292136e-02]\n",
      " [-1.28234276e+00  7.44179957e-01  2.95392642e-01]\n",
      " [-3.03026974e-01  4.20687521e-01  1.61606669e+00]\n",
      " [ 1.56928482e+00  7.73926831e-03  5.05282924e-01]\n",
      " [-1.30749148e-01  9.38050527e-01 -8.43413807e-01]\n",
      " [ 1.25737604e+00  4.12153267e-01 -1.58853135e+00]\n",
      " [-1.14058660e+00 -1.55079989e+00  1.18106616e+00]\n",
      " [ 1.42680518e+00  1.45467128e+00  1.45163785e+00]\n",
      " [-1.25674978e+00 -1.40733459e+00 -6.28494526e-01]\n",
      " [-5.43266368e-01  1.35564988e+00  1.51565341e+00]\n",
      " [ 1.66935066e+00  2.02513839e-01  1.29188475e+00]\n",
      " [ 4.01955594e-01 -1.55079989e+00  1.36221335e+00]\n",
      " [ 5.57141290e-01  1.16225702e+00 -8.07559858e-01]\n",
      " [ 1.94228214e+00  1.37415880e+00 -5.19378729e-01]\n",
      " [ 6.32066318e-01 -5.75017178e-01 -7.00388978e-01]\n",
      " [-9.02608070e-01 -1.55079989e+00  1.20689188e+00]\n",
      " [-9.09164575e-01 -3.12029880e-01  1.09093712e+00]\n",
      " [-1.42749022e+00 -8.90529745e-03 -7.28032599e-01]\n",
      " [-1.24562633e+00 -1.20522352e-01 -1.40505820e+00]\n",
      " [-1.26131673e+00 -1.25253886e+00  6.20543070e-01]\n",
      " [-8.94016787e-01 -8.10059894e-01 -8.03021057e-01]\n",
      " [-1.14606580e-01  1.05549313e+00  6.97019985e-01]\n",
      " [ 1.98510290e+00  1.07916387e+00  1.54716503e+00]\n",
      " [ 1.68951756e+00  2.87589470e-01 -1.54118453e+00]\n",
      " [ 1.61477340e+00 -2.61830924e-01  7.69366927e-01]\n",
      " [ 1.54441532e+00  1.09780011e+00 -6.67656819e-01]\n",
      " [ 5.71158646e-01 -9.73541729e-01  6.90494590e-01]\n",
      " [ 1.38502442e+00  5.19203630e-01  3.38231384e-02]\n",
      " [ 7.27384338e-01 -1.26099743e+00  1.60710817e+00]\n",
      " [ 6.02486306e-02 -1.37404590e-01 -5.73220224e-02]\n",
      " [ 3.78668697e-01 -1.53112525e+00 -2.52512303e-01]\n",
      " [-6.69467789e-01 -7.07935561e-01  1.39440569e+00]\n",
      " [ 8.01766759e-01 -1.15618868e+00 -1.90836604e-01]\n",
      " [ 1.94047345e+00  1.04250678e+00 -4.84937822e-01]\n",
      " [ 2.61601166e-01  8.93313305e-01 -6.41041225e-01]\n",
      " [-1.47234576e+00 -8.66743657e-01  1.62287192e+00]\n",
      " [-1.03003036e+00 -7.46623708e-01 -3.91099546e-01]\n",
      " [-1.01732430e+00 -5.77766437e-01  8.44405953e-02]\n",
      " [-1.15695525e+00 -4.30533284e-01 -1.51666071e+00]\n",
      " [-1.26714976e+00 -1.28600507e+00  6.97486368e-01]\n",
      " [-6.25787899e-01  1.37852461e+00  1.18155636e+00]\n",
      " [ 1.29476282e-01  1.38667595e+00 -3.55815180e-01]\n",
      " [-8.01863976e-01 -1.55079989e+00 -4.43134014e-01]\n",
      " [ 3.80070432e-01  1.15889023e+00 -1.12210850e+00]\n",
      " [-8.26959565e-01 -3.57019157e-01  6.02628003e-01]\n",
      " [-1.02935210e+00 -1.16102558e+00  3.01749346e-01]\n",
      " [-2.23263697e-01 -1.25849716e+00 -2.16154263e-01]\n",
      " [-1.30210271e+00 -8.93036563e-01  5.24265710e-01]\n",
      " [ 1.24095426e-01  1.05622878e+00 -8.93429927e-01]\n",
      " [ 2.52648145e-01  7.72210130e-01  5.28435374e-01]\n",
      " [-8.40976921e-01  3.95956222e-01 -1.25056733e-01]\n",
      " [ 1.26320907e+00 -1.85076161e-01  1.56105134e+00]\n",
      " [-7.28024163e-01 -1.54619265e+00  2.95795518e-01]\n",
      " [-8.14253510e-01 -1.55079989e+00  1.07331974e+00]\n",
      " [ 1.04734179e+00 -1.41562717e+00 -4.38577352e-01]\n",
      " [ 9.87658377e-03  1.65812865e+00 -9.22176991e-01]\n",
      " [ 1.56883265e+00  8.65204615e-01  8.15137969e-01]\n",
      " [ 1.65836286e+00  8.42885873e-01  3.25874255e-01]\n",
      " [ 1.10377295e+00 -9.92462803e-01 -7.80275451e-01]\n",
      " [-1.02935210e+00 -1.55079989e+00 -2.11825831e-01]\n",
      " [-8.73714230e-01 -4.76083966e-01 -8.99223001e-01]\n",
      " [ 6.74841862e-01 -6.83228077e-01  2.63083205e-01]\n",
      " [-5.28389884e-01  1.10555203e+00 -2.08086827e-01]\n",
      " [-2.39361048e-01  2.55673789e-01 -1.53395063e+00]\n",
      " [-1.08469805e+00 -6.39351472e-01 -1.42662098e+00]\n",
      " [ 4.13757304e-01  8.27519736e-01 -5.12920811e-01]\n",
      " [ 1.99789148e-01  1.56667247e-01  1.65262915e+00]\n",
      " [-1.09685810e-02  2.71561719e-01  1.81769798e-01]\n",
      " [ 1.59274468e-01 -1.08135674e+00 -8.94708016e-01]\n",
      " [ 4.88953636e-01  8.63007567e-01 -3.87955925e-01]\n",
      " [-7.52848448e-01 -1.42752089e+00  1.57489399e+00]\n",
      " [ 1.79356252e+00  9.70158609e-01 -1.63014860e+00]\n",
      " [-4.59523971e-01  1.50947560e+00 -6.44673060e-01]\n",
      " [-4.15165822e-01 -1.21487025e+00  1.89385696e-02]\n",
      " [-1.13882313e+00  2.37374716e-01  3.50997422e-01]\n",
      " [-1.25715674e+00  7.48462528e-01  7.00856234e-01]\n",
      " [-7.38966744e-01 -4.59868020e-02  9.46196557e-02]\n",
      " [ 3.37068802e-01  5.90292940e-01  3.19553274e-01]\n",
      " [-8.36183890e-01 -1.01104765e+00 -1.41705715e+00]\n",
      " [-5.46657664e-01  1.10088419e+00  1.28341047e+00]\n",
      " [-1.23812027e+00 -1.35926101e+00 -1.12838979e+00]\n",
      " [ 8.00537980e-02  8.78921433e-01  1.48366151e+00]\n",
      " [ 8.78345609e-04  9.50113074e-01  8.43367050e-01]\n",
      " [ 1.46361205e+00  1.12015635e+00 -9.51169194e-02]\n",
      " [-1.53397691e+00 -1.13286785e+00  4.18690456e-01]\n",
      " [-2.16435889e-01  4.57746626e-01 -1.71387434e-01]\n",
      " [-8.89223756e-01 -1.46773646e+00 -7.04187520e-01]\n",
      " [-1.10364408e+00 -6.43930896e-01 -4.14656857e-01]\n",
      " [-3.16328767e-02  3.26121291e-01  7.75695846e-01]\n",
      " [ 1.72166705e+00  5.78928789e-01  1.25606851e+00]\n",
      " [ 1.69225660e-03 -1.22593963e-01 -7.86378124e-01]\n",
      " [-9.60486185e-01 -1.53975901e+00 -3.82836666e-02]\n",
      " [ 1.73427475e-01  1.35181413e+00 -1.13036448e+00]\n",
      " [ 9.93442797e-01 -8.36952874e-01  1.12235047e-01]\n",
      " [-1.65973407e-01  1.18259540e+00 -1.07707971e+00]\n",
      " [-1.03767208e+00 -1.50577451e-01  9.85075051e-02]\n",
      " [-1.07533807e+00 -1.28213488e+00 -8.20697970e-01]\n",
      " [ 4.77468447e-01 -2.91125143e-01 -8.62069133e-01]\n",
      " [ 6.77826202e-01 -8.23200688e-01  2.75850196e-01]\n",
      " [-5.44223844e-02  7.13922555e-01 -1.51554735e+00]\n",
      " [-9.23588887e-01 -1.69827681e-01 -9.22885497e-01]\n",
      " [-1.42278763e+00 -1.55079989e+00 -1.06908173e+00]\n",
      " [ 5.65280399e-01  1.68595161e-01 -5.56280552e-01]]\n"
     ]
    },
    {
     "data": {
      "text/plain": [
       "0.935"
      ]
     },
     "execution_count": 53,
     "metadata": {},
     "output_type": "execute_result"
    }
   ],
   "source": [
    "# 方差标准化 数据\n",
    "def get_standard_scaler_data(X_train, X_test):\n",
    "    # 导入标准化模块\n",
    "    from sklearn.preprocessing import StandardScaler\n",
    "    # 使用该类\n",
    "    standarScaler = StandardScaler(copy=True, with_mean=True, with_std=True)\n",
    "\n",
    "    # 传入训练数据作为标准\n",
    "    standarScaler.fit(X_train)\n",
    "    # 获得归一化的训练数据\n",
    "    X_train = standarScaler.transform(X_train)\n",
    "    # 获得归一化的测试数据\n",
    "    X_test = standarScaler.transform(X_test)\n",
    "    return X_train, X_test\n",
    "\n",
    "\n",
    "X_train, X_test, y_train, y_test = get_analylze_data(\n",
    "    get_factor_code0(get_data()))\n",
    "X_train, X_test = get_standard_scaler_data(X_train, X_test)\n",
    "print(X_train, X_test)\n",
    "KNN(X_train, X_test, y_train, y_test)"
   ]
  },
  {
   "cell_type": "code",
   "execution_count": 163,
   "metadata": {},
   "outputs": [
    {
     "data": {
      "text/plain": [
       "array([3.39245750e+04, 6.57716565e+00, 8.28904280e-01])"
      ]
     },
     "execution_count": 163,
     "metadata": {},
     "output_type": "execute_result"
    }
   ],
   "source": [
    "standarScaler.mean_"
   ]
  },
  {
   "cell_type": "code",
   "execution_count": 54,
   "metadata": {},
   "outputs": [
    {
     "name": "stdout",
     "output_type": "stream",
     "text": [
      "[[0.45589605 0.01101626 0.67921771]\n",
      " [0.2232314  0.         0.99068203]\n",
      " [0.33779979 0.59980064 0.82702978]\n",
      " ...\n",
      " [0.10073077 0.35045636 0.75357731]\n",
      " [0.74212527 0.6461344  0.7194435 ]\n",
      " [0.10047878 0.2252441  0.11391374]] [[0.64247212 0.59169798 0.70141989]\n",
      " [0.10333061 0.35327508 0.84358767]\n",
      " [0.04186139 0.40953632 0.64866313]\n",
      " [0.57119897 0.17543232 0.28792266]\n",
      " [0.11950152 0.12397796 0.59605532]\n",
      " [0.37211631 0.08899982 0.40266116]\n",
      " [0.3181762  0.47297268 0.37416257]\n",
      " [0.35934525 0.65703841 0.26863422]\n",
      " [0.66076948 0.41410622 0.93558236]\n",
      " [0.24985782 0.57346663 0.77302181]\n",
      " [0.14693519 0.20874178 0.92066371]\n",
      " [0.95752046 0.84289906 0.66705554]\n",
      " [0.95527038 0.60892765 0.32021248]\n",
      " [0.7493633  0.20539223 0.16738013]\n",
      " [0.33721534 0.29460323 0.6460409 ]\n",
      " [0.43975472 0.8290784  0.73681971]\n",
      " [0.38239003 0.34933996 0.3408699 ]\n",
      " [0.38101773 0.63043628 0.58358563]\n",
      " [0.42086393 0.57050425 0.65872125]\n",
      " [0.40923027 0.25200458 0.25734777]\n",
      " [0.45832406 0.75152318 0.54697645]\n",
      " [0.67680439 0.47642838 0.906955  ]\n",
      " [0.14684865 0.27995892 0.8986029 ]\n",
      " [0.07568677 0.         0.34662172]\n",
      " [0.538375   0.10363692 0.47813739]\n",
      " [0.72516876 0.08022263 0.26446796]\n",
      " [0.41606706 0.37389572 0.79955804]\n",
      " [0.02842272 0.21183222 0.41097172]\n",
      " [0.68964963 0.20496319 0.91752225]\n",
      " [1.         0.82447469 0.22221319]\n",
      " [0.23800163 0.         0.28578287]\n",
      " [0.22840788 0.71852156 0.35007946]\n",
      " [0.11685582 0.18238322 0.63958887]\n",
      " [0.16444131 0.32089156 0.93547139]\n",
      " [0.63721781 0.36975907 0.23547388]\n",
      " [0.55128205 0.65367769 0.17514951]\n",
      " [0.12705536 0.40188983 0.36606326]\n",
      " [0.3195485  0.55068762 0.59724746]\n",
      " [0.10110526 0.18328612 0.78684802]\n",
      " [0.16613505 0.09103371 0.03760193]\n",
      " [0.49857825 0.         0.48123434]\n",
      " [0.26630072 0.52284641 0.47535138]\n",
      " [0.31707588 0.76752575 0.93818501]\n",
      " [0.22671414 0.29723098 0.74053202]\n",
      " [0.2152412  0.26923675 0.38975828]\n",
      " [0.75709023 0.04088855 0.49956919]\n",
      " [0.37540489 0.55749242 0.82055428]\n",
      " [0.48078778 0.19044422 0.18901725]\n",
      " [0.41830477 0.46455843 0.56918798]\n",
      " [0.93150854 1.         0.19833124]\n",
      " [0.34889845 0.6592799  0.65146694]\n",
      " [0.10872092 0.04636044 0.08187189]\n",
      " [0.8782484  0.75062782 0.36224058]\n",
      " [0.31279826 0.18526974 0.93001864]\n",
      " [0.35583414 0.37410905 0.10764915]\n",
      " [0.45324284 0.67320093 0.52047821]\n",
      " [0.89983433 0.57149384 0.44524705]\n",
      " [0.62114581 0.2112581  0.49027834]\n",
      " [0.91473184 0.36144252 0.21579142]\n",
      " [0.29783893 0.13147552 0.83398706]\n",
      " [0.39161289 0.56951192 0.56761488]\n",
      " [0.26371684 0.05854851 0.2851147 ]\n",
      " [0.3444601  0.7171524  1.        ]\n",
      " [0.49878842 0.14050331 0.05363024]\n",
      " [0.0899414  0.13984057 0.12924533]\n",
      " [0.52148703 0.38561209 0.65657018]\n",
      " [0.28229854 0.25301597 0.31638269]\n",
      " [0.3224291  0.64218781 0.89323323]\n",
      " [0.03045026 0.13252418 0.80728884]\n",
      " [0.48262987 0.15279935 0.77843362]\n",
      " [0.17300893 0.73237604 0.98031042]\n",
      " [0.57267018 0.74381099 0.75623633]\n",
      " [0.40260366 0.47356132 0.14693753]\n",
      " [0.51361175 0.49798325 0.65616132]\n",
      " [0.31875726 0.56426153 0.76088917]\n",
      " [0.53474025 0.32423288 0.99043262]\n",
      " [0.06635264 0.42183111 0.04396792]\n",
      " [0.41481839 0.71441923 0.40403606]\n",
      " [0.55124496 0.20525947 0.28945185]\n",
      " [0.44641842 0.19116029 0.93124876]\n",
      " [0.16968326 0.14441892 0.0110218 ]\n",
      " [0.12046584 0.65078787 0.4478764 ]\n",
      " [0.14105037 0.4845594  0.42824201]\n",
      " [0.20840442 0.16377144 0.55110117]\n",
      " [0.07738051 0.46522009 0.53572738]\n",
      " [0.0271246  0.22794106 0.30050154]\n",
      " [0.59480009 0.5182608  0.42864077]\n",
      " [0.72961946 0.11151949 0.        ]\n",
      " [0.48212299 0.69049795 0.49757003]\n",
      " [0.64766461 0.49971967 0.42026019]\n",
      " [0.80031155 0.56895143 0.164425  ]\n",
      " [0.06162995 0.05608013 0.77102147]\n",
      " [0.54931632 0.47355757 0.02173087]\n",
      " [0.14759044 0.08686732 0.91624347]\n",
      " [0.01625745 0.07097851 0.06328188]\n",
      " [0.40170116 0.03768912 0.659301  ]\n",
      " [0.09079445 0.4414659  0.30106171]\n",
      " [0.87043493 0.63524287 0.49289464]\n",
      " [0.06880053 0.55223527 0.57681316]\n",
      " [0.3365601  0.4743941  0.97169545]\n",
      " [0.8484781  0.37502739 0.63957047]\n",
      " [0.38366343 0.59888587 0.23630939]\n",
      " [0.76319759 0.47234052 0.01351882]\n",
      " [0.10755879 0.         0.84163004]\n",
      " [0.80952204 0.72319903 0.92253113]\n",
      " [0.07579804 0.0345217  0.30057038]\n",
      " [0.27087506 0.69937176 0.94167182]\n",
      " [0.8758376  0.42189551 0.87476487]\n",
      " [0.52931286 0.         0.89579316]\n",
      " [0.57174295 0.65283611 0.24702974]\n",
      " [0.95046114 0.70382551 0.33319606]\n",
      " [0.59222857 0.23480016 0.27907389]\n",
      " [0.17262567 0.         0.84935195]\n",
      " [0.17083302 0.29808214 0.81468141]\n",
      " [0.02911505 0.37102225 0.27080844]\n",
      " [0.07883935 0.34416412 0.0683774 ]\n",
      " [0.07454937 0.07176981 0.67403332]\n",
      " [0.17497466 0.17824242 0.24838684]\n",
      " [0.38807705 0.62714579 0.69689996]\n",
      " [0.96216898 0.63284162 0.95109381]\n",
      " [0.88135153 0.44236705 0.02767555]\n",
      " [0.86091536 0.31016139 0.71853174]\n",
      " [0.84167841 0.63732601 0.28886083]\n",
      " [0.5755755  0.13890419 0.69494887]\n",
      " [0.79809856 0.49809978 0.49860373]\n",
      " [0.61828994 0.06973444 0.96901684]\n",
      " [0.43588507 0.34010179 0.47135128]\n",
      " [0.52294587 0.00473426 0.41298927]\n",
      " [0.23636971 0.20281634 0.90541868]\n",
      " [0.6386272  0.09495431 0.43143034]\n",
      " [0.94996662 0.62402091 0.34349391]\n",
      " [0.49093786 0.58812086 0.29681891]\n",
      " [0.01685088 0.16460275 0.97373021]\n",
      " [0.13778651 0.19350691 0.37155161]\n",
      " [0.14126054 0.23413861 0.51373838]\n",
      " [0.10308335 0.26956696 0.03500818]\n",
      " [0.07295453 0.06371692 0.69703941]\n",
      " [0.24831244 0.70487605 0.84177661]\n",
      " [0.45481295 0.70683748 0.38210165]\n",
      " [0.20017061 0.         0.35599327]\n",
      " [0.52332913 0.65202597 0.15297952]\n",
      " [0.1933091  0.28725648 0.66867671]\n",
      " [0.13797196 0.09379042 0.57871382]\n",
      " [0.35836857 0.07033608 0.42386035]\n",
      " [0.06339787 0.15827595 0.64524634]\n",
      " [0.45334174 0.6273228  0.22135454]\n",
      " [0.48848997 0.55898011 0.64649307]\n",
      " [0.18947655 0.46844307 0.45109856]\n",
      " [0.76479242 0.32863069 0.95524583]\n",
      " [0.22035952 0.00110863 0.57693362]\n",
      " [0.19678313 0.         0.8094138 ]\n",
      " [0.70577109 0.03252628 0.35735572]\n",
      " [0.4221126  0.77215647 0.21275915]\n",
      " [0.84835447 0.58135714 0.73221731]\n",
      " [0.87283337 0.57598663 0.58592718]\n",
      " [0.72120021 0.13435126 0.25518779]\n",
      " [0.13797196 0.         0.42515455]\n",
      " [0.18052568 0.25860621 0.21962241]\n",
      " [0.60392404 0.20876164 0.56715262]\n",
      " [0.27494251 0.63919134 0.42627252]\n",
      " [0.35396731 0.43468725 0.02983849]\n",
      " [0.12283955 0.21931956 0.06193011]\n",
      " [0.53253962 0.57228912 0.33512698]\n",
      " [0.47403753 0.41086356 0.98262764]\n",
      " [0.41641322 0.43851033 0.54283987]\n",
      " [0.46296022 0.11296093 0.22097239]\n",
      " [0.55309942 0.58082847 0.37249155]\n",
      " [0.21357219 0.02966432 0.95938479]\n",
      " [0.90979898 0.60661195 0.00107524]\n",
      " [0.29377148 0.73638645 0.29573298]\n",
      " [0.30589966 0.08083391 0.49415324]\n",
      " [0.10804095 0.43028399 0.59343902]\n",
      " [0.07568677 0.55326578 0.698047  ]\n",
      " [0.21736765 0.36209942 0.51678192]\n",
      " [0.51157184 0.51520583 0.5840372 ]\n",
      " [0.19078703 0.12987924 0.06478971]\n",
      " [0.26994783 0.63806812 0.87223105]\n",
      " [0.08089163 0.04608952 0.15110141]\n",
      " [0.4413001  0.58465778 0.93210622]\n",
      " [0.41965235 0.60178845 0.74065782]\n",
      " [0.81958559 0.64270553 0.46005058]\n",
      " [0.         0.10056595 0.61367928]\n",
      " [0.36023539 0.48331154 0.43724565]\n",
      " [0.17628514 0.01998735 0.27793813]\n",
      " [0.11765942 0.21821762 0.36450796]\n",
      " [0.4107633  0.45163886 0.72042409]\n",
      " [0.89014168 0.5124713  0.86405579]\n",
      " [0.41987489 0.34366563 0.25336309]\n",
      " [0.15680093 0.00265674 0.47704376]\n",
      " [0.46682986 0.69844877 0.15051098]\n",
      " [0.6910343  0.17177123 0.52204894]\n",
      " [0.37403259 0.65773009 0.16644315]\n",
      " [0.13569715 0.33693203 0.51794439]\n",
      " [0.12539871 0.06464819 0.24310144]\n",
      " [0.5499592  0.30311239 0.23073144]\n",
      " [0.60474    0.17508038 0.57096996]\n",
      " [0.4045323  0.54495451 0.03534108]\n",
      " [0.1668892  0.3322999  0.21254731]\n",
      " [0.03040081 0.         0.16883455]\n",
      " [0.5739683  0.41373374 0.32216239]]\n"
     ]
    },
    {
     "data": {
      "text/plain": [
       "0.935"
      ]
     },
     "execution_count": 54,
     "metadata": {},
     "output_type": "execute_result"
    }
   ],
   "source": [
    "# 最值归一化数据\n",
    "def get_normalizer_data(X_train, X_test):\n",
    "    from sklearn.preprocessing import MinMaxScaler\n",
    "    minMaxScaler = MinMaxScaler()\n",
    "    # minMaxScaler.fit(X_train)\n",
    "    X_train = minMaxScaler.fit_transform(X_train)\n",
    "    X_test = minMaxScaler.fit_transform(X_test)\n",
    "    return X_train, X_test\n",
    "\n",
    "\n",
    "X_train, X_test, y_train, y_test = get_analylze_data(\n",
    "    get_factor_code0(get_data()))\n",
    "X_train, X_test = get_normalizer_data(X_train, X_test)\n",
    "# print(X_train, X_test)\n",
    "KNN(X_train, X_test, y_train, y_test)"
   ]
  },
  {
   "cell_type": "code",
   "execution_count": 57,
   "metadata": {},
   "outputs": [
    {
     "name": "stdout",
     "output_type": "stream",
     "text": [
      "[[4.1611000e+04 2.3045300e-01 1.1519960e+00]\n",
      " [2.0375000e+04 0.0000000e+00 1.6797290e+00]\n",
      " [3.0832000e+04 1.2547439e+01 1.4024430e+00]\n",
      " ...\n",
      " [9.1940000e+03 7.3313190e+00 1.2779880e+00]\n",
      " [6.7736000e+04 1.3516711e+01 1.2201530e+00]\n",
      " [9.1710000e+03 4.7119600e+00 1.9416700e-01]]\n"
     ]
    },
    {
     "data": {
      "text/plain": [
       "array([[0.45589605, 0.01101626, 0.67921771],\n",
       "       [0.2232314 , 0.        , 0.99068203],\n",
       "       [0.33779979, 0.59980064, 0.82702978],\n",
       "       ...,\n",
       "       [0.10073077, 0.35045636, 0.75357731],\n",
       "       [0.74212527, 0.6461344 , 0.7194435 ],\n",
       "       [0.10047878, 0.2252441 , 0.11391374]])"
      ]
     },
     "execution_count": 57,
     "metadata": {},
     "output_type": "execute_result"
    }
   ],
   "source": [
    "X_train, X_test, y_train, y_test = get_analylze_data(\n",
    "    get_factor_code0(get_data()))\n",
    "print(X_train)\n",
    "from sklearn.preprocessing import Normalizer\n",
    "\n",
    "normalizer=Normalizer()\n",
    "minMaxScaler.fit(X_train).transform(X_train)"
   ]
  },
  {
   "cell_type": "markdown",
   "metadata": {},
   "source": [
    "### KDTree 构建"
   ]
  },
  {
   "cell_type": "code",
   "execution_count": 96,
   "metadata": {},
   "outputs": [],
   "source": [
    "# k近邻算法可以认为是一个没有训练过程的算法\n",
    "# 对于knn来说，训练集就是模型\n",
    "# 参数k，X_train训练集, y_train分类标签集, x新的点\n",
    "import numpy as np\n",
    "import collections\n",
    "\n",
    "\n",
    "class KNN:\n",
    "    def __init__(self, n_neighbors=3, p=2):\n",
    "        \"\"\"初始化kNN分类器\"\"\"\n",
    "        assert n_neighbors >= 1, \"n_neighbors must be valid\"\n",
    "        self.n_neighbors = n_neighbors\n",
    "        self.p = p\n",
    "        # 私有成员变量_\n",
    "        self._X_train = None\n",
    "        self._y_train = None\n",
    "\n",
    "    def fit(self, X_train, y_train):\n",
    "        \"\"\"根据训练数据集X_train和y_train训练kNN分类器\"\"\"\n",
    "        assert X_train.shape[0] == y_train.shape[\n",
    "            0], \"the size of X_train must be equal to the size of y_train.\"\n",
    "        assert self.n_neighbors <= X_train.shape[\n",
    "            0], \"the size of X_train must be at least k.\"\n",
    "\n",
    "        self._X_train = X_train\n",
    "        self._y_train = y_train\n",
    "        return self\n",
    "\n",
    "    def predict(self, X_predict):\n",
    "        \"\"\"给定待测预测数据集X_predict,返回表示X_predict的结果向量集\"\"\"\n",
    "        assert self._X_train is not None and self._y_train is not None, \"must fit before predict!\"\n",
    "        assert X_predict.shape[1] == self._X_train.shape[\n",
    "            1], \"the feature number of X_predict must be similar to X_train.\"\n",
    "\n",
    "        y_predict = [self._predict(x) for x in X_predict]\n",
    "        return np.array(y_predict)\n",
    "\n",
    "    def _predict(self, x):\n",
    "        \"\"\"给定单个待测数据x,返回x的预测结果集\"\"\"\n",
    "        assert x.shape[0] == self._X_train.shape[\n",
    "            1], \"the feature number of x must be equal to X_train\"\n",
    "\n",
    "        # 欧拉距离\n",
    "        distances = [(np.sum((x_train - x)**self.p))**(self.p / 2)\n",
    "                     for x_train in self._X_train]\n",
    "        # 求出距离最小的索引\n",
    "        nearest = np.argsort(distances)\n",
    "\n",
    "        # 前k个距离最小的标签的点集\n",
    "        topK_y = [self._y_train[i] for i in nearest[:self.n_neighbors]]\n",
    "        # 投票统计\n",
    "        votes = collections.Counter(topK_y)\n",
    "\n",
    "        # 返回票数最多的标签\n",
    "        return votes.most_common(1)[0][0]\n",
    "\n",
    "    def _accuracy_score(self, y_true, y_predict):\n",
    "        \"\"\"计算 y_true 和 y_predict 之间的准确率\"\"\"\n",
    "\n",
    "        assert y_true.shape[0] == y_predict.shape[\n",
    "            0], \"the size of y_true must be equal to the size of y_predict\"\n",
    "\n",
    "        return sum(y_true == y_predict) / len(y_true)\n",
    "\n",
    "    def score(self, X_test, y_test):\n",
    "        \"\"\"根据测算数据集 X_test 和 y_test 确定当前模型的准确度\"\"\"\n",
    "        y_predict = self.predict(X_test)\n",
    "        return self._accuracy_score(y_test, y_predict)\n",
    "\n",
    "    def __repr__(self):\n",
    "        return \"KNN(n_neighbors=%d)\" % self.n_neighbors"
   ]
  },
  {
   "cell_type": "code",
   "execution_count": 163,
   "metadata": {},
   "outputs": [],
   "source": [
    "import numpy as np\n",
    "import collections\n",
    "\n",
    "\n",
    "class KNN(object):\n",
    "    def __init__(self, n_neighbors=3, p=2):\n",
    "        \"\"\"\n",
    "        parameter: n_neighbors 临近点个数\n",
    "        parameter: p 距离度量\n",
    "        \"\"\"\n",
    "        self.n = n_neighbors\n",
    "        self.p = p\n",
    "\n",
    "    def fit(self, X_train, y_train):\n",
    "        self.X_train = X_train\n",
    "        self.y_train = y_train\n",
    "\n",
    "    def predict(self, X):\n",
    "        # 取出n个点\n",
    "        knn_list = []\n",
    "        for i in range(self.n):\n",
    "            dist = np.linalg.norm(X - self.X_train[i], ord=self.p)\n",
    "            knn_list.append((dist, self.y_train[i]))\n",
    "\n",
    "        for i in range(self.n, len(self.X_train)):\n",
    "            max_index = knn_list.index(max(knn_list, key=lambda x: x[0]))\n",
    "            dist = np.linalg.norm(X - self.X_train[i], ord=self.p)\n",
    "            if knn_list[max_index][0] > dist:\n",
    "                knn_list[max_index] = (dist, self.y_train[i])\n",
    "\n",
    "        # 统计\n",
    "        knn = [k[-1] for k in knn_list]\n",
    "        return collections.Counter(knn).most_common()[0][0]\n",
    "\n",
    "    # 统计准确度\n",
    "    def score(self, X_test, y_test):\n",
    "        right_count = 0\n",
    "        for X, y in zip(X_test, y_test):\n",
    "            label = self.predict(X)\n",
    "            if label == y:\n",
    "                right_count += 1\n",
    "        return right_count / len(X_test)"
   ]
  },
  {
   "cell_type": "code",
   "execution_count": 60,
   "metadata": {},
   "outputs": [],
   "source": [
    "# get iris data\n",
    "def get_test_data():\n",
    "    from sklearn import datasets\n",
    "    from sklearn.model_selection import train_test_split\n",
    "    iris = datasets.load_iris()\n",
    "    X, y = iris.data, iris.target\n",
    "    #     X = iris.data[:100, [0, 2]]\n",
    "    #     y = iris.target[:100]\n",
    "    #     y = np.where(y == 1, 1, -1)\n",
    "    X_train, X_test, y_train, y_test = train_test_split(X, y, test_size=0.3)\n",
    "    return X_train, X_test, y_train, y_test\n"
   ]
  },
  {
   "cell_type": "code",
   "execution_count": 92,
   "metadata": {},
   "outputs": [],
   "source": [
    "def model_test(model,X_train, X_test, y_train, y_test,n_neighbors=4):\n",
    "    \"\"\"\n",
    "    模型测试\n",
    "    \"\"\"\n",
    "    knn = model(n_neighbors)\n",
    "    knn.fit(X_train, y_train)\n",
    "    return knn.score(X_test, y_test)"
   ]
  },
  {
   "cell_type": "code",
   "execution_count": 98,
   "metadata": {},
   "outputs": [
    {
     "data": {
      "text/plain": [
       "0.9555555555555556"
      ]
     },
     "execution_count": 98,
     "metadata": {},
     "output_type": "execute_result"
    }
   ],
   "source": [
    "X_train, X_test, y_train, y_test = get_test_data()\n",
    "model_test(KNN, X_train, X_test, y_train, y_test)"
   ]
  },
  {
   "cell_type": "code",
   "execution_count": 89,
   "metadata": {},
   "outputs": [],
   "source": [
    "## KDTree\n",
    "# kd-tree每个结点中主要包含的数据结构如下\n",
    "class Node:\n",
    "    def __init__(self, data, label, depth=0, lchild=None, rchild=None):\n",
    "        \"\"\"\n",
    "            data:D\n",
    "            depth:K\n",
    "            \n",
    "        \"\"\"\n",
    "        self.data = data\n",
    "        self.depth = depth\n",
    "        self.lchild = lchild\n",
    "        self.rchild = rchild\n",
    "        self.label = label"
   ]
  },
  {
   "cell_type": "code",
   "execution_count": 164,
   "metadata": {},
   "outputs": [],
   "source": [
    "import numpy as np\n",
    "import time\n",
    "from collections import Counter\n",
    "\n",
    "\n",
    "class KdTree:\n",
    "    def __init__(self, dataSet, label):\n",
    "        self.KdTree = None\n",
    "        self.n = 0\n",
    "        self.nearest = None\n",
    "        self.create(dataSet, label)\n",
    "\n",
    "    # 建立kdtree\n",
    "    def create(self, dataSet, label, depth=0):\n",
    "        if len(dataSet) > 0:\n",
    "            m, n = np.shape(dataSet)\n",
    "            self.n = n\n",
    "            axis = depth % self.n\n",
    "            mid = int(m / 2)\n",
    "            dataSetcopy = sorted(dataSet, key=lambda x: x[axis])\n",
    "            node = Node(dataSetcopy[mid], label[mid], depth)\n",
    "            if depth == 0:\n",
    "                self.KdTree = node\n",
    "            node.lchild = self.create(dataSetcopy[:mid], label, depth + 1)\n",
    "            node.rchild = self.create(dataSetcopy[mid + 1:], label, depth + 1)\n",
    "            return node\n",
    "        return None\n",
    "\n",
    "    # 前序遍历\n",
    "    def preOrder(self, node):\n",
    "        if node is not None:\n",
    "            print(node.depth, node.data)\n",
    "            self.preOrder(node.lchild)\n",
    "            self.preOrder(node.rchild)\n",
    "\n",
    "    # 搜索kdtree的前count个近的点\n",
    "    def search(self, x, count=1):\n",
    "        nearest = []\n",
    "        for i in range(count):\n",
    "            nearest.append([-1, None])\n",
    "        # 初始化n个点，nearest是按照距离递减的方式\n",
    "        self.nearest = np.array(nearest)\n",
    "\n",
    "        def recurve(node):\n",
    "            if node is not None:\n",
    "                # 计算当前点的维度axis\n",
    "                axis = node.depth % self.n\n",
    "                # 计算测试点和当前点在axis维度上的差\n",
    "                daxis = x[axis] - node.data[axis]\n",
    "                # 如果小于进左子树，大于进右子树\n",
    "                if daxis < 0:\n",
    "                    recurve(node.lchild)\n",
    "                else:\n",
    "                    recurve(node.rchild)\n",
    "                # 计算预测点x到当前点的距离dist\n",
    "                dist = np.sqrt(np.sum(np.square(x - node.data)))\n",
    "                for i, d in enumerate(self.nearest):\n",
    "                    # 如果有比现在最近的n个点更近的点，更新最近的点\n",
    "                    if d[0] < 0 or dist < d[0]:\n",
    "                        # 插入第i个位置的点\n",
    "                        self.nearest = np.insert(self.nearest,\n",
    "                                                 i, [dist, node],\n",
    "                                                 axis=0)\n",
    "                        # 删除最后一个多出来的点\n",
    "                        self.nearest = self.nearest[:-1]\n",
    "                        break\n",
    "\n",
    "                # 统计距离为-1的个数n\n",
    "                n = list(self.nearest[:, 0]).count(-1)\n",
    "                '''\n",
    "                self.nearest[-n-1, 0]是当前nearest中已经有的最近点中，距离最大的点。\n",
    "                self.nearest[-n-1, 0] > abs(daxis)代表以x为圆心，self.nearest[-n-1, 0]为半径的圆与axis\n",
    "                相交，说明在左右子树里面有比self.nearest[-n-1, 0]更近的点\n",
    "                '''\n",
    "                if self.nearest[-n - 1, 0] > abs(daxis):\n",
    "                    if daxis < 0:\n",
    "                        recurve(node.rchild)\n",
    "                    else:\n",
    "                        recurve(node.lchild)\n",
    "\n",
    "        recurve(self.KdTree)\n",
    "\n",
    "        # nodeList是最近n个点的\n",
    "        nodeList = self.nearest[:, 1]\n",
    "\n",
    "        # knn是n个点的标签\n",
    "        knn = [node.label for node in nodeList]\n",
    "        return self.nearest[:, 1], Counter(knn).most_common()[0][0]"
   ]
  },
  {
   "cell_type": "code",
   "execution_count": 179,
   "metadata": {},
   "outputs": [],
   "source": [
    "class KNNKdTree():\n",
    "    # def __init__(self, n_neighbors=3, p=2):\n",
    "    #    super(KNNKdTree, self).__init__(n_neighbors=n_neighbors, p=p)\n",
    "    def __init__(self, n_neighbors=3, p=2):\n",
    "        \"\"\"\n",
    "        parameter: n_neighbors 临近点个数\n",
    "        parameter: p 距离度量\n",
    "        \"\"\"\n",
    "        self.n_neighbors = n_neighbors\n",
    "        self.p = p\n",
    "\n",
    "    def fit(self, X_train, y_train):\n",
    "        self.X_train = np.array(X_train)\n",
    "        self.y_train = np.array(y_train)\n",
    "        self.kdTree = KdTree(self.X_train, self.y_train)\n",
    "\n",
    "    def predict(self, point):\n",
    "        nearest, label = self.kdTree.search(point, self.n_neighbors)\n",
    "        print(\"nearest\", [node.data for node in nearest])\n",
    "        return nearest, label\n",
    "\n",
    "    def score(self, X_test, y_test):\n",
    "        right_count = 0\n",
    "        for X, y in zip(X_test, y_test):\n",
    "            _, label = self.predict(X)\n",
    "            if label == y:\n",
    "                right_count += 1\n",
    "        return right_count / len(X_test)"
   ]
  },
  {
   "cell_type": "code",
   "execution_count": 180,
   "metadata": {},
   "outputs": [
    {
     "name": "stdout",
     "output_type": "stream",
     "text": [
      "nearest [array([2, 3]), array([5, 4]), array([4, 7])]\n"
     ]
    },
    {
     "data": {
      "text/plain": [
       "(array([<__main__.Node object at 0x7facc27daac8>,\n",
       "        <__main__.Node object at 0x7facc27da7b8>,\n",
       "        <__main__.Node object at 0x7facc27da710>], dtype=object), 0)"
      ]
     },
     "execution_count": 180,
     "metadata": {},
     "output_type": "execute_result"
    }
   ],
   "source": [
    "data = [[2, 3], [5, 4], [9, 6], [4, 7], [8, 1], [7, 2]]\n",
    "label = [0, 0, 0, 1, 1, 1]\n",
    "kdtree = KNNKdTree()\n",
    "kdtree.fit(data, label)\n",
    "kdtree.predict([3, 4.5])"
   ]
  },
  {
   "cell_type": "code",
   "execution_count": 182,
   "metadata": {},
   "outputs": [],
   "source": [
    "import numpy as np\n",
    "import matplotlib.pyplot as plt\n",
    "import seaborn as sns\n",
    "\n",
    "\n",
    "%matplotlib inline\n",
    "def plot_knn_predict(model, dataset, label, x):\n",
    "\n",
    "    dataset = np.array(dataset)\n",
    "    plt.scatter(x[0], x[1], c=\"r\", marker='*', s=40)  # 测试点\n",
    "    near, predict_label = model.predict(x)  # 设置临近点的个数\n",
    "    plt.scatter(dataset[:, 0], dataset[:, 1], c=label, s=50)  # 画所有的数据点\n",
    "    for n in near:\n",
    "        plt.scatter(n.data[0], n.data[1], c=\"r\", marker='+', s=40)  # k个最近邻点\n",
    "    plt.show()"
   ]
  },
  {
   "cell_type": "code",
   "execution_count": 181,
   "metadata": {},
   "outputs": [
    {
     "name": "stdout",
     "output_type": "stream",
     "text": [
      "nearest [array([2, 3]), array([5, 4]), array([4, 7])]\n",
      "predict label: 0\n",
      "nearest [array([2, 3]), array([5, 4]), array([4, 7])]\n",
      "3\n",
      "[2 3]\n",
      "[5 4]\n",
      "[4 7]\n"
     ]
    },
    {
     "data": {
      "image/png": "[encoded data removed]",
      "text/plain": [
       "<Figure size 432x288 with 1 Axes>"
      ]
     },
     "metadata": {
      "needs_background": "light"
     },
     "output_type": "display_data"
    }
   ],
   "source": [
    "def simpleTest():\n",
    "    data = [[2, 3], [5, 4], [9, 6], [4, 7], [8, 1], [7, 2]]\n",
    "    label = [0, 0, 0, 1, 1, 1]\n",
    "    kdtree = KNNKdTree()\n",
    "    kdtree.fit(data, label)\n",
    "    _, predict_label = kdtree.predict([3, 4.5])\n",
    "    print(\"predict label:\", predict_label)\n",
    "    plot_knn_predict(kdtree, data, label, [3, 4.5])\n",
    "\n",
    "\n",
    "simpleTest()"
   ]
  },
  {
   "cell_type": "code",
   "execution_count": 130,
   "metadata": {},
   "outputs": [
    {
     "name": "stdout",
     "output_type": "stream",
     "text": [
      "time: 78.01428\n",
      "predict label: 0\n"
     ]
    }
   ],
   "source": [
    "import random\n",
    "\n",
    "\n",
    "def random_point(k):\n",
    "    \"\"\"\n",
    "    产生一个k维随机向量，每维分量值在0~1之间\n",
    "    \"\"\"\n",
    "    return [random.random() for _ in range(k)]\n",
    "\n",
    "\n",
    "def random_points(k, n):\n",
    "    \"\"\"\n",
    "    产生n个k维随机向量\n",
    "    \"\"\"\n",
    "    return [random_point(k) for _ in range(n)]\n",
    "\n",
    "\n",
    "def largeTest():\n",
    "    N = 400000\n",
    "    startTime = time.time()\n",
    "    data = random_points(2, N)\n",
    "    label = [0] * (N // 2) + [1] * (N // 2)\n",
    "    kdtree2 = KNNKdTree()\n",
    "    kdtree2.fit(data, label)\n",
    "    _, predict_label = kdtree2.predict([0.1, 0.5])  # 四十万个样本点中寻找离目标最近的点\n",
    "\n",
    "    print(\"time: %s\" % round(time.time() - startTime, 5))\n",
    "    print(\"predict label:\", predict_label)\n",
    "\n",
    "\n",
    "largeTest()"
   ]
  },
  {
   "cell_type": "code",
   "execution_count": 134,
   "metadata": {},
   "outputs": [],
   "source": [
    "def get_random_data(number):\n",
    "    data = random_points(2, number)\n",
    "    label = [0] * (number // 2) + [1] * (number // 2)\n",
    "    return np.array(data), np.array(label)"
   ]
  },
  {
   "cell_type": "code",
   "execution_count": 135,
   "metadata": {},
   "outputs": [],
   "source": [
    "def generate_kdtree_data():\n",
    "    data_list = []\n",
    "    label_list = []\n",
    "    for num in [30, 500, 1000, 2000, 5000, 10000, 50000, 400000]:\n",
    "        data, label = get_random_data(num)\n",
    "        data_list.append(data)\n",
    "        label_list.append(label)\n",
    "    return data_list, label_list"
   ]
  },
  {
   "cell_type": "code",
   "execution_count": 138,
   "metadata": {},
   "outputs": [
    {
     "name": "stdout",
     "output_type": "stream",
     "text": [
      "model = knn, dataNum = 30, takeTime = 0.94875\n",
      "model = kdtree, dataNum = 30, takeTime = 0.00473\n",
      "model = knn, dataNum = 500, takeTime = 0.02879\n",
      "model = kdtree, dataNum = 500, takeTime = 0.00983\n",
      "model = knn, dataNum = 1000, takeTime = 0.07055\n",
      "model = kdtree, dataNum = 1000, takeTime = 0.02419\n",
      "model = knn, dataNum = 2000, takeTime = 0.14436\n",
      "model = kdtree, dataNum = 2000, takeTime = 0.03816\n",
      "model = knn, dataNum = 5000, takeTime = 0.39336\n",
      "model = kdtree, dataNum = 5000, takeTime = 0.17428\n",
      "model = knn, dataNum = 10000, takeTime = 0.69411\n",
      "model = kdtree, dataNum = 10000, takeTime = 0.24525\n",
      "model = knn, dataNum = 50000, takeTime = 3.50796\n",
      "model = kdtree, dataNum = 50000, takeTime = 1.9812\n",
      "model = knn, dataNum = 400000, takeTime = 31.59755\n",
      "model = kdtree, dataNum = 400000, takeTime = 25.12736\n"
     ]
    }
   ],
   "source": [
    "data_list, label_list = generate_kdtree_data()\n",
    "models = {\"knn\": KNN(), \"kdtree\": KNNKdTree()}\n",
    "for data, label in zip(data_list, label_list):\n",
    "    for name, model in models.items():\n",
    "        startTime = time.time()\n",
    "        model.fit(data, label)\n",
    "        for i in range(5):\n",
    "            model.predict([0.3, 0.2])\n",
    "        print(\"model = %s, dataNum = %s, takeTime = %s\" %\n",
    "              (name, len(data), round(time.time() - startTime, 5)))"
   ]
  },
  {
   "cell_type": "code",
   "execution_count": 183,
   "metadata": {},
   "outputs": [
    {
     "name": "stdout",
     "output_type": "stream",
     "text": [
      "<__main__.KNNKdTree object at 0x7facc27da9e8>\n",
      "nearest [array([0.4557774 , 0.18873344]), array([0.27929259, 0.35877439]), array([0.21210032, 0.03044424])]\n"
     ]
    },
    {
     "data": {
      "image/png": "[encoded data removed]",
      "text/plain": [
       "<Figure size 432x288 with 1 Axes>"
      ]
     },
     "metadata": {
      "needs_background": "light"
     },
     "output_type": "display_data"
    }
   ],
   "source": [
    "# data_list, label_list = generate_kdtree_data()\n",
    "point = (0.3, 0.2)\n",
    "model = KNNKdTree()\n",
    "model.fit(data_list[0], label_list[0])\n",
    "print(model)\n",
    "plot_knn_predict(model, data_list[0], label_list[0], point)"
   ]
  },
  {
   "cell_type": "markdown",
   "metadata": {},
   "source": [
    "https://github.com/SmallVagetable/machine_learning_python/blob/master/knn/KNN.ipynb"
   ]
  },
  {
   "cell_type": "markdown",
   "metadata": {},
   "source": [
    "### BallTree 例子很少，有机会深刻研究"
   ]
  },
  {
   "cell_type": "code",
   "execution_count": null,
   "metadata": {},
   "outputs": [],
   "source": []
  }
 ],
 "metadata": {
  "kernelspec": {
   "display_name": "Python 3",
   "language": "python",
   "name": "python3"
  },
  "language_info": {
   "codemirror_mode": {
    "name": "ipython",
    "version": 3
   },
   "file_extension": ".py",
   "mimetype": "text/x-python",
   "name": "python",
   "nbconvert_exporter": "python",
   "pygments_lexer": "ipython3",
   "version": "3.7.4"
  }
 },
 "nbformat": 4,
 "nbformat_minor": 2
}
