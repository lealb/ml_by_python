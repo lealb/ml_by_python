{
 "cells": [
  {
   "cell_type": "markdown",
   "metadata": {},
   "source": [
    "### 逻辑回归"
   ]
  },
  {
   "cell_type": "code",
   "execution_count": 1,
   "metadata": {},
   "outputs": [
    {
     "name": "stdout",
     "output_type": "stream",
     "text": [
      "datingTestSet.txt  email  play\ttestSet.txt\r\n"
     ]
    }
   ],
   "source": [
    "!ls datasets/"
   ]
  },
  {
   "cell_type": "markdown",
   "metadata": {},
   "source": [
    "#### 书上实例"
   ]
  },
  {
   "cell_type": "code",
   "execution_count": 1,
   "metadata": {},
   "outputs": [],
   "source": [
    "import numpy as np\n",
    "import pandas as pd"
   ]
  },
  {
   "cell_type": "code",
   "execution_count": 2,
   "metadata": {},
   "outputs": [],
   "source": [
    "# loaddataset\n",
    "def load_dataset(file_path):\n",
    "    data = pd.read_csv(file_path, sep='\\t', header=None).to_numpy()\n",
    "    return data[:, :-1], data[:, -1]"
   ]
  },
  {
   "cell_type": "code",
   "execution_count": 3,
   "metadata": {},
   "outputs": [],
   "source": [
    "file = 'datasets/testSet.txt'\n",
    "X, y = load_dataset(file)"
   ]
  },
  {
   "cell_type": "code",
   "execution_count": 21,
   "metadata": {},
   "outputs": [
    {
     "data": {
      "text/plain": [
       "(array([[-1.7612000e-02,  1.4053064e+01],\n",
       "        [-1.3956340e+00,  4.6625410e+00],\n",
       "        [-7.5215700e-01,  6.5386200e+00],\n",
       "        [-1.3223710e+00,  7.1528530e+00],\n",
       "        [ 4.2336300e-01,  1.1054677e+01],\n",
       "        [ 4.0670400e-01,  7.0673350e+00],\n",
       "        [ 6.6739400e-01,  1.2741452e+01],\n",
       "        [-2.4601500e+00,  6.8668050e+00],\n",
       "        [ 5.6941100e-01,  9.5487550e+00],\n",
       "        [-2.6632000e-02,  1.0427743e+01],\n",
       "        [ 8.5043300e-01,  6.9203340e+00],\n",
       "        [ 1.3471830e+00,  1.3175500e+01],\n",
       "        [ 1.1768130e+00,  3.1670200e+00],\n",
       "        [-1.7818710e+00,  9.0979530e+00],\n",
       "        [-5.6660600e-01,  5.7490030e+00],\n",
       "        [ 9.3163500e-01,  1.5895050e+00],\n",
       "        [-2.4205000e-02,  6.1518230e+00],\n",
       "        [-3.6453000e-02,  2.6909880e+00],\n",
       "        [-1.9694900e-01,  4.4416500e-01],\n",
       "        [ 1.0144590e+00,  5.7543990e+00],\n",
       "        [ 1.9852980e+00,  3.2306190e+00],\n",
       "        [-1.6934530e+00, -5.5754000e-01],\n",
       "        [-5.7652500e-01,  1.1778922e+01],\n",
       "        [-3.4681100e-01, -1.6787300e+00],\n",
       "        [-2.1244840e+00,  2.6724710e+00],\n",
       "        [ 1.2179160e+00,  9.5970150e+00],\n",
       "        [-7.3392800e-01,  9.0986870e+00],\n",
       "        [-3.6420010e+00, -1.6180870e+00],\n",
       "        [ 3.1598500e-01,  3.5239530e+00],\n",
       "        [ 1.4166140e+00,  9.6192320e+00],\n",
       "        [-3.8632300e-01,  3.9892860e+00],\n",
       "        [ 5.5692100e-01,  8.2949840e+00],\n",
       "        [ 1.2248630e+00,  1.1587360e+01],\n",
       "        [-1.3478030e+00, -2.4060510e+00],\n",
       "        [ 1.1966040e+00,  4.9518510e+00],\n",
       "        [ 2.7522100e-01,  9.5436470e+00],\n",
       "        [ 4.7057500e-01,  9.3324880e+00],\n",
       "        [-1.8895670e+00,  9.5426620e+00],\n",
       "        [-1.5278930e+00,  1.2150579e+01],\n",
       "        [-1.1852470e+00,  1.1309318e+01],\n",
       "        [-4.4567800e-01,  3.2973030e+00],\n",
       "        [ 1.0422220e+00,  6.1051550e+00],\n",
       "        [-6.1878700e-01,  1.0320986e+01],\n",
       "        [ 1.1520830e+00,  5.4846700e-01],\n",
       "        [ 8.2853400e-01,  2.6760450e+00],\n",
       "        [-1.2377280e+00,  1.0549033e+01],\n",
       "        [-6.8356500e-01, -2.1661250e+00],\n",
       "        [ 2.2945600e-01,  5.9219380e+00],\n",
       "        [-9.5988500e-01,  1.1555336e+01],\n",
       "        [ 4.9291100e-01,  1.0993324e+01],\n",
       "        [ 1.8499200e-01,  8.7214880e+00],\n",
       "        [-3.5571500e-01,  1.0325976e+01],\n",
       "        [-3.9782200e-01,  8.0583970e+00],\n",
       "        [ 8.2483900e-01,  1.3730343e+01],\n",
       "        [ 1.5072780e+00,  5.0278660e+00],\n",
       "        [ 9.9671000e-02,  6.8358390e+00],\n",
       "        [-3.4400800e-01,  1.0717485e+01],\n",
       "        [ 1.7859280e+00,  7.7186450e+00],\n",
       "        [-9.1880100e-01,  1.1560217e+01],\n",
       "        [-3.6400900e-01,  4.7473000e+00],\n",
       "        [-8.4172200e-01,  4.1190830e+00],\n",
       "        [ 4.9042600e-01,  1.9605390e+00],\n",
       "        [-7.1940000e-03,  9.0757920e+00],\n",
       "        [ 3.5610700e-01,  1.2447863e+01],\n",
       "        [ 3.4257800e-01,  1.2281162e+01],\n",
       "        [-8.1082300e-01, -1.4660180e+00],\n",
       "        [ 2.5307770e+00,  6.4768010e+00],\n",
       "        [ 1.2966830e+00,  1.1607559e+01],\n",
       "        [ 4.7548700e-01,  1.2040035e+01],\n",
       "        [-7.8327700e-01,  1.1009725e+01],\n",
       "        [ 7.4798000e-02,  1.1023650e+01],\n",
       "        [-1.3374720e+00,  4.6833900e-01],\n",
       "        [-1.0278100e-01,  1.3763651e+01],\n",
       "        [-1.4732400e-01,  2.8748460e+00],\n",
       "        [ 5.1838900e-01,  9.8870350e+00],\n",
       "        [ 1.0153990e+00,  7.5718820e+00],\n",
       "        [-1.6580860e+00, -2.7255000e-02],\n",
       "        [ 1.3199440e+00,  2.1712280e+00],\n",
       "        [ 2.0562160e+00,  5.0199810e+00],\n",
       "        [-8.5163300e-01,  4.3756910e+00],\n",
       "        [-1.5100470e+00,  6.0619920e+00],\n",
       "        [-1.0766370e+00, -3.1818880e+00],\n",
       "        [ 1.8210960e+00,  1.0283990e+01],\n",
       "        [ 3.0101500e+00,  8.4017660e+00],\n",
       "        [-1.0994580e+00,  1.6882740e+00],\n",
       "        [-8.3487200e-01, -1.7338690e+00],\n",
       "        [-8.4663700e-01,  3.8490750e+00],\n",
       "        [ 1.4001020e+00,  1.2628781e+01],\n",
       "        [ 1.7528420e+00,  5.4681660e+00],\n",
       "        [ 7.8557000e-02,  5.9736000e-02],\n",
       "        [ 8.9392000e-02, -7.1530000e-01],\n",
       "        [ 1.8256620e+00,  1.2693808e+01],\n",
       "        [ 1.9744500e-01,  9.7446380e+00],\n",
       "        [ 1.2611700e-01,  9.2231100e-01],\n",
       "        [-6.7979700e-01,  1.2205300e+00],\n",
       "        [ 6.7798300e-01,  2.5566660e+00],\n",
       "        [ 7.6134900e-01,  1.0693862e+01],\n",
       "        [-2.1687910e+00,  1.4363200e-01],\n",
       "        [ 1.3886100e+00,  9.3419970e+00],\n",
       "        [ 3.1702900e-01,  1.4739025e+01]]),\n",
       " array([0., 1., 0., 0., 0., 1., 0., 1., 0., 0., 1., 0., 1., 0., 1., 1., 1.,\n",
       "        1., 1., 1., 1., 1., 0., 1., 1., 0., 0., 1., 1., 0., 1., 1., 0., 1.,\n",
       "        1., 0., 0., 0., 0., 0., 1., 1., 0., 1., 1., 0., 1., 1., 0., 0., 0.,\n",
       "        0., 0., 0., 1., 1., 0., 1., 0., 1., 1., 1., 0., 0., 0., 1., 1., 0.,\n",
       "        0., 0., 0., 1., 0., 1., 0., 0., 1., 1., 1., 1., 0., 1., 0., 1., 1.,\n",
       "        1., 1., 0., 1., 1., 1., 0., 0., 1., 1., 1., 0., 1., 0., 0.]))"
      ]
     },
     "execution_count": 21,
     "metadata": {},
     "output_type": "execute_result"
    }
   ],
   "source": [
    "X,y"
   ]
  },
  {
   "cell_type": "code",
   "execution_count": 25,
   "metadata": {},
   "outputs": [],
   "source": [
    "# file\n",
    "def get_data(file):\n",
    "    X=[]\n",
    "    y=[]\n",
    "    with open(file) as f:\n",
    "        for line in f.readlines():\n",
    "            line_arr=line.strip().split('\\t')\n",
    "            X.append([line_arr[0],line_arr[1]])\n",
    "            y.append(line_arr[2])\n",
    "    return X,y"
   ]
  },
  {
   "cell_type": "code",
   "execution_count": 27,
   "metadata": {},
   "outputs": [
    {
     "data": {
      "text/plain": [
       "['0',\n",
       " '1',\n",
       " '0',\n",
       " '0',\n",
       " '0',\n",
       " '1',\n",
       " '0',\n",
       " '1',\n",
       " '0',\n",
       " '0',\n",
       " '1',\n",
       " '0',\n",
       " '1',\n",
       " '0',\n",
       " '1',\n",
       " '1',\n",
       " '1',\n",
       " '1',\n",
       " '1',\n",
       " '1',\n",
       " '1',\n",
       " '1',\n",
       " '0',\n",
       " '1',\n",
       " '1',\n",
       " '0',\n",
       " '0',\n",
       " '1',\n",
       " '1',\n",
       " '0',\n",
       " '1',\n",
       " '1',\n",
       " '0',\n",
       " '1',\n",
       " '1',\n",
       " '0',\n",
       " '0',\n",
       " '0',\n",
       " '0',\n",
       " '0',\n",
       " '1',\n",
       " '1',\n",
       " '0',\n",
       " '1',\n",
       " '1',\n",
       " '0',\n",
       " '1',\n",
       " '1',\n",
       " '0',\n",
       " '0',\n",
       " '0',\n",
       " '0',\n",
       " '0',\n",
       " '0',\n",
       " '1',\n",
       " '1',\n",
       " '0',\n",
       " '1',\n",
       " '0',\n",
       " '1',\n",
       " '1',\n",
       " '1',\n",
       " '0',\n",
       " '0',\n",
       " '0',\n",
       " '1',\n",
       " '1',\n",
       " '0',\n",
       " '0',\n",
       " '0',\n",
       " '0',\n",
       " '1',\n",
       " '0',\n",
       " '1',\n",
       " '0',\n",
       " '0',\n",
       " '1',\n",
       " '1',\n",
       " '1',\n",
       " '1',\n",
       " '0',\n",
       " '1',\n",
       " '0',\n",
       " '1',\n",
       " '1',\n",
       " '1',\n",
       " '1',\n",
       " '0',\n",
       " '1',\n",
       " '1',\n",
       " '1',\n",
       " '0',\n",
       " '0',\n",
       " '1',\n",
       " '1',\n",
       " '1',\n",
       " '0',\n",
       " '1',\n",
       " '0',\n",
       " '0']"
      ]
     },
     "execution_count": 27,
     "metadata": {},
     "output_type": "execute_result"
    }
   ],
   "source": [
    "get_data(file)[1]"
   ]
  },
  {
   "cell_type": "code",
   "execution_count": 4,
   "metadata": {},
   "outputs": [],
   "source": [
    "def sigmoid(z):\n",
    "    \"\"\"\n",
    "    sigmoid function\n",
    "    \"\"\"\n",
    "    return 1.0/(1+np.exp(-z))"
   ]
  },
  {
   "cell_type": "code",
   "execution_count": 5,
   "metadata": {},
   "outputs": [
    {
     "data": {
      "text/plain": [
       "array([[ 1.      , -0.017612, 14.053064],\n",
       "       [ 1.      , -1.395634,  4.662541],\n",
       "       [ 1.      , -0.752157,  6.53862 ],\n",
       "       [ 1.      , -1.322371,  7.152853],\n",
       "       [ 1.      ,  0.423363, 11.054677],\n",
       "       [ 1.      ,  0.406704,  7.067335],\n",
       "       [ 1.      ,  0.667394, 12.741452],\n",
       "       [ 1.      , -2.46015 ,  6.866805],\n",
       "       [ 1.      ,  0.569411,  9.548755],\n",
       "       [ 1.      , -0.026632, 10.427743]])"
      ]
     },
     "execution_count": 5,
     "metadata": {},
     "output_type": "execute_result"
    }
   ],
   "source": [
    "# x0=1.0\n",
    "X=np.column_stack((np.ones(len(X)),X))\n",
    "X[:10]"
   ]
  },
  {
   "cell_type": "code",
   "execution_count": 5,
   "metadata": {},
   "outputs": [],
   "source": [
    "def grad_ascent(X, y, alpha=0.001, max_cycles=500):\n",
    "    X = np.mat(X) # 100 *3\n",
    "    y = np.mat(y).T # 100*1\n",
    "    m, n = X.shape\n",
    "    weights = np.ones((n, 1)) # 3*1\n",
    "    for i in range(max_cycles):\n",
    "        # w^T * x +b\n",
    "        h = sigmoid(X * weights)\n",
    "        error = y - h\n",
    "        # 3*100 100*1\n",
    "        weights += alpha * X.T * error\n",
    "    return weights"
   ]
  },
  {
   "cell_type": "code",
   "execution_count": 43,
   "metadata": {},
   "outputs": [
    {
     "data": {
      "text/plain": [
       "array([[ 4.12414349],\n",
       "       [ 0.48007329],\n",
       "       [-0.6168482 ]])"
      ]
     },
     "execution_count": 43,
     "metadata": {},
     "output_type": "execute_result"
    }
   ],
   "source": [
    "weights=grad_ascent(X,y)\n",
    "weights"
   ]
  },
  {
   "cell_type": "code",
   "execution_count": 6,
   "metadata": {},
   "outputs": [],
   "source": [
    "from matplotlib import pyplot as plt\n",
    "\n",
    "\n",
    "%matplotlib inline\n",
    "def plot_best_fit(X, y, weights):\n",
    "    fig = plt.figure()\n",
    "    ax = fig.add_subplot(111)\n",
    "    ax.scatter(X[y == 1, 1], X[y == 1, 2], s=30, c='red', marker='s')\n",
    "    ax.scatter(X[y == 0, 1], X[y == 0, 2], s=30, c='green')\n",
    "    x0 = np.arange(-3.0, 3.0, 0.1)\n",
    "    y0 = (-weights[0] - weights[1] * x0) / weights[2]\n",
    "    ax.plot(x0, y0)\n",
    "    plt.xlabel('X1')\n",
    "    plt.ylabel('X2')"
   ]
  },
  {
   "cell_type": "code",
   "execution_count": 46,
   "metadata": {},
   "outputs": [
    {
     "data": {
      "image/png": "[encoded data removed]",
      "text/plain": [
       "<Figure size 432x288 with 1 Axes>"
      ]
     },
     "metadata": {
      "needs_background": "light"
     },
     "output_type": "display_data"
    }
   ],
   "source": [
    "plot_best_fit(X,y,weights)"
   ]
  },
  {
   "cell_type": "code",
   "execution_count": 7,
   "metadata": {},
   "outputs": [],
   "source": [
    "# 随机梯度上升 一次仅采用一个样本点更新回归系数\n",
    "def stoc_grad_ascent0(X, y, alpha=0.01, max_cycles=500):\n",
    "    # X = np.mat(X) # 100 *3\n",
    "    # y = np.mat(y).T # 100*1\n",
    "    m, n = X.shape\n",
    "    weights = np.ones(n) # 3\n",
    "    for i in range(m):\n",
    "        # w^T * x +b\n",
    "        h = sigmoid(np.sum(X[i] * weights))\n",
    "        error = y[i] - h\n",
    "        # 3 \n",
    "        weights += alpha * X[i] * error\n",
    "    return weights"
   ]
  },
  {
   "cell_type": "code",
   "execution_count": 48,
   "metadata": {},
   "outputs": [
    {
     "data": {
      "text/plain": [
       "array([0.963951  , 0.9826866 , 0.49153886])"
      ]
     },
     "execution_count": 48,
     "metadata": {},
     "output_type": "execute_result"
    }
   ],
   "source": [
    "stoc_grad_ascent0(X,y)"
   ]
  },
  {
   "cell_type": "code",
   "execution_count": 8,
   "metadata": {},
   "outputs": [
    {
     "data": {
      "image/png": "[encoded data removed]",
      "text/plain": [
       "<Figure size 432x288 with 1 Axes>"
      ]
     },
     "metadata": {
      "needs_background": "light"
     },
     "output_type": "display_data"
    }
   ],
   "source": [
    "plot_best_fit(X,y,stoc_grad_ascent0(X,y,0.004))"
   ]
  },
  {
   "cell_type": "code",
   "execution_count": null,
   "metadata": {},
   "outputs": [],
   "source": [
    "# 测算迭代时间图\n"
   ]
  },
  {
   "cell_type": "code",
   "execution_count": 9,
   "metadata": {},
   "outputs": [],
   "source": [
    "# 根据迭代收敛看出，可调整alpha为随机值\n",
    "def stoc_grad_ascent1(X, y, num_iter=150):\n",
    "    m, n = X.shape\n",
    "    weights = np.ones(n)\n",
    "    for j in range(num_iter):\n",
    "        for i in range(m):\n",
    "            alpha = 4 / (1.0 + j + i) + 0.01\n",
    "            # [`low`, `high`)\n",
    "            rand_index = np.random.randint(0, m)\n",
    "            h = sigmoid(np.sum(X[rand_index] * weights))\n",
    "            error = y[rand_index] - h\n",
    "            weights += alpha * X[rand_index] * error\n",
    "    return weights"
   ]
  },
  {
   "cell_type": "code",
   "execution_count": 10,
   "metadata": {},
   "outputs": [
    {
     "data": {
      "image/png": "[encoded data removed]",
      "text/plain": [
       "<Figure size 432x288 with 1 Axes>"
      ]
     },
     "metadata": {
      "needs_background": "light"
     },
     "output_type": "display_data"
    }
   ],
   "source": [
    "plot_best_fit(X,y,stoc_grad_ascent1(X,y))"
   ]
  },
  {
   "cell_type": "code",
   "execution_count": 11,
   "metadata": {},
   "outputs": [
    {
     "data": {
      "image/png": "[encoded data removed]",
      "text/plain": [
       "<Figure size 432x288 with 1 Axes>"
      ]
     },
     "metadata": {
      "needs_background": "light"
     },
     "output_type": "display_data"
    }
   ],
   "source": [
    "# iter 500\n",
    "plot_best_fit(X,y,stoc_grad_ascent1(X,y,num_iter=500))"
   ]
  },
  {
   "cell_type": "code",
   "execution_count": 12,
   "metadata": {},
   "outputs": [],
   "source": [
    "#### 实例 从疝气病症预测病马的死亡率"
   ]
  },
  {
   "cell_type": "code",
   "execution_count": 14,
   "metadata": {},
   "outputs": [
    {
     "name": "stdout",
     "output_type": "stream",
     "text": [
      "2.000000\t1.000000\t38.500000\t66.000000\t28.000000\t3.000000\t3.000000\t0.000000\t2.000000\t5.000000\t4.000000\t4.000000\t0.000000\t0.000000\t0.000000\t3.000000\t5.000000\t45.000000\t8.400000\t0.000000\t0.000000\t0.000000\r",
      "\r\n",
      "1.000000\t1.000000\t39.200000\t88.000000\t20.000000\t0.000000\t0.000000\t4.000000\t1.000000\t3.000000\t4.000000\t2.000000\t0.000000\t0.000000\t0.000000\t4.000000\t2.000000\t50.000000\t85.000000\t2.000000\t2.000000\t0.000000\r",
      "\r\n"
     ]
    }
   ],
   "source": [
    "! head -n 2 datasets/horseColicTraining.txt"
   ]
  },
  {
   "cell_type": "code",
   "execution_count": 30,
   "metadata": {},
   "outputs": [
    {
     "data": {
      "text/html": [
       "<div>\n",
       "<style scoped>\n",
       "    .dataframe tbody tr th:only-of-type {\n",
       "        vertical-align: middle;\n",
       "    }\n",
       "\n",
       "    .dataframe tbody tr th {\n",
       "        vertical-align: top;\n",
       "    }\n",
       "\n",
       "    .dataframe thead th {\n",
       "        text-align: right;\n",
       "    }\n",
       "</style>\n",
       "<table border=\"1\" class=\"dataframe\">\n",
       "  <thead>\n",
       "    <tr style=\"text-align: right;\">\n",
       "      <th></th>\n",
       "      <th>0</th>\n",
       "      <th>1</th>\n",
       "      <th>2</th>\n",
       "      <th>3</th>\n",
       "      <th>4</th>\n",
       "      <th>5</th>\n",
       "      <th>6</th>\n",
       "      <th>7</th>\n",
       "      <th>8</th>\n",
       "      <th>9</th>\n",
       "      <th>...</th>\n",
       "      <th>12</th>\n",
       "      <th>13</th>\n",
       "      <th>14</th>\n",
       "      <th>15</th>\n",
       "      <th>16</th>\n",
       "      <th>17</th>\n",
       "      <th>18</th>\n",
       "      <th>19</th>\n",
       "      <th>20</th>\n",
       "      <th>21</th>\n",
       "    </tr>\n",
       "  </thead>\n",
       "  <tbody>\n",
       "    <tr>\n",
       "      <td>0</td>\n",
       "      <td>2.0</td>\n",
       "      <td>1.0</td>\n",
       "      <td>38.5</td>\n",
       "      <td>66.0</td>\n",
       "      <td>28.0</td>\n",
       "      <td>3.0</td>\n",
       "      <td>3.0</td>\n",
       "      <td>0.0</td>\n",
       "      <td>2.0</td>\n",
       "      <td>5.0</td>\n",
       "      <td>...</td>\n",
       "      <td>0.0</td>\n",
       "      <td>0.0</td>\n",
       "      <td>0.0</td>\n",
       "      <td>3.0</td>\n",
       "      <td>5.0</td>\n",
       "      <td>45.0</td>\n",
       "      <td>8.4</td>\n",
       "      <td>0.0</td>\n",
       "      <td>0.0</td>\n",
       "      <td>0.0</td>\n",
       "    </tr>\n",
       "    <tr>\n",
       "      <td>1</td>\n",
       "      <td>1.0</td>\n",
       "      <td>1.0</td>\n",
       "      <td>39.2</td>\n",
       "      <td>88.0</td>\n",
       "      <td>20.0</td>\n",
       "      <td>0.0</td>\n",
       "      <td>0.0</td>\n",
       "      <td>4.0</td>\n",
       "      <td>1.0</td>\n",
       "      <td>3.0</td>\n",
       "      <td>...</td>\n",
       "      <td>0.0</td>\n",
       "      <td>0.0</td>\n",
       "      <td>0.0</td>\n",
       "      <td>4.0</td>\n",
       "      <td>2.0</td>\n",
       "      <td>50.0</td>\n",
       "      <td>85.0</td>\n",
       "      <td>2.0</td>\n",
       "      <td>2.0</td>\n",
       "      <td>0.0</td>\n",
       "    </tr>\n",
       "    <tr>\n",
       "      <td>2</td>\n",
       "      <td>2.0</td>\n",
       "      <td>1.0</td>\n",
       "      <td>38.3</td>\n",
       "      <td>40.0</td>\n",
       "      <td>24.0</td>\n",
       "      <td>1.0</td>\n",
       "      <td>1.0</td>\n",
       "      <td>3.0</td>\n",
       "      <td>1.0</td>\n",
       "      <td>3.0</td>\n",
       "      <td>...</td>\n",
       "      <td>0.0</td>\n",
       "      <td>0.0</td>\n",
       "      <td>0.0</td>\n",
       "      <td>1.0</td>\n",
       "      <td>1.0</td>\n",
       "      <td>33.0</td>\n",
       "      <td>6.7</td>\n",
       "      <td>0.0</td>\n",
       "      <td>0.0</td>\n",
       "      <td>1.0</td>\n",
       "    </tr>\n",
       "    <tr>\n",
       "      <td>3</td>\n",
       "      <td>1.0</td>\n",
       "      <td>9.0</td>\n",
       "      <td>39.1</td>\n",
       "      <td>164.0</td>\n",
       "      <td>84.0</td>\n",
       "      <td>4.0</td>\n",
       "      <td>1.0</td>\n",
       "      <td>6.0</td>\n",
       "      <td>2.0</td>\n",
       "      <td>2.0</td>\n",
       "      <td>...</td>\n",
       "      <td>1.0</td>\n",
       "      <td>2.0</td>\n",
       "      <td>5.0</td>\n",
       "      <td>3.0</td>\n",
       "      <td>0.0</td>\n",
       "      <td>48.0</td>\n",
       "      <td>7.2</td>\n",
       "      <td>3.0</td>\n",
       "      <td>5.3</td>\n",
       "      <td>0.0</td>\n",
       "    </tr>\n",
       "    <tr>\n",
       "      <td>4</td>\n",
       "      <td>2.0</td>\n",
       "      <td>1.0</td>\n",
       "      <td>37.3</td>\n",
       "      <td>104.0</td>\n",
       "      <td>35.0</td>\n",
       "      <td>0.0</td>\n",
       "      <td>0.0</td>\n",
       "      <td>6.0</td>\n",
       "      <td>2.0</td>\n",
       "      <td>0.0</td>\n",
       "      <td>...</td>\n",
       "      <td>0.0</td>\n",
       "      <td>0.0</td>\n",
       "      <td>0.0</td>\n",
       "      <td>0.0</td>\n",
       "      <td>0.0</td>\n",
       "      <td>74.0</td>\n",
       "      <td>7.4</td>\n",
       "      <td>0.0</td>\n",
       "      <td>0.0</td>\n",
       "      <td>0.0</td>\n",
       "    </tr>\n",
       "  </tbody>\n",
       "</table>\n",
       "<p>5 rows × 22 columns</p>\n",
       "</div>"
      ],
      "text/plain": [
       "    0    1     2      3     4    5    6    7    8    9   ...   12   13   14  \\\n",
       "0  2.0  1.0  38.5   66.0  28.0  3.0  3.0  0.0  2.0  5.0  ...  0.0  0.0  0.0   \n",
       "1  1.0  1.0  39.2   88.0  20.0  0.0  0.0  4.0  1.0  3.0  ...  0.0  0.0  0.0   \n",
       "2  2.0  1.0  38.3   40.0  24.0  1.0  1.0  3.0  1.0  3.0  ...  0.0  0.0  0.0   \n",
       "3  1.0  9.0  39.1  164.0  84.0  4.0  1.0  6.0  2.0  2.0  ...  1.0  2.0  5.0   \n",
       "4  2.0  1.0  37.3  104.0  35.0  0.0  0.0  6.0  2.0  0.0  ...  0.0  0.0  0.0   \n",
       "\n",
       "    15   16    17    18   19   20   21  \n",
       "0  3.0  5.0  45.0   8.4  0.0  0.0  0.0  \n",
       "1  4.0  2.0  50.0  85.0  2.0  2.0  0.0  \n",
       "2  1.0  1.0  33.0   6.7  0.0  0.0  1.0  \n",
       "3  3.0  0.0  48.0   7.2  3.0  5.3  0.0  \n",
       "4  0.0  0.0  74.0   7.4  0.0  0.0  0.0  \n",
       "\n",
       "[5 rows x 22 columns]"
      ]
     },
     "execution_count": 30,
     "metadata": {},
     "output_type": "execute_result"
    }
   ],
   "source": [
    "train_data=pd.read_csv(\"datasets/horseColicTraining.txt\",sep='\\t',header=None)\n",
    "train_data.head()"
   ]
  },
  {
   "cell_type": "code",
   "execution_count": 31,
   "metadata": {},
   "outputs": [
    {
     "data": {
      "text/html": [
       "<div>\n",
       "<style scoped>\n",
       "    .dataframe tbody tr th:only-of-type {\n",
       "        vertical-align: middle;\n",
       "    }\n",
       "\n",
       "    .dataframe tbody tr th {\n",
       "        vertical-align: top;\n",
       "    }\n",
       "\n",
       "    .dataframe thead th {\n",
       "        text-align: right;\n",
       "    }\n",
       "</style>\n",
       "<table border=\"1\" class=\"dataframe\">\n",
       "  <thead>\n",
       "    <tr style=\"text-align: right;\">\n",
       "      <th></th>\n",
       "      <th>0</th>\n",
       "      <th>1</th>\n",
       "      <th>2</th>\n",
       "      <th>3</th>\n",
       "      <th>4</th>\n",
       "      <th>5</th>\n",
       "      <th>6</th>\n",
       "      <th>7</th>\n",
       "      <th>8</th>\n",
       "      <th>9</th>\n",
       "      <th>...</th>\n",
       "      <th>12</th>\n",
       "      <th>13</th>\n",
       "      <th>14</th>\n",
       "      <th>15</th>\n",
       "      <th>16</th>\n",
       "      <th>17</th>\n",
       "      <th>18</th>\n",
       "      <th>19</th>\n",
       "      <th>20</th>\n",
       "      <th>21</th>\n",
       "    </tr>\n",
       "  </thead>\n",
       "  <tbody>\n",
       "    <tr>\n",
       "      <td>0</td>\n",
       "      <td>2</td>\n",
       "      <td>1</td>\n",
       "      <td>38.5</td>\n",
       "      <td>54</td>\n",
       "      <td>20</td>\n",
       "      <td>0</td>\n",
       "      <td>1</td>\n",
       "      <td>2</td>\n",
       "      <td>2</td>\n",
       "      <td>3</td>\n",
       "      <td>...</td>\n",
       "      <td>2</td>\n",
       "      <td>2</td>\n",
       "      <td>5.9</td>\n",
       "      <td>0</td>\n",
       "      <td>2</td>\n",
       "      <td>42.0</td>\n",
       "      <td>6.3</td>\n",
       "      <td>0</td>\n",
       "      <td>0.0</td>\n",
       "      <td>1</td>\n",
       "    </tr>\n",
       "    <tr>\n",
       "      <td>1</td>\n",
       "      <td>2</td>\n",
       "      <td>1</td>\n",
       "      <td>37.6</td>\n",
       "      <td>48</td>\n",
       "      <td>36</td>\n",
       "      <td>0</td>\n",
       "      <td>0</td>\n",
       "      <td>1</td>\n",
       "      <td>1</td>\n",
       "      <td>0</td>\n",
       "      <td>...</td>\n",
       "      <td>0</td>\n",
       "      <td>0</td>\n",
       "      <td>0.0</td>\n",
       "      <td>0</td>\n",
       "      <td>0</td>\n",
       "      <td>44.0</td>\n",
       "      <td>6.3</td>\n",
       "      <td>1</td>\n",
       "      <td>5.0</td>\n",
       "      <td>1</td>\n",
       "    </tr>\n",
       "    <tr>\n",
       "      <td>2</td>\n",
       "      <td>1</td>\n",
       "      <td>1</td>\n",
       "      <td>37.7</td>\n",
       "      <td>44</td>\n",
       "      <td>28</td>\n",
       "      <td>0</td>\n",
       "      <td>4</td>\n",
       "      <td>3</td>\n",
       "      <td>2</td>\n",
       "      <td>5</td>\n",
       "      <td>...</td>\n",
       "      <td>1</td>\n",
       "      <td>1</td>\n",
       "      <td>0.0</td>\n",
       "      <td>3</td>\n",
       "      <td>5</td>\n",
       "      <td>45.0</td>\n",
       "      <td>70.0</td>\n",
       "      <td>3</td>\n",
       "      <td>2.0</td>\n",
       "      <td>1</td>\n",
       "    </tr>\n",
       "    <tr>\n",
       "      <td>3</td>\n",
       "      <td>1</td>\n",
       "      <td>1</td>\n",
       "      <td>37.0</td>\n",
       "      <td>56</td>\n",
       "      <td>24</td>\n",
       "      <td>3</td>\n",
       "      <td>1</td>\n",
       "      <td>4</td>\n",
       "      <td>2</td>\n",
       "      <td>4</td>\n",
       "      <td>...</td>\n",
       "      <td>1</td>\n",
       "      <td>1</td>\n",
       "      <td>0.0</td>\n",
       "      <td>0</td>\n",
       "      <td>0</td>\n",
       "      <td>35.0</td>\n",
       "      <td>61.0</td>\n",
       "      <td>3</td>\n",
       "      <td>2.0</td>\n",
       "      <td>0</td>\n",
       "    </tr>\n",
       "    <tr>\n",
       "      <td>4</td>\n",
       "      <td>2</td>\n",
       "      <td>1</td>\n",
       "      <td>38.0</td>\n",
       "      <td>42</td>\n",
       "      <td>12</td>\n",
       "      <td>3</td>\n",
       "      <td>0</td>\n",
       "      <td>3</td>\n",
       "      <td>1</td>\n",
       "      <td>1</td>\n",
       "      <td>...</td>\n",
       "      <td>0</td>\n",
       "      <td>0</td>\n",
       "      <td>0.0</td>\n",
       "      <td>0</td>\n",
       "      <td>2</td>\n",
       "      <td>37.0</td>\n",
       "      <td>5.8</td>\n",
       "      <td>0</td>\n",
       "      <td>0.0</td>\n",
       "      <td>1</td>\n",
       "    </tr>\n",
       "  </tbody>\n",
       "</table>\n",
       "<p>5 rows × 22 columns</p>\n",
       "</div>"
      ],
      "text/plain": [
       "   0   1     2   3   4   5   6   7   8   9   ...  12  13   14  15  16    17  \\\n",
       "0   2   1  38.5  54  20   0   1   2   2   3  ...   2   2  5.9   0   2  42.0   \n",
       "1   2   1  37.6  48  36   0   0   1   1   0  ...   0   0  0.0   0   0  44.0   \n",
       "2   1   1  37.7  44  28   0   4   3   2   5  ...   1   1  0.0   3   5  45.0   \n",
       "3   1   1  37.0  56  24   3   1   4   2   4  ...   1   1  0.0   0   0  35.0   \n",
       "4   2   1  38.0  42  12   3   0   3   1   1  ...   0   0  0.0   0   2  37.0   \n",
       "\n",
       "     18  19   20  21  \n",
       "0   6.3   0  0.0   1  \n",
       "1   6.3   1  5.0   1  \n",
       "2  70.0   3  2.0   1  \n",
       "3  61.0   3  2.0   0  \n",
       "4   5.8   0  0.0   1  \n",
       "\n",
       "[5 rows x 22 columns]"
      ]
     },
     "execution_count": 31,
     "metadata": {},
     "output_type": "execute_result"
    }
   ],
   "source": [
    "test_data=pd.read_csv(\"datasets/horseColicTest.txt\",sep='\\t',header=None)\n",
    "test_data.head()"
   ]
  },
  {
   "cell_type": "code",
   "execution_count": 24,
   "metadata": {},
   "outputs": [],
   "source": [
    "def classify_vector(z,weights):\n",
    "    prob=sigmoid(np.sum(z*weights))\n",
    "    return 1 if prob>0.5 else 0"
   ]
  },
  {
   "cell_type": "code",
   "execution_count": 32,
   "metadata": {},
   "outputs": [],
   "source": [
    "# 合并训练集和测试集\n",
    "train_data=train_data.to_numpy()\n",
    "test_data=test_data.to_numpy()"
   ]
  },
  {
   "cell_type": "code",
   "execution_count": 29,
   "metadata": {},
   "outputs": [
    {
     "data": {
      "text/plain": [
       "(array([[ 2. ,  1. , 38.5, ...,  8.4,  0. ,  0. ],\n",
       "        [ 1. ,  1. , 39.2, ..., 85. ,  2. ,  2. ],\n",
       "        [ 2. ,  1. , 38.3, ...,  6.7,  0. ,  0. ],\n",
       "        ...,\n",
       "        [ 1. ,  1. , 37.5, ...,  6.8,  0. ,  0. ],\n",
       "        [ 1. ,  1. , 36.5, ...,  6. ,  3. ,  3.4],\n",
       "        [ 1. ,  1. , 37.2, ..., 62. ,  1. ,  1. ]]),\n",
       " array([0., 0., 1., 0., 0., 1., 1., 0., 0., 1., 1., 1., 1., 0., 1., 0., 0.,\n",
       "        1., 1., 1., 1., 1., 1., 1., 1., 1., 1., 1., 0., 1., 0., 0., 1., 1.,\n",
       "        1., 0., 0., 1., 1., 0., 0., 1., 1., 0., 0., 0., 1., 1., 0., 0., 1.,\n",
       "        0., 1., 1., 0., 0., 1., 0., 0., 0., 1., 1., 0., 0., 1., 1., 1., 1.,\n",
       "        1., 1., 0., 1., 0., 0., 0., 0., 1., 1., 0., 1., 0., 1., 1., 0., 1.,\n",
       "        1., 0., 0., 1., 1., 1., 0., 1., 0., 1., 1., 1., 0., 1., 1., 1., 0.,\n",
       "        1., 1., 0., 1., 1., 1., 0., 0., 0., 1., 1., 0., 1., 1., 1., 0., 1.,\n",
       "        1., 1., 0., 1., 0., 0., 1., 1., 1., 0., 1., 0., 0., 1., 0., 0., 0.,\n",
       "        1., 1., 1., 1., 0., 0., 1., 0., 1., 1., 0., 1., 1., 1., 0., 1., 1.,\n",
       "        1., 1., 1., 0., 1., 1., 1., 0., 1., 0., 1., 0., 1., 1., 1., 0., 1.,\n",
       "        0., 1., 0., 0., 1., 1., 0., 1., 0., 0., 1., 0., 1., 1., 1., 1., 1.,\n",
       "        1., 1., 1., 1., 1., 0., 1., 1., 0., 0., 1., 1., 1., 0., 0., 1., 1.,\n",
       "        0., 1., 0., 0., 1., 0., 0., 1., 1., 1., 1., 1., 1., 0., 1., 0., 1.,\n",
       "        1., 1., 1., 1., 0., 1., 0., 1., 1., 0., 1., 1., 1., 0., 1., 1., 0.,\n",
       "        0., 0., 1., 0., 1., 1., 0., 1., 0., 1., 1., 0., 0., 0., 1., 1., 0.,\n",
       "        0., 0., 1., 0., 1., 1., 1., 0., 1., 0., 1., 1., 1., 1., 0., 1., 1.,\n",
       "        0., 0., 0., 0., 1., 1., 1., 1., 0., 0., 1., 1., 1., 0., 1., 1., 1.,\n",
       "        1., 0., 0., 0., 1., 0., 0., 0., 1., 0.]))"
      ]
     },
     "execution_count": 29,
     "metadata": {},
     "output_type": "execute_result"
    }
   ],
   "source": [
    "X_train,y_train=train_data[:,:-1],train_data[:,-1]\n",
    "X_train,y_train"
   ]
  },
  {
   "cell_type": "code",
   "execution_count": 33,
   "metadata": {},
   "outputs": [
    {
     "data": {
      "text/plain": [
       "(array([[ 2. ,  1. , 38.5, ...,  6.3,  0. ,  0. ],\n",
       "        [ 2. ,  1. , 37.6, ...,  6.3,  1. ,  5. ],\n",
       "        [ 1. ,  1. , 37.7, ..., 70. ,  3. ,  2. ],\n",
       "        ...,\n",
       "        [ 1. ,  1. , 38. , ..., 65. ,  3. ,  2. ],\n",
       "        [ 2. ,  1. , 38. , ...,  5.8,  0. ,  0. ],\n",
       "        [ 2. ,  1. , 37.6, ...,  6. ,  0. ,  0. ]]),\n",
       " array([1., 1., 1., 0., 1., 1., 1., 1., 1., 0., 1., 0., 0., 1., 1., 1., 1.,\n",
       "        0., 0., 0., 1., 1., 0., 0., 1., 1., 1., 1., 1., 1., 1., 1., 1., 0.,\n",
       "        1., 0., 1., 1., 1., 1., 1., 1., 1., 0., 1., 1., 1., 1., 1., 0., 0.,\n",
       "        0., 0., 1., 1., 1., 1., 0., 1., 1., 1., 0., 1., 1., 0., 1., 0.]))"
      ]
     },
     "execution_count": 33,
     "metadata": {},
     "output_type": "execute_result"
    }
   ],
   "source": [
    "X_test,y_test=test_data[:,:-1],test_data[:,-1]\n",
    "X_test,y_test"
   ]
  },
  {
   "cell_type": "code",
   "execution_count": 34,
   "metadata": {},
   "outputs": [
    {
     "name": "stderr",
     "output_type": "stream",
     "text": [
      "/work/anaconda3/lib/python3.7/site-packages/ipykernel_launcher.py:5: RuntimeWarning: overflow encountered in exp\n",
      "  \"\"\"\n"
     ]
    },
    {
     "data": {
      "text/plain": [
       "array([ 44.5557512 ,  -4.07561529,   2.36244392,  -0.93072483,\n",
       "         0.56617158, -11.97522686,  -4.31511345, -17.48562802,\n",
       "         1.31975263, -15.72426867,  25.34898371, -11.56106191,\n",
       "        34.20705785,  -4.97572371,  -9.05918492,  11.67340908,\n",
       "        -7.98989052,  -0.71299862,   1.24079454,  -1.67173241,\n",
       "        -8.25610897])"
      ]
     },
     "execution_count": 34,
     "metadata": {},
     "output_type": "execute_result"
    }
   ],
   "source": [
    "train_weights=stoc_grad_ascent1(X_train,y_train,num_iter=500)\n",
    "train_weights"
   ]
  },
  {
   "cell_type": "code",
   "execution_count": 39,
   "metadata": {},
   "outputs": [
    {
     "data": {
      "text/plain": [
       "array([1, 1, 1, 1, 0, 1, 1, 1, 1, 0, 1, 0, 0, 1, 1, 1, 1, 0, 0, 1, 0, 1,\n",
       "       0, 0, 1, 1, 1, 0, 1, 1, 1, 0, 0, 0, 0, 0, 1, 1, 1, 1, 1, 1, 0, 0,\n",
       "       0, 0, 1, 0, 1, 0, 0, 1, 1, 0, 1, 1, 1, 1, 1, 0, 1, 0, 1, 1, 1, 1,\n",
       "       1])"
      ]
     },
     "execution_count": 39,
     "metadata": {},
     "output_type": "execute_result"
    }
   ],
   "source": [
    "y_pred=np.array([classify_vector(x,train_weights) for x in X_test])\n",
    "y_pred"
   ]
  },
  {
   "cell_type": "code",
   "execution_count": 40,
   "metadata": {},
   "outputs": [
    {
     "data": {
      "text/plain": [
       "array([ True,  True,  True, False, False,  True,  True,  True,  True,\n",
       "        True,  True,  True,  True,  True,  True,  True,  True,  True,\n",
       "        True, False, False,  True,  True,  True,  True,  True,  True,\n",
       "       False,  True,  True,  True, False, False,  True, False,  True,\n",
       "        True,  True,  True,  True,  True,  True, False,  True, False,\n",
       "       False,  True, False,  True,  True,  True, False, False, False,\n",
       "        True,  True,  True, False,  True, False,  True,  True,  True,\n",
       "        True, False,  True, False])"
      ]
     },
     "execution_count": 40,
     "metadata": {},
     "output_type": "execute_result"
    }
   ],
   "source": [
    "y_test==y_pred"
   ]
  },
  {
   "cell_type": "code",
   "execution_count": 43,
   "metadata": {},
   "outputs": [
    {
     "name": "stdout",
     "output_type": "stream",
     "text": [
      "              precision    recall  f1-score   support\n",
      "\n",
      "         0.0       0.52      0.65      0.58        20\n",
      "         1.0       0.83      0.74      0.79        47\n",
      "\n",
      "    accuracy                           0.72        67\n",
      "   macro avg       0.68      0.70      0.68        67\n",
      "weighted avg       0.74      0.72      0.72        67\n",
      "\n"
     ]
    }
   ],
   "source": [
    "from sklearn.metrics import classification_report\n",
    "print(classification_report(y_test,y_pred))"
   ]
  },
  {
   "cell_type": "markdown",
   "metadata": {},
   "source": [
    "#### 网上算法"
   ]
  },
  {
   "cell_type": "code",
   "execution_count": null,
   "metadata": {},
   "outputs": [],
   "source": []
  }
 ],
 "metadata": {
  "kernelspec": {
   "display_name": "Python 3",
   "language": "python",
   "name": "python3"
  },
  "language_info": {
   "codemirror_mode": {
    "name": "ipython",
    "version": 3
   },
   "file_extension": ".py",
   "mimetype": "text/x-python",
   "name": "python",
   "nbconvert_exporter": "python",
   "pygments_lexer": "ipython3",
   "version": "3.7.4"
  }
 },
 "nbformat": 4,
 "nbformat_minor": 2
}
