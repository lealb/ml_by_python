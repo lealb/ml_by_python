{
 "cells": [
  {
   "cell_type": "markdown",
   "metadata": {},
   "source": [
    "### 集成学习"
   ]
  },
  {
   "cell_type": "markdown",
   "metadata": {},
   "source": [
    "#### boosting- Adaboosting"
   ]
  },
  {
   "cell_type": "code",
   "execution_count": 112,
   "metadata": {},
   "outputs": [],
   "source": [
    "import numpy as np\n",
    "import pandas as pd\n",
    "from matplotlib import pyplot as plt\n",
    "import seaborn as sns\n",
    "%matplotlib inline"
   ]
  },
  {
   "cell_type": "code",
   "execution_count": 113,
   "metadata": {},
   "outputs": [],
   "source": [
    "sns.set_style(\"whitegrid\")"
   ]
  },
  {
   "cell_type": "code",
   "execution_count": 114,
   "metadata": {},
   "outputs": [],
   "source": [
    "def get_simple_data():\n",
    "    X = [[1, 2.1], [2, 1.1], [1.3, 1], [1, 1], [2, 1]]\n",
    "    y = [1.0, 1.0, -1, -1, 1]\n",
    "    return X, y"
   ]
  },
  {
   "cell_type": "code",
   "execution_count": 115,
   "metadata": {},
   "outputs": [
    {
     "data": {
      "text/plain": [
       "([[1, 2.1], [2, 1.1], [1.3, 1], [1, 1], [2, 1]], [1.0, 1.0, -1, -1, 1])"
      ]
     },
     "execution_count": 115,
     "metadata": {},
     "output_type": "execute_result"
    }
   ],
   "source": [
    "X,y=get_simple_data()\n",
    "X,y"
   ]
  },
  {
   "cell_type": "code",
   "execution_count": 116,
   "metadata": {},
   "outputs": [],
   "source": [
    "X=np.array(X)"
   ]
  },
  {
   "cell_type": "code",
   "execution_count": 117,
   "metadata": {},
   "outputs": [],
   "source": [
    "y=np.array(y)"
   ]
  },
  {
   "cell_type": "code",
   "execution_count": 118,
   "metadata": {},
   "outputs": [
    {
     "data": {
      "text/plain": [
       "[<matplotlib.lines.Line2D at 0x7f77c4b02ad0>]"
      ]
     },
     "execution_count": 118,
     "metadata": {},
     "output_type": "execute_result"
    },
    {
     "data": {
      "image/png": "[encoded data removed]",
      "text/plain": [
       "<Figure size 432x288 with 1 Axes>"
      ]
     },
     "metadata": {},
     "output_type": "display_data"
    }
   ],
   "source": [
    "plt.plot(X[y==1,0],X[y==1,1],color='r',marker='o')\n",
    "plt.plot(X[y==-1,0],X[y==-1,1],color='b',marker='+')"
   ]
  },
  {
   "cell_type": "code",
   "execution_count": 119,
   "metadata": {},
   "outputs": [
    {
     "data": {
      "text/plain": [
       "array([[1.3, 1. ],\n",
       "       [1. , 1. ]])"
      ]
     },
     "execution_count": 119,
     "metadata": {},
     "output_type": "execute_result"
    }
   ],
   "source": [
    "X[y==-1]"
   ]
  },
  {
   "cell_type": "code",
   "execution_count": 120,
   "metadata": {},
   "outputs": [],
   "source": [
    "def stump_classify(X_Mar, dimen, thresh_val, thresh_ineq):\n",
    "    res = np.ones((np.shape(X_Mar)[0], 1))\n",
    "    if thresh_ineq == 'lt':\n",
    "        res[X_Mar[:, dimen] <= thresh_val] = -1.0\n",
    "    else:\n",
    "        res[X_Mar[:, dimen] > thresh_val] = -1.0\n",
    "    return res"
   ]
  },
  {
   "cell_type": "code",
   "execution_count": 121,
   "metadata": {},
   "outputs": [],
   "source": [
    "def build_strump(X, y, D):\n",
    "    \"\"\"\n",
    "        X: 特征\n",
    "        y: 标签\n",
    "    \"\"\"\n",
    "    X = np.mat(X)\n",
    "    y = np.mat(y).T\n",
    "    m, n = np.shape(X)\n",
    "    num_steps = 10.0\n",
    "    # 最佳单层决策树\n",
    "    best_stump = {}\n",
    "    best_class_est = np.mat(np.zeros((m, 1)))\n",
    "    min_error = np.inf\n",
    "    for i in range(n):\n",
    "        range_min = X[:, i].min()\n",
    "        range_max = X[:, i].max()\n",
    "        step_size = (range_max - range_min) / num_steps\n",
    "        for j in range(-1, int(num_steps) + 1):\n",
    "            for inequal in ['lt', 'gt']:\n",
    "                thresh_val = (range_min + j * step_size)\n",
    "                pred_vals = stump_classify(X, i, thresh_val, inequal)\n",
    "                error_arr = np.mat(np.ones((m, 1)))\n",
    "                error_arr[pred_vals == y] = 0\n",
    "                weight = D.T * error_arr\n",
    "\n",
    "                # 权重误差小于min,return\n",
    "                if weight < min_error:\n",
    "                    min_error = weight\n",
    "                    best_class_est = pred_vals.copy()\n",
    "                    best_stump['dim'] = i\n",
    "                    best_stump['thresh'] = thresh_val\n",
    "                    best_stump['ineq'] = inequal\n",
    "    return best_stump, min_error, best_class_est"
   ]
  },
  {
   "cell_type": "code",
   "execution_count": 122,
   "metadata": {},
   "outputs": [
    {
     "data": {
      "text/plain": [
       "matrix([[0.2],\n",
       "        [0.2],\n",
       "        [0.2],\n",
       "        [0.2],\n",
       "        [0.2]])"
      ]
     },
     "execution_count": 122,
     "metadata": {},
     "output_type": "execute_result"
    }
   ],
   "source": [
    "D=np.mat(np.ones((5,1))/5)\n",
    "D"
   ]
  },
  {
   "cell_type": "code",
   "execution_count": 123,
   "metadata": {},
   "outputs": [
    {
     "data": {
      "text/plain": [
       "({'dim': 0, 'thresh': 1.3, 'ineq': 'lt'}, matrix([[0.2]]), array([[-1.],\n",
       "        [ 1.],\n",
       "        [-1.],\n",
       "        [-1.],\n",
       "        [ 1.]]))"
      ]
     },
     "execution_count": 123,
     "metadata": {},
     "output_type": "execute_result"
    }
   ],
   "source": [
    "build_strump(X,y,D)"
   ]
  },
  {
   "cell_type": "markdown",
   "metadata": {},
   "source": [
    "##### 完整的adaboost\n",
    "1. 初始化权值\n",
    "2. 遍历所有特征\n",
    "    - 2.1 使用初始化权值分布的训练集学习得到基学习器\n",
    "    - 2.2 计算基学习器的误差率\n",
    "    - 2.3 计算G(m)的系数\n",
    "    - 2.4 更新样本权重系数\n",
    "3. 输出模型"
   ]
  },
  {
   "cell_type": "code",
   "execution_count": 124,
   "metadata": {},
   "outputs": [],
   "source": [
    "def adaboost(X, y, iter_nums=40):\n",
    "    weak_class = []\n",
    "    m = np.shape(X)[0]\n",
    "    # 1. init D\n",
    "    D = np.mat(np.ones((m, 1)) / m)\n",
    "    agg_class_est = np.mat(np.zeros((m, 1)))\n",
    "    for i in range(iter_nums):\n",
    "        best_stump, error, class_est = build_strump(X, y, D)\n",
    "        #print(\"D.T: \", D.T)\n",
    "        #calc alpha, throw in max(error,eps) to account for error=0\n",
    "        alpha = float(0.5 * np.log((1.0 - error) / max(error, 1e-16)))\n",
    "        #print(\"alpha:\\n\", alpha)\n",
    "        best_stump['alpha'] = alpha\n",
    "        #store Stump Params in Array\n",
    "        weak_class.append(best_stump)\n",
    "        #print(\"class_est:\", class_est.T)\n",
    "        #exponent for D calc, getting messy\n",
    "        expon = np.multiply(-1 * alpha * np.mat(y).T, class_est)\n",
    "        #Calc New D for next iteration\n",
    "        D = np.multiply(D, np.exp(expon))\n",
    "        D /= D.sum()\n",
    "        #calc training error of all classifiers, if this is 0 quit for loop early (use break)\n",
    "        agg_class_est += alpha * class_est\n",
    "        #print(\"agg_class_est:\", agg_class_est.T)\n",
    "        agg_errors = np.multiply(\n",
    "            np.sign(agg_class_est) != np.mat(y).T, np.ones((m, 1)))\n",
    "        # print(\"agg_errors:\",agg_errors)\n",
    "        error_rate = agg_errors.sum() / m\n",
    "        #print(\"total_error:\", error_rate)\n",
    "        if error_rate == 0.0:\n",
    "            break\n",
    "    return weak_class, agg_class_est"
   ]
  },
  {
   "cell_type": "code",
   "execution_count": 125,
   "metadata": {},
   "outputs": [
    {
     "data": {
      "text/plain": [
       "([{'dim': 0, 'thresh': 1.3, 'ineq': 'lt', 'alpha': 0.6931471805599453},\n",
       "  {'dim': 1, 'thresh': 1.0, 'ineq': 'lt', 'alpha': 0.9729550745276565},\n",
       "  {'dim': 0, 'thresh': 0.9, 'ineq': 'lt', 'alpha': 0.8958797346140273}],\n",
       " matrix([[ 1.17568763],\n",
       "         [ 2.56198199],\n",
       "         [-0.77022252],\n",
       "         [-0.77022252],\n",
       "         [ 0.61607184]]))"
      ]
     },
     "execution_count": 125,
     "metadata": {},
     "output_type": "execute_result"
    }
   ],
   "source": [
    "weak_class, agg_class_est=adaboost(X,y,9)\n",
    "weak_class, agg_class_est"
   ]
  },
  {
   "cell_type": "code",
   "execution_count": 126,
   "metadata": {},
   "outputs": [],
   "source": [
    "def adaboost_classify(X, classifier_arr):\n",
    "    # do stuff similar to last aggClassEst in adaBoostTrainDS\n",
    "    X = np.mat(X)  #\n",
    "    m = np.shape(X)[0]\n",
    "    agg_class_est = np.mat(np.zeros((m, 1)))\n",
    "    for i in range(len(classifier_arr)):\n",
    "        class_est = stump_classify(X,classifier_arr[i]['dim'],\\\n",
    "                                 classifier_arr[i]['thresh'],\\\n",
    "                                 classifier_arr[i]['ineq'])#call stump classify\n",
    "        agg_class_est += classifier_arr[i]['alpha'] * class_est\n",
    "        #print(agg_class_est)\n",
    "    return np.sign(agg_class_est)"
   ]
  },
  {
   "cell_type": "code",
   "execution_count": 127,
   "metadata": {},
   "outputs": [
    {
     "data": {
      "text/plain": [
       "matrix([[ 1.],\n",
       "        [ 1.],\n",
       "        [-1.],\n",
       "        [-1.],\n",
       "        [ 1.]])"
      ]
     },
     "execution_count": 127,
     "metadata": {},
     "output_type": "execute_result"
    }
   ],
   "source": [
    "y_pred=adaboost_classify(X,weak_class)\n",
    "y_pred"
   ]
  },
  {
   "cell_type": "code",
   "execution_count": 128,
   "metadata": {},
   "outputs": [
    {
     "data": {
      "text/plain": [
       "matrix([[ 1.],\n",
       "        [ 1.],\n",
       "        [-1.],\n",
       "        [-1.],\n",
       "        [ 1.]])"
      ]
     },
     "execution_count": 128,
     "metadata": {},
     "output_type": "execute_result"
    }
   ],
   "source": [
    "y_pred"
   ]
  },
  {
   "cell_type": "code",
   "execution_count": 129,
   "metadata": {},
   "outputs": [
    {
     "data": {
      "text/plain": [
       "array([ 1.,  1., -1., -1.,  1.])"
      ]
     },
     "execution_count": 129,
     "metadata": {},
     "output_type": "execute_result"
    }
   ],
   "source": [
    "y"
   ]
  },
  {
   "cell_type": "code",
   "execution_count": 130,
   "metadata": {},
   "outputs": [
    {
     "data": {
      "text/plain": [
       "matrix([[-1.]])"
      ]
     },
     "execution_count": 130,
     "metadata": {},
     "output_type": "execute_result"
    }
   ],
   "source": [
    "adaboost_classify([0,0],weak_class)"
   ]
  },
  {
   "cell_type": "code",
   "execution_count": 131,
   "metadata": {},
   "outputs": [
    {
     "data": {
      "text/plain": [
       "matrix([[ 1.],\n",
       "        [-1.]])"
      ]
     },
     "execution_count": 131,
     "metadata": {},
     "output_type": "execute_result"
    }
   ],
   "source": [
    "adaboost_classify([[5,5],[0,0]],weak_class)"
   ]
  },
  {
   "cell_type": "code",
   "execution_count": 132,
   "metadata": {},
   "outputs": [
    {
     "name": "stdout",
     "output_type": "stream",
     "text": [
      "dating_test1.txt  email\t\t      horseColicTraining.txt  svm_RBF2.txt\r\n",
      "dating_test.txt   horse-colic.data    housing.csv\t      svm_RBF.txt\r\n",
      "digits\t\t  horseColicTest.txt  play\t\t      svm.txt\r\n"
     ]
    }
   ],
   "source": [
    "!ls datasets/"
   ]
  },
  {
   "cell_type": "code",
   "execution_count": 133,
   "metadata": {},
   "outputs": [],
   "source": [
    "horse_train=pd.read_csv(\"datasets/horseColicTraining.txt\",sep='\\t',header=None).to_numpy()\n",
    "X_train,y_train=horse_train[:,:-1],horse_train[:,-1]"
   ]
  },
  {
   "cell_type": "code",
   "execution_count": 134,
   "metadata": {},
   "outputs": [],
   "source": [
    "def get_data(file_path):\n",
    "    horse_train = pd.read_csv(file_path, sep='\\t', header=None).to_numpy()\n",
    "    X, y = horse_train[:, :-1], horse_train[:, -1]\n",
    "    y[y == 0] = -1\n",
    "    return X, y"
   ]
  },
  {
   "cell_type": "code",
   "execution_count": 135,
   "metadata": {},
   "outputs": [
    {
     "data": {
      "text/plain": [
       "(array([[ 2. ,  1. , 38.5, ...,  8.4,  0. ,  0. ],\n",
       "        [ 1. ,  1. , 39.2, ..., 85. ,  2. ,  2. ],\n",
       "        [ 2. ,  1. , 38.3, ...,  6.7,  0. ,  0. ],\n",
       "        ...,\n",
       "        [ 1. ,  1. , 37.5, ...,  6.8,  0. ,  0. ],\n",
       "        [ 1. ,  1. , 36.5, ...,  6. ,  3. ,  3.4],\n",
       "        [ 1. ,  1. , 37.2, ..., 62. ,  1. ,  1. ]]),\n",
       " array([-1., -1.,  1., -1., -1.,  1.,  1., -1., -1.,  1.,  1.,  1.,  1.,\n",
       "        -1.,  1., -1., -1.,  1.,  1.,  1.,  1.,  1.,  1.,  1.,  1.,  1.,\n",
       "         1.,  1., -1.,  1., -1., -1.,  1.,  1.,  1., -1., -1.,  1.,  1.,\n",
       "        -1., -1.,  1.,  1., -1., -1., -1.,  1.,  1., -1., -1.,  1., -1.,\n",
       "         1.,  1., -1., -1.,  1., -1., -1., -1.,  1.,  1., -1., -1.,  1.,\n",
       "         1.,  1.,  1.,  1.,  1., -1.,  1., -1., -1., -1., -1.,  1.,  1.,\n",
       "        -1.,  1., -1.,  1.,  1., -1.,  1.,  1., -1., -1.,  1.,  1.,  1.,\n",
       "        -1.,  1., -1.,  1.,  1.,  1., -1.,  1.,  1.,  1., -1.,  1.,  1.,\n",
       "        -1.,  1.,  1.,  1., -1., -1., -1.,  1.,  1., -1.,  1.,  1.,  1.,\n",
       "        -1.,  1.,  1.,  1., -1.,  1., -1., -1.,  1.,  1.,  1., -1.,  1.,\n",
       "        -1., -1.,  1., -1., -1., -1.,  1.,  1.,  1.,  1., -1., -1.,  1.,\n",
       "        -1.,  1.,  1., -1.,  1.,  1.,  1., -1.,  1.,  1.,  1.,  1.,  1.,\n",
       "        -1.,  1.,  1.,  1., -1.,  1., -1.,  1., -1.,  1.,  1.,  1., -1.,\n",
       "         1., -1.,  1., -1., -1.,  1.,  1., -1.,  1., -1., -1.,  1., -1.,\n",
       "         1.,  1.,  1.,  1.,  1.,  1.,  1.,  1.,  1.,  1., -1.,  1.,  1.,\n",
       "        -1., -1.,  1.,  1.,  1., -1., -1.,  1.,  1., -1.,  1., -1., -1.,\n",
       "         1., -1., -1.,  1.,  1.,  1.,  1.,  1.,  1., -1.,  1., -1.,  1.,\n",
       "         1.,  1.,  1.,  1., -1.,  1., -1.,  1.,  1., -1.,  1.,  1.,  1.,\n",
       "        -1.,  1.,  1., -1., -1., -1.,  1., -1.,  1.,  1., -1.,  1., -1.,\n",
       "         1.,  1., -1., -1., -1.,  1.,  1., -1., -1., -1.,  1., -1.,  1.,\n",
       "         1.,  1., -1.,  1., -1.,  1.,  1.,  1.,  1., -1.,  1.,  1., -1.,\n",
       "        -1., -1., -1.,  1.,  1.,  1.,  1., -1., -1.,  1.,  1.,  1., -1.,\n",
       "         1.,  1.,  1.,  1., -1., -1., -1.,  1., -1., -1., -1.,  1., -1.]))"
      ]
     },
     "execution_count": 135,
     "metadata": {},
     "output_type": "execute_result"
    }
   ],
   "source": [
    "X_train,y_train=get_data(\"datasets/horseColicTraining.txt\")\n",
    "X_train,y_train"
   ]
  },
  {
   "cell_type": "code",
   "execution_count": 136,
   "metadata": {},
   "outputs": [
    {
     "data": {
      "text/plain": [
       "(array([[ 2. ,  1. , 38.5, ...,  6.3,  0. ,  0. ],\n",
       "        [ 2. ,  1. , 37.6, ...,  6.3,  1. ,  5. ],\n",
       "        [ 1. ,  1. , 37.7, ..., 70. ,  3. ,  2. ],\n",
       "        ...,\n",
       "        [ 1. ,  1. , 38. , ..., 65. ,  3. ,  2. ],\n",
       "        [ 2. ,  1. , 38. , ...,  5.8,  0. ,  0. ],\n",
       "        [ 2. ,  1. , 37.6, ...,  6. ,  0. ,  0. ]]),\n",
       " array([ 1.,  1.,  1., -1.,  1.,  1.,  1.,  1.,  1., -1.,  1., -1., -1.,\n",
       "         1.,  1.,  1.,  1., -1., -1., -1.,  1.,  1., -1., -1.,  1.,  1.,\n",
       "         1.,  1.,  1.,  1.,  1.,  1.,  1., -1.,  1., -1.,  1.,  1.,  1.,\n",
       "         1.,  1.,  1.,  1., -1.,  1.,  1.,  1.,  1.,  1., -1., -1., -1.,\n",
       "        -1.,  1.,  1.,  1.,  1., -1.,  1.,  1.,  1., -1.,  1.,  1., -1.,\n",
       "         1., -1.]))"
      ]
     },
     "execution_count": 136,
     "metadata": {},
     "output_type": "execute_result"
    }
   ],
   "source": [
    "X_test,y_test=get_data(\"datasets/horseColicTest.txt\")\n",
    "X_test,y_test"
   ]
  },
  {
   "cell_type": "code",
   "execution_count": 137,
   "metadata": {},
   "outputs": [
    {
     "data": {
      "text/plain": [
       "[{'dim': 9, 'thresh': 3.0, 'ineq': 'gt', 'alpha': 0.4616623792657674}]"
      ]
     },
     "execution_count": 137,
     "metadata": {},
     "output_type": "execute_result"
    }
   ],
   "source": [
    "### 训练数据\n",
    "# total_error: 0.2842809364548495\n",
    "weak_class_1, _=adaboost(X_train,y_train,1)\n",
    "# [{'dim': 9, 'thresh': 3.0, 'ineq': 'gt', 'alpha': 0.4616623792657674}]\n",
    "weak_class_1"
   ]
  },
  {
   "cell_type": "code",
   "execution_count": 138,
   "metadata": {},
   "outputs": [],
   "source": [
    "from sklearn.metrics import accuracy_score"
   ]
  },
  {
   "cell_type": "code",
   "execution_count": 139,
   "metadata": {},
   "outputs": [
    {
     "data": {
      "text/plain": [
       "0.7313432835820896"
      ]
     },
     "execution_count": 139,
     "metadata": {},
     "output_type": "execute_result"
    }
   ],
   "source": [
    "y_pred_horse=adaboost_classify(X_test,weak_class_1)\n",
    "# 0.7313432835820896\n",
    "accuracy_score(y_test,y_pred_horse)"
   ]
  },
  {
   "cell_type": "code",
   "execution_count": 140,
   "metadata": {},
   "outputs": [
    {
     "data": {
      "text/plain": [
       "(299, 21)"
      ]
     },
     "execution_count": 140,
     "metadata": {},
     "output_type": "execute_result"
    }
   ],
   "source": [
    "X_train.shape"
   ]
  },
  {
   "cell_type": "code",
   "execution_count": 141,
   "metadata": {},
   "outputs": [
    {
     "data": {
      "text/plain": [
       "((67, 21), (67,))"
      ]
     },
     "execution_count": 141,
     "metadata": {},
     "output_type": "execute_result"
    }
   ],
   "source": [
    "X_test.shape,y_test.shape"
   ]
  },
  {
   "cell_type": "code",
   "execution_count": 142,
   "metadata": {},
   "outputs": [],
   "source": [
    "def analysics_ada(iter_num=10):\n",
    "    weak_class, _=adaboost(X_train,y_train,iter_num)\n",
    "    y_pred_horse=adaboost_classify(X_test,weak_class_1)\n",
    "    # 0.7313432835820896\n",
    "    #print(\"iter_num: \",iter_num)\n",
    "    #print(\"iter_num: \",weak_class,accuracy_score(y_test,y_pred_horse))\n",
    "    return weak_class,accuracy_score(y_test,y_pred_horse)"
   ]
  },
  {
   "cell_type": "code",
   "execution_count": 144,
   "metadata": {},
   "outputs": [
    {
     "name": "stdout",
     "output_type": "stream",
     "text": [
      "iter_num:  1\n",
      "iter_num:  [{'dim': 9, 'thresh': 3.0, 'ineq': 'gt', 'alpha': 0.4616623792657674}] 0.7313432835820896\n",
      "iter_num:  10\n",
      "iter_num:  [{'dim': 9, 'thresh': 3.0, 'ineq': 'gt', 'alpha': 0.4616623792657674}, {'dim': 17, 'thresh': 52.5, 'ineq': 'gt', 'alpha': 0.31248245042467104}, {'dim': 3, 'thresh': 55.199999999999996, 'ineq': 'gt', 'alpha': 0.2868097320169577}, {'dim': 18, 'thresh': 62.300000000000004, 'ineq': 'lt', 'alpha': 0.23297004638939506}, {'dim': 10, 'thresh': 0.0, 'ineq': 'lt', 'alpha': 0.19803846151213741}, {'dim': 5, 'thresh': 2.0, 'ineq': 'gt', 'alpha': 0.18847887349020634}, {'dim': 12, 'thresh': 1.2, 'ineq': 'lt', 'alpha': 0.15227368997476778}, {'dim': 7, 'thresh': 1.2, 'ineq': 'gt', 'alpha': 0.15510870821690512}, {'dim': 5, 'thresh': 0.0, 'ineq': 'lt', 'alpha': 0.13536197353359405}, {'dim': 4, 'thresh': 28.799999999999997, 'ineq': 'lt', 'alpha': 0.12521587326132078}] 0.7313432835820896\n",
      "iter_num:  50\n",
      "iter_num:  [{'dim': 9, 'thresh': 3.0, 'ineq': 'gt', 'alpha': 0.4616623792657674}, {'dim': 17, 'thresh': 52.5, 'ineq': 'gt', 'alpha': 0.31248245042467104}, {'dim': 3, 'thresh': 55.199999999999996, 'ineq': 'gt', 'alpha': 0.2868097320169577}, {'dim': 18, 'thresh': 62.300000000000004, 'ineq': 'lt', 'alpha': 0.23297004638939506}, {'dim': 10, 'thresh': 0.0, 'ineq': 'lt', 'alpha': 0.19803846151213741}, {'dim': 5, 'thresh': 2.0, 'ineq': 'gt', 'alpha': 0.18847887349020634}, {'dim': 12, 'thresh': 1.2, 'ineq': 'lt', 'alpha': 0.15227368997476778}, {'dim': 7, 'thresh': 1.2, 'ineq': 'gt', 'alpha': 0.15510870821690512}, {'dim': 5, 'thresh': 0.0, 'ineq': 'lt', 'alpha': 0.13536197353359405}, {'dim': 4, 'thresh': 28.799999999999997, 'ineq': 'lt', 'alpha': 0.12521587326132078}, {'dim': 11, 'thresh': 2.0, 'ineq': 'gt', 'alpha': 0.1334764812820767}, {'dim': 9, 'thresh': 4.0, 'ineq': 'lt', 'alpha': 0.1418224325377107}, {'dim': 14, 'thresh': 0.0, 'ineq': 'gt', 'alpha': 0.10264268449708028}, {'dim': 0, 'thresh': 1.0, 'ineq': 'lt', 'alpha': 0.11883732872109484}, {'dim': 4, 'thresh': 19.2, 'ineq': 'gt', 'alpha': 0.09879216527106625}, {'dim': 2, 'thresh': 36.72, 'ineq': 'lt', 'alpha': 0.12029960885056867}, {'dim': 3, 'thresh': 92.0, 'ineq': 'lt', 'alpha': 0.10846927663989175}, {'dim': 15, 'thresh': 0.0, 'ineq': 'lt', 'alpha': 0.09652967982091411}, {'dim': 3, 'thresh': 73.6, 'ineq': 'gt', 'alpha': 0.08958515309272022}, {'dim': 18, 'thresh': 8.9, 'ineq': 'lt', 'alpha': 0.09210361961272426}, {'dim': 16, 'thresh': 4.0, 'ineq': 'gt', 'alpha': 0.10464142217079622}, {'dim': 11, 'thresh': 3.2, 'ineq': 'lt', 'alpha': 0.09575457291711606}, {'dim': 20, 'thresh': 0.0, 'ineq': 'gt', 'alpha': 0.09624217440331524}, {'dim': 17, 'thresh': 37.5, 'ineq': 'lt', 'alpha': 0.0785966288518967}, {'dim': 9, 'thresh': 2.0, 'ineq': 'lt', 'alpha': 0.0714286363455072}, {'dim': 5, 'thresh': 2.0, 'ineq': 'gt', 'alpha': 0.07830753154662214}, {'dim': 4, 'thresh': 28.799999999999997, 'ineq': 'lt', 'alpha': 0.07606159074712784}, {'dim': 4, 'thresh': 19.2, 'ineq': 'gt', 'alpha': 0.08306752811081955}, {'dim': 7, 'thresh': 4.2, 'ineq': 'gt', 'alpha': 0.0830416741141175}, {'dim': 3, 'thresh': 92.0, 'ineq': 'lt', 'alpha': 0.08893356802801224}, {'dim': 14, 'thresh': 3.0, 'ineq': 'gt', 'alpha': 0.07000509315417908}, {'dim': 7, 'thresh': 5.3999999999999995, 'ineq': 'lt', 'alpha': 0.07697582358565964}, {'dim': 18, 'thresh': 0.0, 'ineq': 'lt', 'alpha': 0.08507457442866707}, {'dim': 5, 'thresh': 3.2, 'ineq': 'lt', 'alpha': 0.0676590387302069}, {'dim': 7, 'thresh': 3.0, 'ineq': 'gt', 'alpha': 0.08045680822237049}, {'dim': 12, 'thresh': 1.2, 'ineq': 'lt', 'alpha': 0.05616862921969557}, {'dim': 11, 'thresh': 2.0, 'ineq': 'gt', 'alpha': 0.06454264376249863}, {'dim': 7, 'thresh': 5.3999999999999995, 'ineq': 'lt', 'alpha': 0.05308888435382875}, {'dim': 11, 'thresh': 0.0, 'ineq': 'lt', 'alpha': 0.0734605861478849}, {'dim': 13, 'thresh': 0.0, 'ineq': 'gt', 'alpha': 0.07872267320907414}, {'dim': 1, 'thresh': 1.0, 'ineq': 'gt', 'alpha': 0.0549987322783269}, {'dim': 4, 'thresh': 86.39999999999999, 'ineq': 'lt', 'alpha': 0.05629427842832903}, {'dim': 3, 'thresh': 36.8, 'ineq': 'lt', 'alpha': 0.05918768113587808}, {'dim': 3, 'thresh': 55.199999999999996, 'ineq': 'gt', 'alpha': 0.056570489276912196}, {'dim': 4, 'thresh': 28.799999999999997, 'ineq': 'lt', 'alpha': 0.04837989711806805}, {'dim': 4, 'thresh': 19.2, 'ineq': 'gt', 'alpha': 0.05218464392995671}, {'dim': 4, 'thresh': 0.0, 'ineq': 'lt', 'alpha': 0.05449217157186812}, {'dim': 15, 'thresh': 2.0, 'ineq': 'lt', 'alpha': 0.05023542588085874}, {'dim': 13, 'thresh': 1.2, 'ineq': 'gt', 'alpha': 0.05092422794490993}, {'dim': 7, 'thresh': 5.3999999999999995, 'ineq': 'lt', 'alpha': 0.053941058098776085}] 0.7313432835820896\n",
      "iter_num:  100\n",
      "iter_num:  [{'dim': 9, 'thresh': 3.0, 'ineq': 'gt', 'alpha': 0.4616623792657674}, {'dim': 17, 'thresh': 52.5, 'ineq': 'gt', 'alpha': 0.31248245042467104}, {'dim': 3, 'thresh': 55.199999999999996, 'ineq': 'gt', 'alpha': 0.2868097320169577}, {'dim': 18, 'thresh': 62.300000000000004, 'ineq': 'lt', 'alpha': 0.23297004638939506}, {'dim': 10, 'thresh': 0.0, 'ineq': 'lt', 'alpha': 0.19803846151213741}, {'dim': 5, 'thresh': 2.0, 'ineq': 'gt', 'alpha': 0.18847887349020634}, {'dim': 12, 'thresh': 1.2, 'ineq': 'lt', 'alpha': 0.15227368997476778}, {'dim': 7, 'thresh': 1.2, 'ineq': 'gt', 'alpha': 0.15510870821690512}, {'dim': 5, 'thresh': 0.0, 'ineq': 'lt', 'alpha': 0.13536197353359405}, {'dim': 4, 'thresh': 28.799999999999997, 'ineq': 'lt', 'alpha': 0.12521587326132078}, {'dim': 11, 'thresh': 2.0, 'ineq': 'gt', 'alpha': 0.1334764812820767}, {'dim': 9, 'thresh': 4.0, 'ineq': 'lt', 'alpha': 0.1418224325377107}, {'dim': 14, 'thresh': 0.0, 'ineq': 'gt', 'alpha': 0.10264268449708028}, {'dim': 0, 'thresh': 1.0, 'ineq': 'lt', 'alpha': 0.11883732872109484}, {'dim': 4, 'thresh': 19.2, 'ineq': 'gt', 'alpha': 0.09879216527106625}, {'dim': 2, 'thresh': 36.72, 'ineq': 'lt', 'alpha': 0.12029960885056867}, {'dim': 3, 'thresh': 92.0, 'ineq': 'lt', 'alpha': 0.10846927663989175}, {'dim': 15, 'thresh': 0.0, 'ineq': 'lt', 'alpha': 0.09652967982091411}, {'dim': 3, 'thresh': 73.6, 'ineq': 'gt', 'alpha': 0.08958515309272022}, {'dim': 18, 'thresh': 8.9, 'ineq': 'lt', 'alpha': 0.09210361961272426}, {'dim': 16, 'thresh': 4.0, 'ineq': 'gt', 'alpha': 0.10464142217079622}, {'dim': 11, 'thresh': 3.2, 'ineq': 'lt', 'alpha': 0.09575457291711606}, {'dim': 20, 'thresh': 0.0, 'ineq': 'gt', 'alpha': 0.09624217440331524}, {'dim': 17, 'thresh': 37.5, 'ineq': 'lt', 'alpha': 0.0785966288518967}, {'dim': 9, 'thresh': 2.0, 'ineq': 'lt', 'alpha': 0.0714286363455072}, {'dim': 5, 'thresh': 2.0, 'ineq': 'gt', 'alpha': 0.07830753154662214}, {'dim': 4, 'thresh': 28.799999999999997, 'ineq': 'lt', 'alpha': 0.07606159074712784}, {'dim': 4, 'thresh': 19.2, 'ineq': 'gt', 'alpha': 0.08306752811081955}, {'dim': 7, 'thresh': 4.2, 'ineq': 'gt', 'alpha': 0.0830416741141175}, {'dim': 3, 'thresh': 92.0, 'ineq': 'lt', 'alpha': 0.08893356802801224}, {'dim': 14, 'thresh': 3.0, 'ineq': 'gt', 'alpha': 0.07000509315417908}, {'dim': 7, 'thresh': 5.3999999999999995, 'ineq': 'lt', 'alpha': 0.07697582358565964}, {'dim': 18, 'thresh': 0.0, 'ineq': 'lt', 'alpha': 0.08507457442866707}, {'dim': 5, 'thresh': 3.2, 'ineq': 'lt', 'alpha': 0.0676590387302069}, {'dim': 7, 'thresh': 3.0, 'ineq': 'gt', 'alpha': 0.08045680822237049}, {'dim': 12, 'thresh': 1.2, 'ineq': 'lt', 'alpha': 0.05616862921969557}, {'dim': 11, 'thresh': 2.0, 'ineq': 'gt', 'alpha': 0.06454264376249863}, {'dim': 7, 'thresh': 5.3999999999999995, 'ineq': 'lt', 'alpha': 0.05308888435382875}, {'dim': 11, 'thresh': 0.0, 'ineq': 'lt', 'alpha': 0.0734605861478849}, {'dim': 13, 'thresh': 0.0, 'ineq': 'gt', 'alpha': 0.07872267320907414}, {'dim': 1, 'thresh': 1.0, 'ineq': 'gt', 'alpha': 0.0549987322783269}, {'dim': 4, 'thresh': 86.39999999999999, 'ineq': 'lt', 'alpha': 0.05629427842832903}, {'dim': 3, 'thresh': 36.8, 'ineq': 'lt', 'alpha': 0.05918768113587808}, {'dim': 3, 'thresh': 55.199999999999996, 'ineq': 'gt', 'alpha': 0.056570489276912196}, {'dim': 4, 'thresh': 28.799999999999997, 'ineq': 'lt', 'alpha': 0.04837989711806805}, {'dim': 4, 'thresh': 19.2, 'ineq': 'gt', 'alpha': 0.05218464392995671}, {'dim': 4, 'thresh': 0.0, 'ineq': 'lt', 'alpha': 0.05449217157186812}, {'dim': 15, 'thresh': 2.0, 'ineq': 'lt', 'alpha': 0.05023542588085874}, {'dim': 13, 'thresh': 1.2, 'ineq': 'gt', 'alpha': 0.05092422794490993}, {'dim': 7, 'thresh': 5.3999999999999995, 'ineq': 'lt', 'alpha': 0.053941058098776085}, {'dim': 7, 'thresh': 4.2, 'ineq': 'gt', 'alpha': 0.06582395158707093}, {'dim': 7, 'thresh': 5.3999999999999995, 'ineq': 'lt', 'alpha': 0.05669600323356766}, {'dim': 17, 'thresh': 60.0, 'ineq': 'gt', 'alpha': 0.053931484932669034}, {'dim': 11, 'thresh': 3.2, 'ineq': 'lt', 'alpha': 0.05293805401988552}, {'dim': 18, 'thresh': 0.0, 'ineq': 'lt', 'alpha': 0.048449789863687844}, {'dim': 20, 'thresh': 2.02, 'ineq': 'lt', 'alpha': 0.0509768332217089}, {'dim': 19, 'thresh': 1.2, 'ineq': 'gt', 'alpha': 0.05436796129498598}, {'dim': 19, 'thresh': 0.0, 'ineq': 'lt', 'alpha': 0.05607430094233146}, {'dim': 4, 'thresh': 19.2, 'ineq': 'gt', 'alpha': 0.04955609603723255}, {'dim': 16, 'thresh': 3.0, 'ineq': 'gt', 'alpha': 0.05169015581768408}, {'dim': 4, 'thresh': 28.799999999999997, 'ineq': 'lt', 'alpha': 0.04771430024258259}, {'dim': 3, 'thresh': 110.39999999999999, 'ineq': 'gt', 'alpha': 0.05082305781619117}, {'dim': 3, 'thresh': 92.0, 'ineq': 'lt', 'alpha': 0.05352578051380834}, {'dim': 3, 'thresh': 73.6, 'ineq': 'gt', 'alpha': 0.056171340752090654}, {'dim': 7, 'thresh': 2.4, 'ineq': 'lt', 'alpha': 0.04510878590544229}, {'dim': 20, 'thresh': 1.01, 'ineq': 'gt', 'alpha': 0.04408654060696741}, {'dim': 18, 'thresh': 8.9, 'ineq': 'lt', 'alpha': 0.0538826909075078}, {'dim': 2, 'thresh': 36.72, 'ineq': 'lt', 'alpha': 0.04221485860751463}, {'dim': 20, 'thresh': 2.02, 'ineq': 'lt', 'alpha': 0.051887992491197}, {'dim': 7, 'thresh': 4.2, 'ineq': 'gt', 'alpha': 0.05560457789081524}, {'dim': 7, 'thresh': 5.3999999999999995, 'ineq': 'lt', 'alpha': 0.04907215210766378}, {'dim': 14, 'thresh': 0.0, 'ineq': 'gt', 'alpha': 0.0558624723521471}, {'dim': 12, 'thresh': 1.2, 'ineq': 'lt', 'alpha': 0.04367373065720879}, {'dim': 5, 'thresh': 1.2000000000000002, 'ineq': 'gt', 'alpha': 0.042737159292372144}, {'dim': 3, 'thresh': 92.0, 'ineq': 'lt', 'alpha': 0.03999067086694331}, {'dim': 7, 'thresh': 4.2, 'ineq': 'gt', 'alpha': 0.05273691587927168}, {'dim': 4, 'thresh': 19.2, 'ineq': 'gt', 'alpha': 0.04771043258030636}, {'dim': 4, 'thresh': 28.799999999999997, 'ineq': 'lt', 'alpha': 0.0410583935608399}, {'dim': 11, 'thresh': 0.0, 'ineq': 'lt', 'alpha': 0.03869718824600153}, {'dim': 11, 'thresh': 1.2000000000000002, 'ineq': 'gt', 'alpha': 0.053072438852688926}, {'dim': 7, 'thresh': 2.4, 'ineq': 'lt', 'alpha': 0.038949916456907534}, {'dim': 19, 'thresh': 1.2, 'ineq': 'gt', 'alpha': 0.04082407142731022}, {'dim': 20, 'thresh': 2.02, 'ineq': 'lt', 'alpha': 0.03995566304302227}, {'dim': 20, 'thresh': 1.01, 'ineq': 'gt', 'alpha': 0.043965612897806275}, {'dim': 19, 'thresh': 0.0, 'ineq': 'lt', 'alpha': 0.05087415323711678}, {'dim': 9, 'thresh': 1.0, 'ineq': 'gt', 'alpha': 0.040253332044032177}, {'dim': 9, 'thresh': 2.0, 'ineq': 'lt', 'alpha': 0.045884646772420296}, {'dim': 9, 'thresh': 3.0, 'ineq': 'gt', 'alpha': 0.047482036105083024}, {'dim': 18, 'thresh': 53.400000000000006, 'ineq': 'lt', 'alpha': 0.035047708669785654}, {'dim': 20, 'thresh': 0.0, 'ineq': 'gt', 'alpha': 0.044171102885211116}, {'dim': 6, 'thresh': 0.0, 'ineq': 'lt', 'alpha': 0.039955579893274154}, {'dim': 12, 'thresh': 0.0, 'ineq': 'gt', 'alpha': 0.04330472354469987}, {'dim': 20, 'thresh': 2.02, 'ineq': 'lt', 'alpha': 0.03835525463490082}, {'dim': 11, 'thresh': 0.0, 'ineq': 'lt', 'alpha': 0.045192592619246075}, {'dim': 8, 'thresh': 0.0, 'ineq': 'gt', 'alpha': 0.039699958767595286}, {'dim': 3, 'thresh': 36.8, 'ineq': 'lt', 'alpha': 0.047893768950881405}, {'dim': 3, 'thresh': 0.0, 'ineq': 'gt', 'alpha': 0.043606630532839995}, {'dim': 4, 'thresh': 67.2, 'ineq': 'gt', 'alpha': 0.04764286517217435}, {'dim': 4, 'thresh': 86.39999999999999, 'ineq': 'lt', 'alpha': 0.038791325670374716}, {'dim': 20, 'thresh': 3.0300000000000002, 'ineq': 'gt', 'alpha': 0.04435082513360237}] 0.7313432835820896\n"
     ]
    }
   ],
   "source": [
    "test_iter_nums=[1,10,50,100] # 500,1000,10000\n",
    "for i in test_iter_nums:\n",
    "    analysics_ada(i)"
   ]
  },
  {
   "cell_type": "code",
   "execution_count": null,
   "metadata": {},
   "outputs": [],
   "source": []
  }
 ],
 "metadata": {
  "kernelspec": {
   "display_name": "Python 3",
   "language": "python",
   "name": "python3"
  },
  "language_info": {
   "codemirror_mode": {
    "name": "ipython",
    "version": 3
   },
   "file_extension": ".py",
   "mimetype": "text/x-python",
   "name": "python",
   "nbconvert_exporter": "python",
   "pygments_lexer": "ipython3",
   "version": "3.7.5"
  }
 },
 "nbformat": 4,
 "nbformat_minor": 2
}
