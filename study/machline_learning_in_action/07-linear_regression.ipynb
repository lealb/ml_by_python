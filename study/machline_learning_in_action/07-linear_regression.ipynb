{
 "cells": [
  {
   "cell_type": "markdown",
   "metadata": {},
   "source": [
    "#### 线性回归"
   ]
  },
  {
   "cell_type": "code",
   "execution_count": 2,
   "metadata": {},
   "outputs": [
    {
     "name": "stdout",
     "output_type": "stream",
     "text": [
      "1.000000\t0.067732\t3.176513\r",
      "\r\n",
      "1.000000\t0.427810\t3.816464\r",
      "\r\n",
      "1.000000\t0.995731\t4.550095\r",
      "\r\n",
      "1.000000\t0.738336\t4.256571\r",
      "\r\n",
      "1.000000\t0.981083\t4.560815\r",
      "\r\n",
      "1.000000\t0.526171\t3.929515\r",
      "\r\n",
      "1.000000\t0.378887\t3.526170\r",
      "\r\n",
      "1.000000\t0.033859\t3.156393\r",
      "\r\n",
      "1.000000\t0.132791\t3.110301\r",
      "\r\n",
      "1.000000\t0.138306\t3.149813\r",
      "\r\n"
     ]
    }
   ],
   "source": [
    "!head -10 datasets/ex0.txt"
   ]
  },
  {
   "cell_type": "code",
   "execution_count": 1,
   "metadata": {},
   "outputs": [],
   "source": [
    "import pandas as pd\n",
    "import numpy as np\n",
    "from matplotlib import pylab as plt\n",
    "import seaborn as sn\n",
    "%matplotlib inline"
   ]
  },
  {
   "cell_type": "code",
   "execution_count": 8,
   "metadata": {},
   "outputs": [
    {
     "data": {
      "text/plain": [
       "0      0.067732\n",
       "1      0.427810\n",
       "2      0.995731\n",
       "3      0.738336\n",
       "4      0.981083\n",
       "         ...   \n",
       "195    0.257017\n",
       "196    0.833735\n",
       "197    0.070095\n",
       "198    0.527070\n",
       "199    0.116163\n",
       "Name: 1, Length: 200, dtype: float64"
      ]
     },
     "execution_count": 8,
     "metadata": {},
     "output_type": "execute_result"
    }
   ],
   "source": [
    "data = pd.read_csv(\"datasets/ex0.txt\", \"\\t\", header=None)\n",
    "data[1]"
   ]
  },
  {
   "cell_type": "code",
   "execution_count": 2,
   "metadata": {},
   "outputs": [],
   "source": [
    "sn.set_style(\"whitegrid\")"
   ]
  },
  {
   "cell_type": "code",
   "execution_count": 12,
   "metadata": {},
   "outputs": [],
   "source": [
    "x,y=data[1],data[2]"
   ]
  },
  {
   "cell_type": "code",
   "execution_count": 11,
   "metadata": {},
   "outputs": [
    {
     "data": {
      "text/plain": [
       "<matplotlib.collections.PathCollection at 0x7fe2c1a67dd0>"
      ]
     },
     "execution_count": 11,
     "metadata": {},
     "output_type": "execute_result"
    },
    {
     "data": {
      "image/png": "[encoded data removed]",
      "text/plain": [
       "<Figure size 432x288 with 1 Axes>"
      ]
     },
     "metadata": {},
     "output_type": "display_data"
    }
   ],
   "source": [
    "plt.scatter(x,y)"
   ]
  },
  {
   "cell_type": "markdown",
   "metadata": {},
   "source": [
    "#### 标准的最小二乘法\n",
    "w=(X^T * X)^-1*X^T*y"
   ]
  },
  {
   "cell_type": "code",
   "execution_count": 120,
   "metadata": {},
   "outputs": [],
   "source": [
    "def stand_regression(x, y):\n",
    "    x_mat = np.mat(x)\n",
    "    y_mat = np.mat(y).T\n",
    "    x_Tx = x_mat.T * x_mat\n",
    "    if np.linalg.det(x_Tx) == 0.0:\n",
    "        print(\"The matrix is singular, can't do inverse\")\n",
    "    return x_Tx.I * (x_mat.T * y_mat)"
   ]
  },
  {
   "cell_type": "code",
   "execution_count": 3,
   "metadata": {},
   "outputs": [],
   "source": [
    "def load_data(file_name):\n",
    "    X = []\n",
    "    y = []\n",
    "    with open(file_name) as file:\n",
    "        for line in file.readlines():\n",
    "            curr_line = line.strip().split(\"\\t\")\n",
    "            curr_line = [float(e) for e in curr_line]\n",
    "            x0, y0 = curr_line[:-1], curr_line[-1]\n",
    "            X.append(x0)\n",
    "            y.append(y0)\n",
    "    return X, y"
   ]
  },
  {
   "cell_type": "code",
   "execution_count": 4,
   "metadata": {},
   "outputs": [],
   "source": [
    "file_name = \"datasets/ex0.txt\"\n",
    "X, y = load_data(file_name)"
   ]
  },
  {
   "cell_type": "code",
   "execution_count": 34,
   "metadata": {},
   "outputs": [
    {
     "data": {
      "text/plain": [
       "[1, 2]"
      ]
     },
     "execution_count": 34,
     "metadata": {},
     "output_type": "execute_result"
    }
   ],
   "source": [
    "a[:-1]"
   ]
  },
  {
   "cell_type": "code",
   "execution_count": 53,
   "metadata": {},
   "outputs": [
    {
     "data": {
      "text/plain": [
       "matrix([[3.00774324],\n",
       "        [1.69532264]])"
      ]
     },
     "execution_count": 53,
     "metadata": {},
     "output_type": "execute_result"
    }
   ],
   "source": [
    "ws=stand_regression(X,y)\n",
    "ws"
   ]
  },
  {
   "cell_type": "markdown",
   "metadata": {},
   "source": [
    "- 假定x0=1.0\n",
    "- y=ws[0]+ws[1]*x1"
   ]
  },
  {
   "cell_type": "code",
   "execution_count": 68,
   "metadata": {},
   "outputs": [
    {
     "data": {
      "text/plain": [
       "matrix([[3.12257084],\n",
       "        [3.73301922],\n",
       "        [4.69582855],\n",
       "        [4.25946098],\n",
       "        [4.67099547],\n",
       "        [3.89977285],\n",
       "        [3.65007895],\n",
       "        [3.06514517],\n",
       "        [3.23286683],\n",
       "        [3.24221654]])"
      ]
     },
     "execution_count": 68,
     "metadata": {},
     "output_type": "execute_result"
    }
   ],
   "source": [
    "x_mat = np.mat(X)\n",
    "y_mat = np.mat(y)\n",
    "y_hat=x_mat*ws\n",
    "y_hat[:10]"
   ]
  },
  {
   "cell_type": "code",
   "execution_count": 86,
   "metadata": {},
   "outputs": [
    {
     "data": {
      "text/plain": [
       "[<matplotlib.lines.Line2D at 0x7fe2be1bd990>]"
      ]
     },
     "execution_count": 86,
     "metadata": {},
     "output_type": "execute_result"
    },
    {
     "data": {
      "image/png": "[encoded data removed]",
      "text/plain": [
       "<Figure size 432x288 with 1 Axes>"
      ]
     },
     "metadata": {},
     "output_type": "display_data"
    }
   ],
   "source": [
    "plt.scatter(x_mat[:,1].flatten().A[0],y_mat.T[:,0].flatten().A[0])\n",
    "x_copy = x_mat.copy()\n",
    "x_copy.sort(0)\n",
    "plt.plot(x_copy[:, 1], x_copy * ws,'r')"
   ]
  },
  {
   "cell_type": "code",
   "execution_count": 87,
   "metadata": {},
   "outputs": [
    {
     "data": {
      "text/plain": [
       "array([[1.        , 0.98647356],\n",
       "       [0.98647356, 1.        ]])"
      ]
     },
     "execution_count": 87,
     "metadata": {},
     "output_type": "execute_result"
    }
   ],
   "source": [
    "#相关性\n",
    "np.corrcoef(y_hat.T,y_mat)"
   ]
  },
  {
   "cell_type": "markdown",
   "metadata": {},
   "source": [
    "#### 局部加权线性回归"
   ]
  },
  {
   "cell_type": "markdown",
   "metadata": {},
   "source": [
    "回归系数\n",
    "w=(X^T*W*X)^-1*X^T*Wy"
   ]
  },
  {
   "cell_type": "code",
   "execution_count": 15,
   "metadata": {},
   "outputs": [],
   "source": [
    "def lwlr(x, X, y, k=1.0):\n",
    "    x_mat = np.mat(X)\n",
    "    y_mat = np.mat(y).T\n",
    "    m = x_mat.shape[0]\n",
    "    weights = np.mat(np.eye((m)))\n",
    "    for i in range(m):\n",
    "        diff_mat = x - x_mat[i, :]\n",
    "        weights[i, i] = np.exp(diff_mat * diff_mat.T / (-2.0 * k**2))\n",
    "    x_Tx = x_mat.T * (weights * x_mat)\n",
    "    if np.linalg.det(x_Tx) == 0.0:\n",
    "        print(\"The matrix is singular, can't do inverse\")\n",
    "        return\n",
    "    ws = x_Tx.I * (x_mat.T * weights * y_mat)\n",
    "    return x * ws"
   ]
  },
  {
   "cell_type": "code",
   "execution_count": 6,
   "metadata": {},
   "outputs": [
    {
     "data": {
      "text/plain": [
       "[1.0, 0.067732]"
      ]
     },
     "execution_count": 6,
     "metadata": {},
     "output_type": "execute_result"
    }
   ],
   "source": [
    "    X[0]"
   ]
  },
  {
   "cell_type": "code",
   "execution_count": 16,
   "metadata": {},
   "outputs": [
    {
     "data": {
      "text/plain": [
       "matrix([[3.12204471]])"
      ]
     },
     "execution_count": 16,
     "metadata": {},
     "output_type": "execute_result"
    }
   ],
   "source": [
    "lwlr(X[0],X,y)"
   ]
  },
  {
   "cell_type": "code",
   "execution_count": 17,
   "metadata": {},
   "outputs": [
    {
     "data": {
      "text/plain": [
       "matrix([[3.20175729]])"
      ]
     },
     "execution_count": 17,
     "metadata": {},
     "output_type": "execute_result"
    }
   ],
   "source": [
    "lwlr(X[0],X,y,0.001)"
   ]
  },
  {
   "cell_type": "code",
   "execution_count": 72,
   "metadata": {},
   "outputs": [],
   "source": [
    "def get_lwlr(x, X, y, k=1.0):\n",
    "    return np.array([float(lwlr(i, X, y, k)) for i in X])"
   ]
  },
  {
   "cell_type": "code",
   "execution_count": 73,
   "metadata": {},
   "outputs": [
    {
     "data": {
      "text/plain": [
       "array([3.12204471, 3.73284336, 4.69692033, 4.25997574, 4.67205815,\n",
       "       3.89979584, 3.64981617, 3.06462993, 3.23234485, 3.24169633])"
      ]
     },
     "execution_count": 73,
     "metadata": {},
     "output_type": "execute_result"
    }
   ],
   "source": [
    "get_lwlr(X,X,y)[:10]"
   ]
  },
  {
   "cell_type": "code",
   "execution_count": 75,
   "metadata": {},
   "outputs": [
    {
     "data": {
      "text/plain": [
       "array([3.12204471, 3.73284336, 4.69692033, 4.25997574, 4.67205815,\n",
       "       3.89979584, 3.64981617, 3.06462993, 3.23234485, 3.24169633])"
      ]
     },
     "execution_count": 75,
     "metadata": {},
     "output_type": "execute_result"
    }
   ],
   "source": [
    "y_hat_1=get_lwlr(X,X,y)\n",
    "y_hat_1[:10]"
   ]
  },
  {
   "cell_type": "code",
   "execution_count": 24,
   "metadata": {},
   "outputs": [
    {
     "data": {
      "text/plain": [
       "3.201757285523478"
      ]
     },
     "execution_count": 24,
     "metadata": {},
     "output_type": "execute_result"
    }
   ],
   "source": [
    "(lwlr(X[0],X,y,0.001))"
   ]
  },
  {
   "cell_type": "code",
   "execution_count": 37,
   "metadata": {},
   "outputs": [],
   "source": [
    "# 排序 x_mat\n",
    "x_mat=np.mat(X)\n",
    "sort_i=x_mat[:,1].argsort(0)"
   ]
  },
  {
   "cell_type": "code",
   "execution_count": 41,
   "metadata": {},
   "outputs": [
    {
     "data": {
      "text/plain": [
       "matrix([[1.      , 0.014855],\n",
       "        [1.      , 0.015371],\n",
       "        [1.      , 0.033859],\n",
       "        [1.      , 0.038326],\n",
       "        [1.      , 0.040486],\n",
       "        [1.      , 0.045353],\n",
       "        [1.      , 0.047744],\n",
       "        [1.      , 0.058014],\n",
       "        [1.      , 0.066379],\n",
       "        [1.      , 0.067119]])"
      ]
     },
     "execution_count": 41,
     "metadata": {},
     "output_type": "execute_result"
    }
   ],
   "source": [
    "x_sort=x_mat[sort_i][:,0,:]\n",
    "x_sort[:10]"
   ]
  },
  {
   "cell_type": "code",
   "execution_count": 76,
   "metadata": {},
   "outputs": [
    {
     "data": {
      "text/plain": [
       "<matplotlib.collections.PathCollection at 0x7fe970364b90>"
      ]
     },
     "execution_count": 76,
     "metadata": {},
     "output_type": "execute_result"
    },
    {
     "data": {
      "image/png": "[encoded data removed]",
      "text/plain": [
       "<Figure size 432x288 with 1 Axes>"
      ]
     },
     "metadata": {},
     "output_type": "display_data"
    }
   ],
   "source": [
    "plt.plot(x_sort[:,1],y_hat_1[sort_i])\n",
    "plt.scatter(x_mat[:,1].flatten().A[0],np.mat(y).T.flatten().A[0],s=2,c='red')"
   ]
  },
  {
   "cell_type": "code",
   "execution_count": 84,
   "metadata": {},
   "outputs": [
    {
     "data": {
      "text/plain": [
       "Text(1, 4, 'k=0.003')"
      ]
     },
     "execution_count": 84,
     "metadata": {},
     "output_type": "execute_result"
    },
    {
     "data": {
      "image/png": "[encoded data removed]",
      "text/plain": [
       "<Figure size 432x288 with 1 Axes>"
      ]
     },
     "metadata": {},
     "output_type": "display_data"
    },
    {
     "data": {
      "image/png": "[encoded data removed]",
      "text/plain": [
       "<Figure size 432x288 with 1 Axes>"
      ]
     },
     "metadata": {},
     "output_type": "display_data"
    },
    {
     "data": {
      "image/png": "[encoded data removed]",
      "text/plain": [
       "<Figure size 432x288 with 1 Axes>"
      ]
     },
     "metadata": {},
     "output_type": "display_data"
    }
   ],
   "source": [
    "plt.figure(1)\n",
    "plt.plot(x_sort[:,1],y_hat_1[sort_i])\n",
    "plt.scatter(x_mat[:,1].A.flatten(),y,s=2,c='red')\n",
    "plt.annotate(\"k=1\",xy=(1,4))\n",
    "plt.figure(2)\n",
    "plt.plot(x_sort[:,1],get_lwlr(X,X,y,k=0.01)[sort_i])\n",
    "plt.scatter(x_mat[:,1].A.flatten(),y,s=2,c='red')\n",
    "plt.annotate(\"k=0.01\",xy=(1,4))\n",
    "plt.figure(3)\n",
    "plt.plot(x_sort[:,1],get_lwlr(X,X,y,k=0.003)[sort_i])\n",
    "plt.scatter(x_mat[:,1].A.flatten(),y,s=2,c='red')\n",
    "plt.annotate(\"k=0.003\",xy=(1,4))"
   ]
  },
  {
   "cell_type": "code",
   "execution_count": 109,
   "metadata": {},
   "outputs": [
    {
     "data": {
      "text/plain": [
       "<matplotlib.collections.PathCollection at 0x7fe96f8fd650>"
      ]
     },
     "execution_count": 109,
     "metadata": {},
     "output_type": "execute_result"
    },
    {
     "data": {
      "image/png": "[encoded data removed]",
      "text/plain": [
       "<Figure size 432x288 with 1 Axes>"
      ]
     },
     "metadata": {},
     "output_type": "display_data"
    }
   ],
   "source": [
    "\n",
    "plt.scatter(x_mat[:,1].A.flatten(),y,s=2,c='red')"
   ]
  },
  {
   "cell_type": "markdown",
   "metadata": {},
   "source": [
    "#### 实例-预测鲍鱼的年龄"
   ]
  },
  {
   "cell_type": "code",
   "execution_count": 110,
   "metadata": {},
   "outputs": [
    {
     "name": "stdout",
     "output_type": "stream",
     "text": [
      "1\t0.455\t0.365\t0.095\t0.514\t0.2245\t0.101\t0.15\t15\r",
      "\r\n",
      "1\t0.35\t0.265\t0.09\t0.2255\t0.0995\t0.0485\t0.07\t7\r",
      "\r\n",
      "-1\t0.53\t0.42\t0.135\t0.677\t0.2565\t0.1415\t0.21\t9\r",
      "\r\n",
      "1\t0.44\t0.365\t0.125\t0.516\t0.2155\t0.114\t0.155\t10\r",
      "\r\n",
      "0\t0.33\t0.255\t0.08\t0.205\t0.0895\t0.0395\t0.055\t7\r",
      "\r\n",
      "0\t0.425\t0.3\t0.095\t0.3515\t0.141\t0.0775\t0.12\t8\r",
      "\r\n",
      "-1\t0.53\t0.415\t0.15\t0.7775\t0.237\t0.1415\t0.33\t20\r",
      "\r\n",
      "-1\t0.545\t0.425\t0.125\t0.768\t0.294\t0.1495\t0.26\t16\r",
      "\r\n",
      "1\t0.475\t0.37\t0.125\t0.5095\t0.2165\t0.1125\t0.165\t9\r",
      "\r\n",
      "-1\t0.55\t0.44\t0.15\t0.8945\t0.3145\t0.151\t0.32\t19\r",
      "\r\n"
     ]
    }
   ],
   "source": [
    "!head -10 datasets/abalone.txt"
   ]
  },
  {
   "cell_type": "code",
   "execution_count": 111,
   "metadata": {},
   "outputs": [
    {
     "data": {
      "text/plain": [
       "[[1.0, 0.455, 0.365, 0.095, 0.514, 0.2245, 0.101, 0.15],\n",
       " [1.0, 0.35, 0.265, 0.09, 0.2255, 0.0995, 0.0485, 0.07],\n",
       " [-1.0, 0.53, 0.42, 0.135, 0.677, 0.2565, 0.1415, 0.21],\n",
       " [1.0, 0.44, 0.365, 0.125, 0.516, 0.2155, 0.114, 0.155],\n",
       " [0.0, 0.33, 0.255, 0.08, 0.205, 0.0895, 0.0395, 0.055],\n",
       " [0.0, 0.425, 0.3, 0.095, 0.3515, 0.141, 0.0775, 0.12],\n",
       " [-1.0, 0.53, 0.415, 0.15, 0.7775, 0.237, 0.1415, 0.33],\n",
       " [-1.0, 0.545, 0.425, 0.125, 0.768, 0.294, 0.1495, 0.26],\n",
       " [1.0, 0.475, 0.37, 0.125, 0.5095, 0.2165, 0.1125, 0.165],\n",
       " [-1.0, 0.55, 0.44, 0.15, 0.8945, 0.3145, 0.151, 0.32]]"
      ]
     },
     "execution_count": 111,
     "metadata": {},
     "output_type": "execute_result"
    }
   ],
   "source": [
    "ab_X,ab_y=load_data(\"datasets/abalone.txt\")\n",
    "ab_X[:10]"
   ]
  },
  {
   "cell_type": "code",
   "execution_count": 114,
   "metadata": {},
   "outputs": [
    {
     "data": {
      "text/plain": [
       "(4177, 8)"
      ]
     },
     "execution_count": 114,
     "metadata": {},
     "output_type": "execute_result"
    }
   ],
   "source": [
    "np.array(ab_X).shape"
   ]
  },
  {
   "cell_type": "code",
   "execution_count": 115,
   "metadata": {},
   "outputs": [],
   "source": [
    "def mse(y,y_hat):\n",
    "    return np.sum((y-y_hat)**2)"
   ]
  },
  {
   "cell_type": "code",
   "execution_count": 116,
   "metadata": {},
   "outputs": [],
   "source": [
    "# split dataset\n",
    "from sklearn.model_selection import train_test_split\n",
    "from sklearn.metrics import mean_squared_error"
   ]
  },
  {
   "cell_type": "code",
   "execution_count": 118,
   "metadata": {},
   "outputs": [],
   "source": [
    "ab_X=np.array(ab_X)\n",
    "ab_y=np.array(ab_y)"
   ]
  },
  {
   "cell_type": "code",
   "execution_count": 128,
   "metadata": {},
   "outputs": [
    {
     "data": {
      "text/plain": [
       "(2088, 8)"
      ]
     },
     "execution_count": 128,
     "metadata": {},
     "output_type": "execute_result"
    }
   ],
   "source": [
    "abX_train,abX_test,aby_train,aby_test=train_test_split(ab_X[:-1],ab_y[:-1],test_size=0.5,random_state=2020)\n",
    "abX_train.shape"
   ]
  },
  {
   "cell_type": "code",
   "execution_count": 129,
   "metadata": {},
   "outputs": [
    {
     "data": {
      "text/plain": [
       "(2088, 1)"
      ]
     },
     "execution_count": 129,
     "metadata": {},
     "output_type": "execute_result"
    }
   ],
   "source": [
    "#1. 使用标准的线性回归作为测试\n",
    "aby_hat=np.mat(abX_train)*stand_regression(abX_train,aby_train)\n",
    "aby_hat.shape"
   ]
  },
  {
   "cell_type": "code",
   "execution_count": 146,
   "metadata": {},
   "outputs": [
    {
     "data": {
      "text/plain": [
       "72291777.68014434"
      ]
     },
     "execution_count": 146,
     "metadata": {},
     "output_type": "execute_result"
    }
   ],
   "source": [
    "mse(aby_train,aby_hat.A)"
   ]
  },
  {
   "cell_type": "code",
   "execution_count": 137,
   "metadata": {},
   "outputs": [
    {
     "data": {
      "text/plain": [
       "matrix([[  0.05809283],\n",
       "        [  9.87669437],\n",
       "        [  9.95385118],\n",
       "        [  8.54502613],\n",
       "        [  8.55749092],\n",
       "        [-21.65386337],\n",
       "        [-10.2867542 ],\n",
       "        [  8.46415064]])"
      ]
     },
     "execution_count": 137,
     "metadata": {},
     "output_type": "execute_result"
    }
   ],
   "source": [
    "ab_ws=stand_regression(abX_train,aby_train)\n",
    "ab_ws"
   ]
  },
  {
   "cell_type": "code",
   "execution_count": 147,
   "metadata": {},
   "outputs": [
    {
     "data": {
      "text/plain": [
       "4.927765395294492"
      ]
     },
     "execution_count": 147,
     "metadata": {},
     "output_type": "execute_result"
    }
   ],
   "source": [
    "mean_squared_error(aby_test,aby_hat.A)"
   ]
  },
  {
   "cell_type": "code",
   "execution_count": 142,
   "metadata": {},
   "outputs": [
    {
     "data": {
      "text/plain": [
       "(1, 2088)"
      ]
     },
     "execution_count": 142,
     "metadata": {},
     "output_type": "execute_result"
    }
   ],
   "source": [
    "aby_hat.T.A.shape"
   ]
  },
  {
   "cell_type": "code",
   "execution_count": 143,
   "metadata": {},
   "outputs": [
    {
     "data": {
      "text/plain": [
       "(2088,)"
      ]
     },
     "execution_count": 143,
     "metadata": {},
     "output_type": "execute_result"
    }
   ],
   "source": [
    "aby_test.shape"
   ]
  },
  {
   "cell_type": "code",
   "execution_count": 151,
   "metadata": {},
   "outputs": [
    {
     "name": "stdout",
     "output_type": "stream",
     "text": [
      "CPU times: user 1.65 s, sys: 2.99 ms, total: 1.65 s\n",
      "Wall time: 1.71 s\n"
     ]
    }
   ],
   "source": [
    "%%time\n",
    "ab_hat_10=get_lwlr(ab_X[0:99],ab_X[0:99],ab_y[0:99],k=10)\n",
    "ab_hat_01=get_lwlr(ab_X[0:99],ab_X[0:99],ab_y[0:99],k=0.1)\n",
    "ab_hat_1=get_lwlr(ab_X[0:99],ab_X[0:99],ab_y[0:99])"
   ]
  },
  {
   "cell_type": "code",
   "execution_count": 154,
   "metadata": {},
   "outputs": [
    {
     "data": {
      "text/plain": [
       "56.81087018378336"
      ]
     },
     "execution_count": 154,
     "metadata": {},
     "output_type": "execute_result"
    }
   ],
   "source": [
    "mse(ab_y[:99],ab_hat_01)"
   ]
  },
  {
   "cell_type": "code",
   "execution_count": 155,
   "metadata": {},
   "outputs": [
    {
     "data": {
      "text/plain": [
       "429.8905618700951"
      ]
     },
     "execution_count": 155,
     "metadata": {},
     "output_type": "execute_result"
    }
   ],
   "source": [
    "mse(ab_y[:99],ab_hat_1)"
   ]
  },
  {
   "cell_type": "code",
   "execution_count": 156,
   "metadata": {},
   "outputs": [
    {
     "data": {
      "text/plain": [
       "549.118170882647"
      ]
     },
     "execution_count": 156,
     "metadata": {},
     "output_type": "execute_result"
    }
   ],
   "source": [
    "mse(ab_y[:99],ab_hat_10)"
   ]
  },
  {
   "cell_type": "code",
   "execution_count": 157,
   "metadata": {},
   "outputs": [
    {
     "data": {
      "text/plain": [
       "0.5738471735735693"
      ]
     },
     "execution_count": 157,
     "metadata": {},
     "output_type": "execute_result"
    }
   ],
   "source": [
    "mean_squared_error(ab_y[:99],ab_hat_01)"
   ]
  },
  {
   "cell_type": "markdown",
   "metadata": {},
   "source": [
    "#### 缩减系数\n",
    "- 岭回归　L2正则化\n",
    "- lasso L1"
   ]
  },
  {
   "cell_type": "markdown",
   "metadata": {},
   "source": [
    "##### 岭回归\n",
    "1. 岭回归实质上是X*X加上一个λI从而使得矩阵非奇异，进而可对(X*X+λI)求逆，矩阵I为一个m*m的单位矩阵，\n",
    "主对角线元素为1，其他为0\n",
    "2. 回归系数表示\n",
    "- w=(X^T*X+λI)^-1*X.T*y"
   ]
  },
  {
   "cell_type": "code",
   "execution_count": 250,
   "metadata": {},
   "outputs": [],
   "source": [
    "def ridge_regression(X, y, lambd=0.2):\n",
    "    x_mat = np.mat(X)\n",
    "    y_mat = np.mat(y).T\n",
    "    x_Tx = x_mat.T * x_mat\n",
    "    denom = x_Tx + lambd * np.eye(x_mat.shape[1])\n",
    "    if np.linalg.det(denom) == 0.0:\n",
    "        print(\"The matrix is singular, can't do inverse\")\n",
    "    return denom.I * (x_mat.T * y_mat)"
   ]
  },
  {
   "cell_type": "code",
   "execution_count": 167,
   "metadata": {},
   "outputs": [],
   "source": [
    "#取30组不同的λ来获取岭系数矩阵包含30个不同的岭系数。\n",
    "def ridge_traj(X, y, ntest=30):\n",
    "    ''' 获取岭轨迹矩阵\n",
    "    '''\n",
    "    ws = np.zeros((ntest, X.shape[1]))\n",
    "    for i in range(ntest):\n",
    "        w = ridge_regression(X, y, r=np.exp(i-10))\n",
    "        ws[i, :] = w.T\n",
    "    return ws"
   ]
  },
  {
   "cell_type": "code",
   "execution_count": 244,
   "metadata": {},
   "outputs": [],
   "source": [
    "def get_traj(X, y, method=ridge_regression,ntest=30):\n",
    "    ws = np.zeros((ntest, X.shape[1]))\n",
    "    for i in range(ntest):\n",
    "        w = method(X, y, lambd=np.exp(i - 10))\n",
    "        ws[i, :] = w.T\n",
    "        if not (i-10)%10:\n",
    "            print('lambda = e^({}), w = {}'.format(i - 10, w.T[0, :]))\n",
    "    return ws"
   ]
  },
  {
   "cell_type": "code",
   "execution_count": 163,
   "metadata": {},
   "outputs": [],
   "source": [
    "def standarize(X):\n",
    "    \"\"\"\n",
    "    标准化数据\n",
    "        X=X-mean(X)/var(X)\n",
    "    \"\"\"\n",
    "    return (X-np.mean(X))/np.var(X)"
   ]
  },
  {
   "cell_type": "code",
   "execution_count": 238,
   "metadata": {},
   "outputs": [],
   "source": [
    "def plot_traj(method=ridge_traj,num_test=30):\n",
    "    # 中心化 & 标准化\n",
    "    ab_Xs, ab_ys = standarize(ab_X), standarize(ab_y)\n",
    "    # 绘制岭轨迹\n",
    "    ab_ws = method(ab_Xs, ab_ys, num_test)\n",
    "    lambdas = [i - 10 for i in range(num_test)]\n",
    "    plt.plot(lambdas, ab_ws)"
   ]
  },
  {
   "cell_type": "code",
   "execution_count": 254,
   "metadata": {},
   "outputs": [],
   "source": [
    "def traj(X, y, method=ridge_regression, ntest=30):\n",
    "    # 中心化 & 标准化\n",
    "    ab_Xs, ab_ys = standarize(ab_X), standarize(ab_y)\n",
    "    # 绘制岭轨迹\n",
    "    # 计算ws\n",
    "    ab_ws = np.zeros((ntest, X.shape[1]))\n",
    "    for i in range(ntest):\n",
    "        w = method(X, y, lambd=np.exp(i - 10))\n",
    "        ab_ws[i, :] = w.T\n",
    "    if not (i - 10) % 10:\n",
    "        print('lambda = e^({}), w = {}'.format(i - 10, w.T[0, :]))\n",
    "    lambdas = [i - 10 for i in range(ntest)]\n",
    "    plt.plot(lambdas, ab_ws)"
   ]
  },
  {
   "cell_type": "code",
   "execution_count": 255,
   "metadata": {},
   "outputs": [
    {
     "data": {
      "image/png": "[encoded data removed]",
      "text/plain": [
       "<Figure size 432x288 with 1 Axes>"
      ]
     },
     "metadata": {},
     "output_type": "display_data"
    }
   ],
   "source": [
    "traj(ab_X,ab_y)"
   ]
  },
  {
   "cell_type": "code",
   "execution_count": 239,
   "metadata": {},
   "outputs": [
    {
     "data": {
      "image/png": "[encoded data removed]",
      "text/plain": [
       "<Figure size 432x288 with 1 Axes>"
      ]
     },
     "metadata": {},
     "output_type": "display_data"
    }
   ],
   "source": [
    "plot_traj()"
   ]
  },
  {
   "cell_type": "code",
   "execution_count": 174,
   "metadata": {},
   "outputs": [
    {
     "data": {
      "image/png": "[encoded data removed]",
      "text/plain": [
       "<Figure size 432x288 with 1 Axes>"
      ]
     },
     "metadata": {},
     "output_type": "display_data"
    }
   ],
   "source": [
    "ridge_test()"
   ]
  },
  {
   "cell_type": "code",
   "execution_count": 178,
   "metadata": {},
   "outputs": [
    {
     "data": {
      "image/png": "[encoded data removed]",
      "text/plain": [
       "<Figure size 432x288 with 1 Axes>"
      ]
     },
     "metadata": {},
     "output_type": "display_data"
    }
   ],
   "source": [
    "ridge_test(40)"
   ]
  },
  {
   "cell_type": "code",
   "execution_count": 179,
   "metadata": {},
   "outputs": [
    {
     "data": {
      "image/png": "[encoded data removed]",
      "text/plain": [
       "<Figure size 432x288 with 1 Axes>"
      ]
     },
     "metadata": {},
     "output_type": "display_data"
    }
   ],
   "source": [
    "ridge_test(20)"
   ]
  },
  {
   "cell_type": "markdown",
   "metadata": {},
   "source": [
    "##### lasso"
   ]
  },
  {
   "cell_type": "markdown",
   "metadata": {},
   "source": [
    "- Lasso回归限定了所有回归系数的平方和不大于 t , 在使用普通最小二乘法回归的时候当两个变量具有相关性的时候，可能会使得其中一个系数是个很大正数，另一个系数是很大的负数。\n",
    "- 通过Lasso回归的限制，可以避免这个问题"
   ]
  },
  {
   "cell_type": "code",
   "execution_count": 234,
   "metadata": {},
   "outputs": [],
   "source": [
    "import itertools\n",
    "\n",
    "\n",
    "def lasso_regression(X, y, lambd=0.2, threshold=0.1):\n",
    "    ''' 通过坐标下降(coordinate descent)法获取LASSO回归系数\n",
    "    '''\n",
    "    X = np.mat(X)\n",
    "    y = np.mat(y).T\n",
    "    # 计算残差平方和\n",
    "    rss = lambda X, y, w: (y - X * w).T * (y - X * w)\n",
    "    # 初始化回归系数w.\n",
    "    m, n = X.shape  # 2*8\n",
    "    w = np.matrix(np.zeros((n, 1)))  # 1*8\n",
    "    r = rss(X, y, w)\n",
    "    # 使用坐标下降法优化回归系数w\n",
    "    # loop until break\n",
    "    niter = itertools.count(1)\n",
    "    for it in niter:\n",
    "        for k in range(n):  # 8\n",
    "            # 计算常量值z_k和p_k\n",
    "            z_k = (X[:, k].T * X[:, k])[0, 0]\n",
    "            p_k = 0\n",
    "            for i in range(m):  #2\n",
    "                p_k += X[i, k] * (y[i, 0] - sum(\n",
    "                    [X[i, j] * w[j, 0] for j in range(n) if j != k]))\n",
    "            if p_k < -lambd / 2:\n",
    "                w_k = (p_k + lambd / 2) / z_k\n",
    "            elif p_k > lambd / 2:\n",
    "                w_k = (p_k - lambd / 2) / z_k\n",
    "            else:\n",
    "                w_k = 0\n",
    "            w[k, 0] = w_k\n",
    "        r_prime = rss(X, y, w)\n",
    "        delta = abs(r_prime - r)[0, 0]\n",
    "        r = r_prime\n",
    "        if not it % 10:\n",
    "            print('Iteration: {}, delta = {}'.format(it, delta))\n",
    "        if delta < threshold:\n",
    "            print('Iteration: {}, delta = {}'.format(it, delta))\n",
    "            break\n",
    "    return w"
   ]
  },
  {
   "cell_type": "code",
   "execution_count": 235,
   "metadata": {},
   "outputs": [
    {
     "name": "stdout",
     "output_type": "stream",
     "text": [
      "Iteration: 10, delta = 1.7819967548639113\n",
      "Iteration: 20, delta = 0.24668413059958993\n",
      "Iteration: 30, delta = 0.15028577685339428\n",
      "Iteration: 40, delta = 0.12071266709378392\n",
      "Iteration: 48, delta = 0.09841619214620323\n",
      "Correlation coefficient: 1.0\n",
      "CPU times: user 42.9 s, sys: 0 ns, total: 42.9 s\n",
      "Wall time: 44 s\n"
     ]
    }
   ],
   "source": [
    "%%time\n",
    "ab_ws_lasso = lasso_regression(ab_Xs, ab_ys, lambd=10)\n",
    "y_prime = ab_X * ab_ws_lasso\n",
    "# 计算相关系数\n",
    "corrcoef = np.corrcoef(np.array(ab_y.reshape(1, -1)),\n",
    "                        np.array(y_prime.reshape(1, -1)))\n",
    "print('Correlation coefficient: {}'.format(corrcoef[0,0]))"
   ]
  },
  {
   "cell_type": "code",
   "execution_count": 232,
   "metadata": {},
   "outputs": [],
   "source": [
    "def lasso_traj(X, y, ntest=30):\n",
    "    ''' 获取回归系数轨迹矩阵\n",
    "    '''\n",
    "    ws = np.zeros((ntest, X.shape[1]))\n",
    "    for i in range(ntest):\n",
    "        w = lasso_regression(X, y, lambd=np.exp(i - 10))\n",
    "        ws[i, :] = w.T\n",
    "        if not (i-10)%3:\n",
    "            print('lambda = e^({}), w = {}'.format(i - 10, w.T[0, :]))\n",
    "    return ws"
   ]
  },
  {
   "cell_type": "code",
   "execution_count": 240,
   "metadata": {},
   "outputs": [
    {
     "name": "stdout",
     "output_type": "stream",
     "text": [
      "Iteration: 10, delta = 1.6616253051308831\n",
      "Iteration: 20, delta = 0.21589463236412598\n",
      "Iteration: 30, delta = 0.1583830069655221\n",
      "Iteration: 40, delta = 0.15071865630628167\n",
      "Iteration: 50, delta = 0.13161213765044977\n",
      "Iteration: 60, delta = 0.10864906515968187\n",
      "Iteration: 64, delta = 0.09972539295361571\n",
      "Iteration: 10, delta = 1.6616263613946956\n",
      "Iteration: 20, delta = 0.2158949224348703\n",
      "Iteration: 30, delta = 0.1583829664600387\n",
      "Iteration: 40, delta = 0.15071855795306988\n",
      "Iteration: 50, delta = 0.1316119063693293\n",
      "Iteration: 60, delta = 0.10864881236219048\n",
      "Iteration: 64, delta = 0.09972516448846136\n",
      "lambda = e^(-9), w = [[ 0.00134386  0.07478261  0.14593872  0.08415416  0.05520629 -0.27757479\n",
      "  -0.02495617  0.30721301]]\n",
      "Iteration: 10, delta = 1.6616292326085613\n",
      "Iteration: 20, delta = 0.21589571092539472\n",
      "Iteration: 30, delta = 0.15838285635288685\n",
      "Iteration: 40, delta = 0.1507182906003095\n",
      "Iteration: 50, delta = 0.13161127767992298\n",
      "Iteration: 60, delta = 0.10864812518457256\n",
      "Iteration: 64, delta = 0.09972454345285087\n",
      "Iteration: 10, delta = 1.6616370373084806\n",
      "Iteration: 20, delta = 0.21589785423566354\n",
      "Iteration: 30, delta = 0.15838255703746995\n",
      "Iteration: 40, delta = 0.150717563852794\n",
      "Iteration: 50, delta = 0.13160956870953555\n",
      "Iteration: 60, delta = 0.1086462572219773\n",
      "Iteration: 64, delta = 0.09972285528178304\n",
      "Iteration: 10, delta = 1.661658252177574\n",
      "Iteration: 20, delta = 0.2159036801426737\n",
      "Iteration: 30, delta = 0.15838174331628352\n",
      "Iteration: 40, delta = 0.15071558829313858\n",
      "Iteration: 50, delta = 0.1316049231335228\n",
      "Iteration: 60, delta = 0.10864117942352891\n",
      "Iteration: 64, delta = 0.09971826619943158\n",
      "lambda = e^(-6), w = [[ 0.00134379  0.07478244  0.14593532  0.08414805  0.05520499 -0.27757025\n",
      "  -0.02495187  0.30721103]]\n",
      "Iteration: 10, delta = 1.6617159164415227\n",
      "Iteration: 20, delta = 0.21591951501710582\n",
      "Iteration: 30, delta = 0.15837953067122612\n",
      "Iteration: 40, delta = 0.15071021775975169\n",
      "Iteration: 50, delta = 0.1315922943135206\n",
      "Iteration: 60, delta = 0.10862737542927903\n",
      "Iteration: 64, delta = 0.0997057906157579\n",
      "Iteration: 10, delta = 1.661872636604926\n",
      "Iteration: 20, delta = 0.2159625469730031\n",
      "Iteration: 30, delta = 0.1583735107493851\n",
      "Iteration: 40, delta = 0.15069561613881888\n",
      "Iteration: 50, delta = 0.13155795944973647\n",
      "Iteration: 60, delta = 0.10858984410546668\n",
      "Iteration: 64, delta = 0.09967186985895182\n",
      "Iteration: 10, delta = 1.6622984425551692\n",
      "Iteration: 20, delta = 0.21607943353774317\n",
      "Iteration: 30, delta = 0.15835710752756427\n",
      "Iteration: 40, delta = 0.15065590266857498\n",
      "Iteration: 50, delta = 0.1314645820105511\n",
      "Iteration: 60, delta = 0.10848776296668916\n",
      "Iteration: 64, delta = 0.09957960010359557\n",
      "lambda = e^(-3), w = [[ 0.00134239  0.07477919  0.14586691  0.08402538  0.05517896 -0.27747918\n",
      "  -0.0248655   0.30717121]]\n",
      "Iteration: 10, delta = 1.6634543985557286\n",
      "Iteration: 20, delta = 0.21639652560691047\n",
      "Iteration: 30, delta = 0.15831222798342992\n",
      "Iteration: 40, delta = 0.1505477866018623\n",
      "Iteration: 50, delta = 0.1312104188513672\n",
      "Iteration: 60, delta = 0.1082098311924824\n",
      "Iteration: 64, delta = 0.0993283151190667\n",
      "Iteration: 10, delta = 1.6665854953473058\n",
      "Iteration: 20, delta = 0.2172537528927876\n",
      "Iteration: 30, delta = 0.15818808278294227\n",
      "Iteration: 40, delta = 0.15025268735274722\n",
      "Iteration: 50, delta = 0.13045146403536023\n",
      "Iteration: 60, delta = 0.10745738925953674\n",
      "Iteration: 64, delta = 0.09865762267642708\n",
      "Iteration: 10, delta = 1.675014551773728\n",
      "Iteration: 20, delta = 0.21954907428866477\n",
      "Iteration: 30, delta = 0.15783473503012146\n",
      "Iteration: 40, delta = 0.14944158877005975\n",
      "Iteration: 50, delta = 0.12840477834146213\n",
      "Iteration: 60, delta = 0.10538368531598508\n",
      "Iteration: 63, delta = 0.09890159725719627\n",
      "lambda = e^(0), w = [[ 0.00131585  0.07689804  0.14261549  0.07969366  0.05391218 -0.27523084\n",
      "  -0.02201567  0.30748033]]\n",
      "Iteration: 10, delta = 1.6973201132651639\n",
      "Iteration: 20, delta = 0.22553033890460483\n",
      "Iteration: 30, delta = 0.1567570840553003\n",
      "Iteration: 40, delta = 0.14717086184168693\n",
      "Iteration: 50, delta = 0.12198176644838554\n",
      "Iteration: 60, delta = 0.09971924122231712\n",
      "Iteration: 60, delta = 0.09971924122231712\n",
      "Iteration: 10, delta = 1.7534678368405707\n",
      "Iteration: 20, delta = 0.23987883020086542\n",
      "Iteration: 30, delta = 0.1529610863644848\n",
      "Iteration: 40, delta = 0.13108632334984804\n",
      "Iteration: 50, delta = 0.10192262675849406\n",
      "Iteration: 51, delta = 0.09985332741001685\n",
      "Iteration: 10, delta = 1.8729526739407447\n",
      "Iteration: 20, delta = 0.26476542108269996\n",
      "Iteration: 30, delta = 0.11316060023716545\n",
      "Iteration: 38, delta = 0.0984329203908203\n",
      "lambda = e^(3), w = [[ 0.0008237   0.11876069  0.07467752  0.00778828  0.02748591 -0.22245831\n",
      "   0.          0.33098245]]\n",
      "Iteration: 10, delta = 1.9528691246864582\n",
      "Iteration: 20, delta = 0.3246345335631986\n",
      "Iteration: 28, delta = 0.09786431826685771\n",
      "Iteration: 10, delta = 1.6666430692664562\n",
      "Iteration: 20, delta = 0.24127276960922472\n",
      "Iteration: 24, delta = 0.06904550015082123\n",
      "Iteration: 6, delta = 0.0026020796358352527\n",
      "lambda = e^(6), w = [[0.         0.         0.         0.         0.02486505 0.\n",
      "  0.         0.09888849]]\n",
      "Iteration: 3, delta = 0.002200736376948953\n",
      "Iteration: 2, delta = 0.0\n",
      "Iteration: 1, delta = 0.0\n",
      "lambda = e^(9), w = [[0. 0. 0. 0. 0. 0. 0. 0.]]\n",
      "Iteration: 1, delta = 0.0\n",
      "Iteration: 1, delta = 0.0\n",
      "Iteration: 1, delta = 0.0\n",
      "lambda = e^(12), w = [[0. 0. 0. 0. 0. 0. 0. 0.]]\n",
      "Iteration: 1, delta = 0.0\n",
      "Iteration: 1, delta = 0.0\n",
      "Iteration: 1, delta = 0.0\n",
      "lambda = e^(15), w = [[0. 0. 0. 0. 0. 0. 0. 0.]]\n",
      "Iteration: 1, delta = 0.0\n",
      "Iteration: 1, delta = 0.0\n",
      "Iteration: 1, delta = 0.0\n",
      "lambda = e^(18), w = [[0. 0. 0. 0. 0. 0. 0. 0.]]\n",
      "Iteration: 1, delta = 0.0\n",
      "CPU times: user 13min 20s, sys: 0 ns, total: 13min 20s\n",
      "Wall time: 13min 53s\n"
     ]
    },
    {
     "data": {
      "image/png": "[encoded data removed]",
      "text/plain": [
       "<Figure size 432x288 with 1 Axes>"
      ]
     },
     "metadata": {},
     "output_type": "display_data"
    }
   ],
   "source": [
    "%%time\n",
    "plot_traj(method=lasso_traj)"
   ]
  },
  {
   "cell_type": "markdown",
   "metadata": {},
   "source": [
    "##### 逐步向前回归\n",
    "－　LASSO计算复杂度相对较高，本部分稍微介绍一下逐步向前回归，他属于一种贪心算法，给\n",
    "定初始系数向量，然后不断迭代遍历每个系数，增加或减小一个很小的数，\n",
    "看看代价函数是否变小，如果变小就保留，如果变大就舍弃，然后不断迭代直到回归系数达到稳定"
   ]
  },
  {
   "cell_type": "code",
   "execution_count": 257,
   "metadata": {},
   "outputs": [],
   "source": [
    "def stagewise_regression(X, y, lambd=0.01, niter=100):\n",
    "    m, n = X.shape\n",
    "    w = np.matrix(np.zeros((n, 1)))\n",
    "    min_error = float('inf')\n",
    "    all_ws = np.matrix(np.zeros((niter, n)))\n",
    "    # 计算残差平方和\n",
    "    rss = lambda X, y, w: (y - X * w).T * (y - X * w)\n",
    "    for i in range(niter):\n",
    "        if not i % 10:\n",
    "            print('{}: w = {}'.format(i, w.T[0, :]))\n",
    "        for j in range(n):\n",
    "            for sign in [-1, 1]:\n",
    "                w_test = w.copy()\n",
    "                w_test[j, 0] += lambd * sign\n",
    "                test_error = rss(X, y, w_test)\n",
    "                if test_error < min_error:\n",
    "                    min_error = test_error\n",
    "                    w = w_test\n",
    "        all_ws[i, :] = w.T\n",
    "    return all_ws"
   ]
  },
  {
   "cell_type": "code",
   "execution_count": 258,
   "metadata": {},
   "outputs": [
    {
     "name": "stdout",
     "output_type": "stream",
     "text": [
      "0: w = [[0. 0. 0. 0. 0. 0. 0. 0.]]\n"
     ]
    },
    {
     "ename": "ValueError",
     "evalue": "The truth value of an array with more than one element is ambiguous. Use a.any() or a.all()",
     "output_type": "error",
     "traceback": [
      "\u001b[0;31m---------------------------------------------------------------------------\u001b[0m",
      "\u001b[0;31mValueError\u001b[0m                                Traceback (most recent call last)",
      "\u001b[0;32m<ipython-input-258-e76330cde2eb>\u001b[0m in \u001b[0;36m<module>\u001b[0;34m\u001b[0m\n\u001b[0;32m----> 1\u001b[0;31m \u001b[0mtraj\u001b[0m\u001b[0;34m(\u001b[0m\u001b[0mab_X\u001b[0m\u001b[0;34m,\u001b[0m\u001b[0mab_y\u001b[0m\u001b[0;34m,\u001b[0m\u001b[0mmethod\u001b[0m\u001b[0;34m=\u001b[0m\u001b[0mstagewise_regression\u001b[0m\u001b[0;34m)\u001b[0m\u001b[0;34m\u001b[0m\u001b[0;34m\u001b[0m\u001b[0m\n\u001b[0m",
      "\u001b[0;32m<ipython-input-254-0597b8a2867d>\u001b[0m in \u001b[0;36mtraj\u001b[0;34m(X, y, method, ntest)\u001b[0m\n\u001b[1;32m      6\u001b[0m     \u001b[0mab_ws\u001b[0m \u001b[0;34m=\u001b[0m \u001b[0mnp\u001b[0m\u001b[0;34m.\u001b[0m\u001b[0mzeros\u001b[0m\u001b[0;34m(\u001b[0m\u001b[0;34m(\u001b[0m\u001b[0mntest\u001b[0m\u001b[0;34m,\u001b[0m \u001b[0mX\u001b[0m\u001b[0;34m.\u001b[0m\u001b[0mshape\u001b[0m\u001b[0;34m[\u001b[0m\u001b[0;36m1\u001b[0m\u001b[0;34m]\u001b[0m\u001b[0;34m)\u001b[0m\u001b[0;34m)\u001b[0m\u001b[0;34m\u001b[0m\u001b[0;34m\u001b[0m\u001b[0m\n\u001b[1;32m      7\u001b[0m     \u001b[0;32mfor\u001b[0m \u001b[0mi\u001b[0m \u001b[0;32min\u001b[0m \u001b[0mrange\u001b[0m\u001b[0;34m(\u001b[0m\u001b[0mntest\u001b[0m\u001b[0;34m)\u001b[0m\u001b[0;34m:\u001b[0m\u001b[0;34m\u001b[0m\u001b[0;34m\u001b[0m\u001b[0m\n\u001b[0;32m----> 8\u001b[0;31m         \u001b[0mw\u001b[0m \u001b[0;34m=\u001b[0m \u001b[0mmethod\u001b[0m\u001b[0;34m(\u001b[0m\u001b[0mX\u001b[0m\u001b[0;34m,\u001b[0m \u001b[0my\u001b[0m\u001b[0;34m,\u001b[0m \u001b[0mlambd\u001b[0m\u001b[0;34m=\u001b[0m\u001b[0mnp\u001b[0m\u001b[0;34m.\u001b[0m\u001b[0mexp\u001b[0m\u001b[0;34m(\u001b[0m\u001b[0mi\u001b[0m \u001b[0;34m-\u001b[0m \u001b[0;36m10\u001b[0m\u001b[0;34m)\u001b[0m\u001b[0;34m)\u001b[0m\u001b[0;34m\u001b[0m\u001b[0;34m\u001b[0m\u001b[0m\n\u001b[0m\u001b[1;32m      9\u001b[0m         \u001b[0mab_ws\u001b[0m\u001b[0;34m[\u001b[0m\u001b[0mi\u001b[0m\u001b[0;34m,\u001b[0m \u001b[0;34m:\u001b[0m\u001b[0;34m]\u001b[0m \u001b[0;34m=\u001b[0m \u001b[0mw\u001b[0m\u001b[0;34m.\u001b[0m\u001b[0mT\u001b[0m\u001b[0;34m\u001b[0m\u001b[0;34m\u001b[0m\u001b[0m\n\u001b[1;32m     10\u001b[0m     \u001b[0;32mif\u001b[0m \u001b[0;32mnot\u001b[0m \u001b[0;34m(\u001b[0m\u001b[0mi\u001b[0m \u001b[0;34m-\u001b[0m \u001b[0;36m10\u001b[0m\u001b[0;34m)\u001b[0m \u001b[0;34m%\u001b[0m \u001b[0;36m10\u001b[0m\u001b[0;34m:\u001b[0m\u001b[0;34m\u001b[0m\u001b[0;34m\u001b[0m\u001b[0m\n",
      "\u001b[0;32m<ipython-input-257-5d4c8b0a2172>\u001b[0m in \u001b[0;36mstagewise_regression\u001b[0;34m(X, y, lambd, niter)\u001b[0m\n\u001b[1;32m     14\u001b[0m                 \u001b[0mw_test\u001b[0m\u001b[0;34m[\u001b[0m\u001b[0mj\u001b[0m\u001b[0;34m,\u001b[0m \u001b[0;36m0\u001b[0m\u001b[0;34m]\u001b[0m \u001b[0;34m+=\u001b[0m \u001b[0mlambd\u001b[0m \u001b[0;34m*\u001b[0m \u001b[0msign\u001b[0m\u001b[0;34m\u001b[0m\u001b[0;34m\u001b[0m\u001b[0m\n\u001b[1;32m     15\u001b[0m                 \u001b[0mtest_error\u001b[0m \u001b[0;34m=\u001b[0m \u001b[0mrss\u001b[0m\u001b[0;34m(\u001b[0m\u001b[0mX\u001b[0m\u001b[0;34m,\u001b[0m \u001b[0my\u001b[0m\u001b[0;34m,\u001b[0m \u001b[0mw_test\u001b[0m\u001b[0;34m)\u001b[0m\u001b[0;34m\u001b[0m\u001b[0;34m\u001b[0m\u001b[0m\n\u001b[0;32m---> 16\u001b[0;31m                 \u001b[0;32mif\u001b[0m \u001b[0mtest_error\u001b[0m \u001b[0;34m<\u001b[0m \u001b[0mmin_error\u001b[0m\u001b[0;34m:\u001b[0m\u001b[0;34m\u001b[0m\u001b[0;34m\u001b[0m\u001b[0m\n\u001b[0m\u001b[1;32m     17\u001b[0m                     \u001b[0mmin_error\u001b[0m \u001b[0;34m=\u001b[0m \u001b[0mtest_error\u001b[0m\u001b[0;34m\u001b[0m\u001b[0;34m\u001b[0m\u001b[0m\n\u001b[1;32m     18\u001b[0m                     \u001b[0mw\u001b[0m \u001b[0;34m=\u001b[0m \u001b[0mw_test\u001b[0m\u001b[0;34m\u001b[0m\u001b[0;34m\u001b[0m\u001b[0m\n",
      "\u001b[0;31mValueError\u001b[0m: The truth value of an array with more than one element is ambiguous. Use a.any() or a.all()"
     ]
    }
   ],
   "source": [
    "traj(ab_X,ab_y,method=stagewise_regression)"
   ]
  },
  {
   "cell_type": "code",
   "execution_count": null,
   "metadata": {},
   "outputs": [],
   "source": []
  }
 ],
 "metadata": {
  "kernelspec": {
   "display_name": "Python 3",
   "language": "python",
   "name": "python3"
  },
  "language_info": {
   "codemirror_mode": {
    "name": "ipython",
    "version": 3
   },
   "file_extension": ".py",
   "mimetype": "text/x-python",
   "name": "python",
   "nbconvert_exporter": "python",
   "pygments_lexer": "ipython3",
   "version": "3.7.6"
  }
 },
 "nbformat": 4,
 "nbformat_minor": 4
}
